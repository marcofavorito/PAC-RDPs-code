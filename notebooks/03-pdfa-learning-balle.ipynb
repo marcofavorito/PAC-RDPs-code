{
 "cells": [
  {
   "cell_type": "markdown",
   "metadata": {
    "collapsed": true,
    "pycharm": {
     "name": "#%% md\n"
    }
   },
   "source": [
    "## PDFA Learning\n",
    "\n",
    "In this notebook, we will show how to\n",
    "use the implementation of PDFA learning,\n",
    "as described in \\[1\\].\n",
    "\n",
    "\n",
    "## Example (3 states)\n"
   ]
  },
  {
   "cell_type": "code",
   "execution_count": 5,
   "outputs": [
    {
     "name": "stderr",
     "output_type": "stream",
     "text": [
      "[2020-11-19 19:12:58,167][graphviz.files][DEBUG] write 208 bytes to '/tmp/tmp8pzygtix/output'\n",
      "[2020-11-19 19:12:58,169][graphviz.backend][DEBUG] run ['dot', '-Tsvg', '-O', 'output']\n",
      "[2020-11-19 19:12:58,295][src.learn_pdfa][INFO] Parameters: ('BalleParams(sample_generator=<src.learn_pdfa.utils.generator.MultiprocessedGenerator '\n",
      " 'object at 0x7f82b84f37d0>, nb_samples=10000, n=3, alphabet_size=2, '\n",
      " 'delta=0.1, epsilon=0.1, with_smoothing=False, with_ground=False)')\n",
      "[2020-11-19 19:12:58,297][src.learn_pdfa][INFO] Generating the sample.\n",
      "[2020-11-19 19:12:58,521][src.learn_pdfa][INFO] Populate root multiset.\n",
      "[2020-11-19 19:12:58,522][src.learn_pdfa][INFO] Iteration 0\n",
      "[2020-11-19 19:12:58,556][src.learn_pdfa][INFO] Iteration 1\n",
      "[2020-11-19 19:12:58,583][src.learn_pdfa][INFO] Iteration 2\n",
      "[2020-11-19 19:12:58,618][src.learn_pdfa][INFO] Iteration 3\n",
      "[2020-11-19 19:12:58,656][src.learn_pdfa][INFO] Iteration 4\n",
      "[2020-11-19 19:12:58,687][graphviz.files][DEBUG] write 248 bytes to '/tmp/tmpbpuh7me7/output'\n",
      "[2020-11-19 19:12:58,688][graphviz.backend][DEBUG] run ['dot', '-Tsvg', '-O', 'output']\n",
      "Process ForkPoolWorker-21:\n",
      "Process ForkPoolWorker-23:\n",
      "Traceback (most recent call last):\n",
      "Process ForkPoolWorker-18:\n",
      "Process ForkPoolWorker-19:\n",
      "Process ForkPoolWorker-22:\n",
      "  File \"/usr/lib/python3.7/multiprocessing/process.py\", line 297, in _bootstrap\n",
      "    self.run()\n",
      "Process ForkPoolWorker-17:\n",
      "Traceback (most recent call last):\n",
      "Process ForkPoolWorker-24:\n",
      "Process ForkPoolWorker-20:\n",
      "  File \"/usr/lib/python3.7/multiprocessing/process.py\", line 297, in _bootstrap\n",
      "    self.run()\n",
      "Traceback (most recent call last):\n",
      "Traceback (most recent call last):\n",
      "  File \"/usr/lib/python3.7/multiprocessing/process.py\", line 99, in run\n",
      "    self._target(*self._args, **self._kwargs)\n",
      "Traceback (most recent call last):\n",
      "  File \"/usr/lib/python3.7/multiprocessing/pool.py\", line 110, in worker\n",
      "    task = get()\n",
      "Traceback (most recent call last):\n",
      "  File \"/usr/lib/python3.7/multiprocessing/process.py\", line 99, in run\n",
      "    self._target(*self._args, **self._kwargs)\n",
      "  File \"/usr/lib/python3.7/multiprocessing/process.py\", line 297, in _bootstrap\n",
      "    self.run()\n",
      "  File \"/usr/lib/python3.7/multiprocessing/pool.py\", line 110, in worker\n",
      "    task = get()\n",
      "  File \"/usr/lib/python3.7/multiprocessing/process.py\", line 297, in _bootstrap\n",
      "    self.run()\n",
      "  File \"/usr/lib/python3.7/multiprocessing/process.py\", line 297, in _bootstrap\n",
      "    self.run()\n",
      "  File \"/usr/lib/python3.7/multiprocessing/process.py\", line 99, in run\n",
      "    self._target(*self._args, **self._kwargs)\n",
      "Traceback (most recent call last):\n",
      "Traceback (most recent call last):\n",
      "  File \"/usr/lib/python3.7/multiprocessing/queues.py\", line 351, in get\n",
      "    with self._rlock:\n",
      "  File \"/usr/lib/python3.7/multiprocessing/process.py\", line 297, in _bootstrap\n",
      "    self.run()\n",
      "  File \"/usr/lib/python3.7/multiprocessing/queues.py\", line 351, in get\n",
      "    with self._rlock:\n",
      "  File \"/usr/lib/python3.7/multiprocessing/pool.py\", line 110, in worker\n",
      "    task = get()\n",
      "  File \"/usr/lib/python3.7/multiprocessing/process.py\", line 99, in run\n",
      "    self._target(*self._args, **self._kwargs)\n",
      "  File \"/usr/lib/python3.7/multiprocessing/process.py\", line 297, in _bootstrap\n",
      "    self.run()\n",
      "  File \"/usr/lib/python3.7/multiprocessing/pool.py\", line 110, in worker\n",
      "    task = get()\n",
      "  File \"/usr/lib/python3.7/multiprocessing/process.py\", line 297, in _bootstrap\n",
      "    self.run()\n",
      "  File \"/usr/lib/python3.7/multiprocessing/synchronize.py\", line 95, in __enter__\n",
      "    return self._semlock.__enter__()\n",
      "  File \"/usr/lib/python3.7/multiprocessing/process.py\", line 99, in run\n",
      "    self._target(*self._args, **self._kwargs)\n",
      "  File \"/usr/lib/python3.7/multiprocessing/process.py\", line 99, in run\n",
      "    self._target(*self._args, **self._kwargs)\n",
      "  File \"/usr/lib/python3.7/multiprocessing/queues.py\", line 351, in get\n",
      "    with self._rlock:\n",
      "  File \"/usr/lib/python3.7/multiprocessing/process.py\", line 99, in run\n",
      "    self._target(*self._args, **self._kwargs)\n",
      "  File \"/usr/lib/python3.7/multiprocessing/pool.py\", line 110, in worker\n",
      "    task = get()\n",
      "  File \"/usr/lib/python3.7/multiprocessing/process.py\", line 99, in run\n",
      "    self._target(*self._args, **self._kwargs)\n",
      "  File \"/usr/lib/python3.7/multiprocessing/queues.py\", line 351, in get\n",
      "    with self._rlock:\n",
      "  File \"/usr/lib/python3.7/multiprocessing/synchronize.py\", line 95, in __enter__\n",
      "    return self._semlock.__enter__()\n",
      "  File \"/usr/lib/python3.7/multiprocessing/synchronize.py\", line 95, in __enter__\n",
      "    return self._semlock.__enter__()\n",
      "KeyboardInterrupt\n",
      "  File \"/usr/lib/python3.7/multiprocessing/synchronize.py\", line 95, in __enter__\n",
      "    return self._semlock.__enter__()\n",
      "  File \"/usr/lib/python3.7/multiprocessing/queues.py\", line 352, in get\n",
      "    res = self._reader.recv_bytes()\n",
      "  File \"/usr/lib/python3.7/multiprocessing/pool.py\", line 110, in worker\n",
      "    task = get()\n",
      "KeyboardInterrupt\n",
      "  File \"/usr/lib/python3.7/multiprocessing/pool.py\", line 110, in worker\n",
      "    task = get()\n",
      "KeyboardInterrupt\n",
      "KeyboardInterrupt\n",
      "  File \"/usr/lib/python3.7/multiprocessing/pool.py\", line 110, in worker\n",
      "    task = get()\n",
      "  File \"/usr/lib/python3.7/multiprocessing/queues.py\", line 351, in get\n",
      "    with self._rlock:\n",
      "  File \"/usr/lib/python3.7/multiprocessing/queues.py\", line 351, in get\n",
      "    with self._rlock:\n",
      "  File \"/usr/lib/python3.7/multiprocessing/connection.py\", line 216, in recv_bytes\n",
      "    buf = self._recv_bytes(maxlength)\n",
      "  File \"/usr/lib/python3.7/multiprocessing/queues.py\", line 351, in get\n",
      "    with self._rlock:\n",
      "  File \"/usr/lib/python3.7/multiprocessing/synchronize.py\", line 95, in __enter__\n",
      "    return self._semlock.__enter__()\n",
      "  File \"/usr/lib/python3.7/multiprocessing/synchronize.py\", line 95, in __enter__\n",
      "    return self._semlock.__enter__()\n",
      "  File \"/usr/lib/python3.7/multiprocessing/synchronize.py\", line 95, in __enter__\n",
      "    return self._semlock.__enter__()\n",
      "  File \"/usr/lib/python3.7/multiprocessing/connection.py\", line 407, in _recv_bytes\n",
      "    buf = self._recv(4)\n",
      "KeyboardInterrupt\n",
      "KeyboardInterrupt\n",
      "KeyboardInterrupt\n",
      "  File \"/usr/lib/python3.7/multiprocessing/connection.py\", line 379, in _recv\n",
      "    chunk = read(handle, remaining)\n",
      "KeyboardInterrupt\n"
     ]
    },
    {
     "name": "stdout",
     "output_type": "stream",
     "text": [
      "Expected automaton:\n"
     ]
    },
    {
     "data": {
      "text/plain": "<IPython.core.display.HTML object>",
      "text/html": "<div style=\"display: block; margin-left: auto; margin-right: auto; width: 50%;white-space: nowrap\"><svg height=\"299pt\" viewBox=\"0.00 0.00 156.00 299.40\" width=\"156pt\" xmlns=\"http://www.w3.org/2000/svg\" xmlns:xlink=\"http://www.w3.org/1999/xlink\">\n<g class=\"graph\" id=\"graph0\" transform=\"scale(1 1) rotate(0) translate(4 295.3968)\">\n<title>%3</title>\n<polygon fill=\"#ffffff\" points=\"-4,4 -4,-295.3968 152,-295.3968 152,4 -4,4\" stroke=\"transparent\"/>\n<!-- fake -->\n<g class=\"node\" id=\"node1\">\n<title>fake</title>\n</g>\n<!-- 0 -->\n<g class=\"node\" id=\"node2\">\n<title>0</title>\n<ellipse cx=\"111\" cy=\"-200.3968\" fill=\"none\" rx=\"27\" ry=\"18\" stroke=\"#000000\"/>\n<text fill=\"#000000\" font-family=\"Times,serif\" font-size=\"14.00\" text-anchor=\"middle\" x=\"111\" y=\"-196.6968\">0</text>\n</g>\n<!-- fake&#45;&gt;0 -->\n<g class=\"edge\" id=\"edge1\">\n<title>fake-&gt;0</title>\n<path d=\"M111,-255.3518C111,-247.2796 111,-237.5731 111,-228.5785\" fill=\"none\" stroke=\"#000000\" stroke-width=\"2\"/>\n<polygon fill=\"#000000\" points=\"114.5001,-228.4871 111,-218.4871 107.5001,-228.4872 114.5001,-228.4871\" stroke=\"#000000\" stroke-width=\"2\"/>\n</g>\n<!-- 1 -->\n<g class=\"node\" id=\"node3\">\n<title>1</title>\n<ellipse cx=\"27\" cy=\"-113.3968\" fill=\"none\" rx=\"27\" ry=\"18\" stroke=\"#000000\"/>\n<text fill=\"#000000\" font-family=\"Times,serif\" font-size=\"14.00\" text-anchor=\"middle\" x=\"27\" y=\"-109.6968\">1</text>\n</g>\n<!-- 0&#45;&gt;1 -->\n<g class=\"edge\" id=\"edge2\">\n<title>0-&gt;1</title>\n<path d=\"M96.3683,-185.2425C83.3193,-171.7275 64.0274,-151.7466 49.0987,-136.2847\" fill=\"none\" stroke=\"#000000\"/>\n<polygon fill=\"#000000\" points=\"51.2097,-133.4322 41.7459,-128.6693 46.1739,-138.2944 51.2097,-133.4322\" stroke=\"#000000\"/>\n<text fill=\"#000000\" font-family=\"Times,serif\" font-size=\"14.00\" text-anchor=\"middle\" x=\"91\" y=\"-153.1968\">0, 0.4</text>\n</g>\n<!-- &#45;1 -->\n<g class=\"node\" id=\"node4\">\n<title>-1</title>\n<ellipse cx=\"83\" cy=\"-22.1984\" fill=\"none\" rx=\"18.3625\" ry=\"18.3625\" stroke=\"#000000\"/>\n<ellipse cx=\"83\" cy=\"-22.1984\" fill=\"none\" rx=\"22.3986\" ry=\"22.3986\" stroke=\"#000000\"/>\n<text fill=\"#000000\" font-family=\"Times,serif\" font-size=\"14.00\" text-anchor=\"middle\" x=\"83\" y=\"-18.4984\">-1</text>\n</g>\n<!-- 0&#45;&gt;&#45;1 -->\n<g class=\"edge\" id=\"edge3\">\n<title>0-&gt;-1</title>\n<path d=\"M113.645,-182.3586C116.2084,-161.278 118.9196,-125.4499 113,-95.3968 110.0389,-80.3637 103.9612,-64.5318 98.0457,-51.4523\" fill=\"none\" stroke=\"#000000\"/>\n<polygon fill=\"#000000\" points=\"101.0401,-49.5964 93.6079,-42.0457 94.7093,-52.5831 101.0401,-49.5964\" stroke=\"#000000\"/>\n<text fill=\"#000000\" font-family=\"Times,serif\" font-size=\"14.00\" text-anchor=\"middle\" x=\"132\" y=\"-109.6968\">1, 0.6</text>\n</g>\n<!-- 1&#45;&gt;1 -->\n<g class=\"edge\" id=\"edge5\">\n<title>1-&gt;1</title>\n<path d=\"M51.5325,-121.1487C62.5078,-121.887 72,-119.303 72,-113.3968 72,-109.4285 67.7151,-106.96 61.5743,-105.9912\" fill=\"none\" stroke=\"#000000\"/>\n<polygon fill=\"#000000\" points=\"61.6472,-102.4917 51.5325,-105.6448 61.4059,-109.4875 61.6472,-102.4917\" stroke=\"#000000\"/>\n<text fill=\"#000000\" font-family=\"Times,serif\" font-size=\"14.00\" text-anchor=\"middle\" x=\"88\" y=\"-109.6968\">1, 0.7</text>\n</g>\n<!-- 1&#45;&gt;&#45;1 -->\n<g class=\"edge\" id=\"edge4\">\n<title>1-&gt;-1</title>\n<path d=\"M37.2713,-96.6696C45.2954,-83.6019 56.6195,-65.1601 65.991,-49.8982\" fill=\"none\" stroke=\"#000000\"/>\n<polygon fill=\"#000000\" points=\"68.9933,-51.6975 71.2435,-41.3443 63.0282,-48.0346 68.9933,-51.6975\" stroke=\"#000000\"/>\n<text fill=\"#000000\" font-family=\"Times,serif\" font-size=\"14.00\" text-anchor=\"middle\" x=\"73\" y=\"-66.1968\">0, 0.3</text>\n</g>\n</g>\n</svg></div>"
     },
     "metadata": {},
     "output_type": "display_data"
    },
    {
     "data": {
      "text/plain": "<IPython.core.display.HTML object>",
      "text/html": "<div style=\"display: block; margin-left: auto; margin-right: auto; width: 50%;white-space: nowrap\"><svg height=\"386pt\" viewBox=\"0.00 0.00 214.00 386.40\" width=\"214pt\" xmlns=\"http://www.w3.org/2000/svg\" xmlns:xlink=\"http://www.w3.org/1999/xlink\">\n<g class=\"graph\" id=\"graph0\" transform=\"scale(1 1) rotate(0) translate(4 382.3968)\">\n<title>%3</title>\n<polygon fill=\"#ffffff\" points=\"-4,4 -4,-382.3968 210,-382.3968 210,4 -4,4\" stroke=\"transparent\"/>\n<!-- fake -->\n<g class=\"node\" id=\"node1\">\n<title>fake</title>\n</g>\n<!-- 0 -->\n<g class=\"node\" id=\"node2\">\n<title>0</title>\n<ellipse cx=\"42\" cy=\"-287.3968\" fill=\"none\" rx=\"27\" ry=\"18\" stroke=\"#000000\"/>\n<text fill=\"#000000\" font-family=\"Times,serif\" font-size=\"14.00\" text-anchor=\"middle\" x=\"42\" y=\"-283.6968\">0</text>\n</g>\n<!-- fake&#45;&gt;0 -->\n<g class=\"edge\" id=\"edge1\">\n<title>fake-&gt;0</title>\n<path d=\"M42,-342.3518C42,-334.2796 42,-324.5731 42,-315.5785\" fill=\"none\" stroke=\"#000000\" stroke-width=\"2\"/>\n<polygon fill=\"#000000\" points=\"45.5001,-315.4871 42,-305.4871 38.5001,-315.4872 45.5001,-315.4871\" stroke=\"#000000\" stroke-width=\"2\"/>\n</g>\n<!-- 1 -->\n<g class=\"node\" id=\"node3\">\n<title>1</title>\n<ellipse cx=\"27\" cy=\"-113.3968\" fill=\"none\" rx=\"27\" ry=\"18\" stroke=\"#000000\"/>\n<text fill=\"#000000\" font-family=\"Times,serif\" font-size=\"14.00\" text-anchor=\"middle\" x=\"27\" y=\"-109.6968\">1</text>\n</g>\n<!-- 0&#45;&gt;1 -->\n<g class=\"edge\" id=\"edge2\">\n<title>0-&gt;1</title>\n<path d=\"M34.7591,-269.8899C29.4882,-256.1552 22.8024,-236.4114 20,-218.3968 15.964,-192.4519 18.6658,-162.545 21.8122,-141.3017\" fill=\"none\" stroke=\"#000000\"/>\n<polygon fill=\"#000000\" points=\"25.2824,-141.7663 23.4148,-131.3374 18.3712,-140.6547 25.2824,-141.7663\" stroke=\"#000000\"/>\n<text fill=\"#000000\" font-family=\"Times,serif\" font-size=\"14.00\" text-anchor=\"middle\" x=\"43\" y=\"-196.6968\">1, 0.596</text>\n</g>\n<!-- 2 -->\n<g class=\"node\" id=\"node4\">\n<title>2</title>\n<ellipse cx=\"102\" cy=\"-200.3968\" fill=\"none\" rx=\"27\" ry=\"18\" stroke=\"#000000\"/>\n<text fill=\"#000000\" font-family=\"Times,serif\" font-size=\"14.00\" text-anchor=\"middle\" x=\"102\" y=\"-196.6968\">2</text>\n</g>\n<!-- 0&#45;&gt;2 -->\n<g class=\"edge\" id=\"edge3\">\n<title>0-&gt;2</title>\n<path d=\"M53.2855,-271.0327C62.1127,-258.2334 74.5388,-240.2154 84.6315,-225.5811\" fill=\"none\" stroke=\"#000000\"/>\n<polygon fill=\"#000000\" points=\"87.7649,-227.2024 90.5611,-216.9832 82.0024,-223.2283 87.7649,-227.2024\" stroke=\"#000000\"/>\n<text fill=\"#000000\" font-family=\"Times,serif\" font-size=\"14.00\" text-anchor=\"middle\" x=\"98\" y=\"-240.1968\">0, 0.404</text>\n</g>\n<!-- &#45;1 -->\n<g class=\"node\" id=\"node5\">\n<title>-1</title>\n<ellipse cx=\"27\" cy=\"-22.1984\" fill=\"none\" rx=\"18.3625\" ry=\"18.3625\" stroke=\"#000000\"/>\n<ellipse cx=\"27\" cy=\"-22.1984\" fill=\"none\" rx=\"22.3986\" ry=\"22.3986\" stroke=\"#000000\"/>\n<text fill=\"#000000\" font-family=\"Times,serif\" font-size=\"14.00\" text-anchor=\"middle\" x=\"27\" y=\"-18.4984\">-1</text>\n</g>\n<!-- 1&#45;&gt;&#45;1 -->\n<g class=\"edge\" id=\"edge4\">\n<title>1-&gt;-1</title>\n<path d=\"M27,-95.3789C27,-83.7965 27,-68.4111 27,-54.737\" fill=\"none\" stroke=\"#000000\"/>\n<polygon fill=\"#000000\" points=\"30.5001,-54.7052 27,-44.7052 23.5001,-54.7053 30.5001,-54.7052\" stroke=\"#000000\"/>\n<text fill=\"#000000\" font-family=\"Times,serif\" font-size=\"14.00\" text-anchor=\"middle\" x=\"45.5\" y=\"-66.1968\">-1, 1.0</text>\n</g>\n<!-- 2&#45;&gt;1 -->\n<g class=\"edge\" id=\"edge6\">\n<title>2-&gt;1</title>\n<path d=\"M88.2438,-184.4396C76.8259,-171.1948 60.4189,-152.1627 47.46,-137.1304\" fill=\"none\" stroke=\"#000000\"/>\n<polygon fill=\"#000000\" points=\"49.8493,-134.5416 40.6689,-129.2527 44.5474,-139.1122 49.8493,-134.5416\" stroke=\"#000000\"/>\n<text fill=\"#000000\" font-family=\"Times,serif\" font-size=\"14.00\" text-anchor=\"middle\" x=\"97.5\" y=\"-153.1968\">0, 0.30891</text>\n</g>\n<!-- 2&#45;&gt;2 -->\n<g class=\"edge\" id=\"edge5\">\n<title>2-&gt;2</title>\n<path d=\"M126.5325,-208.1487C137.5078,-208.887 147,-206.303 147,-200.3968 147,-196.4285 142.7151,-193.96 136.5743,-192.9912\" fill=\"none\" stroke=\"#000000\"/>\n<polygon fill=\"#000000\" points=\"136.6472,-189.4917 126.5325,-192.6448 136.4059,-196.4875 136.6472,-189.4917\" stroke=\"#000000\"/>\n<text fill=\"#000000\" font-family=\"Times,serif\" font-size=\"14.00\" text-anchor=\"middle\" x=\"176.5\" y=\"-196.6968\">1, 0.69109</text>\n</g>\n</g>\n</svg></div>"
     },
     "metadata": {},
     "output_type": "display_data"
    }
   ],
   "source": [
    "from notebooks.utils import  render_automaton\n",
    "from src.learn_pdfa.base import learn_pdfa, Algorithm\n",
    "from src.learn_pdfa.utils.generator import MultiprocessedGenerator, SimpleGenerator\n",
    "from src.pdfa import PDFA\n",
    "from src.pdfa.base import FINAL_STATE\n",
    "p1 = 0.4\n",
    "p2 = 0.7\n",
    "automaton = PDFA(\n",
    "    2,\n",
    "    2,\n",
    "    {\n",
    "        0: {\n",
    "            0: (1, p1),\n",
    "            1: (FINAL_STATE, 1 - p1),\n",
    "        },\n",
    "        1: {\n",
    "            0: (FINAL_STATE, 1 - p2),\n",
    "            1: (1, p2),\n",
    "        },\n",
    "    },\n",
    ")\n",
    "\n",
    "print(\"Expected automaton:\")\n",
    "render_automaton(automaton)\n",
    "\n",
    "generator = MultiprocessedGenerator(SimpleGenerator(automaton), nb_processes=8)\n",
    "\n",
    "pdfa = learn_pdfa(\n",
    "    algorithm=Algorithm.BALLE,\n",
    "    nb_samples=10000,\n",
    "    sample_generator=generator,\n",
    "    alphabet_size=2,\n",
    "    delta=0.1,\n",
    "    n=3,\n",
    ")\n",
    "\n",
    "render_automaton(pdfa)"
   ],
   "metadata": {
    "collapsed": false,
    "pycharm": {
     "name": "#%%\n"
    }
   }
  },
  {
   "cell_type": "markdown",
   "source": [
    "|## References\n",
    "\n",
    "- [1] Balle, B., Castro, J., & Gavaldà, R. (2013).\n",
    "  Learning probabilistic automata: A study in state distinguishability.\n",
    "  Theoretical Computer Science, 473, 46-60."
   ],
   "metadata": {
    "collapsed": false
   }
  }
 ],
 "metadata": {
  "kernelspec": {
   "display_name": "Python 3",
   "language": "python",
   "name": "python3"
  },
  "language_info": {
   "codemirror_mode": {
    "name": "ipython",
    "version": 2
   },
   "file_extension": ".py",
   "mimetype": "text/x-python",
   "name": "python",
   "nbconvert_exporter": "python",
   "pygments_lexer": "ipython2",
   "version": "2.7.6"
  }
 },
 "nbformat": 4,
 "nbformat_minor": 0
}