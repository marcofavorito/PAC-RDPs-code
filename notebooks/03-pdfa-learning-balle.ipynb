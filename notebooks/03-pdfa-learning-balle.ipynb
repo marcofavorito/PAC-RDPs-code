{
 "cells": [
  {
   "cell_type": "markdown",
   "metadata": {
    "collapsed": true,
    "pycharm": {
     "name": "#%% md\n"
    }
   },
   "source": [
    "## PDFA Learning\n",
    "\n",
    "In this notebook, we will show how to\n",
    "use the implementation of PDFA learning,\n",
    "as described in \\[1\\].\n",
    "\n",
    "\n",
    "## Example (3 states)\n"
   ]
  },
  {
   "cell_type": "code",
   "execution_count": 1,
   "outputs": [
    {
     "name": "stderr",
     "output_type": "stream",
     "text": [
      "[2020-11-06 10:52:30,700][src.learn_pdfa][INFO] Parameters: ('BalleParams(sample_generator=<src.learn_pdfa.common.MultiprocessedGenerator '\n",
      " 'object at 0x7f2792cb5450>, nb_samples=10000, n=3, alphabet_size=2, '\n",
      " 'delta=0.1)')\n",
      "[2020-11-06 10:52:32,502][src.learn_pdfa][INFO] Iteration 0\n",
      "[2020-11-06 10:52:32,695][src.learn_pdfa][INFO] Iteration 1\n",
      "[2020-11-06 10:52:32,836][src.learn_pdfa][INFO] Iteration 2\n",
      "[2020-11-06 10:52:33,002][src.learn_pdfa][INFO] Iteration 3\n",
      "[2020-11-06 10:52:33,179][src.learn_pdfa][INFO] Iteration 4\n",
      "[2020-11-06 10:52:33,313][graphviz.files][DEBUG] write 152 bytes to '/tmp/tmpfrmk58bi/output'\n",
      "[2020-11-06 10:52:33,314][graphviz.backend][DEBUG] run ['dot', '-Tsvg', '-O', 'output']\n"
     ]
    },
    {
     "data": {
      "text/plain": "<IPython.core.display.HTML object>",
      "text/html": "<div style=\"display: block; margin-left: auto; margin-right: auto; width: 50%;white-space: nowrap\"><svg height=\"291pt\" viewBox=\"0.00 0.00 123.00 291.00\" width=\"123pt\" xmlns=\"http://www.w3.org/2000/svg\" xmlns:xlink=\"http://www.w3.org/1999/xlink\">\n<g class=\"graph\" id=\"graph0\" transform=\"scale(1 1) rotate(0) translate(4 287)\">\n<title>%3</title>\n<polygon fill=\"#ffffff\" points=\"-4,4 -4,-287 119,-287 119,4 -4,4\" stroke=\"transparent\"/>\n<!-- fake -->\n<g class=\"node\" id=\"node1\">\n<title>fake</title>\n</g>\n<!-- 0 -->\n<g class=\"node\" id=\"node2\">\n<title>0</title>\n<ellipse cx=\"32\" cy=\"-192\" fill=\"none\" rx=\"27\" ry=\"18\" stroke=\"#000000\"/>\n<text fill=\"#000000\" font-family=\"Times,serif\" font-size=\"14.00\" text-anchor=\"middle\" x=\"32\" y=\"-188.3\">0</text>\n</g>\n<!-- fake&#45;&gt;0 -->\n<g class=\"edge\" id=\"edge1\">\n<title>fake-&gt;0</title>\n<path d=\"M32,-246.9551C32,-238.8828 32,-229.1764 32,-220.1817\" fill=\"none\" stroke=\"#000000\" stroke-width=\"2\"/>\n<polygon fill=\"#000000\" points=\"35.5001,-220.0903 32,-210.0904 28.5001,-220.0904 35.5001,-220.0903\" stroke=\"#000000\" stroke-width=\"2\"/>\n</g>\n<!-- 1 -->\n<g class=\"node\" id=\"node3\">\n<title>1</title>\n<ellipse cx=\"27\" cy=\"-18\" fill=\"none\" rx=\"27\" ry=\"18\" stroke=\"#000000\"/>\n<text fill=\"#000000\" font-family=\"Times,serif\" font-size=\"14.00\" text-anchor=\"middle\" x=\"27\" y=\"-14.3\">1</text>\n</g>\n<!-- 0&#45;&gt;1 -->\n<g class=\"edge\" id=\"edge2\">\n<title>0-&gt;1</title>\n<path d=\"M27.9837,-173.9518C25.1143,-160.0956 21.5056,-140.4441 20,-123 17.7556,-96.9961 20.1963,-67.3154 22.7918,-46.1601\" fill=\"none\" stroke=\"#000000\"/>\n<polygon fill=\"#000000\" points=\"26.2644,-46.5976 24.0988,-36.2265 19.3242,-45.6844 26.2644,-46.5976\" stroke=\"#000000\"/>\n<text fill=\"#000000\" font-family=\"Times,serif\" font-size=\"14.00\" text-anchor=\"middle\" x=\"23.5\" y=\"-101.3\">1</text>\n</g>\n<!-- 2 -->\n<g class=\"node\" id=\"node4\">\n<title>2</title>\n<ellipse cx=\"63\" cy=\"-105\" fill=\"none\" rx=\"27\" ry=\"18\" stroke=\"#000000\"/>\n<text fill=\"#000000\" font-family=\"Times,serif\" font-size=\"14.00\" text-anchor=\"middle\" x=\"63\" y=\"-101.3\">2</text>\n</g>\n<!-- 0&#45;&gt;2 -->\n<g class=\"edge\" id=\"edge3\">\n<title>0-&gt;2</title>\n<path d=\"M38.2733,-174.3943C42.6012,-162.2482 48.438,-145.8674 53.354,-132.0711\" fill=\"none\" stroke=\"#000000\"/>\n<polygon fill=\"#000000\" points=\"56.6764,-133.1742 56.736,-122.5796 50.0825,-130.8246 56.6764,-133.1742\" stroke=\"#000000\"/>\n<text fill=\"#000000\" font-family=\"Times,serif\" font-size=\"14.00\" text-anchor=\"middle\" x=\"52.5\" y=\"-144.8\">0</text>\n</g>\n<!-- 2&#45;&gt;1 -->\n<g class=\"edge\" id=\"edge5\">\n<title>2-&gt;1</title>\n<path d=\"M55.7149,-87.3943C50.6889,-75.2482 43.9107,-58.8674 38.2018,-45.0711\" fill=\"none\" stroke=\"#000000\"/>\n<polygon fill=\"#000000\" points=\"41.3319,-43.4815 34.2743,-35.5796 34.8638,-46.158 41.3319,-43.4815\" stroke=\"#000000\"/>\n<text fill=\"#000000\" font-family=\"Times,serif\" font-size=\"14.00\" text-anchor=\"middle\" x=\"50.5\" y=\"-57.8\">0</text>\n</g>\n<!-- 2&#45;&gt;2 -->\n<g class=\"edge\" id=\"edge4\">\n<title>2-&gt;2</title>\n<path d=\"M87.5325,-112.752C98.5078,-113.4902 108,-110.9063 108,-105 108,-101.0317 103.7151,-98.5632 97.5743,-97.5944\" fill=\"none\" stroke=\"#000000\"/>\n<polygon fill=\"#000000\" points=\"97.6472,-94.0949 87.5325,-97.248 97.4059,-101.0908 97.6472,-94.0949\" stroke=\"#000000\"/>\n<text fill=\"#000000\" font-family=\"Times,serif\" font-size=\"14.00\" text-anchor=\"middle\" x=\"111.5\" y=\"-101.3\">1</text>\n</g>\n</g>\n</svg></div>"
     },
     "metadata": {},
     "output_type": "display_data"
    }
   ],
   "source": [
    "from notebooks.utils import render_digraph\n",
    "from src.learn_pdfa.base import learn_pdfa, Algorithm\n",
    "from src.learn_pdfa.common import MultiprocessedGenerator, SimpleGenerator\n",
    "from src.pdfa import PDFA\n",
    "from src.pdfa.render import to_graphviz_from_graph\n",
    "p1 = 0.4\n",
    "p2 = 0.7\n",
    "automaton = PDFA(\n",
    "    2,\n",
    "    2,\n",
    "    {\n",
    "        0: {\n",
    "            0: (1, p1),\n",
    "            1: (2, 1 - p1),\n",
    "        },\n",
    "        1: {\n",
    "            0: (2, 1 - p2),\n",
    "            1: (1, p2),\n",
    "        },\n",
    "    },\n",
    ")\n",
    "generator = MultiprocessedGenerator(SimpleGenerator(automaton), nb_processes=8)\n",
    "\n",
    "v, t = learn_pdfa(\n",
    "    algorithm=Algorithm.BALLE,\n",
    "    nb_samples=10000,\n",
    "    sample_generator=generator,\n",
    "    alphabet_size=2,\n",
    "    delta=0.1,\n",
    "    n=3,\n",
    ")\n",
    "\n",
    "render_digraph(to_graphviz_from_graph(v, t))"
   ],
   "metadata": {
    "collapsed": false,
    "pycharm": {
     "name": "#%%\n"
    }
   }
  },
  {
   "cell_type": "markdown",
   "source": [
    "## References\n",
    "\n",
    "- [1] Balle, B., Castro, J., & Gavaldà, R. (2013).\n",
    "  Learning probabilistic automata: A study in state distinguishability.\n",
    "  Theoretical Computer Science, 473, 46-60."
   ],
   "metadata": {
    "collapsed": false
   }
  }
 ],
 "metadata": {
  "kernelspec": {
   "display_name": "Python 3",
   "language": "python",
   "name": "python3"
  },
  "language_info": {
   "codemirror_mode": {
    "name": "ipython",
    "version": 2
   },
   "file_extension": ".py",
   "mimetype": "text/x-python",
   "name": "python",
   "nbconvert_exporter": "python",
   "pygments_lexer": "ipython2",
   "version": "2.7.6"
  }
 },
 "nbformat": 4,
 "nbformat_minor": 0
}