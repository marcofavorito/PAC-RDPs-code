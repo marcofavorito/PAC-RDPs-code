{
 "cells": [
  {
   "cell_type": "markdown",
   "metadata": {
    "collapsed": true,
    "pycharm": {
     "name": "#%% md\n"
    }
   },
   "source": [
    "## PDFA Learning\n",
    "\n",
    "In this notebook, we will show how to\n",
    "use the implementation of PDFA learning,\n",
    "as described in \\[1\\].\n",
    "\n",
    "\n",
    "## Example (3 states)\n"
   ]
  },
  {
   "cell_type": "code",
   "execution_count": 3,
   "outputs": [
    {
     "name": "stderr",
     "output_type": "stream",
     "text": [
      "[2020-12-31 00:05:07,561][graphviz.files][DEBUG] write 248 bytes to '/tmp/tmpxox1zrrl/output'\n",
      "[2020-12-31 00:05:07,563][graphviz.backend][DEBUG] run ['dot', '-Kdot', '-Tsvg', '-O', 'output']\n",
      "[2020-12-31 00:05:07,675][src.learn_pdfa][INFO] Parameters: ('BalleParams(sample_generator=<src.learn_pdfa.utils.generator.MultiprocessedGenerator '\n",
      " 'object at 0x7f47bbd350d0>, nb_samples=10000, n=3, alphabet_size=2, '\n",
      " 'delta=0.1, epsilon=0.1, with_smoothing=False, with_ground=False, '\n",
      " 'with_infty_norm=True)')\n",
      "[2020-12-31 00:05:07,677][src.learn_pdfa][INFO] Generating the sample.\n",
      "[2020-12-31 00:05:08,016][src.learn_pdfa][INFO] Average trace length: 4.2808.\n",
      "[2020-12-31 00:05:08,017][src.learn_pdfa][INFO] Populate root multiset.\n",
      "[2020-12-31 00:05:08,030][src.learn_pdfa][INFO] Iteration 0\n",
      "[2020-12-31 00:05:08,032][src.learn_pdfa][INFO] Iteration 1\n",
      "[2020-12-31 00:05:08,033][src.learn_pdfa][INFO] Iteration 2\n",
      "[2020-12-31 00:05:08,036][src.learn_pdfa][INFO] Iteration 3\n",
      "[2020-12-31 00:05:08,038][src.learn_pdfa][INFO] Iteration 4\n",
      "[2020-12-31 00:05:08,038][src.learn_pdfa][INFO] Biggest multiset has cardinality 0, done\n",
      "[2020-12-31 00:05:08,040][graphviz.files][DEBUG] write 258 bytes to '/tmp/tmp6lbxes2p/output'\n",
      "[2020-12-31 00:05:08,041][graphviz.backend][DEBUG] run ['dot', '-Kdot', '-Tsvg', '-O', 'output']\n",
      "Process ForkPoolWorker-15:\n",
      "Process ForkPoolWorker-14:\n"
     ]
    },
    {
     "name": "stdout",
     "output_type": "stream",
     "text": [
      "Expected automaton:\n"
     ]
    },
    {
     "data": {
      "text/plain": "<IPython.core.display.HTML object>",
      "text/html": "<div style=\"display: block; margin-left: auto; margin-right: auto; width: 50%;white-space: nowrap\"><svg height=\"117pt\" viewBox=\"0.00 0.00 551.09 117.50\" width=\"551pt\" xmlns=\"http://www.w3.org/2000/svg\" xmlns:xlink=\"http://www.w3.org/1999/xlink\">\n<g class=\"graph\" id=\"graph0\" transform=\"scale(1 1) rotate(0) translate(4 113.5)\">\n<title>%3</title>\n<polygon fill=\"white\" points=\"-4,4 -4,-113.5 547.09,-113.5 547.09,4 -4,4\" stroke=\"transparent\"/>\n<!-- fake -->\n<g class=\"node\" id=\"node1\">\n<title>fake</title>\n</g>\n<!-- 0 -->\n<g class=\"node\" id=\"node2\">\n<title>0</title>\n<ellipse cx=\"125.09\" cy=\"-23.5\" fill=\"none\" rx=\"27\" ry=\"18\" stroke=\"black\"/>\n<text font-family=\"Times,serif\" font-size=\"14.00\" text-anchor=\"middle\" x=\"125.09\" y=\"-19.8\">0</text>\n</g>\n<!-- fake&#45;&gt;0 -->\n<g class=\"edge\" id=\"edge1\">\n<title>fake-&gt;0</title>\n<path d=\"M61.34,-23.5C69.68,-23.5 78.84,-23.5 87.52,-23.5\" fill=\"none\" stroke=\"black\" stroke-width=\"2\"/>\n<polygon fill=\"black\" points=\"87.79,-27 97.79,-23.5 87.79,-20 87.79,-27\" stroke=\"black\" stroke-width=\"2\"/>\n</g>\n<!-- 1 -->\n<g class=\"node\" id=\"node3\">\n<title>1</title>\n<ellipse cx=\"256.09\" cy=\"-58.5\" fill=\"none\" rx=\"27\" ry=\"18\" stroke=\"black\"/>\n<text font-family=\"Times,serif\" font-size=\"14.00\" text-anchor=\"middle\" x=\"256.09\" y=\"-54.8\">1</text>\n</g>\n<!-- 0&#45;&gt;1 -->\n<g class=\"edge\" id=\"edge2\">\n<title>0-&gt;1</title>\n<path d=\"M150.36,-30.08C170.36,-35.51 198.95,-43.27 221.21,-49.31\" fill=\"none\" stroke=\"black\"/>\n<polygon fill=\"black\" points=\"220.37,-52.7 230.94,-51.94 222.2,-45.95 220.37,-52.7\" stroke=\"black\"/>\n<text font-family=\"Times,serif\" font-size=\"14.00\" text-anchor=\"middle\" x=\"190.59\" y=\"-49.3\">0, 0.4</text>\n</g>\n<!-- 2 -->\n<g class=\"node\" id=\"node4\">\n<title>2</title>\n<ellipse cx=\"387.09\" cy=\"-23.5\" fill=\"none\" rx=\"27\" ry=\"18\" stroke=\"black\"/>\n<text font-family=\"Times,serif\" font-size=\"14.00\" text-anchor=\"middle\" x=\"387.09\" y=\"-19.8\">2</text>\n</g>\n<!-- 0&#45;&gt;2 -->\n<g class=\"edge\" id=\"edge3\">\n<title>0-&gt;2</title>\n<path d=\"M151.89,-21.26C172.71,-19.57 202.76,-17.39 229.09,-16.5 253.08,-15.68 259.11,-15.68 283.09,-16.5 305.42,-17.26 330.41,-18.93 350.19,-20.46\" fill=\"none\" stroke=\"black\"/>\n<polygon fill=\"black\" points=\"350.05,-23.96 360.3,-21.26 350.61,-16.98 350.05,-23.96\" stroke=\"black\"/>\n<text font-family=\"Times,serif\" font-size=\"14.00\" text-anchor=\"middle\" x=\"256.09\" y=\"-20.3\">1, 0.6</text>\n</g>\n<!-- 1&#45;&gt;1 -->\n<g class=\"edge\" id=\"edge5\">\n<title>1-&gt;1</title>\n<path d=\"M244.84,-75.16C242.34,-85.12 246.09,-94.5 256.09,-94.5 262.5,-94.5 266.34,-90.65 267.62,-85.27\" fill=\"none\" stroke=\"black\"/>\n<polygon fill=\"black\" points=\"271.11,-85.06 267.34,-75.16 264.12,-85.25 271.11,-85.06\" stroke=\"black\"/>\n<text font-family=\"Times,serif\" font-size=\"14.00\" text-anchor=\"middle\" x=\"256.09\" y=\"-98.3\">1, 0.7</text>\n</g>\n<!-- 1&#45;&gt;2 -->\n<g class=\"edge\" id=\"edge4\">\n<title>1-&gt;2</title>\n<path d=\"M281.36,-51.92C301.36,-46.49 329.95,-38.73 352.21,-32.69\" fill=\"none\" stroke=\"black\"/>\n<polygon fill=\"black\" points=\"353.2,-36.05 361.94,-30.05 351.37,-29.29 353.2,-36.05\" stroke=\"black\"/>\n<text font-family=\"Times,serif\" font-size=\"14.00\" text-anchor=\"middle\" x=\"321.59\" y=\"-49.3\">0, 0.3</text>\n</g>\n<!-- &#45;1 -->\n<g class=\"node\" id=\"node5\">\n<title>-1</title>\n<ellipse cx=\"519.59\" cy=\"-23.5\" fill=\"none\" rx=\"19.5\" ry=\"19.5\" stroke=\"black\"/>\n<ellipse cx=\"519.59\" cy=\"-23.5\" fill=\"none\" rx=\"23.5\" ry=\"23.5\" stroke=\"black\"/>\n<text font-family=\"Times,serif\" font-size=\"14.00\" text-anchor=\"middle\" x=\"519.59\" y=\"-19.8\">-1</text>\n</g>\n<!-- 2&#45;&gt;&#45;1 -->\n<g class=\"edge\" id=\"edge6\">\n<title>2-&gt;-1</title>\n<path d=\"M414.19,-23.5C434.77,-23.5 463.6,-23.5 485.75,-23.5\" fill=\"none\" stroke=\"black\"/>\n<polygon fill=\"black\" points=\"486.03,-27 496.03,-23.5 486.03,-20 486.03,-27\" stroke=\"black\"/>\n<text font-family=\"Times,serif\" font-size=\"14.00\" text-anchor=\"middle\" x=\"455.09\" y=\"-27.3\">-1, 1.0</text>\n</g>\n</g>\n</svg></div>"
     },
     "metadata": {},
     "output_type": "display_data"
    },
    {
     "data": {
      "text/plain": "<IPython.core.display.HTML object>",
      "text/html": "<div style=\"display: block; margin-left: auto; margin-right: auto; width: 50%;white-space: nowrap\"><svg height=\"102pt\" viewBox=\"0.00 0.00 610.09 102.00\" width=\"610pt\" xmlns=\"http://www.w3.org/2000/svg\" xmlns:xlink=\"http://www.w3.org/1999/xlink\">\n<g class=\"graph\" id=\"graph0\" transform=\"scale(1 1) rotate(0) translate(4 98)\">\n<title>%3</title>\n<polygon fill=\"white\" points=\"-4,4 -4,-98 606.09,-98 606.09,4 -4,4\" stroke=\"transparent\"/>\n<!-- fake -->\n<g class=\"node\" id=\"node1\">\n<title>fake</title>\n</g>\n<!-- 0 -->\n<g class=\"node\" id=\"node2\">\n<title>0</title>\n<ellipse cx=\"125.09\" cy=\"-62\" fill=\"none\" rx=\"27\" ry=\"18\" stroke=\"black\"/>\n<text font-family=\"Times,serif\" font-size=\"14.00\" text-anchor=\"middle\" x=\"125.09\" y=\"-58.3\">0</text>\n</g>\n<!-- fake&#45;&gt;0 -->\n<g class=\"edge\" id=\"edge1\">\n<title>fake-&gt;0</title>\n<path d=\"M61.34,-62C69.68,-62 78.84,-62 87.52,-62\" fill=\"none\" stroke=\"black\" stroke-width=\"2\"/>\n<polygon fill=\"black\" points=\"87.79,-65.5 97.79,-62 87.79,-58.5 87.79,-65.5\" stroke=\"black\" stroke-width=\"2\"/>\n</g>\n<!-- 1 -->\n<g class=\"node\" id=\"node3\">\n<title>1</title>\n<ellipse cx=\"446.09\" cy=\"-62\" fill=\"none\" rx=\"27\" ry=\"18\" stroke=\"black\"/>\n<text font-family=\"Times,serif\" font-size=\"14.00\" text-anchor=\"middle\" x=\"446.09\" y=\"-58.3\">1</text>\n</g>\n<!-- 0&#45;&gt;1 -->\n<g class=\"edge\" id=\"edge2\">\n<title>0-&gt;1</title>\n<path d=\"M151.42,-66.05C177.56,-70.01 219.55,-75.76 256.09,-78 286.26,-79.85 293.94,-79.99 324.09,-78 353.01,-76.1 385.57,-71.66 409.62,-67.94\" fill=\"none\" stroke=\"black\"/>\n<polygon fill=\"black\" points=\"410.37,-71.37 419.7,-66.35 409.27,-64.45 410.37,-71.37\" stroke=\"black\"/>\n<text font-family=\"Times,serif\" font-size=\"14.00\" text-anchor=\"middle\" x=\"290.09\" y=\"-82.8\">1, 0.6056</text>\n</g>\n<!-- 2 -->\n<g class=\"node\" id=\"node4\">\n<title>2</title>\n<ellipse cx=\"290.09\" cy=\"-18\" fill=\"none\" rx=\"27\" ry=\"18\" stroke=\"black\"/>\n<text font-family=\"Times,serif\" font-size=\"14.00\" text-anchor=\"middle\" x=\"290.09\" y=\"-14.3\">2</text>\n</g>\n<!-- 0&#45;&gt;2 -->\n<g class=\"edge\" id=\"edge3\">\n<title>0-&gt;2</title>\n<path d=\"M150.5,-55.41C178.19,-47.94 223.54,-35.7 254.78,-27.26\" fill=\"none\" stroke=\"black\"/>\n<polygon fill=\"black\" points=\"256.05,-30.55 264.79,-24.56 254.22,-23.79 256.05,-30.55\" stroke=\"black\"/>\n<text font-family=\"Times,serif\" font-size=\"14.00\" text-anchor=\"middle\" x=\"204.09\" y=\"-51.8\">0, 0.3944</text>\n</g>\n<!-- &#45;1 -->\n<g class=\"node\" id=\"node5\">\n<title>-1</title>\n<ellipse cx=\"578.59\" cy=\"-62\" fill=\"none\" rx=\"19.5\" ry=\"19.5\" stroke=\"black\"/>\n<ellipse cx=\"578.59\" cy=\"-62\" fill=\"none\" rx=\"23.5\" ry=\"23.5\" stroke=\"black\"/>\n<text font-family=\"Times,serif\" font-size=\"14.00\" text-anchor=\"middle\" x=\"578.59\" y=\"-58.3\">-1</text>\n</g>\n<!-- 1&#45;&gt;&#45;1 -->\n<g class=\"edge\" id=\"edge4\">\n<title>1-&gt;-1</title>\n<path d=\"M473.19,-62C493.77,-62 522.6,-62 544.75,-62\" fill=\"none\" stroke=\"black\"/>\n<polygon fill=\"black\" points=\"545.03,-65.5 555.03,-62 545.03,-58.5 545.03,-65.5\" stroke=\"black\"/>\n<text font-family=\"Times,serif\" font-size=\"14.00\" text-anchor=\"middle\" x=\"514.09\" y=\"-65.8\">-1, 1.0</text>\n</g>\n<!-- 2&#45;&gt;1 -->\n<g class=\"edge\" id=\"edge6\">\n<title>2-&gt;1</title>\n<path d=\"M315.16,-24.88C340.96,-32.25 382.14,-44.01 411.21,-52.32\" fill=\"none\" stroke=\"black\"/>\n<polygon fill=\"black\" points=\"410.37,-55.72 420.95,-55.1 412.29,-48.99 410.37,-55.72\" stroke=\"black\"/>\n<text font-family=\"Times,serif\" font-size=\"14.00\" text-anchor=\"middle\" x=\"371.59\" y=\"-51.8\">0, 0.286</text>\n</g>\n<!-- 2&#45;&gt;2 -->\n<g class=\"edge\" id=\"edge5\">\n<title>2-&gt;2</title>\n<path d=\"M276.42,-33.54C272.57,-43.91 277.13,-54 290.09,-54 298.61,-54 303.49,-49.65 304.76,-43.74\" fill=\"none\" stroke=\"black\"/>\n<polygon fill=\"black\" points=\"308.22,-43.16 303.77,-33.54 301.25,-43.83 308.22,-43.16\" stroke=\"black\"/>\n<text font-family=\"Times,serif\" font-size=\"14.00\" text-anchor=\"middle\" x=\"290.09\" y=\"-57.8\">1, 0.714</text>\n</g>\n</g>\n</svg></div>"
     },
     "metadata": {},
     "output_type": "display_data"
    }
   ],
   "source": [
    "from notebooks.utils import  render_automaton\n",
    "from src.learn_pdfa.base import learn_pdfa, Algorithm\n",
    "from src.learn_pdfa.utils.generator import MultiprocessedGenerator, SimpleGenerator\n",
    "from src.pdfa import PDFA\n",
    "from src.pdfa.base import FINAL_STATE\n",
    "p1 = 0.4\n",
    "p2 = 0.7\n",
    "automaton = PDFA(\n",
    "    3,\n",
    "    2,\n",
    "    {\n",
    "        0: {\n",
    "            0: (1, p1),\n",
    "            1: (2, 1 - p1),\n",
    "        },\n",
    "        1: {\n",
    "            0: (2, 1 - p2),\n",
    "            1: (1, p2),\n",
    "        },\n",
    "        2: {\n",
    "            -1: (-1, 1.0)\n",
    "        }\n",
    "    },\n",
    ")\n",
    "\n",
    "print(\"Expected automaton:\")\n",
    "render_automaton(automaton)\n",
    "\n",
    "generator = MultiprocessedGenerator(SimpleGenerator(automaton), nb_processes=8)\n",
    "\n",
    "pdfa = learn_pdfa(\n",
    "    algorithm=Algorithm.BALLE,\n",
    "    nb_samples=10000,\n",
    "    sample_generator=generator,\n",
    "    alphabet_size=2,\n",
    "    delta=0.1,\n",
    "    n=3,\n",
    ")\n",
    "\n",
    "render_automaton(pdfa)"
   ],
   "metadata": {
    "collapsed": false,
    "pycharm": {
     "name": "#%%\n"
    }
   }
  },
  {
   "cell_type": "markdown",
   "source": [
    "|## References\n",
    "\n",
    "- [1] Balle, B., Castro, J., & Gavaldà, R. (2013).\n",
    "  Learning probabilistic automata: A study in state distinguishability.\n",
    "  Theoretical Computer Science, 473, 46-60."
   ],
   "metadata": {
    "collapsed": false
   }
  }
 ],
 "metadata": {
  "kernelspec": {
   "display_name": "Python 3",
   "language": "python",
   "name": "python3"
  },
  "language_info": {
   "codemirror_mode": {
    "name": "ipython",
    "version": 2
   },
   "file_extension": ".py",
   "mimetype": "text/x-python",
   "name": "python",
   "nbconvert_exporter": "python",
   "pygments_lexer": "ipython2",
   "version": "2.7.6"
  }
 },
 "nbformat": 4,
 "nbformat_minor": 0
}