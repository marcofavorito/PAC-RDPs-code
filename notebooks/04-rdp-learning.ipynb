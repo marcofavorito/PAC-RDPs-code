{
 "cells": [
  {
   "cell_type": "markdown",
   "metadata": {
    "collapsed": true,
    "pycharm": {
     "name": "#%% md\n"
    }
   },
   "source": [
    "## RDP Learning\n",
    "\n",
    "In this notebook, we show how to perform PAC learning\n",
    "over RDPs.\n",
    "\n",
    "### Experiment 1: Rotating MAB"
   ]
  },
  {
   "cell_type": "code",
   "execution_count": 36,
   "outputs": [
    {
     "name": "stdout",
     "output_type": "stream",
     "text": [
      "Observation space: Discrete(2)\n",
      "Action space: Discrete(2)\n",
      "Initial state: 0\n",
      "----------\n",
      "Action: 0\n",
      "Next state: 1\n",
      "Reward: 1.0\n",
      "----------\n",
      "Action: 0\n",
      "Next state: 1\n",
      "Reward: 1.0\n"
     ]
    }
   ],
   "source": [
    "from functools import partial\n",
    "from typing import Callable, Sequence, Tuple\n",
    "import gym\n",
    "import numpy as np\n",
    "from gym.wrappers import TimeLimit\n",
    "from notebooks.utils import render_digraph\n",
    "from src import NonMarkovianRotatingMAB\n",
    "from src.learn_pdfa.balle.core import learn_subgraph\n",
    "from src.learn_pdfa.base import learn_pdfa, Algorithm\n",
    "from src.learn_pdfa.common import Generator, MultiprocessedGenerator\n",
    "from src.pdfa import PDFA\n",
    "from src.pdfa.render import to_graphviz_from_graph\n",
    "from src.pdfa.types import Word\n",
    "\n",
    "env = NonMarkovianRotatingMAB(winning_probs=[0.9, 0.2])\n",
    "\n",
    "print(f\"Observation space: {env.observation_space}\")\n",
    "print(f\"Action space: {env.action_space}\")\n",
    "\n",
    "s = env.reset()\n",
    "print(f\"Initial state: {s}\")\n",
    "\n",
    "action = 0\n",
    "sp, reward, _, _ = env.step(action)\n",
    "print(\"-\" * 10)\n",
    "print(f\"Action: {action}\")\n",
    "print(f\"Next state: {sp}\")\n",
    "print(f\"Reward: {reward}\")\n",
    "\n",
    "sp, reward, _, _ = env.step(action)\n",
    "print(\"-\" * 10)\n",
    "print(f\"Action: {action}\")\n",
    "print(f\"Next state: {sp}\")\n",
    "print(f\"Reward: {reward}\")\n"
   ],
   "metadata": {
    "collapsed": false,
    "pycharm": {
     "name": "#%%\n"
    }
   }
  },
  {
   "cell_type": "markdown",
   "source": [
    "### Learning"
   ],
   "metadata": {
    "collapsed": false,
    "pycharm": {
     "name": "#%% md\n",
     "is_executing": true
    }
   }
  },
  {
   "cell_type": "code",
   "execution_count": 2,
   "outputs": [],
   "source": [
    "class RDPGenerator(Generator):\n",
    "    \"\"\"Generate a trace against.\"\"\"\n",
    "\n",
    "    def __init__(self, env: gym.Env, policy: Callable, stop_probability: float = 0.05):\n",
    "        self._env = env\n",
    "        self._policy = policy\n",
    "        self._stop_probability = stop_probability\n",
    "\n",
    "        self.obs_space_dim = self._env.observation_space.n\n",
    "        self.action_dim = self._env.action_space.n\n",
    "        self.nb_rewards = 2  # TODO fix\n",
    "        self.encoder = partial(np.ravel_multi_index, dims=(self.action_dim, self.nb_rewards, self.obs_space_dim))\n",
    "        self.decoder = partial(np.unravel_index, dims=(self.action_dim, self.nb_rewards, self.obs_space_dim))\n",
    "\n",
    "    def alphabet_size(self) -> int:\n",
    "        \"\"\"Get the alphabet size.\"\"\"\n",
    "        return int(np.prod([self.action_dim, self.nb_rewards, self.obs_space_dim]))\n",
    "\n",
    "    def sample(self, n: int = 1) -> Sequence[Word]:\n",
    "        result = []\n",
    "        for _ in range(n):\n",
    "            word = self._sample_word()\n",
    "            result.append(word)\n",
    "        return result\n",
    "\n",
    "    def _should_stop(self) -> bool:\n",
    "        \"\"\"Return True if the current episode should stop, false otherwise.\"\"\"\n",
    "        return np.random.random() < self._stop_probability\n",
    "\n",
    "    def _sample_word(self) -> Word:\n",
    "        \"\"\"Sample one word.\"\"\"\n",
    "        initial_state = self._env.reset()\n",
    "        done = False\n",
    "        trace = [(0, 0, initial_state)]\n",
    "        while not done:\n",
    "            if self._should_stop():\n",
    "                break\n",
    "            action = self._policy()\n",
    "            obs, reward, done, _ = self._env.step(action)\n",
    "            trace += [(action, int(reward), obs)]\n",
    "\n",
    "        trace = [self.encoder(x) for x in trace]\n",
    "        return trace"
   ],
   "metadata": {
    "collapsed": false,
    "pycharm": {
     "name": "#%%\n"
    }
   }
  },
  {
   "cell_type": "code",
   "execution_count": 39,
   "outputs": [],
   "source": [
    "def exploration_policy(env: gym.Env):\n",
    "    return env.action_space.sample()\n",
    "\n",
    "def learning_rotating_mab(\n",
    "        stop_probability: float,\n",
    "        winning_probabilities: Tuple[float, ...],\n",
    "        max_episode_steps: int,\n",
    "        nb_samples: int,\n",
    "        delta: float,\n",
    "        n_upperbound: int,\n",
    "        nb_processes: int = 8):\n",
    "    env = gym.make(\"NonMarkovianRotatingMAB-v0\", winning_probs=winning_probabilities)\n",
    "    env = TimeLimit(env, max_episode_steps=max_episode_steps)\n",
    "\n",
    "    policy = partial(exploration_policy, env)\n",
    "\n",
    "    rdp_generator = RDPGenerator(env, policy=policy, stop_probability=stop_probability)\n",
    "\n",
    "    examples = rdp_generator.sample(n=1000)\n",
    "\n",
    "    print(f\"Apriori expected length of traces: 1/stop_prob = {1/(stop_probability + np.finfo(float).eps)}\")\n",
    "    print(f\"Average length of traces: {np.mean([len(e) for e in examples])}\")\n",
    "\n",
    "    mp_rdp_generator = MultiprocessedGenerator(rdp_generator, nb_processes=nb_processes)\n",
    "    v, t = learn_pdfa(\n",
    "        algorithm=Algorithm.BALLE,\n",
    "        nb_samples=nb_samples,\n",
    "        sample_generator=mp_rdp_generator,\n",
    "        alphabet_size=rdp_generator.alphabet_size(),\n",
    "        delta=delta,\n",
    "        n=n_upperbound,\n",
    "    )\n",
    "    render_digraph(to_graphviz_from_graph(v, t, char2str=lambda c: str(rdp_generator.decoder(c))))"
   ],
   "metadata": {
    "collapsed": false,
    "pycharm": {
     "name": "#%%\n"
    }
   }
  },
  {
   "cell_type": "code",
   "execution_count": 40,
   "outputs": [
    {
     "name": "stdout",
     "output_type": "stream",
     "text": [
      "Apriori expected length of traces: 1/stop_prob = 4.999999999999994\n",
      "Average length of traces: 4.679\n"
     ]
    },
    {
     "name": "stderr",
     "output_type": "stream",
     "text": [
      "[2020-11-06 12:11:56,474][src.learn_pdfa][INFO] Parameters: ('BalleParams(sample_generator=<src.learn_pdfa.common.MultiprocessedGenerator '\n",
      " 'object at 0x7fc7688f2f50>, nb_samples=100000, n=4, alphabet_size=8, '\n",
      " 'delta=0.1)')\n",
      "[2020-11-06 12:12:00,414][src.learn_pdfa][INFO] Iteration 0\n",
      "[2020-11-06 12:12:01,031][src.learn_pdfa][INFO] Iteration 1\n",
      "[2020-11-06 12:12:01,799][src.learn_pdfa][INFO] Iteration 2\n",
      "[2020-11-06 12:12:03,228][src.learn_pdfa][INFO] Iteration 3\n",
      "[2020-11-06 12:12:04,563][src.learn_pdfa][INFO] Iteration 4\n",
      "[2020-11-06 12:12:05,746][src.learn_pdfa][INFO] Iteration 5\n",
      "[2020-11-06 12:12:06,927][src.learn_pdfa][INFO] Iteration 6\n",
      "[2020-11-06 12:12:08,123][src.learn_pdfa][INFO] Iteration 7\n",
      "[2020-11-06 12:12:09,259][src.learn_pdfa][INFO] Iteration 8\n",
      "[2020-11-06 12:12:10,420][src.learn_pdfa][INFO] Iteration 9\n",
      "/home/marcofavorito/.local/share/virtualenvs/PAC-RDPs-code-h40RRNYH/lib/python3.7/site-packages/ipykernel_launcher.py:33: DeprecationWarning: 'shape' argument should be used instead of 'dims'\n",
      "[2020-11-06 12:12:11,196][graphviz.files][DEBUG] write 332 bytes to '/tmp/tmpo6bimroi/output'\n",
      "[2020-11-06 12:12:11,197][graphviz.backend][DEBUG] run ['dot', '-Tsvg', '-O', 'output']\n"
     ]
    },
    {
     "data": {
      "text/plain": "<IPython.core.display.HTML object>",
      "text/html": "<div style=\"display: block; margin-left: auto; margin-right: auto; width: 50%;white-space: nowrap\"><svg height=\"291pt\" viewBox=\"0.00 0.00 266.48 291.00\" width=\"266pt\" xmlns=\"http://www.w3.org/2000/svg\" xmlns:xlink=\"http://www.w3.org/1999/xlink\">\n<g class=\"graph\" id=\"graph0\" transform=\"scale(1 1) rotate(0) translate(4 287)\">\n<title>%3</title>\n<polygon fill=\"#ffffff\" points=\"-4,4 -4,-287 262.4829,-287 262.4829,4 -4,4\" stroke=\"transparent\"/>\n<!-- fake -->\n<g class=\"node\" id=\"node1\">\n<title>fake</title>\n</g>\n<!-- 0 -->\n<g class=\"node\" id=\"node2\">\n<title>0</title>\n<ellipse cx=\"105.4829\" cy=\"-192\" fill=\"none\" rx=\"27\" ry=\"18\" stroke=\"#000000\"/>\n<text fill=\"#000000\" font-family=\"Times,serif\" font-size=\"14.00\" text-anchor=\"middle\" x=\"105.4829\" y=\"-188.3\">0</text>\n</g>\n<!-- fake&#45;&gt;0 -->\n<g class=\"edge\" id=\"edge1\">\n<title>fake-&gt;0</title>\n<path d=\"M105.4829,-246.9551C105.4829,-238.8828 105.4829,-229.1764 105.4829,-220.1817\" fill=\"none\" stroke=\"#000000\" stroke-width=\"2\"/>\n<polygon fill=\"#000000\" points=\"108.983,-220.0903 105.4829,-210.0904 101.983,-220.0904 108.983,-220.0903\" stroke=\"#000000\" stroke-width=\"2\"/>\n</g>\n<!-- 1 -->\n<g class=\"node\" id=\"node3\">\n<title>1</title>\n<ellipse cx=\"105.4829\" cy=\"-105\" fill=\"none\" rx=\"27\" ry=\"18\" stroke=\"#000000\"/>\n<text fill=\"#000000\" font-family=\"Times,serif\" font-size=\"14.00\" text-anchor=\"middle\" x=\"105.4829\" y=\"-101.3\">1</text>\n</g>\n<!-- 0&#45;&gt;1 -->\n<g class=\"edge\" id=\"edge2\">\n<title>0-&gt;1</title>\n<path d=\"M105.4829,-173.9735C105.4829,-162.1918 105.4829,-146.5607 105.4829,-133.1581\" fill=\"none\" stroke=\"#000000\"/>\n<polygon fill=\"#000000\" points=\"108.983,-133.0033 105.4829,-123.0034 101.983,-133.0034 108.983,-133.0033\" stroke=\"#000000\"/>\n<text fill=\"#000000\" font-family=\"Times,serif\" font-size=\"14.00\" text-anchor=\"middle\" x=\"127.9829\" y=\"-144.8\">(0, 0, 0)</text>\n</g>\n<!-- 1&#45;&gt;1 -->\n<g class=\"edge\" id=\"edge4\">\n<title>1-&gt;1</title>\n<path d=\"M132.2778,-108.9288C142.2633,-109.0577 150.4829,-107.748 150.4829,-105 150.4829,-103.2825 147.2721,-102.1268 142.4262,-101.5331\" fill=\"none\" stroke=\"#000000\"/>\n<polygon fill=\"#000000\" points=\"142.4266,-98.0296 132.2778,-101.0712 142.1083,-105.0223 142.4266,-98.0296\" stroke=\"#000000\"/>\n<text fill=\"#000000\" font-family=\"Times,serif\" font-size=\"14.00\" text-anchor=\"middle\" x=\"172.9829\" y=\"-101.3\">(1, 0, 0)</text>\n</g>\n<!-- 1&#45;&gt;1 -->\n<g class=\"edge\" id=\"edge5\">\n<title>1-&gt;1</title>\n<path d=\"M131.0841,-111.2581C159.0583,-114.7149 195.4829,-112.6289 195.4829,-105 195.4829,-98.2651 167.0951,-95.8501 141.1947,-97.755\" fill=\"none\" stroke=\"#000000\"/>\n<polygon fill=\"#000000\" points=\"140.6967,-94.2869 131.0841,-98.7419 141.3769,-101.2537 140.6967,-94.2869\" stroke=\"#000000\"/>\n<text fill=\"#000000\" font-family=\"Times,serif\" font-size=\"14.00\" text-anchor=\"middle\" x=\"217.9829\" y=\"-101.3\">(0, 0, 0)</text>\n</g>\n<!-- 2 -->\n<g class=\"node\" id=\"node4\">\n<title>2</title>\n<ellipse cx=\"105.4829\" cy=\"-18\" fill=\"none\" rx=\"27\" ry=\"18\" stroke=\"#000000\"/>\n<text fill=\"#000000\" font-family=\"Times,serif\" font-size=\"14.00\" text-anchor=\"middle\" x=\"105.4829\" y=\"-14.3\">2</text>\n</g>\n<!-- 1&#45;&gt;2 -->\n<g class=\"edge\" id=\"edge3\">\n<title>1-&gt;2</title>\n<path d=\"M79.6246,-99.345C52.7327,-92.878 13.3336,-81.5508 4.4829,-69 -14.0634,-42.7002 32.4915,-29.1752 68.4195,-22.8452\" fill=\"none\" stroke=\"#000000\"/>\n<polygon fill=\"#000000\" points=\"69.368,-26.2369 78.6757,-21.1756 68.2432,-19.3279 69.368,-26.2369\" stroke=\"#000000\"/>\n<text fill=\"#000000\" font-family=\"Times,serif\" font-size=\"14.00\" text-anchor=\"middle\" x=\"26.9829\" y=\"-57.8\">(0, 1, 1)</text>\n</g>\n<!-- 1&#45;&gt;2 -->\n<g class=\"edge\" id=\"edge6\">\n<title>1-&gt;2</title>\n<path d=\"M88.1266,-91.032C81.9588,-84.9876 75.741,-77.3759 72.4829,-69 68.4435,-58.6154 73.3595,-48.1154 80.5269,-39.3642\" fill=\"none\" stroke=\"#000000\"/>\n<polygon fill=\"#000000\" points=\"83.2641,-41.5619 87.5497,-31.8725 78.1571,-36.7745 83.2641,-41.5619\" stroke=\"#000000\"/>\n<text fill=\"#000000\" font-family=\"Times,serif\" font-size=\"14.00\" text-anchor=\"middle\" x=\"94.9829\" y=\"-57.8\">(1, 1, 1)</text>\n</g>\n<!-- 2&#45;&gt;1 -->\n<g class=\"edge\" id=\"edge8\">\n<title>2-&gt;1</title>\n<path d=\"M113.0438,-35.3457C116.4405,-45.1556 119.3188,-57.6871 117.4829,-69 117.0179,-71.8654 116.3575,-74.8109 115.5827,-77.7241\" fill=\"none\" stroke=\"#000000\"/>\n<polygon fill=\"#000000\" points=\"112.2195,-76.7534 112.6256,-87.3405 118.9103,-78.8109 112.2195,-76.7534\" stroke=\"#000000\"/>\n<text fill=\"#000000\" font-family=\"Times,serif\" font-size=\"14.00\" text-anchor=\"middle\" x=\"139.9829\" y=\"-57.8\">(1, 1, 1)</text>\n</g>\n<!-- 2&#45;&gt;1 -->\n<g class=\"edge\" id=\"edge10\">\n<title>2-&gt;1</title>\n<path d=\"M129.807,-26.2081C151.1992,-34.8824 177.3662,-49.9399 166.4829,-69 160.4464,-79.572 149.9561,-87.3511 139.3595,-92.9163\" fill=\"none\" stroke=\"#000000\"/>\n<polygon fill=\"#000000\" points=\"137.6926,-89.8323 130.1293,-97.2516 140.6686,-96.1682 137.6926,-89.8323\" stroke=\"#000000\"/>\n<text fill=\"#000000\" font-family=\"Times,serif\" font-size=\"14.00\" text-anchor=\"middle\" x=\"190.9829\" y=\"-57.8\">(0, 1, 1)</text>\n</g>\n<!-- 2&#45;&gt;2 -->\n<g class=\"edge\" id=\"edge7\">\n<title>2-&gt;2</title>\n<path d=\"M132.2778,-21.9288C142.2633,-22.0577 150.4829,-20.748 150.4829,-18 150.4829,-16.2825 147.2721,-15.1268 142.4262,-14.5331\" fill=\"none\" stroke=\"#000000\"/>\n<polygon fill=\"#000000\" points=\"142.4266,-11.0296 132.2778,-14.0712 142.1083,-18.0223 142.4266,-11.0296\" stroke=\"#000000\"/>\n<text fill=\"#000000\" font-family=\"Times,serif\" font-size=\"14.00\" text-anchor=\"middle\" x=\"172.9829\" y=\"-14.3\">(0, 0, 0)</text>\n</g>\n<!-- 2&#45;&gt;2 -->\n<g class=\"edge\" id=\"edge9\">\n<title>2-&gt;2</title>\n<path d=\"M131.0841,-24.2581C159.0583,-27.7149 195.4829,-25.6289 195.4829,-18 195.4829,-11.2651 167.0951,-8.8501 141.1947,-10.755\" fill=\"none\" stroke=\"#000000\"/>\n<polygon fill=\"#000000\" points=\"140.6967,-7.2869 131.0841,-11.7419 141.3769,-14.2537 140.6967,-7.2869\" stroke=\"#000000\"/>\n<text fill=\"#000000\" font-family=\"Times,serif\" font-size=\"14.00\" text-anchor=\"middle\" x=\"217.9829\" y=\"-14.3\">(1, 0, 0)</text>\n</g>\n</g>\n</svg></div>"
     },
     "metadata": {},
     "output_type": "display_data"
    }
   ],
   "source": [
    "learning_rotating_mab(\n",
    "    stop_probability=0.2,\n",
    "    winning_probabilities=(0.7, 0.3),\n",
    "    max_episode_steps=15,\n",
    "    nb_samples=100000,\n",
    "    delta=0.1,\n",
    "    n_upperbound=4,\n",
    "    nb_processes=8)\n"
   ],
   "metadata": {
    "collapsed": false,
    "pycharm": {
     "name": "#%%\n"
    }
   }
  },
  {
   "cell_type": "code",
   "execution_count": 41,
   "outputs": [
    {
     "name": "stdout",
     "output_type": "stream",
     "text": [
      "Apriori expected length of traces: 1/stop_prob = 4.999999999999994\n",
      "Average length of traces: 4.679\n"
     ]
    },
    {
     "name": "stderr",
     "output_type": "stream",
     "text": [
      "[2020-11-06 12:12:23,669][src.learn_pdfa][INFO] Parameters: ('BalleParams(sample_generator=<src.learn_pdfa.common.MultiprocessedGenerator '\n",
      " 'object at 0x7fc7648e5210>, nb_samples=200000, n=5, alphabet_size=12, '\n",
      " 'delta=0.1)')\n",
      "[2020-11-06 12:12:27,766][src.learn_pdfa][INFO] Iteration 0\n",
      "[2020-11-06 12:12:28,545][src.learn_pdfa][INFO] Iteration 1\n",
      "[2020-11-06 12:12:29,445][src.learn_pdfa][INFO] Iteration 2\n",
      "[2020-11-06 12:12:30,400][src.learn_pdfa][INFO] Iteration 3\n",
      "[2020-11-06 12:12:31,700][src.learn_pdfa][INFO] Iteration 4\n",
      "[2020-11-06 12:12:32,930][src.learn_pdfa][INFO] Iteration 5\n",
      "[2020-11-06 12:12:34,021][src.learn_pdfa][INFO] Iteration 6\n",
      "[2020-11-06 12:12:35,155][src.learn_pdfa][INFO] Iteration 7\n",
      "[2020-11-06 12:12:36,254][src.learn_pdfa][INFO] Iteration 8\n",
      "[2020-11-06 12:12:37,372][src.learn_pdfa][INFO] Iteration 9\n",
      "[2020-11-06 12:12:38,504][src.learn_pdfa][INFO] Iteration 10\n",
      "/home/marcofavorito/.local/share/virtualenvs/PAC-RDPs-code-h40RRNYH/lib/python3.7/site-packages/ipykernel_launcher.py:33: DeprecationWarning: 'shape' argument should be used instead of 'dims'\n",
      "[2020-11-06 12:12:39,260][graphviz.files][DEBUG] write 363 bytes to '/tmp/tmp6usvxwir/output'\n",
      "[2020-11-06 12:12:39,261][graphviz.backend][DEBUG] run ['dot', '-Tsvg', '-O', 'output']\n"
     ]
    },
    {
     "data": {
      "text/plain": "<IPython.core.display.HTML object>",
      "text/html": "<div style=\"display: block; margin-left: auto; margin-right: auto; width: 50%;white-space: nowrap\"><svg height=\"378pt\" viewBox=\"0.00 0.00 329.00 378.00\" width=\"329pt\" xmlns=\"http://www.w3.org/2000/svg\" xmlns:xlink=\"http://www.w3.org/1999/xlink\">\n<g class=\"graph\" id=\"graph0\" transform=\"scale(1 1) rotate(0) translate(4 374)\">\n<title>%3</title>\n<polygon fill=\"#ffffff\" points=\"-4,4 -4,-374 325,-374 325,4 -4,4\" stroke=\"transparent\"/>\n<!-- fake -->\n<g class=\"node\" id=\"node1\">\n<title>fake</title>\n</g>\n<!-- 0 -->\n<g class=\"node\" id=\"node2\">\n<title>0</title>\n<ellipse cx=\"168\" cy=\"-279\" fill=\"none\" rx=\"27\" ry=\"18\" stroke=\"#000000\"/>\n<text fill=\"#000000\" font-family=\"Times,serif\" font-size=\"14.00\" text-anchor=\"middle\" x=\"168\" y=\"-275.3\">0</text>\n</g>\n<!-- fake&#45;&gt;0 -->\n<g class=\"edge\" id=\"edge1\">\n<title>fake-&gt;0</title>\n<path d=\"M168,-333.9551C168,-325.8828 168,-316.1764 168,-307.1817\" fill=\"none\" stroke=\"#000000\" stroke-width=\"2\"/>\n<polygon fill=\"#000000\" points=\"171.5001,-307.0903 168,-297.0904 164.5001,-307.0904 171.5001,-307.0903\" stroke=\"#000000\" stroke-width=\"2\"/>\n</g>\n<!-- 1 -->\n<g class=\"node\" id=\"node3\">\n<title>1</title>\n<ellipse cx=\"168\" cy=\"-192\" fill=\"none\" rx=\"27\" ry=\"18\" stroke=\"#000000\"/>\n<text fill=\"#000000\" font-family=\"Times,serif\" font-size=\"14.00\" text-anchor=\"middle\" x=\"168\" y=\"-188.3\">1</text>\n</g>\n<!-- 0&#45;&gt;1 -->\n<g class=\"edge\" id=\"edge2\">\n<title>0-&gt;1</title>\n<path d=\"M168,-260.9735C168,-249.1918 168,-233.5607 168,-220.1581\" fill=\"none\" stroke=\"#000000\"/>\n<polygon fill=\"#000000\" points=\"171.5001,-220.0033 168,-210.0034 164.5001,-220.0034 171.5001,-220.0033\" stroke=\"#000000\"/>\n<text fill=\"#000000\" font-family=\"Times,serif\" font-size=\"14.00\" text-anchor=\"middle\" x=\"190.5\" y=\"-231.8\">(0, 0, 0)</text>\n</g>\n<!-- 1&#45;&gt;1 -->\n<g class=\"edge\" id=\"edge3\">\n<title>1-&gt;1</title>\n<path d=\"M194.7949,-195.9288C204.7804,-196.0577 213,-194.748 213,-192 213,-190.2825 209.7892,-189.1268 204.9433,-188.5331\" fill=\"none\" stroke=\"#000000\"/>\n<polygon fill=\"#000000\" points=\"204.9437,-185.0296 194.7949,-188.0712 204.6253,-192.0223 204.9437,-185.0296\" stroke=\"#000000\"/>\n<text fill=\"#000000\" font-family=\"Times,serif\" font-size=\"14.00\" text-anchor=\"middle\" x=\"235.5\" y=\"-188.3\">(1, 0, 0)</text>\n</g>\n<!-- 1&#45;&gt;1 -->\n<g class=\"edge\" id=\"edge5\">\n<title>1-&gt;1</title>\n<path d=\"M193.6012,-198.2581C221.5754,-201.7149 258,-199.6289 258,-192 258,-185.2651 229.6122,-182.8501 203.7118,-184.755\" fill=\"none\" stroke=\"#000000\"/>\n<polygon fill=\"#000000\" points=\"203.2138,-181.2869 193.6012,-185.7419 203.8939,-188.2537 203.2138,-181.2869\" stroke=\"#000000\"/>\n<text fill=\"#000000\" font-family=\"Times,serif\" font-size=\"14.00\" text-anchor=\"middle\" x=\"280.5\" y=\"-188.3\">(2, 0, 0)</text>\n</g>\n<!-- 2 -->\n<g class=\"node\" id=\"node4\">\n<title>2</title>\n<ellipse cx=\"27\" cy=\"-105\" fill=\"none\" rx=\"27\" ry=\"18\" stroke=\"#000000\"/>\n<text fill=\"#000000\" font-family=\"Times,serif\" font-size=\"14.00\" text-anchor=\"middle\" x=\"27\" y=\"-101.3\">2</text>\n</g>\n<!-- 1&#45;&gt;2 -->\n<g class=\"edge\" id=\"edge4\">\n<title>1-&gt;2</title>\n<path d=\"M148.0972,-179.7195C124.0902,-164.9067 83.5388,-139.8857 56.0405,-122.9186\" fill=\"none\" stroke=\"#000000\"/>\n<polygon fill=\"#000000\" points=\"57.6064,-119.7722 47.2581,-117.4997 53.9306,-125.7294 57.6064,-119.7722\" stroke=\"#000000\"/>\n<text fill=\"#000000\" font-family=\"Times,serif\" font-size=\"14.00\" text-anchor=\"middle\" x=\"128.5\" y=\"-144.8\">(0, 1, 1)</text>\n</g>\n<!-- 2&#45;&gt;2 -->\n<g class=\"edge\" id=\"edge7\">\n<title>2-&gt;2</title>\n<path d=\"M53.7949,-108.9288C63.7804,-109.0577 72,-107.748 72,-105 72,-103.2825 68.7892,-102.1268 63.9433,-101.5331\" fill=\"none\" stroke=\"#000000\"/>\n<polygon fill=\"#000000\" points=\"63.9437,-98.0296 53.7949,-101.0712 63.6253,-105.0223 63.9437,-98.0296\" stroke=\"#000000\"/>\n<text fill=\"#000000\" font-family=\"Times,serif\" font-size=\"14.00\" text-anchor=\"middle\" x=\"94.5\" y=\"-101.3\">(0, 0, 0)</text>\n</g>\n<!-- 2&#45;&gt;2 -->\n<g class=\"edge\" id=\"edge8\">\n<title>2-&gt;2</title>\n<path d=\"M52.6012,-111.2581C80.5754,-114.7149 117,-112.6289 117,-105 117,-98.2651 88.6122,-95.8501 62.7118,-97.755\" fill=\"none\" stroke=\"#000000\"/>\n<polygon fill=\"#000000\" points=\"62.2138,-94.2869 52.6012,-98.7419 62.8939,-101.2537 62.2138,-94.2869\" stroke=\"#000000\"/>\n<text fill=\"#000000\" font-family=\"Times,serif\" font-size=\"14.00\" text-anchor=\"middle\" x=\"139.5\" y=\"-101.3\">(2, 0, 0)</text>\n</g>\n<!-- 3 -->\n<g class=\"node\" id=\"node5\">\n<title>3</title>\n<ellipse cx=\"122\" cy=\"-18\" fill=\"none\" rx=\"27\" ry=\"18\" stroke=\"#000000\"/>\n<text fill=\"#000000\" font-family=\"Times,serif\" font-size=\"14.00\" text-anchor=\"middle\" x=\"122\" y=\"-14.3\">3</text>\n</g>\n<!-- 2&#45;&gt;3 -->\n<g class=\"edge\" id=\"edge6\">\n<title>2-&gt;3</title>\n<path d=\"M43.1155,-90.2416C58.2646,-76.3682 81.1229,-55.4348 98.3399,-39.6677\" fill=\"none\" stroke=\"#000000\"/>\n<polygon fill=\"#000000\" points=\"100.7945,-42.1657 105.8055,-32.8308 96.0669,-37.0033 100.7945,-42.1657\" stroke=\"#000000\"/>\n<text fill=\"#000000\" font-family=\"Times,serif\" font-size=\"14.00\" text-anchor=\"middle\" x=\"103.5\" y=\"-57.8\">(1, 1, 1)</text>\n</g>\n<!-- 3&#45;&gt;1 -->\n<g class=\"edge\" id=\"edge9\">\n<title>3-&gt;1</title>\n<path d=\"M141.1469,-31.0242C157.341,-43.3038 179.3974,-63.3264 189,-87 199.362,-112.5456 190.6733,-143.7277 181.5274,-165.4448\" fill=\"none\" stroke=\"#000000\"/>\n<polygon fill=\"#000000\" points=\"178.2733,-164.1473 177.3599,-174.7027 184.6564,-167.0207 178.2733,-164.1473\" stroke=\"#000000\"/>\n<text fill=\"#000000\" font-family=\"Times,serif\" font-size=\"14.00\" text-anchor=\"middle\" x=\"215.5\" y=\"-101.3\">(2, 1, 1)</text>\n</g>\n<!-- 3&#45;&gt;3 -->\n<g class=\"edge\" id=\"edge10\">\n<title>3-&gt;3</title>\n<path d=\"M148.7949,-21.9288C158.7804,-22.0577 167,-20.748 167,-18 167,-16.2825 163.7892,-15.1268 158.9433,-14.5331\" fill=\"none\" stroke=\"#000000\"/>\n<polygon fill=\"#000000\" points=\"158.9437,-11.0296 148.7949,-14.0712 158.6253,-18.0223 158.9437,-11.0296\" stroke=\"#000000\"/>\n<text fill=\"#000000\" font-family=\"Times,serif\" font-size=\"14.00\" text-anchor=\"middle\" x=\"189.5\" y=\"-14.3\">(1, 0, 0)</text>\n</g>\n<!-- 3&#45;&gt;3 -->\n<g class=\"edge\" id=\"edge11\">\n<title>3-&gt;3</title>\n<path d=\"M147.6012,-24.2581C175.5754,-27.7149 212,-25.6289 212,-18 212,-11.2651 183.6122,-8.8501 157.7118,-10.755\" fill=\"none\" stroke=\"#000000\"/>\n<polygon fill=\"#000000\" points=\"157.2138,-7.2869 147.6012,-11.7419 157.8939,-14.2537 157.2138,-7.2869\" stroke=\"#000000\"/>\n<text fill=\"#000000\" font-family=\"Times,serif\" font-size=\"14.00\" text-anchor=\"middle\" x=\"234.5\" y=\"-14.3\">(0, 0, 0)</text>\n</g>\n</g>\n</svg></div>"
     },
     "metadata": {},
     "output_type": "display_data"
    }
   ],
   "source": [
    "learning_rotating_mab(\n",
    "    stop_probability=0.2,\n",
    "    winning_probabilities=(1.0, 0.0, 0.0),\n",
    "    max_episode_steps=15,\n",
    "    nb_samples=200000,\n",
    "    delta=0.1,\n",
    "    n_upperbound=5,\n",
    "    nb_processes=8)\n",
    "\n"
   ],
   "metadata": {
    "collapsed": false,
    "pycharm": {
     "name": "#%%\n"
    }
   }
  },
  {
   "cell_type": "code",
   "execution_count": null,
   "outputs": [],
   "source": [],
   "metadata": {
    "collapsed": false,
    "pycharm": {
     "name": "#%%\n"
    }
   }
  }
 ],
 "metadata": {
  "kernelspec": {
   "display_name": "Python 3",
   "language": "python",
   "name": "python3"
  },
  "language_info": {
   "codemirror_mode": {
    "name": "ipython",
    "version": 2
   },
   "file_extension": ".py",
   "mimetype": "text/x-python",
   "name": "python",
   "nbconvert_exporter": "python",
   "pygments_lexer": "ipython2",
   "version": "2.7.6"
  }
 },
 "nbformat": 4,
 "nbformat_minor": 0
}