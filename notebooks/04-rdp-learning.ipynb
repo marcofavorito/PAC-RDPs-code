{
 "cells": [
  {
   "cell_type": "markdown",
   "metadata": {
    "collapsed": true,
    "pycharm": {
     "name": "#%% md\n"
    }
   },
   "source": [
    "## RDP Learning\n",
    "\n",
    "In this notebook, we show how to perform PAC learning\n",
    "over RDPs.\n",
    "\n",
    "### Experiment 1: Rotating MAB"
   ]
  },
  {
   "cell_type": "code",
   "execution_count": 1,
   "outputs": [
    {
     "name": "stdout",
     "output_type": "stream",
     "text": [
      "Observation space: Discrete(2)\n",
      "Action space: Discrete(2)\n",
      "Initial state: 0\n",
      "----------\n",
      "Action: 0\n",
      "Next state: 1\n",
      "Reward: 1.0\n",
      "----------\n",
      "Action: 0\n",
      "Next state: 1\n",
      "Reward: 1.0\n"
     ]
    }
   ],
   "source": [
    "from functools import partial\n",
    "from typing import Tuple, Set, Dict\n",
    "\n",
    "import gym\n",
    "import numpy as np\n",
    "from gym.wrappers import TimeLimit\n",
    "from notebooks.utils import render_digraph\n",
    "\n",
    "from src import NonMarkovianRotatingMAB\n",
    "from src.learn_pdfa.base import learn_pdfa, Algorithm\n",
    "from src.learn_pdfa.utils.generator import MultiprocessedGenerator\n",
    "from src.learn_rdps import random_exploration_policy, RDPGenerator\n",
    "from src.pdfa.render import to_graphviz_from_graph\n",
    "from src.pdfa.types import Character\n",
    "\n",
    "env = NonMarkovianRotatingMAB(winning_probs=[0.9, 0.2])\n",
    "\n",
    "print(f\"Observation space: {env.observation_space}\")\n",
    "print(f\"Action space: {env.action_space}\")\n",
    "\n",
    "s = env.reset()\n",
    "print(f\"Initial state: {s}\")\n",
    "\n",
    "action = 0\n",
    "sp, reward, _, _ = env.step(action)\n",
    "print(\"-\" * 10)\n",
    "print(f\"Action: {action}\")\n",
    "print(f\"Next state: {sp}\")\n",
    "print(f\"Reward: {reward}\")\n",
    "\n",
    "sp, reward, _, _ = env.step(action)\n",
    "print(\"-\" * 10)\n",
    "print(f\"Action: {action}\")\n",
    "print(f\"Next state: {sp}\")\n",
    "print(f\"Reward: {reward}\")\n"
   ],
   "metadata": {
    "collapsed": false,
    "pycharm": {
     "name": "#%%\n"
    }
   }
  },
  {
   "cell_type": "markdown",
   "source": [
    "### Learning"
   ],
   "metadata": {
    "collapsed": false,
    "pycharm": {
     "name": "#%% md\n"
    }
   }
  },
  {
   "cell_type": "code",
   "execution_count": 2,
   "outputs": [],
   "source": [
    "def learning_rotating_mab(\n",
    "    stop_probability: float,\n",
    "    winning_probabilities: Tuple[float, ...],\n",
    "    max_episode_steps: int,\n",
    "    nb_samples: int,\n",
    "    delta: float,\n",
    "    n_upperbound: int,\n",
    "    nb_processes: int = 8,\n",
    ") -> Tuple[RDPGenerator, Tuple[Set[int], Dict[int, Dict[Character, int]]]]:\n",
    "    \"\"\"Test learning of Rotating MAB.\"\"\"\n",
    "    env = gym.make(\"NonMarkovianRotatingMAB-v0\", winning_probs=winning_probabilities)\n",
    "    env = TimeLimit(env, max_episode_steps=max_episode_steps)\n",
    "\n",
    "    policy = partial(random_exploration_policy, env)\n",
    "\n",
    "    rdp_generator = RDPGenerator(\n",
    "        env, policy=policy, nb_rewards=2, stop_probability=stop_probability\n",
    "    )\n",
    "\n",
    "    examples = rdp_generator.sample(n=1000)\n",
    "\n",
    "    print(\n",
    "        f\"Apriori expected length of traces: 1/stop_prob = {1 / (stop_probability + np.finfo(float).eps)}\"\n",
    "    )\n",
    "    print(f\"Average length of traces: {np.mean([len(e) for e in examples])}\")\n",
    "\n",
    "    mp_rdp_generator = MultiprocessedGenerator(rdp_generator, nb_processes=nb_processes)\n",
    "    v, t = learn_pdfa(\n",
    "        algorithm=Algorithm.BALLE,\n",
    "        nb_samples=nb_samples,\n",
    "        sample_generator=mp_rdp_generator,\n",
    "        alphabet_size=rdp_generator.alphabet_size(),\n",
    "        delta=delta,\n",
    "        n=n_upperbound,\n",
    "    )\n",
    "    return rdp_generator, (v, t)"
   ],
   "metadata": {
    "collapsed": false,
    "pycharm": {
     "name": "#%%\n"
    }
   }
  },
  {
   "cell_type": "markdown",
   "source": [
    "##### Rotating MAB, 2 arms, with probabilities (0.7, 0.3)"
   ],
   "metadata": {
    "collapsed": false,
    "pycharm": {
     "name": "#%% md\n"
    }
   }
  },
  {
   "cell_type": "code",
   "execution_count": 3,
   "outputs": [
    {
     "name": "stdout",
     "output_type": "stream",
     "text": [
      "Apriori expected length of traces: 1/stop_prob = 4.999999999999994\n",
      "Average length of traces: 3.679\n"
     ]
    },
    {
     "name": "stderr",
     "output_type": "stream",
     "text": [
      "[2020-11-08 12:54:07,489][src.learn_pdfa][INFO] Parameters: ('BalleParams(sample_generator=<src.learn_pdfa.utils.generator.MultiprocessedGenerator '\n",
      " 'object at 0x7f167b42acd0>, nb_samples=100000, n=4, alphabet_size=8, '\n",
      " 'delta=0.1)')\n",
      "[2020-11-08 12:54:11,040][src.learn_pdfa][INFO] Iteration 0\n",
      "[2020-11-08 12:54:11,649][src.learn_pdfa][INFO] Iteration 1\n",
      "[2020-11-08 12:54:12,479][src.learn_pdfa][INFO] Iteration 2\n",
      "[2020-11-08 12:54:13,311][src.learn_pdfa][INFO] Iteration 3\n",
      "[2020-11-08 12:54:14,135][src.learn_pdfa][INFO] Iteration 4\n",
      "[2020-11-08 12:54:15,004][src.learn_pdfa][INFO] Iteration 5\n",
      "[2020-11-08 12:54:15,918][src.learn_pdfa][INFO] Iteration 6\n",
      "[2020-11-08 12:54:16,812][src.learn_pdfa][INFO] Iteration 7\n",
      "[2020-11-08 12:54:17,779][src.learn_pdfa][INFO] Iteration 8\n",
      "/home/marcofavorito/.local/share/virtualenvs/PAC-RDPs-code-h40RRNYH/lib/python3.7/site-packages/ipykernel_launcher.py:10: DeprecationWarning: 'shape' argument should be used instead of 'dims'\n",
      "  # Remove the CWD from sys.path while we load stuff.\n",
      "[2020-11-08 12:54:18,397][graphviz.files][DEBUG] write 301 bytes to '/tmp/tmpboxrh6gv/output'\n",
      "[2020-11-08 12:54:18,398][graphviz.backend][DEBUG] run ['dot', '-Tsvg', '-O', 'output']\n"
     ]
    },
    {
     "data": {
      "text/plain": "<IPython.core.display.HTML object>",
      "text/html": "<div style=\"display: block; margin-left: auto; margin-right: auto; width: 50%;white-space: nowrap\"><svg height=\"204pt\" viewBox=\"0.00 0.00 266.48 204.00\" width=\"266pt\" xmlns=\"http://www.w3.org/2000/svg\" xmlns:xlink=\"http://www.w3.org/1999/xlink\">\n<g class=\"graph\" id=\"graph0\" transform=\"scale(1 1) rotate(0) translate(4 200)\">\n<title>%3</title>\n<polygon fill=\"#ffffff\" points=\"-4,4 -4,-200 262.4829,-200 262.4829,4 -4,4\" stroke=\"transparent\"/>\n<!-- fake -->\n<g class=\"node\" id=\"node1\">\n<title>fake</title>\n</g>\n<!-- 0 -->\n<g class=\"node\" id=\"node2\">\n<title>0</title>\n<ellipse cx=\"105.4829\" cy=\"-105\" fill=\"none\" rx=\"27\" ry=\"18\" stroke=\"#000000\"/>\n<text fill=\"#000000\" font-family=\"Times,serif\" font-size=\"14.00\" text-anchor=\"middle\" x=\"105.4829\" y=\"-101.3\">0</text>\n</g>\n<!-- fake&#45;&gt;0 -->\n<g class=\"edge\" id=\"edge1\">\n<title>fake-&gt;0</title>\n<path d=\"M105.4829,-159.9551C105.4829,-151.8828 105.4829,-142.1764 105.4829,-133.1817\" fill=\"none\" stroke=\"#000000\" stroke-width=\"2\"/>\n<polygon fill=\"#000000\" points=\"108.983,-133.0903 105.4829,-123.0904 101.983,-133.0904 108.983,-133.0903\" stroke=\"#000000\" stroke-width=\"2\"/>\n</g>\n<!-- 0&#45;&gt;0 -->\n<g class=\"edge\" id=\"edge3\">\n<title>0-&gt;0</title>\n<path d=\"M132.2778,-108.3676C142.2633,-108.478 150.4829,-107.3555 150.4829,-105 150.4829,-103.5278 147.2721,-102.5373 142.4262,-102.0283\" fill=\"none\" stroke=\"#000000\"/>\n<polygon fill=\"#000000\" points=\"142.4067,-98.525 132.2778,-101.6324 142.1337,-105.5197 142.4067,-98.525\" stroke=\"#000000\"/>\n<text fill=\"#000000\" font-family=\"Times,serif\" font-size=\"14.00\" text-anchor=\"middle\" x=\"172.9829\" y=\"-101.3\">(1, 0, 0)</text>\n</g>\n<!-- 0&#45;&gt;0 -->\n<g class=\"edge\" id=\"edge5\">\n<title>0-&gt;0</title>\n<path d=\"M131.536,-110.4115C159.4489,-113.3077 195.4829,-111.5039 195.4829,-105 195.4829,-99.2583 167.3995,-97.1796 141.6127,-98.764\" fill=\"none\" stroke=\"#000000\"/>\n<polygon fill=\"#000000\" points=\"141.2172,-95.2845 131.536,-99.5885 141.7882,-102.2612 141.2172,-95.2845\" stroke=\"#000000\"/>\n<text fill=\"#000000\" font-family=\"Times,serif\" font-size=\"14.00\" text-anchor=\"middle\" x=\"217.9829\" y=\"-101.3\">(0, 0, 0)</text>\n</g>\n<!-- 1 -->\n<g class=\"node\" id=\"node3\">\n<title>1</title>\n<ellipse cx=\"105.4829\" cy=\"-18\" fill=\"none\" rx=\"27\" ry=\"18\" stroke=\"#000000\"/>\n<text fill=\"#000000\" font-family=\"Times,serif\" font-size=\"14.00\" text-anchor=\"middle\" x=\"105.4829\" y=\"-14.3\">1</text>\n</g>\n<!-- 0&#45;&gt;1 -->\n<g class=\"edge\" id=\"edge2\">\n<title>0-&gt;1</title>\n<path d=\"M79.6246,-99.345C52.7327,-92.878 13.3336,-81.5508 4.4829,-69 -14.0634,-42.7002 32.4915,-29.1752 68.4195,-22.8452\" fill=\"none\" stroke=\"#000000\"/>\n<polygon fill=\"#000000\" points=\"69.368,-26.2369 78.6757,-21.1756 68.2432,-19.3279 69.368,-26.2369\" stroke=\"#000000\"/>\n<text fill=\"#000000\" font-family=\"Times,serif\" font-size=\"14.00\" text-anchor=\"middle\" x=\"26.9829\" y=\"-57.8\">(0, 1, 1)</text>\n</g>\n<!-- 0&#45;&gt;1 -->\n<g class=\"edge\" id=\"edge4\">\n<title>0-&gt;1</title>\n<path d=\"M88.1266,-91.032C81.9588,-84.9876 75.741,-77.3759 72.4829,-69 68.4435,-58.6154 73.3595,-48.1154 80.5269,-39.3642\" fill=\"none\" stroke=\"#000000\"/>\n<polygon fill=\"#000000\" points=\"83.2641,-41.5619 87.5497,-31.8725 78.1571,-36.7745 83.2641,-41.5619\" stroke=\"#000000\"/>\n<text fill=\"#000000\" font-family=\"Times,serif\" font-size=\"14.00\" text-anchor=\"middle\" x=\"94.9829\" y=\"-57.8\">(1, 1, 1)</text>\n</g>\n<!-- 1&#45;&gt;0 -->\n<g class=\"edge\" id=\"edge7\">\n<title>1-&gt;0</title>\n<path d=\"M113.0438,-35.3457C116.4405,-45.1556 119.3188,-57.6871 117.4829,-69 117.0179,-71.8654 116.3575,-74.8109 115.5827,-77.7241\" fill=\"none\" stroke=\"#000000\"/>\n<polygon fill=\"#000000\" points=\"112.2195,-76.7534 112.6256,-87.3405 118.9103,-78.8109 112.2195,-76.7534\" stroke=\"#000000\"/>\n<text fill=\"#000000\" font-family=\"Times,serif\" font-size=\"14.00\" text-anchor=\"middle\" x=\"139.9829\" y=\"-57.8\">(1, 1, 1)</text>\n</g>\n<!-- 1&#45;&gt;0 -->\n<g class=\"edge\" id=\"edge8\">\n<title>1-&gt;0</title>\n<path d=\"M129.807,-26.2081C151.1992,-34.8824 177.3662,-49.9399 166.4829,-69 160.4464,-79.572 149.9561,-87.3511 139.3595,-92.9163\" fill=\"none\" stroke=\"#000000\"/>\n<polygon fill=\"#000000\" points=\"137.6926,-89.8323 130.1293,-97.2516 140.6686,-96.1682 137.6926,-89.8323\" stroke=\"#000000\"/>\n<text fill=\"#000000\" font-family=\"Times,serif\" font-size=\"14.00\" text-anchor=\"middle\" x=\"190.9829\" y=\"-57.8\">(0, 1, 1)</text>\n</g>\n<!-- 1&#45;&gt;1 -->\n<g class=\"edge\" id=\"edge6\">\n<title>1-&gt;1</title>\n<path d=\"M132.2778,-21.9288C142.2633,-22.0577 150.4829,-20.748 150.4829,-18 150.4829,-16.2825 147.2721,-15.1268 142.4262,-14.5331\" fill=\"none\" stroke=\"#000000\"/>\n<polygon fill=\"#000000\" points=\"142.4266,-11.0296 132.2778,-14.0712 142.1083,-18.0223 142.4266,-11.0296\" stroke=\"#000000\"/>\n<text fill=\"#000000\" font-family=\"Times,serif\" font-size=\"14.00\" text-anchor=\"middle\" x=\"172.9829\" y=\"-14.3\">(0, 0, 0)</text>\n</g>\n<!-- 1&#45;&gt;1 -->\n<g class=\"edge\" id=\"edge9\">\n<title>1-&gt;1</title>\n<path d=\"M131.0841,-24.2581C159.0583,-27.7149 195.4829,-25.6289 195.4829,-18 195.4829,-11.2651 167.0951,-8.8501 141.1947,-10.755\" fill=\"none\" stroke=\"#000000\"/>\n<polygon fill=\"#000000\" points=\"140.6967,-7.2869 131.0841,-11.7419 141.3769,-14.2537 140.6967,-7.2869\" stroke=\"#000000\"/>\n<text fill=\"#000000\" font-family=\"Times,serif\" font-size=\"14.00\" text-anchor=\"middle\" x=\"217.9829\" y=\"-14.3\">(1, 0, 0)</text>\n</g>\n</g>\n</svg></div>"
     },
     "metadata": {},
     "output_type": "display_data"
    }
   ],
   "source": [
    "rdp_generator, (v, t) = learning_rotating_mab(\n",
    "    stop_probability=0.2,\n",
    "    winning_probabilities=(0.7, 0.3),\n",
    "    max_episode_steps=15,\n",
    "    nb_samples=100000,\n",
    "    delta=0.1,\n",
    "    n_upperbound=4,\n",
    "    nb_processes=8)\n",
    "\n",
    "render_digraph(to_graphviz_from_graph(v, t, char2str=lambda c: str(rdp_generator.decoder(c))))"
   ],
   "metadata": {
    "collapsed": false,
    "pycharm": {
     "name": "#%%\n"
    }
   }
  },
  {
   "cell_type": "markdown",
   "source": [
    "##### Rotating MAB, 3 arms, with probabilities (1.0, 0.0, 0.0)"
   ],
   "metadata": {
    "collapsed": false
   }
  },
  {
   "cell_type": "code",
   "execution_count": 4,
   "outputs": [
    {
     "name": "stdout",
     "output_type": "stream",
     "text": [
      "Apriori expected length of traces: 1/stop_prob = 4.999999999999994\n",
      "Average length of traces: 3.679\n"
     ]
    },
    {
     "name": "stderr",
     "output_type": "stream",
     "text": [
      "[2020-11-08 12:54:22,135][src.learn_pdfa][INFO] Parameters: ('BalleParams(sample_generator=<src.learn_pdfa.utils.generator.MultiprocessedGenerator '\n",
      " 'object at 0x7f1691b426d0>, nb_samples=100000, n=5, alphabet_size=12, '\n",
      " 'delta=0.1)')\n",
      "[2020-11-08 12:54:29,322][src.learn_pdfa][INFO] Iteration 0\n",
      "[2020-11-08 12:54:30,325][src.learn_pdfa][INFO] Iteration 1\n",
      "[2020-11-08 12:54:31,111][src.learn_pdfa][INFO] Iteration 2\n",
      "[2020-11-08 12:54:32,047][src.learn_pdfa][INFO] Iteration 3\n",
      "[2020-11-08 12:54:33,005][src.learn_pdfa][INFO] Iteration 4\n",
      "[2020-11-08 12:54:34,463][src.learn_pdfa][INFO] Iteration 5\n",
      "[2020-11-08 12:54:35,604][src.learn_pdfa][INFO] Iteration 6\n",
      "[2020-11-08 12:54:36,919][src.learn_pdfa][INFO] Iteration 7\n",
      "[2020-11-08 12:54:38,296][src.learn_pdfa][INFO] Iteration 8\n",
      "[2020-11-08 12:54:39,616][src.learn_pdfa][INFO] Iteration 9\n",
      "/home/marcofavorito/.local/share/virtualenvs/PAC-RDPs-code-h40RRNYH/lib/python3.7/site-packages/ipykernel_launcher.py:10: DeprecationWarning: 'shape' argument should be used instead of 'dims'\n",
      "  # Remove the CWD from sys.path while we load stuff.\n",
      "[2020-11-08 12:54:40,487][graphviz.files][DEBUG] write 332 bytes to '/tmp/tmpf6kgp4ej/output'\n",
      "[2020-11-08 12:54:40,488][graphviz.backend][DEBUG] run ['dot', '-Tsvg', '-O', 'output']\n"
     ]
    },
    {
     "data": {
      "text/plain": "<IPython.core.display.HTML object>",
      "text/html": "<div style=\"display: block; margin-left: auto; margin-right: auto; width: 50%;white-space: nowrap\"><svg height=\"291pt\" viewBox=\"0.00 0.00 329.00 291.00\" width=\"329pt\" xmlns=\"http://www.w3.org/2000/svg\" xmlns:xlink=\"http://www.w3.org/1999/xlink\">\n<g class=\"graph\" id=\"graph0\" transform=\"scale(1 1) rotate(0) translate(4 287)\">\n<title>%3</title>\n<polygon fill=\"#ffffff\" points=\"-4,4 -4,-287 325,-287 325,4 -4,4\" stroke=\"transparent\"/>\n<!-- fake -->\n<g class=\"node\" id=\"node1\">\n<title>fake</title>\n</g>\n<!-- 0 -->\n<g class=\"node\" id=\"node2\">\n<title>0</title>\n<ellipse cx=\"168\" cy=\"-192\" fill=\"none\" rx=\"27\" ry=\"18\" stroke=\"#000000\"/>\n<text fill=\"#000000\" font-family=\"Times,serif\" font-size=\"14.00\" text-anchor=\"middle\" x=\"168\" y=\"-188.3\">0</text>\n</g>\n<!-- fake&#45;&gt;0 -->\n<g class=\"edge\" id=\"edge1\">\n<title>fake-&gt;0</title>\n<path d=\"M168,-246.9551C168,-238.8828 168,-229.1764 168,-220.1817\" fill=\"none\" stroke=\"#000000\" stroke-width=\"2\"/>\n<polygon fill=\"#000000\" points=\"171.5001,-220.0903 168,-210.0904 164.5001,-220.0904 171.5001,-220.0903\" stroke=\"#000000\" stroke-width=\"2\"/>\n</g>\n<!-- 0&#45;&gt;0 -->\n<g class=\"edge\" id=\"edge2\">\n<title>0-&gt;0</title>\n<path d=\"M194.7949,-195.3676C204.7804,-195.478 213,-194.3555 213,-192 213,-190.5278 209.7892,-189.5373 204.9433,-189.0283\" fill=\"none\" stroke=\"#000000\"/>\n<polygon fill=\"#000000\" points=\"204.9237,-185.525 194.7949,-188.6324 204.6508,-192.5197 204.9237,-185.525\" stroke=\"#000000\"/>\n<text fill=\"#000000\" font-family=\"Times,serif\" font-size=\"14.00\" text-anchor=\"middle\" x=\"235.5\" y=\"-188.3\">(1, 0, 0)</text>\n</g>\n<!-- 0&#45;&gt;0 -->\n<g class=\"edge\" id=\"edge4\">\n<title>0-&gt;0</title>\n<path d=\"M194.0531,-197.4115C221.966,-200.3077 258,-198.5039 258,-192 258,-186.2583 229.9166,-184.1796 204.1297,-185.764\" fill=\"none\" stroke=\"#000000\"/>\n<polygon fill=\"#000000\" points=\"203.7343,-182.2845 194.0531,-186.5885 204.3053,-189.2612 203.7343,-182.2845\" stroke=\"#000000\"/>\n<text fill=\"#000000\" font-family=\"Times,serif\" font-size=\"14.00\" text-anchor=\"middle\" x=\"280.5\" y=\"-188.3\">(2, 0, 0)</text>\n</g>\n<!-- 1 -->\n<g class=\"node\" id=\"node3\">\n<title>1</title>\n<ellipse cx=\"27\" cy=\"-105\" fill=\"none\" rx=\"27\" ry=\"18\" stroke=\"#000000\"/>\n<text fill=\"#000000\" font-family=\"Times,serif\" font-size=\"14.00\" text-anchor=\"middle\" x=\"27\" y=\"-101.3\">1</text>\n</g>\n<!-- 0&#45;&gt;1 -->\n<g class=\"edge\" id=\"edge3\">\n<title>0-&gt;1</title>\n<path d=\"M148.0972,-179.7195C124.0902,-164.9067 83.5388,-139.8857 56.0405,-122.9186\" fill=\"none\" stroke=\"#000000\"/>\n<polygon fill=\"#000000\" points=\"57.6064,-119.7722 47.2581,-117.4997 53.9306,-125.7294 57.6064,-119.7722\" stroke=\"#000000\"/>\n<text fill=\"#000000\" font-family=\"Times,serif\" font-size=\"14.00\" text-anchor=\"middle\" x=\"128.5\" y=\"-144.8\">(0, 1, 1)</text>\n</g>\n<!-- 1&#45;&gt;1 -->\n<g class=\"edge\" id=\"edge5\">\n<title>1-&gt;1</title>\n<path d=\"M53.7949,-108.9288C63.7804,-109.0577 72,-107.748 72,-105 72,-103.2825 68.7892,-102.1268 63.9433,-101.5331\" fill=\"none\" stroke=\"#000000\"/>\n<polygon fill=\"#000000\" points=\"63.9437,-98.0296 53.7949,-101.0712 63.6253,-105.0223 63.9437,-98.0296\" stroke=\"#000000\"/>\n<text fill=\"#000000\" font-family=\"Times,serif\" font-size=\"14.00\" text-anchor=\"middle\" x=\"94.5\" y=\"-101.3\">(0, 0, 0)</text>\n</g>\n<!-- 1&#45;&gt;1 -->\n<g class=\"edge\" id=\"edge7\">\n<title>1-&gt;1</title>\n<path d=\"M52.6012,-111.2581C80.5754,-114.7149 117,-112.6289 117,-105 117,-98.2651 88.6122,-95.8501 62.7118,-97.755\" fill=\"none\" stroke=\"#000000\"/>\n<polygon fill=\"#000000\" points=\"62.2138,-94.2869 52.6012,-98.7419 62.8939,-101.2537 62.2138,-94.2869\" stroke=\"#000000\"/>\n<text fill=\"#000000\" font-family=\"Times,serif\" font-size=\"14.00\" text-anchor=\"middle\" x=\"139.5\" y=\"-101.3\">(2, 0, 0)</text>\n</g>\n<!-- 2 -->\n<g class=\"node\" id=\"node4\">\n<title>2</title>\n<ellipse cx=\"122\" cy=\"-18\" fill=\"none\" rx=\"27\" ry=\"18\" stroke=\"#000000\"/>\n<text fill=\"#000000\" font-family=\"Times,serif\" font-size=\"14.00\" text-anchor=\"middle\" x=\"122\" y=\"-14.3\">2</text>\n</g>\n<!-- 1&#45;&gt;2 -->\n<g class=\"edge\" id=\"edge6\">\n<title>1-&gt;2</title>\n<path d=\"M43.1155,-90.2416C58.2646,-76.3682 81.1229,-55.4348 98.3399,-39.6677\" fill=\"none\" stroke=\"#000000\"/>\n<polygon fill=\"#000000\" points=\"100.7945,-42.1657 105.8055,-32.8308 96.0669,-37.0033 100.7945,-42.1657\" stroke=\"#000000\"/>\n<text fill=\"#000000\" font-family=\"Times,serif\" font-size=\"14.00\" text-anchor=\"middle\" x=\"103.5\" y=\"-57.8\">(1, 1, 1)</text>\n</g>\n<!-- 2&#45;&gt;0 -->\n<g class=\"edge\" id=\"edge8\">\n<title>2-&gt;0</title>\n<path d=\"M141.1469,-31.0242C157.341,-43.3038 179.3974,-63.3264 189,-87 199.362,-112.5456 190.6733,-143.7277 181.5274,-165.4448\" fill=\"none\" stroke=\"#000000\"/>\n<polygon fill=\"#000000\" points=\"178.2733,-164.1473 177.3599,-174.7027 184.6564,-167.0207 178.2733,-164.1473\" stroke=\"#000000\"/>\n<text fill=\"#000000\" font-family=\"Times,serif\" font-size=\"14.00\" text-anchor=\"middle\" x=\"215.5\" y=\"-101.3\">(2, 1, 1)</text>\n</g>\n<!-- 2&#45;&gt;2 -->\n<g class=\"edge\" id=\"edge9\">\n<title>2-&gt;2</title>\n<path d=\"M148.7949,-21.9288C158.7804,-22.0577 167,-20.748 167,-18 167,-16.2825 163.7892,-15.1268 158.9433,-14.5331\" fill=\"none\" stroke=\"#000000\"/>\n<polygon fill=\"#000000\" points=\"158.9437,-11.0296 148.7949,-14.0712 158.6253,-18.0223 158.9437,-11.0296\" stroke=\"#000000\"/>\n<text fill=\"#000000\" font-family=\"Times,serif\" font-size=\"14.00\" text-anchor=\"middle\" x=\"189.5\" y=\"-14.3\">(0, 0, 0)</text>\n</g>\n<!-- 2&#45;&gt;2 -->\n<g class=\"edge\" id=\"edge10\">\n<title>2-&gt;2</title>\n<path d=\"M147.6012,-24.2581C175.5754,-27.7149 212,-25.6289 212,-18 212,-11.2651 183.6122,-8.8501 157.7118,-10.755\" fill=\"none\" stroke=\"#000000\"/>\n<polygon fill=\"#000000\" points=\"157.2138,-7.2869 147.6012,-11.7419 157.8939,-14.2537 157.2138,-7.2869\" stroke=\"#000000\"/>\n<text fill=\"#000000\" font-family=\"Times,serif\" font-size=\"14.00\" text-anchor=\"middle\" x=\"234.5\" y=\"-14.3\">(1, 0, 0)</text>\n</g>\n</g>\n</svg></div>"
     },
     "metadata": {},
     "output_type": "display_data"
    }
   ],
   "source": [
    "rdp_generator, (v, t) = learning_rotating_mab(\n",
    "    stop_probability=0.2,\n",
    "    winning_probabilities=(1.0, 0.0, 0.0),\n",
    "    max_episode_steps=15,\n",
    "    nb_samples=100000,\n",
    "    delta=0.1,\n",
    "    n_upperbound=5,\n",
    "    nb_processes=8)\n",
    "\n",
    "render_digraph(to_graphviz_from_graph(v, t, char2str=lambda c: str(rdp_generator.decoder(c))))"
   ],
   "metadata": {
    "collapsed": false,
    "pycharm": {
     "name": "#%%\n"
    }
   }
  },
  {
   "cell_type": "markdown",
   "source": [
    "##### Rotating MAB, 3 arms, with probabilities (0.1, 0.2, 0.9)"
   ],
   "metadata": {
    "collapsed": false
   }
  },
  {
   "cell_type": "code",
   "execution_count": 5,
   "outputs": [
    {
     "name": "stdout",
     "output_type": "stream",
     "text": [
      "Apriori expected length of traces: 1/stop_prob = 4.999999999999994\n",
      "Average length of traces: 3.84\n"
     ]
    },
    {
     "name": "stderr",
     "output_type": "stream",
     "text": [
      "[2020-11-08 12:55:01,338][src.learn_pdfa][INFO] Parameters: ('BalleParams(sample_generator=<src.learn_pdfa.utils.generator.MultiprocessedGenerator '\n",
      " 'object at 0x7f167a771650>, nb_samples=1000000, n=6, alphabet_size=12, '\n",
      " 'delta=0.05)')\n",
      "[2020-11-08 12:56:11,080][src.learn_pdfa][INFO] Iteration 0\n",
      "[2020-11-08 12:56:27,630][src.learn_pdfa][INFO] Iteration 1\n",
      "[2020-11-08 12:56:52,818][src.learn_pdfa][INFO] Iteration 2\n",
      "[2020-11-08 12:57:22,732][src.learn_pdfa][INFO] Iteration 3\n",
      "[2020-11-08 12:57:46,535][src.learn_pdfa][INFO] Iteration 4\n",
      "[2020-11-08 12:58:09,572][src.learn_pdfa][INFO] Iteration 5\n",
      "[2020-11-08 12:58:35,244][src.learn_pdfa][INFO] Iteration 6\n",
      "[2020-11-08 12:59:01,623][src.learn_pdfa][INFO] Iteration 7\n",
      "[2020-11-08 12:59:22,787][src.learn_pdfa][INFO] Iteration 8\n",
      "[2020-11-08 12:59:47,634][src.learn_pdfa][INFO] Iteration 9\n",
      "[2020-11-08 13:00:04,774][src.learn_pdfa][INFO] Iteration 10\n",
      "[2020-11-08 13:00:21,536][src.learn_pdfa][INFO] Iteration 11\n",
      "[2020-11-08 13:00:38,450][src.learn_pdfa][INFO] Iteration 12\n",
      "[2020-11-08 13:00:55,376][src.learn_pdfa][INFO] Iteration 13\n",
      "[2020-11-08 13:01:12,643][src.learn_pdfa][INFO] Iteration 14\n",
      "[2020-11-08 13:01:31,820][src.learn_pdfa][INFO] Iteration 15\n",
      "[2020-11-08 13:01:50,129][src.learn_pdfa][INFO] Iteration 16\n",
      "[2020-11-08 13:02:09,607][src.learn_pdfa][INFO] Iteration 17\n",
      "[2020-11-08 13:02:26,797][src.learn_pdfa][INFO] Iteration 18\n",
      "/home/marcofavorito/.local/share/virtualenvs/PAC-RDPs-code-h40RRNYH/lib/python3.7/site-packages/ipykernel_launcher.py:10: DeprecationWarning: 'shape' argument should be used instead of 'dims'\n",
      "  # Remove the CWD from sys.path while we load stuff.\n",
      "[2020-11-08 13:02:33,794][graphviz.files][DEBUG] write 584 bytes to '/tmp/tmpnmg2cwv9/output'\n",
      "[2020-11-08 13:02:33,795][graphviz.backend][DEBUG] run ['dot', '-Tsvg', '-O', 'output']\n"
     ]
    },
    {
     "data": {
      "text/plain": "<IPython.core.display.HTML object>",
      "text/html": "<div style=\"display: block; margin-left: auto; margin-right: auto; width: 50%;white-space: nowrap\"><svg height=\"291pt\" viewBox=\"0.00 0.00 466.00 291.00\" width=\"466pt\" xmlns=\"http://www.w3.org/2000/svg\" xmlns:xlink=\"http://www.w3.org/1999/xlink\">\n<g class=\"graph\" id=\"graph0\" transform=\"scale(1 1) rotate(0) translate(4 287)\">\n<title>%3</title>\n<polygon fill=\"#ffffff\" points=\"-4,4 -4,-287 462,-287 462,4 -4,4\" stroke=\"transparent\"/>\n<!-- fake -->\n<g class=\"node\" id=\"node1\">\n<title>fake</title>\n</g>\n<!-- 0 -->\n<g class=\"node\" id=\"node2\">\n<title>0</title>\n<ellipse cx=\"242\" cy=\"-192\" fill=\"none\" rx=\"27\" ry=\"18\" stroke=\"#000000\"/>\n<text fill=\"#000000\" font-family=\"Times,serif\" font-size=\"14.00\" text-anchor=\"middle\" x=\"242\" y=\"-188.3\">0</text>\n</g>\n<!-- fake&#45;&gt;0 -->\n<g class=\"edge\" id=\"edge1\">\n<title>fake-&gt;0</title>\n<path d=\"M242,-246.9551C242,-238.8828 242,-229.1764 242,-220.1817\" fill=\"none\" stroke=\"#000000\" stroke-width=\"2\"/>\n<polygon fill=\"#000000\" points=\"245.5001,-220.0903 242,-210.0904 238.5001,-220.0904 245.5001,-220.0903\" stroke=\"#000000\" stroke-width=\"2\"/>\n</g>\n<!-- 0&#45;&gt;0 -->\n<g class=\"edge\" id=\"edge2\">\n<title>0-&gt;0</title>\n<path d=\"M268.7949,-194.2451C278.7804,-194.3187 287,-193.5703 287,-192 287,-191.0186 283.7892,-190.3582 278.9433,-190.0189\" fill=\"none\" stroke=\"#000000\"/>\n<polygon fill=\"#000000\" points=\"278.8825,-186.5162 268.7949,-189.7549 278.7004,-193.5139 278.8825,-186.5162\" stroke=\"#000000\"/>\n<text fill=\"#000000\" font-family=\"Times,serif\" font-size=\"14.00\" text-anchor=\"middle\" x=\"309.5\" y=\"-188.3\">(0, 0, 0)</text>\n</g>\n<!-- 0&#45;&gt;0 -->\n<g class=\"edge\" id=\"edge4\">\n<title>0-&gt;0</title>\n<path d=\"M268.5064,-195.6387C296.3545,-197.5254 332,-196.3125 332,-192 332,-188.1929 304.2194,-186.8014 278.5481,-187.8257\" fill=\"none\" stroke=\"#000000\"/>\n<polygon fill=\"#000000\" points=\"278.3058,-184.3336 268.5064,-188.3613 278.6787,-191.3236 278.3058,-184.3336\" stroke=\"#000000\"/>\n<text fill=\"#000000\" font-family=\"Times,serif\" font-size=\"14.00\" text-anchor=\"middle\" x=\"354.5\" y=\"-188.3\">(1, 0, 0)</text>\n</g>\n<!-- 0&#45;&gt;0 -->\n<g class=\"edge\" id=\"edge6\">\n<title>0-&gt;0</title>\n<path d=\"M268.4339,-196.5243C310.0896,-200.5921 377,-199.084 377,-192 377,-185.4695 320.1359,-183.6776 278.6154,-186.6244\" fill=\"none\" stroke=\"#000000\"/>\n<polygon fill=\"#000000\" points=\"278.1075,-183.1545 268.4339,-187.4757 278.6908,-190.1302 278.1075,-183.1545\" stroke=\"#000000\"/>\n<text fill=\"#000000\" font-family=\"Times,serif\" font-size=\"14.00\" text-anchor=\"middle\" x=\"399.5\" y=\"-188.3\">(2, 0, 0)</text>\n</g>\n<!-- 1 -->\n<g class=\"node\" id=\"node3\">\n<title>1</title>\n<ellipse cx=\"27\" cy=\"-105\" fill=\"none\" rx=\"27\" ry=\"18\" stroke=\"#000000\"/>\n<text fill=\"#000000\" font-family=\"Times,serif\" font-size=\"14.00\" text-anchor=\"middle\" x=\"27\" y=\"-101.3\">1</text>\n</g>\n<!-- 0&#45;&gt;1 -->\n<g class=\"edge\" id=\"edge3\">\n<title>0-&gt;1</title>\n<path d=\"M215.0611,-189.0477C171.4502,-183.8658 87.7686,-172.1323 63,-156 53.6007,-149.8781 45.9172,-140.37 40.0985,-131.2146\" fill=\"none\" stroke=\"#000000\"/>\n<polygon fill=\"#000000\" points=\"42.969,-129.1891 34.9069,-122.3151 36.9226,-132.7164 42.969,-129.1891\" stroke=\"#000000\"/>\n<text fill=\"#000000\" font-family=\"Times,serif\" font-size=\"14.00\" text-anchor=\"middle\" x=\"85.5\" y=\"-144.8\">(2, 1, 1)</text>\n</g>\n<!-- 0&#45;&gt;1 -->\n<g class=\"edge\" id=\"edge5\">\n<title>0-&gt;1</title>\n<path d=\"M217.9479,-183.4714C198.237,-176.387 169.6718,-165.902 145,-156 115.51,-144.1643 82.3216,-129.7179 58.6712,-119.2261\" fill=\"none\" stroke=\"#000000\"/>\n<polygon fill=\"#000000\" points=\"60.0326,-116.0011 49.4735,-115.1319 57.1859,-122.3961 60.0326,-116.0011\" stroke=\"#000000\"/>\n<text fill=\"#000000\" font-family=\"Times,serif\" font-size=\"14.00\" text-anchor=\"middle\" x=\"167.5\" y=\"-144.8\">(1, 1, 1)</text>\n</g>\n<!-- 0&#45;&gt;1 -->\n<g class=\"edge\" id=\"edge7\">\n<title>0-&gt;1</title>\n<path d=\"M229.6408,-175.7557C220.0601,-164.3098 205.7876,-149.5538 190,-141 150.2816,-119.4804 98.5001,-110.82 64.0709,-107.3375\" fill=\"none\" stroke=\"#000000\"/>\n<polygon fill=\"#000000\" points=\"64.2529,-103.8397 53.9757,-106.4145 63.6154,-110.8106 64.2529,-103.8397\" stroke=\"#000000\"/>\n<text fill=\"#000000\" font-family=\"Times,serif\" font-size=\"14.00\" text-anchor=\"middle\" x=\"231.5\" y=\"-144.8\">(0, 1, 1)</text>\n</g>\n<!-- 1&#45;&gt;1 -->\n<g class=\"edge\" id=\"edge9\">\n<title>1-&gt;1</title>\n<path d=\"M53.7949,-107.6192C63.7804,-107.7051 72,-106.832 72,-105 72,-103.855 68.7892,-103.0846 63.9433,-102.6887\" fill=\"none\" stroke=\"#000000\"/>\n<polygon fill=\"#000000\" points=\"63.8964,-99.1858 53.7949,-102.3808 63.6841,-106.1826 63.8964,-99.1858\" stroke=\"#000000\"/>\n<text fill=\"#000000\" font-family=\"Times,serif\" font-size=\"14.00\" text-anchor=\"middle\" x=\"94.5\" y=\"-101.3\">(1, 0, 0)</text>\n</g>\n<!-- 1&#45;&gt;1 -->\n<g class=\"edge\" id=\"edge10\">\n<title>1-&gt;1</title>\n<path d=\"M53.5064,-109.2451C81.3545,-111.4463 117,-110.0313 117,-105 117,-100.5583 89.2194,-98.935 63.5481,-100.13\" fill=\"none\" stroke=\"#000000\"/>\n<polygon fill=\"#000000\" points=\"63.2697,-96.6405 53.5064,-100.7549 63.7045,-103.627 63.2697,-96.6405\" stroke=\"#000000\"/>\n<text fill=\"#000000\" font-family=\"Times,serif\" font-size=\"14.00\" text-anchor=\"middle\" x=\"139.5\" y=\"-101.3\">(2, 0, 0)</text>\n</g>\n<!-- 1&#45;&gt;1 -->\n<g class=\"edge\" id=\"edge12\">\n<title>1-&gt;1</title>\n<path d=\"M53.1243,-110.243C94.7571,-115.0328 162,-113.2852 162,-105 162,-97.3621 104.8534,-95.2802 63.3066,-98.7541\" fill=\"none\" stroke=\"#000000\"/>\n<polygon fill=\"#000000\" points=\"62.733,-95.2936 53.1243,-99.757 63.4192,-102.2599 62.733,-95.2936\" stroke=\"#000000\"/>\n<text fill=\"#000000\" font-family=\"Times,serif\" font-size=\"14.00\" text-anchor=\"middle\" x=\"184.5\" y=\"-101.3\">(0, 0, 0)</text>\n</g>\n<!-- 2 -->\n<g class=\"node\" id=\"node4\">\n<title>2</title>\n<ellipse cx=\"242\" cy=\"-18\" fill=\"none\" rx=\"27\" ry=\"18\" stroke=\"#000000\"/>\n<text fill=\"#000000\" font-family=\"Times,serif\" font-size=\"14.00\" text-anchor=\"middle\" x=\"242\" y=\"-14.3\">2</text>\n</g>\n<!-- 1&#45;&gt;2 -->\n<g class=\"edge\" id=\"edge8\">\n<title>1-&gt;2</title>\n<path d=\"M34.9069,-87.6849C40.9855,-76.3449 50.4676,-62.1626 63,-54 85.9787,-39.0336 159.6632,-27.8531 205.0159,-22.1776\" fill=\"none\" stroke=\"#000000\"/>\n<polygon fill=\"#000000\" points=\"205.5584,-25.6374 215.0611,-20.9523 204.7108,-18.6889 205.5584,-25.6374\" stroke=\"#000000\"/>\n<text fill=\"#000000\" font-family=\"Times,serif\" font-size=\"14.00\" text-anchor=\"middle\" x=\"85.5\" y=\"-57.8\">(0, 1, 1)</text>\n</g>\n<!-- 1&#45;&gt;2 -->\n<g class=\"edge\" id=\"edge11\">\n<title>1-&gt;2</title>\n<path d=\"M49.4735,-94.8681C73.1062,-84.3124 111.4469,-67.4664 145,-54 165.9132,-45.6065 189.6239,-36.7941 208.368,-29.9891\" fill=\"none\" stroke=\"#000000\"/>\n<polygon fill=\"#000000\" points=\"209.7318,-33.2178 217.9479,-26.5286 207.3535,-26.6342 209.7318,-33.2178\" stroke=\"#000000\"/>\n<text fill=\"#000000\" font-family=\"Times,serif\" font-size=\"14.00\" text-anchor=\"middle\" x=\"167.5\" y=\"-57.8\">(2, 1, 1)</text>\n</g>\n<!-- 1&#45;&gt;2 -->\n<g class=\"edge\" id=\"edge13\">\n<title>1-&gt;2</title>\n<path d=\"M53.9757,-103.5855C87.6576,-100.8341 146.1728,-92.7458 190,-69 202.4574,-62.2505 213.9715,-51.6394 222.9816,-41.84\" fill=\"none\" stroke=\"#000000\"/>\n<polygon fill=\"#000000\" points=\"225.6802,-44.0711 229.6408,-34.2443 220.4166,-39.4564 225.6802,-44.0711\" stroke=\"#000000\"/>\n<text fill=\"#000000\" font-family=\"Times,serif\" font-size=\"14.00\" text-anchor=\"middle\" x=\"231.5\" y=\"-57.8\">(1, 1, 1)</text>\n</g>\n<!-- 2&#45;&gt;0 -->\n<g class=\"edge\" id=\"edge14\">\n<title>2-&gt;0</title>\n<path d=\"M251.3402,-35.0826C254.0462,-40.9089 256.637,-47.5771 258,-54 267.4108,-98.3458 267.4108,-111.6542 258,-156 257.3398,-159.1111 256.3915,-162.2797 255.2816,-165.3824\" fill=\"none\" stroke=\"#000000\"/>\n<polygon fill=\"#000000\" points=\"251.9258,-164.3388 251.3402,-174.9174 258.3949,-167.0129 251.9258,-164.3388\" stroke=\"#000000\"/>\n<text fill=\"#000000\" font-family=\"Times,serif\" font-size=\"14.00\" text-anchor=\"middle\" x=\"287.5\" y=\"-101.3\">(1, 1, 1)</text>\n</g>\n<!-- 2&#45;&gt;0 -->\n<g class=\"edge\" id=\"edge17\">\n<title>2-&gt;0</title>\n<path d=\"M261.8599,-30.2201C279.2944,-42.2293 303.4673,-62.3178 314,-87 320.2798,-101.7161 320.2798,-108.2839 314,-123 305.0308,-144.0185 286.1702,-161.7057 270.0025,-173.9094\" fill=\"none\" stroke=\"#000000\"/>\n<polygon fill=\"#000000\" points=\"267.9247,-171.0925 261.8599,-179.7799 272.0185,-176.7707 267.9247,-171.0925\" stroke=\"#000000\"/>\n<text fill=\"#000000\" font-family=\"Times,serif\" font-size=\"14.00\" text-anchor=\"middle\" x=\"340.5\" y=\"-101.3\">(0, 1, 1)</text>\n</g>\n<!-- 2&#45;&gt;0 -->\n<g class=\"edge\" id=\"edge18\">\n<title>2-&gt;0</title>\n<path d=\"M267.7639,-23.7418C297.8306,-31.9902 346.0928,-50.4124 367,-87 392.1524,-131.0167 321.1273,-164.7853 276.0489,-181.1371\" fill=\"none\" stroke=\"#000000\"/>\n<polygon fill=\"#000000\" points=\"274.8721,-177.8408 266.5934,-184.4524 277.1882,-184.4465 274.8721,-177.8408\" stroke=\"#000000\"/>\n<text fill=\"#000000\" font-family=\"Times,serif\" font-size=\"14.00\" text-anchor=\"middle\" x=\"394.5\" y=\"-101.3\">(2, 1, 1)</text>\n</g>\n<!-- 2&#45;&gt;2 -->\n<g class=\"edge\" id=\"edge15\">\n<title>2-&gt;2</title>\n<path d=\"M268.7949,-20.6192C278.7804,-20.7051 287,-19.832 287,-18 287,-16.855 283.7892,-16.0846 278.9433,-15.6887\" fill=\"none\" stroke=\"#000000\"/>\n<polygon fill=\"#000000\" points=\"278.8964,-12.1858 268.7949,-15.3808 278.6841,-19.1826 278.8964,-12.1858\" stroke=\"#000000\"/>\n<text fill=\"#000000\" font-family=\"Times,serif\" font-size=\"14.00\" text-anchor=\"middle\" x=\"309.5\" y=\"-14.3\">(2, 0, 0)</text>\n</g>\n<!-- 2&#45;&gt;2 -->\n<g class=\"edge\" id=\"edge16\">\n<title>2-&gt;2</title>\n<path d=\"M268.5064,-22.2451C296.3545,-24.4463 332,-23.0313 332,-18 332,-13.5583 304.2194,-11.935 278.5481,-13.13\" fill=\"none\" stroke=\"#000000\"/>\n<polygon fill=\"#000000\" points=\"278.2697,-9.6405 268.5064,-13.7549 278.7045,-16.627 278.2697,-9.6405\" stroke=\"#000000\"/>\n<text fill=\"#000000\" font-family=\"Times,serif\" font-size=\"14.00\" text-anchor=\"middle\" x=\"354.5\" y=\"-14.3\">(0, 0, 0)</text>\n</g>\n<!-- 2&#45;&gt;2 -->\n<g class=\"edge\" id=\"edge19\">\n<title>2-&gt;2</title>\n<path d=\"M268.1243,-23.243C309.7571,-28.0328 377,-26.2852 377,-18 377,-10.3621 319.8534,-8.2802 278.3066,-11.7541\" fill=\"none\" stroke=\"#000000\"/>\n<polygon fill=\"#000000\" points=\"277.733,-8.2936 268.1243,-12.757 278.4192,-15.2599 277.733,-8.2936\" stroke=\"#000000\"/>\n<text fill=\"#000000\" font-family=\"Times,serif\" font-size=\"14.00\" text-anchor=\"middle\" x=\"399.5\" y=\"-14.3\">(1, 0, 0)</text>\n</g>\n</g>\n</svg></div>"
     },
     "metadata": {},
     "output_type": "display_data"
    }
   ],
   "source": [
    "rdp_generator, (v, t) = learning_rotating_mab(\n",
    "    stop_probability=0.2,\n",
    "    winning_probabilities=(0.1, 0.2, 0.9),\n",
    "    max_episode_steps=1000,\n",
    "    nb_samples=1000000,\n",
    "    delta=0.05,\n",
    "    n_upperbound=6,\n",
    "    nb_processes=8)\n",
    "\n",
    "render_digraph(to_graphviz_from_graph(v, t, char2str=lambda c: str(rdp_generator.decoder(c))))"
   ],
   "metadata": {
    "collapsed": false,
    "pycharm": {
     "name": "#%%\n"
    }
   }
  },
  {
   "cell_type": "markdown",
   "source": [
    "##### Rotating MAB, 4 arms, with probabilities (1.0, 0.0, 0.0, 0.0)\n"
   ],
   "metadata": {
    "collapsed": false
   }
  },
  {
   "cell_type": "code",
   "execution_count": 6,
   "outputs": [
    {
     "name": "stdout",
     "output_type": "stream",
     "text": [
      "Apriori expected length of traces: 1/stop_prob = 4.999999999999994\n",
      "Average length of traces: 3.84\n"
     ]
    },
    {
     "name": "stderr",
     "output_type": "stream",
     "text": [
      "[2020-11-08 13:18:24,806][src.learn_pdfa][INFO] Parameters: ('BalleParams(sample_generator=<src.learn_pdfa.utils.generator.MultiprocessedGenerator '\n",
      " 'object at 0x7f16441e26d0>, nb_samples=300000, n=5, alphabet_size=16, '\n",
      " 'delta=0.1)')\n",
      "[2020-11-08 13:18:38,799][src.learn_pdfa][INFO] Iteration 0\n",
      "[2020-11-08 13:18:41,588][src.learn_pdfa][INFO] Iteration 1\n",
      "[2020-11-08 13:18:44,534][src.learn_pdfa][INFO] Iteration 2\n",
      "[2020-11-08 13:18:48,375][src.learn_pdfa][INFO] Iteration 3\n",
      "[2020-11-08 13:18:53,714][src.learn_pdfa][INFO] Iteration 4\n",
      "[2020-11-08 13:18:58,224][src.learn_pdfa][INFO] Iteration 5\n",
      "[2020-11-08 13:19:03,683][src.learn_pdfa][INFO] Iteration 6\n",
      "[2020-11-08 13:19:08,777][src.learn_pdfa][INFO] Iteration 7\n",
      "[2020-11-08 13:19:13,830][src.learn_pdfa][INFO] Iteration 8\n",
      "[2020-11-08 13:19:18,694][src.learn_pdfa][INFO] Iteration 9\n",
      "[2020-11-08 13:19:23,430][src.learn_pdfa][INFO] Iteration 10\n",
      "[2020-11-08 13:19:27,585][src.learn_pdfa][INFO] Iteration 11\n",
      "[2020-11-08 13:19:33,148][src.learn_pdfa][INFO] Iteration 12\n",
      "[2020-11-08 13:19:37,335][src.learn_pdfa][INFO] Iteration 13\n",
      "[2020-11-08 13:19:41,277][src.learn_pdfa][INFO] Iteration 14\n",
      "[2020-11-08 13:19:45,025][src.learn_pdfa][INFO] Iteration 15\n",
      "[2020-11-08 13:19:48,696][src.learn_pdfa][INFO] Iteration 16\n",
      "[2020-11-08 13:19:52,321][src.learn_pdfa][INFO] Iteration 17\n",
      "[2020-11-08 13:19:55,993][src.learn_pdfa][INFO] Iteration 18\n",
      "[2020-11-08 13:19:59,733][src.learn_pdfa][INFO] Iteration 19\n",
      "/home/marcofavorito/.local/share/virtualenvs/PAC-RDPs-code-h40RRNYH/lib/python3.7/site-packages/ipykernel_launcher.py:10: DeprecationWarning: 'shape' argument should be used instead of 'dims'\n",
      "  # Remove the CWD from sys.path while we load stuff.\n",
      "[2020-11-08 13:20:01,920][graphviz.files][DEBUG] write 615 bytes to '/tmp/tmpj7r9l46a/output'\n",
      "[2020-11-08 13:20:01,921][graphviz.backend][DEBUG] run ['dot', '-Tsvg', '-O', 'output']\n"
     ]
    },
    {
     "data": {
      "text/plain": "<IPython.core.display.HTML object>",
      "text/html": "<div style=\"display: block; margin-left: auto; margin-right: auto; width: 50%;white-space: nowrap\"><svg height=\"378pt\" viewBox=\"0.00 0.00 799.00 378.00\" width=\"799pt\" xmlns=\"http://www.w3.org/2000/svg\" xmlns:xlink=\"http://www.w3.org/1999/xlink\">\n<g class=\"graph\" id=\"graph0\" transform=\"scale(1 1) rotate(0) translate(4 374)\">\n<title>%3</title>\n<polygon fill=\"#ffffff\" points=\"-4,4 -4,-374 795,-374 795,4 -4,4\" stroke=\"transparent\"/>\n<!-- fake -->\n<g class=\"node\" id=\"node1\">\n<title>fake</title>\n</g>\n<!-- 0 -->\n<g class=\"node\" id=\"node2\">\n<title>0</title>\n<ellipse cx=\"386\" cy=\"-279\" fill=\"none\" rx=\"27\" ry=\"18\" stroke=\"#000000\"/>\n<text fill=\"#000000\" font-family=\"Times,serif\" font-size=\"14.00\" text-anchor=\"middle\" x=\"386\" y=\"-275.3\">0</text>\n</g>\n<!-- fake&#45;&gt;0 -->\n<g class=\"edge\" id=\"edge1\">\n<title>fake-&gt;0</title>\n<path d=\"M386,-333.9551C386,-325.8828 386,-316.1764 386,-307.1817\" fill=\"none\" stroke=\"#000000\" stroke-width=\"2\"/>\n<polygon fill=\"#000000\" points=\"389.5001,-307.0903 386,-297.0904 382.5001,-307.0904 389.5001,-307.0903\" stroke=\"#000000\" stroke-width=\"2\"/>\n</g>\n<!-- 0&#45;&gt;0 -->\n<g class=\"edge\" id=\"edge2\">\n<title>0-&gt;0</title>\n<path d=\"M413.2408,-280.4985C423.0239,-280.5308 431,-280.0313 431,-279 431,-278.3716 428.0382,-277.9406 423.5105,-277.7071\" fill=\"none\" stroke=\"#000000\"/>\n<polygon fill=\"#000000\" points=\"423.3089,-274.2025 413.2408,-277.5015 423.1687,-281.2011 423.3089,-274.2025\" stroke=\"#000000\"/>\n<text fill=\"#000000\" font-family=\"Times,serif\" font-size=\"14.00\" text-anchor=\"middle\" x=\"453.5\" y=\"-275.3\">(3, 0, 0)</text>\n</g>\n<!-- 0&#45;&gt;0 -->\n<g class=\"edge\" id=\"edge3\">\n<title>0-&gt;0</title>\n<path d=\"M412.9612,-281.4461C440.7409,-282.6747 476,-281.8594 476,-279 476,-276.4757 448.5205,-275.5444 422.9668,-276.2062\" fill=\"none\" stroke=\"#000000\"/>\n<polygon fill=\"#000000\" points=\"422.8335,-272.7086 412.9612,-276.5539 423.0767,-279.7044 422.8335,-272.7086\" stroke=\"#000000\"/>\n<text fill=\"#000000\" font-family=\"Times,serif\" font-size=\"14.00\" text-anchor=\"middle\" x=\"498.5\" y=\"-275.3\">(2, 0, 0)</text>\n</g>\n<!-- 0&#45;&gt;0 -->\n<g class=\"edge\" id=\"edge5\">\n<title>0-&gt;0</title>\n<path d=\"M412.7444,-282.0363C454.4212,-284.7231 521,-283.7109 521,-279 521,-274.6571 464.4178,-273.4577 422.9248,-275.4017\" fill=\"none\" stroke=\"#000000\"/>\n<polygon fill=\"#000000\" points=\"422.5363,-271.9177 412.7444,-275.9637 422.9222,-278.9071 422.5363,-271.9177\" stroke=\"#000000\"/>\n<text fill=\"#000000\" font-family=\"Times,serif\" font-size=\"14.00\" text-anchor=\"middle\" x=\"543.5\" y=\"-275.3\">(1, 0, 0)</text>\n</g>\n<!-- 0&#45;&gt;0 -->\n<g class=\"edge\" id=\"edge6\">\n<title>0-&gt;0</title>\n<path d=\"M412.5522,-282.4772C466.1375,-286.7528 566,-285.5938 566,-279 566,-272.8055 477.8642,-271.4075 422.762,-274.806\" fill=\"none\" stroke=\"#000000\"/>\n<polygon fill=\"#000000\" points=\"422.2825,-271.3309 412.5522,-275.5228 422.7728,-278.3137 422.2825,-271.3309\" stroke=\"#000000\"/>\n<text fill=\"#000000\" font-family=\"Times,serif\" font-size=\"14.00\" text-anchor=\"middle\" x=\"588.5\" y=\"-275.3\">(0, 0, 0)</text>\n</g>\n<!-- 0&#45;&gt;0 -->\n<g class=\"edge\" id=\"edge7\">\n<title>0-&gt;0</title>\n<path d=\"M412.4373,-282.8332C476.7385,-288.7738 611,-287.4961 611,-279 611,-270.9353 490.0282,-269.3746 422.7476,-274.3176\" fill=\"none\" stroke=\"#000000\"/>\n<polygon fill=\"#000000\" points=\"422.1162,-270.8577 412.4373,-275.1668 422.6908,-277.8341 422.1162,-270.8577\" stroke=\"#000000\"/>\n<text fill=\"#000000\" font-family=\"Times,serif\" font-size=\"14.00\" text-anchor=\"middle\" x=\"633.5\" y=\"-275.3\">(2, 1, 1)</text>\n</g>\n<!-- 0&#45;&gt;0 -->\n<g class=\"edge\" id=\"edge8\">\n<title>0-&gt;0</title>\n<path d=\"M412.506,-283.1462C486.7968,-290.7883 656,-289.4063 656,-279 656,-269.0409 501.0253,-267.3471 422.5873,-273.9186\" fill=\"none\" stroke=\"#000000\"/>\n<polygon fill=\"#000000\" points=\"422.14,-270.445 412.506,-274.8538 422.7866,-277.4151 422.14,-270.445\" stroke=\"#000000\"/>\n<text fill=\"#000000\" font-family=\"Times,serif\" font-size=\"14.00\" text-anchor=\"middle\" x=\"678.5\" y=\"-275.3\">(3, 1, 1)</text>\n</g>\n<!-- 1 -->\n<g class=\"node\" id=\"node3\">\n<title>1</title>\n<ellipse cx=\"27\" cy=\"-192\" fill=\"none\" rx=\"27\" ry=\"18\" stroke=\"#000000\"/>\n<text fill=\"#000000\" font-family=\"Times,serif\" font-size=\"14.00\" text-anchor=\"middle\" x=\"27\" y=\"-188.3\">1</text>\n</g>\n<!-- 0&#45;&gt;1 -->\n<g class=\"edge\" id=\"edge4\">\n<title>0-&gt;1</title>\n<path d=\"M360.0403,-273.7455C327.2989,-267.0322 269.3163,-254.8572 220,-243 164.476,-229.6503 100.4704,-212.357 61.9048,-201.7273\" fill=\"none\" stroke=\"#000000\"/>\n<polygon fill=\"#000000\" points=\"62.7706,-198.3355 52.1995,-199.0449 60.9057,-205.0825 62.7706,-198.3355\" stroke=\"#000000\"/>\n<text fill=\"#000000\" font-family=\"Times,serif\" font-size=\"14.00\" text-anchor=\"middle\" x=\"242.5\" y=\"-231.8\">(0, 1, 1)</text>\n</g>\n<!-- 1&#45;&gt;1 -->\n<g class=\"edge\" id=\"edge10\">\n<title>1-&gt;1</title>\n<path d=\"M53.7949,-194.6192C63.7804,-194.7051 72,-193.832 72,-192 72,-190.855 68.7892,-190.0846 63.9433,-189.6887\" fill=\"none\" stroke=\"#000000\"/>\n<polygon fill=\"#000000\" points=\"63.8964,-186.1858 53.7949,-189.3808 63.6841,-193.1826 63.8964,-186.1858\" stroke=\"#000000\"/>\n<text fill=\"#000000\" font-family=\"Times,serif\" font-size=\"14.00\" text-anchor=\"middle\" x=\"94.5\" y=\"-188.3\">(0, 0, 0)</text>\n</g>\n<!-- 1&#45;&gt;1 -->\n<g class=\"edge\" id=\"edge11\">\n<title>1-&gt;1</title>\n<path d=\"M53.5064,-196.2451C81.3545,-198.4463 117,-197.0313 117,-192 117,-187.5583 89.2194,-185.935 63.5481,-187.13\" fill=\"none\" stroke=\"#000000\"/>\n<polygon fill=\"#000000\" points=\"63.2697,-183.6405 53.5064,-187.7549 63.7045,-190.627 63.2697,-183.6405\" stroke=\"#000000\"/>\n<text fill=\"#000000\" font-family=\"Times,serif\" font-size=\"14.00\" text-anchor=\"middle\" x=\"139.5\" y=\"-188.3\">(3, 0, 0)</text>\n</g>\n<!-- 1&#45;&gt;1 -->\n<g class=\"edge\" id=\"edge12\">\n<title>1-&gt;1</title>\n<path d=\"M53.1243,-197.243C94.7571,-202.0328 162,-200.2852 162,-192 162,-184.3621 104.8534,-182.2802 63.3066,-185.7541\" fill=\"none\" stroke=\"#000000\"/>\n<polygon fill=\"#000000\" points=\"62.733,-182.2936 53.1243,-186.757 63.4192,-189.2599 62.733,-182.2936\" stroke=\"#000000\"/>\n<text fill=\"#000000\" font-family=\"Times,serif\" font-size=\"14.00\" text-anchor=\"middle\" x=\"184.5\" y=\"-188.3\">(2, 0, 0)</text>\n</g>\n<!-- 2 -->\n<g class=\"node\" id=\"node4\">\n<title>2</title>\n<ellipse cx=\"171\" cy=\"-105\" fill=\"none\" rx=\"27\" ry=\"18\" stroke=\"#000000\"/>\n<text fill=\"#000000\" font-family=\"Times,serif\" font-size=\"14.00\" text-anchor=\"middle\" x=\"171\" y=\"-101.3\">2</text>\n</g>\n<!-- 1&#45;&gt;2 -->\n<g class=\"edge\" id=\"edge9\">\n<title>1-&gt;2</title>\n<path d=\"M47.0226,-179.903C71.708,-164.9889 113.8479,-139.5294 142.0546,-122.4878\" fill=\"none\" stroke=\"#000000\"/>\n<polygon fill=\"#000000\" points=\"143.934,-125.4416 150.6832,-117.2747 140.3142,-119.4502 143.934,-125.4416\" stroke=\"#000000\"/>\n<text fill=\"#000000\" font-family=\"Times,serif\" font-size=\"14.00\" text-anchor=\"middle\" x=\"130.5\" y=\"-144.8\">(1, 1, 1)</text>\n</g>\n<!-- 2&#45;&gt;0 -->\n<g class=\"edge\" id=\"edge14\">\n<title>2-&gt;0</title>\n<path d=\"M187.8169,-119.1992C204.2433,-133.0984 229.9237,-154.907 252,-174 270.3416,-189.863 274.1355,-194.7626 293,-210 314.7002,-227.5279 340.197,-246.325 359.0004,-259.8665\" fill=\"none\" stroke=\"#000000\"/>\n<polygon fill=\"#000000\" points=\"356.9644,-262.7134 367.1311,-265.6951 361.0428,-257.0242 356.9644,-262.7134\" stroke=\"#000000\"/>\n<text fill=\"#000000\" font-family=\"Times,serif\" font-size=\"14.00\" text-anchor=\"middle\" x=\"315.5\" y=\"-188.3\">(1, 0, 0)</text>\n</g>\n<!-- 2&#45;&gt;2 -->\n<g class=\"edge\" id=\"edge15\">\n<title>2-&gt;2</title>\n<path d=\"M197.7949,-108.9288C207.7804,-109.0577 216,-107.748 216,-105 216,-103.2825 212.7892,-102.1268 207.9433,-101.5331\" fill=\"none\" stroke=\"#000000\"/>\n<polygon fill=\"#000000\" points=\"207.9437,-98.0296 197.7949,-101.0712 207.6253,-105.0223 207.9437,-98.0296\" stroke=\"#000000\"/>\n<text fill=\"#000000\" font-family=\"Times,serif\" font-size=\"14.00\" text-anchor=\"middle\" x=\"238.5\" y=\"-101.3\">(3, 0, 0)</text>\n</g>\n<!-- 2&#45;&gt;2 -->\n<g class=\"edge\" id=\"edge16\">\n<title>2-&gt;2</title>\n<path d=\"M196.6012,-111.2581C224.5754,-114.7149 261,-112.6289 261,-105 261,-98.2651 232.6122,-95.8501 206.7118,-97.755\" fill=\"none\" stroke=\"#000000\"/>\n<polygon fill=\"#000000\" points=\"206.2138,-94.2869 196.6012,-98.7419 206.8939,-101.2537 206.2138,-94.2869\" stroke=\"#000000\"/>\n<text fill=\"#000000\" font-family=\"Times,serif\" font-size=\"14.00\" text-anchor=\"middle\" x=\"283.5\" y=\"-101.3\">(0, 0, 0)</text>\n</g>\n<!-- 3 -->\n<g class=\"node\" id=\"node5\">\n<title>3</title>\n<ellipse cx=\"420\" cy=\"-18\" fill=\"none\" rx=\"27\" ry=\"18\" stroke=\"#000000\"/>\n<text fill=\"#000000\" font-family=\"Times,serif\" font-size=\"14.00\" text-anchor=\"middle\" x=\"420\" y=\"-14.3\">3</text>\n</g>\n<!-- 2&#45;&gt;3 -->\n<g class=\"edge\" id=\"edge13\">\n<title>2-&gt;3</title>\n<path d=\"M193.6178,-94.5843C217.8734,-83.6423 257.674,-66.3408 293,-54 323.4244,-43.3715 358.7457,-33.5569 384.4034,-26.8691\" fill=\"none\" stroke=\"#000000\"/>\n<polygon fill=\"#000000\" points=\"385.6093,-30.1728 394.4201,-24.289 383.8632,-23.3941 385.6093,-30.1728\" stroke=\"#000000\"/>\n<text fill=\"#000000\" font-family=\"Times,serif\" font-size=\"14.00\" text-anchor=\"middle\" x=\"315.5\" y=\"-57.8\">(2, 1, 1)</text>\n</g>\n<!-- 3&#45;&gt;0 -->\n<g class=\"edge\" id=\"edge17\">\n<title>3-&gt;0</title>\n<path d=\"M407.555,-34.3774C391.2698,-56.9424 363.5629,-99.5266 353,-141 343.1016,-179.8643 359.1396,-225.1093 372.1285,-252.9011\" fill=\"none\" stroke=\"#000000\"/>\n<polygon fill=\"#000000\" points=\"369.0192,-254.5103 376.5482,-261.9645 375.311,-251.4421 369.0192,-254.5103\" stroke=\"#000000\"/>\n<text fill=\"#000000\" font-family=\"Times,serif\" font-size=\"14.00\" text-anchor=\"middle\" x=\"375.5\" y=\"-144.8\">(2, 0, 0)</text>\n</g>\n<!-- 3&#45;&gt;0 -->\n<g class=\"edge\" id=\"edge18\">\n<title>3-&gt;0</title>\n<path d=\"M417.6467,-36.0651C411.8183,-80.8066 396.6785,-197.0269 389.6651,-250.8651\" fill=\"none\" stroke=\"#000000\"/>\n<polygon fill=\"#000000\" points=\"386.1581,-250.692 388.337,-261.0604 393.0995,-251.5963 386.1581,-250.692\" stroke=\"#000000\"/>\n<text fill=\"#000000\" font-family=\"Times,serif\" font-size=\"14.00\" text-anchor=\"middle\" x=\"425.5\" y=\"-144.8\">(1, 0, 0)</text>\n</g>\n<!-- 3&#45;&gt;0 -->\n<g class=\"edge\" id=\"edge19\">\n<title>3-&gt;0</title>\n<path d=\"M429.2108,-35.0445C442.1341,-61.1534 462.9111,-112.5891 452,-156 442.7808,-192.6796 420.2741,-230.3492 404.1066,-254.1703\" fill=\"none\" stroke=\"#000000\"/>\n<polygon fill=\"#000000\" points=\"401.0886,-252.3802 398.2616,-262.591 406.8391,-256.3718 401.0886,-252.3802\" stroke=\"#000000\"/>\n<text fill=\"#000000\" font-family=\"Times,serif\" font-size=\"14.00\" text-anchor=\"middle\" x=\"476.5\" y=\"-144.8\">(3, 1, 1)</text>\n</g>\n<!-- 3&#45;&gt;0 -->\n<g class=\"edge\" id=\"edge20\">\n<title>3-&gt;0</title>\n<path d=\"M438.2626,-31.5832C467.7876,-55.3367 520.9766,-106.6089 503,-156 486.4659,-201.4279 443.085,-239.1387 414.0495,-260.3711\" fill=\"none\" stroke=\"#000000\"/>\n<polygon fill=\"#000000\" points=\"411.664,-257.7728 405.5447,-266.4217 415.7219,-263.4766 411.664,-257.7728\" stroke=\"#000000\"/>\n<text fill=\"#000000\" font-family=\"Times,serif\" font-size=\"14.00\" text-anchor=\"middle\" x=\"528.5\" y=\"-144.8\">(0, 0, 0)</text>\n</g>\n</g>\n</svg></div>"
     },
     "metadata": {},
     "output_type": "display_data"
    }
   ],
   "source": [
    "rdp_generator, (v, t) = learning_rotating_mab(\n",
    "    stop_probability=0.2,\n",
    "    winning_probabilities=(1.0, 0.0, 0.0, 0.0),\n",
    "    max_episode_steps=50,\n",
    "    nb_samples=300000,\n",
    "    delta=0.1,\n",
    "    n_upperbound=5,\n",
    "    nb_processes=8)\n",
    "\n",
    "render_digraph(to_graphviz_from_graph(v, t, char2str=lambda c: str(rdp_generator.decoder(c))))\n"
   ],
   "metadata": {
    "collapsed": false,
    "pycharm": {
     "name": "#%%\n"
    }
   }
  },
  {
   "cell_type": "markdown",
   "source": [
    "##### Rotating MAB, 5 arms, with probabilities (1.0, 0.0, 0.0, 0.0, 0.0)\n"
   ],
   "metadata": {
    "collapsed": false,
    "pycharm": {
     "name": "#%% md\n"
    }
   }
  },
  {
   "cell_type": "code",
   "execution_count": 3,
   "outputs": [
    {
     "name": "stdout",
     "output_type": "stream",
     "text": [
      "Apriori expected length of traces: 1/stop_prob = 6.666666666666657\n",
      "Average length of traces: 5.611\n"
     ]
    },
    {
     "name": "stderr",
     "output_type": "stream",
     "text": [
      "[2020-11-06 22:11:12,955][src.learn_pdfa][INFO] Parameters: ('BalleParams(sample_generator=<src.learn_pdfa.common.MultiprocessedGenerator '\n",
      " 'object at 0x7f3400f48910>, nb_samples=1000000, n=10, alphabet_size=20, '\n",
      " 'delta=0.05)')\n",
      "[2020-11-06 22:12:16,380][src.learn_pdfa][INFO] Iteration 0\n",
      "[2020-11-06 22:12:25,422][src.learn_pdfa][INFO] Iteration 1\n",
      "[2020-11-06 22:12:35,280][src.learn_pdfa][INFO] Iteration 2\n",
      "[2020-11-06 22:12:45,929][src.learn_pdfa][INFO] Iteration 3\n",
      "[2020-11-06 22:12:59,253][src.learn_pdfa][INFO] Iteration 4\n",
      "[2020-11-06 22:13:14,098][src.learn_pdfa][INFO] Iteration 5\n",
      "[2020-11-06 22:13:28,238][src.learn_pdfa][INFO] Iteration 6\n",
      "[2020-11-06 22:13:43,299][src.learn_pdfa][INFO] Iteration 7\n",
      "[2020-11-06 22:13:58,909][src.learn_pdfa][INFO] Iteration 8\n",
      "[2020-11-06 22:14:15,204][src.learn_pdfa][INFO] Iteration 9\n",
      "[2020-11-06 22:14:32,561][src.learn_pdfa][INFO] Iteration 10\n",
      "[2020-11-06 22:14:48,810][src.learn_pdfa][INFO] Iteration 11\n",
      "[2020-11-06 22:15:05,389][src.learn_pdfa][INFO] Iteration 12\n",
      "[2020-11-06 22:15:22,624][src.learn_pdfa][INFO] Iteration 13\n",
      "[2020-11-06 22:15:40,294][src.learn_pdfa][INFO] Iteration 14\n",
      "[2020-11-06 22:15:59,062][src.learn_pdfa][INFO] Iteration 15\n",
      "[2020-11-06 22:16:16,432][src.learn_pdfa][INFO] Iteration 16\n",
      "[2020-11-06 22:16:33,805][src.learn_pdfa][INFO] Iteration 17\n",
      "[2020-11-06 22:16:51,360][src.learn_pdfa][INFO] Iteration 18\n",
      "[2020-11-06 22:17:08,948][src.learn_pdfa][INFO] Iteration 19\n",
      "[2020-11-06 22:17:26,647][src.learn_pdfa][INFO] Iteration 20\n",
      "[2020-11-06 22:17:44,291][src.learn_pdfa][INFO] Iteration 21\n",
      "[2020-11-06 22:18:02,206][src.learn_pdfa][INFO] Iteration 22\n",
      "[2020-11-06 22:18:20,233][src.learn_pdfa][INFO] Iteration 23\n",
      "/home/marcofavorito/.local/share/virtualenvs/PAC-RDPs-code-h40RRNYH/lib/python3.7/site-packages/ipykernel_launcher.py:10: DeprecationWarning: 'shape' argument should be used instead of 'dims'\n",
      "  # Remove the CWD from sys.path while we load stuff.\n",
      "[2020-11-06 22:18:31,638][graphviz.files][DEBUG] write 727 bytes to '/tmp/tmpcgirazzn/output'\n",
      "[2020-11-06 22:18:31,638][graphviz.backend][DEBUG] run ['dot', '-Tsvg', '-O', 'output']\n"
     ]
    },
    {
     "data": {
      "text/plain": "<IPython.core.display.HTML object>",
      "text/html": "<div style=\"display: block; margin-left: auto; margin-right: auto; width: 50%;white-space: nowrap\"><svg height=\"378pt\" viewBox=\"0.00 0.00 912.00 378.00\" width=\"912pt\" xmlns=\"http://www.w3.org/2000/svg\" xmlns:xlink=\"http://www.w3.org/1999/xlink\">\n<g class=\"graph\" id=\"graph0\" transform=\"scale(1 1) rotate(0) translate(4 374)\">\n<title>%3</title>\n<polygon fill=\"#ffffff\" points=\"-4,4 -4,-374 908,-374 908,4 -4,4\" stroke=\"transparent\"/>\n<!-- fake -->\n<g class=\"node\" id=\"node1\">\n<title>fake</title>\n</g>\n<!-- 0 -->\n<g class=\"node\" id=\"node2\">\n<title>0</title>\n<ellipse cx=\"436\" cy=\"-279\" fill=\"none\" rx=\"27\" ry=\"18\" stroke=\"#000000\"/>\n<text fill=\"#000000\" font-family=\"Times,serif\" font-size=\"14.00\" text-anchor=\"middle\" x=\"436\" y=\"-275.3\">0</text>\n</g>\n<!-- fake&#45;&gt;0 -->\n<g class=\"edge\" id=\"edge1\">\n<title>fake-&gt;0</title>\n<path d=\"M436,-333.9551C436,-325.8828 436,-316.1764 436,-307.1817\" fill=\"none\" stroke=\"#000000\" stroke-width=\"2\"/>\n<polygon fill=\"#000000\" points=\"439.5001,-307.0903 436,-297.0904 432.5001,-307.0904 439.5001,-307.0903\" stroke=\"#000000\" stroke-width=\"2\"/>\n</g>\n<!-- 0&#45;&gt;0 -->\n<g class=\"edge\" id=\"edge2\">\n<title>0-&gt;0</title>\n<path d=\"M463.2408,-280.4985C473.0239,-280.5308 481,-280.0313 481,-279 481,-278.3716 478.0382,-277.9406 473.5105,-277.7071\" fill=\"none\" stroke=\"#000000\"/>\n<polygon fill=\"#000000\" points=\"473.3089,-274.2025 463.2408,-277.5015 473.1687,-281.2011 473.3089,-274.2025\" stroke=\"#000000\"/>\n<text fill=\"#000000\" font-family=\"Times,serif\" font-size=\"14.00\" text-anchor=\"middle\" x=\"503.5\" y=\"-275.3\">(4, 0, 0)</text>\n</g>\n<!-- 0&#45;&gt;0 -->\n<g class=\"edge\" id=\"edge3\">\n<title>0-&gt;0</title>\n<path d=\"M462.9612,-281.4461C490.7409,-282.6747 526,-281.8594 526,-279 526,-276.4757 498.5205,-275.5444 472.9668,-276.2062\" fill=\"none\" stroke=\"#000000\"/>\n<polygon fill=\"#000000\" points=\"472.8335,-272.7086 462.9612,-276.5539 473.0767,-279.7044 472.8335,-272.7086\" stroke=\"#000000\"/>\n<text fill=\"#000000\" font-family=\"Times,serif\" font-size=\"14.00\" text-anchor=\"middle\" x=\"548.5\" y=\"-275.3\">(3, 0, 0)</text>\n</g>\n<!-- 0&#45;&gt;0 -->\n<g class=\"edge\" id=\"edge5\">\n<title>0-&gt;0</title>\n<path d=\"M462.7444,-282.0363C504.4212,-284.7231 571,-283.7109 571,-279 571,-274.6571 514.4178,-273.4577 472.9248,-275.4017\" fill=\"none\" stroke=\"#000000\"/>\n<polygon fill=\"#000000\" points=\"472.5363,-271.9177 462.7444,-275.9637 472.9222,-278.9071 472.5363,-271.9177\" stroke=\"#000000\"/>\n<text fill=\"#000000\" font-family=\"Times,serif\" font-size=\"14.00\" text-anchor=\"middle\" x=\"593.5\" y=\"-275.3\">(2, 0, 0)</text>\n</g>\n<!-- 0&#45;&gt;0 -->\n<g class=\"edge\" id=\"edge6\">\n<title>0-&gt;0</title>\n<path d=\"M462.5522,-282.4772C516.1375,-286.7528 616,-285.5938 616,-279 616,-272.8055 527.8642,-271.4075 472.762,-274.806\" fill=\"none\" stroke=\"#000000\"/>\n<polygon fill=\"#000000\" points=\"472.2825,-271.3309 462.5522,-275.5228 472.7728,-278.3137 472.2825,-271.3309\" stroke=\"#000000\"/>\n<text fill=\"#000000\" font-family=\"Times,serif\" font-size=\"14.00\" text-anchor=\"middle\" x=\"638.5\" y=\"-275.3\">(1, 0, 0)</text>\n</g>\n<!-- 0&#45;&gt;0 -->\n<g class=\"edge\" id=\"edge7\">\n<title>0-&gt;0</title>\n<path d=\"M462.4373,-282.8332C526.7385,-288.7738 661,-287.4961 661,-279 661,-270.9353 540.0282,-269.3746 472.7476,-274.3176\" fill=\"none\" stroke=\"#000000\"/>\n<polygon fill=\"#000000\" points=\"472.1162,-270.8577 462.4373,-275.1668 472.6908,-277.8341 472.1162,-270.8577\" stroke=\"#000000\"/>\n<text fill=\"#000000\" font-family=\"Times,serif\" font-size=\"14.00\" text-anchor=\"middle\" x=\"683.5\" y=\"-275.3\">(3, 1, 1)</text>\n</g>\n<!-- 0&#45;&gt;0 -->\n<g class=\"edge\" id=\"edge8\">\n<title>0-&gt;0</title>\n<path d=\"M462.506,-283.1462C536.7968,-290.7883 706,-289.4063 706,-279 706,-269.0409 551.0253,-267.3471 472.5873,-273.9186\" fill=\"none\" stroke=\"#000000\"/>\n<polygon fill=\"#000000\" points=\"472.14,-270.445 462.506,-274.8538 472.7866,-277.4151 472.14,-270.445\" stroke=\"#000000\"/>\n<text fill=\"#000000\" font-family=\"Times,serif\" font-size=\"14.00\" text-anchor=\"middle\" x=\"728.5\" y=\"-275.3\">(0, 0, 0)</text>\n</g>\n<!-- 0&#45;&gt;0 -->\n<g class=\"edge\" id=\"edge9\">\n<title>0-&gt;0</title>\n<path d=\"M462.2143,-283.3765C545.7045,-292.8045 751,-291.3457 751,-279 751,-267.1245 561.0444,-265.3224 472.2657,-273.5937\" fill=\"none\" stroke=\"#000000\"/>\n<polygon fill=\"#000000\" points=\"471.8054,-270.1224 462.2143,-274.6235 472.519,-277.086 471.8054,-270.1224\" stroke=\"#000000\"/>\n<text fill=\"#000000\" font-family=\"Times,serif\" font-size=\"14.00\" text-anchor=\"middle\" x=\"773.5\" y=\"-275.3\">(4, 1, 1)</text>\n</g>\n<!-- 1 -->\n<g class=\"node\" id=\"node3\">\n<title>1</title>\n<ellipse cx=\"27\" cy=\"-192\" fill=\"none\" rx=\"27\" ry=\"18\" stroke=\"#000000\"/>\n<text fill=\"#000000\" font-family=\"Times,serif\" font-size=\"14.00\" text-anchor=\"middle\" x=\"27\" y=\"-188.3\">1</text>\n</g>\n<!-- 0&#45;&gt;1 -->\n<g class=\"edge\" id=\"edge4\">\n<title>0-&gt;1</title>\n<path d=\"M410.1049,-273.4918C339.6065,-258.4958 144.1121,-216.9114 62.9945,-199.6565\" fill=\"none\" stroke=\"#000000\"/>\n<polygon fill=\"#000000\" points=\"63.2913,-196.1414 52.7819,-197.4842 61.8348,-202.9882 63.2913,-196.1414\" stroke=\"#000000\"/>\n<text fill=\"#000000\" font-family=\"Times,serif\" font-size=\"14.00\" text-anchor=\"middle\" x=\"278.5\" y=\"-231.8\">(0, 1, 1)</text>\n</g>\n<!-- 1&#45;&gt;1 -->\n<g class=\"edge\" id=\"edge11\">\n<title>1-&gt;1</title>\n<path d=\"M54.2408,-193.9668C64.0239,-194.0091 72,-193.3535 72,-192 72,-191.1752 69.0382,-190.6096 64.5105,-190.3031\" fill=\"none\" stroke=\"#000000\"/>\n<polygon fill=\"#000000\" points=\"64.3293,-186.7972 54.2408,-190.0332 64.1453,-193.7948 64.3293,-186.7972\" stroke=\"#000000\"/>\n<text fill=\"#000000\" font-family=\"Times,serif\" font-size=\"14.00\" text-anchor=\"middle\" x=\"94.5\" y=\"-188.3\">(2, 0, 0)</text>\n</g>\n<!-- 1&#45;&gt;1 -->\n<g class=\"edge\" id=\"edge12\">\n<title>1-&gt;1</title>\n<path d=\"M53.9612,-195.2105C81.7409,-196.8231 117,-195.7529 117,-192 117,-188.6869 89.5205,-187.4646 63.9668,-188.3331\" fill=\"none\" stroke=\"#000000\"/>\n<polygon fill=\"#000000\" points=\"63.7913,-184.8374 53.9612,-188.7895 64.1103,-191.8301 63.7913,-184.8374\" stroke=\"#000000\"/>\n<text fill=\"#000000\" font-family=\"Times,serif\" font-size=\"14.00\" text-anchor=\"middle\" x=\"139.5\" y=\"-188.3\">(4, 0, 0)</text>\n</g>\n<!-- 1&#45;&gt;1 -->\n<g class=\"edge\" id=\"edge13\">\n<title>1-&gt;1</title>\n<path d=\"M53.4339,-195.9588C95.0896,-199.5181 162,-198.1985 162,-192 162,-186.2858 105.1359,-184.7179 63.6154,-187.2963\" fill=\"none\" stroke=\"#000000\"/>\n<polygon fill=\"#000000\" points=\"63.1518,-183.8208 53.4339,-188.0412 63.6626,-190.8021 63.1518,-183.8208\" stroke=\"#000000\"/>\n<text fill=\"#000000\" font-family=\"Times,serif\" font-size=\"14.00\" text-anchor=\"middle\" x=\"184.5\" y=\"-188.3\">(3, 0, 0)</text>\n</g>\n<!-- 1&#45;&gt;1 -->\n<g class=\"edge\" id=\"edge14\">\n<title>1-&gt;1</title>\n<path d=\"M53.172,-196.5238C106.6637,-202.1827 207,-200.6748 207,-192 207,-183.8504 118.446,-182.0261 63.3708,-186.5271\" fill=\"none\" stroke=\"#000000\"/>\n<polygon fill=\"#000000\" points=\"62.8047,-183.0646 53.172,-187.4762 63.4534,-190.0345 62.8047,-183.0646\" stroke=\"#000000\"/>\n<text fill=\"#000000\" font-family=\"Times,serif\" font-size=\"14.00\" text-anchor=\"middle\" x=\"229.5\" y=\"-188.3\">(0, 0, 0)</text>\n</g>\n<!-- 2 -->\n<g class=\"node\" id=\"node4\">\n<title>2</title>\n<ellipse cx=\"27\" cy=\"-105\" fill=\"none\" rx=\"27\" ry=\"18\" stroke=\"#000000\"/>\n<text fill=\"#000000\" font-family=\"Times,serif\" font-size=\"14.00\" text-anchor=\"middle\" x=\"27\" y=\"-101.3\">2</text>\n</g>\n<!-- 1&#45;&gt;2 -->\n<g class=\"edge\" id=\"edge10\">\n<title>1-&gt;2</title>\n<path d=\"M27,-173.9735C27,-162.1918 27,-146.5607 27,-133.1581\" fill=\"none\" stroke=\"#000000\"/>\n<polygon fill=\"#000000\" points=\"30.5001,-133.0033 27,-123.0034 23.5001,-133.0034 30.5001,-133.0033\" stroke=\"#000000\"/>\n<text fill=\"#000000\" font-family=\"Times,serif\" font-size=\"14.00\" text-anchor=\"middle\" x=\"49.5\" y=\"-144.8\">(1, 1, 1)</text>\n</g>\n<!-- 2&#45;&gt;2 -->\n<g class=\"edge\" id=\"edge15\">\n<title>2-&gt;2</title>\n<path d=\"M54.2408,-106.9668C64.0239,-107.0091 72,-106.3535 72,-105 72,-104.1752 69.0382,-103.6096 64.5105,-103.3031\" fill=\"none\" stroke=\"#000000\"/>\n<polygon fill=\"#000000\" points=\"64.3293,-99.7972 54.2408,-103.0332 64.1453,-106.7948 64.3293,-99.7972\" stroke=\"#000000\"/>\n<text fill=\"#000000\" font-family=\"Times,serif\" font-size=\"14.00\" text-anchor=\"middle\" x=\"94.5\" y=\"-101.3\">(4, 0, 0)</text>\n</g>\n<!-- 2&#45;&gt;2 -->\n<g class=\"edge\" id=\"edge17\">\n<title>2-&gt;2</title>\n<path d=\"M53.9612,-108.2105C81.7409,-109.8231 117,-108.7529 117,-105 117,-101.6869 89.5205,-100.4646 63.9668,-101.3331\" fill=\"none\" stroke=\"#000000\"/>\n<polygon fill=\"#000000\" points=\"63.7913,-97.8374 53.9612,-101.7895 64.1103,-104.8301 63.7913,-97.8374\" stroke=\"#000000\"/>\n<text fill=\"#000000\" font-family=\"Times,serif\" font-size=\"14.00\" text-anchor=\"middle\" x=\"139.5\" y=\"-101.3\">(0, 0, 0)</text>\n</g>\n<!-- 2&#45;&gt;2 -->\n<g class=\"edge\" id=\"edge18\">\n<title>2-&gt;2</title>\n<path d=\"M53.4339,-108.9588C95.0896,-112.5181 162,-111.1985 162,-105 162,-99.2858 105.1359,-97.7179 63.6154,-100.2963\" fill=\"none\" stroke=\"#000000\"/>\n<polygon fill=\"#000000\" points=\"63.1518,-96.8208 53.4339,-101.0412 63.6626,-103.8021 63.1518,-96.8208\" stroke=\"#000000\"/>\n<text fill=\"#000000\" font-family=\"Times,serif\" font-size=\"14.00\" text-anchor=\"middle\" x=\"184.5\" y=\"-101.3\">(1, 0, 0)</text>\n</g>\n<!-- 2&#45;&gt;2 -->\n<g class=\"edge\" id=\"edge19\">\n<title>2-&gt;2</title>\n<path d=\"M53.172,-109.5238C106.6637,-115.1827 207,-113.6748 207,-105 207,-96.8504 118.446,-95.0261 63.3708,-99.5271\" fill=\"none\" stroke=\"#000000\"/>\n<polygon fill=\"#000000\" points=\"62.8047,-96.0646 53.172,-100.4762 63.4534,-103.0345 62.8047,-96.0646\" stroke=\"#000000\"/>\n<text fill=\"#000000\" font-family=\"Times,serif\" font-size=\"14.00\" text-anchor=\"middle\" x=\"229.5\" y=\"-101.3\">(3, 0, 0)</text>\n</g>\n<!-- 3 -->\n<g class=\"node\" id=\"node5\">\n<title>3</title>\n<ellipse cx=\"436\" cy=\"-18\" fill=\"none\" rx=\"27\" ry=\"18\" stroke=\"#000000\"/>\n<text fill=\"#000000\" font-family=\"Times,serif\" font-size=\"14.00\" text-anchor=\"middle\" x=\"436\" y=\"-14.3\">3</text>\n</g>\n<!-- 2&#45;&gt;3 -->\n<g class=\"edge\" id=\"edge16\">\n<title>2-&gt;3</title>\n<path d=\"M52.8951,-99.4918C123.3935,-84.4958 318.8879,-42.9114 400.0055,-25.6565\" fill=\"none\" stroke=\"#000000\"/>\n<polygon fill=\"#000000\" points=\"401.1652,-28.9882 410.2181,-23.4842 399.7087,-22.1414 401.1652,-28.9882\" stroke=\"#000000\"/>\n<text fill=\"#000000\" font-family=\"Times,serif\" font-size=\"14.00\" text-anchor=\"middle\" x=\"278.5\" y=\"-57.8\">(2, 1, 1)</text>\n</g>\n<!-- 3&#45;&gt;0 -->\n<g class=\"edge\" id=\"edge20\">\n<title>3-&gt;0</title>\n<path d=\"M416.0177,-30.1324C382.4455,-52.2407 319.7994,-101.8307 335,-156 347.2327,-199.5928 357.5634,-209.48 388,-243 393.7114,-249.29 400.6558,-255.2262 407.4679,-260.3957\" fill=\"none\" stroke=\"#000000\"/>\n<polygon fill=\"#000000\" points=\"405.7669,-263.4846 415.9228,-266.5024 409.8655,-257.8099 405.7669,-263.4846\" stroke=\"#000000\"/>\n<text fill=\"#000000\" font-family=\"Times,serif\" font-size=\"14.00\" text-anchor=\"middle\" x=\"357.5\" y=\"-144.8\">(4, 0, 0)</text>\n</g>\n<!-- 3&#45;&gt;0 -->\n<g class=\"edge\" id=\"edge21\">\n<title>3-&gt;0</title>\n<path d=\"M429.6981,-35.6284C421.6207,-59.2476 408.0564,-102.6404 403,-141 397.8104,-180.3699 412.2418,-224.8774 423.6413,-252.4411\" fill=\"none\" stroke=\"#000000\"/>\n<polygon fill=\"#000000\" points=\"420.4955,-253.9854 427.662,-261.7887 426.9258,-251.2195 420.4955,-253.9854\" stroke=\"#000000\"/>\n<text fill=\"#000000\" font-family=\"Times,serif\" font-size=\"14.00\" text-anchor=\"middle\" x=\"425.5\" y=\"-144.8\">(0, 0, 0)</text>\n</g>\n<!-- 3&#45;&gt;0 -->\n<g class=\"edge\" id=\"edge22\">\n<title>3-&gt;0</title>\n<path d=\"M438.3463,-36.2974C441.2938,-60.2891 446.1854,-103.7115 448,-141 449.8472,-178.9577 444.8415,-222.637 440.7394,-250.5112\" fill=\"none\" stroke=\"#000000\"/>\n<polygon fill=\"#000000\" points=\"437.2293,-250.3104 439.1717,-260.7256 444.1483,-251.3723 437.2293,-250.3104\" stroke=\"#000000\"/>\n<text fill=\"#000000\" font-family=\"Times,serif\" font-size=\"14.00\" text-anchor=\"middle\" x=\"470.5\" y=\"-144.8\">(1, 0, 0)</text>\n</g>\n<!-- 3&#45;&gt;0 -->\n<g class=\"edge\" id=\"edge23\">\n<title>3-&gt;0</title>\n<path d=\"M447.4634,-34.5342C462.441,-57.2768 487.8369,-100.0616 497,-141 506.4995,-183.4411 478.0186,-228.8779 456.8266,-255.5726\" fill=\"none\" stroke=\"#000000\"/>\n<polygon fill=\"#000000\" points=\"453.9108,-253.6078 450.2596,-263.5537 459.3162,-258.0555 453.9108,-253.6078\" stroke=\"#000000\"/>\n<text fill=\"#000000\" font-family=\"Times,serif\" font-size=\"14.00\" text-anchor=\"middle\" x=\"520.5\" y=\"-144.8\">(2, 0, 0)</text>\n</g>\n<!-- 3&#45;&gt;0 -->\n<g class=\"edge\" id=\"edge24\">\n<title>3-&gt;0</title>\n<path d=\"M455.0362,-31.1577C482.0089,-51.1607 529.9652,-92.1075 547,-141 564.9347,-192.4753 504.7938,-238.8385 466.115,-262.4829\" fill=\"none\" stroke=\"#000000\"/>\n<polygon fill=\"#000000\" points=\"464.0945,-259.6119 457.2776,-267.7224 467.6644,-265.6331 464.0945,-259.6119\" stroke=\"#000000\"/>\n<text fill=\"#000000\" font-family=\"Times,serif\" font-size=\"14.00\" text-anchor=\"middle\" x=\"572.5\" y=\"-144.8\">(3, 1, 1)</text>\n</g>\n</g>\n</svg></div>"
     },
     "metadata": {},
     "output_type": "display_data"
    }
   ],
   "source": [
    "# rdp_generator, (v, t) = learning_rotating_mab(\n",
    "#     stop_probability=0.15,\n",
    "#     winning_probabilities=(1.0, 0.0, 0.0, 0.0, 0.0),\n",
    "#     max_episode_steps=100,\n",
    "#     nb_samples=1000000,\n",
    "#     delta=0.05,\n",
    "#     n_upperbound=10,\n",
    "#     nb_processes=6)\n",
    "#\n",
    "# render_digraph(to_graphviz_from_graph(v, t, char2str=lambda c: str(rdp_generator.decoder(c))))"
   ],
   "metadata": {
    "collapsed": false,
    "pycharm": {
     "name": "#%%\n"
    }
   }
  },
  {
   "cell_type": "code",
   "execution_count": null,
   "outputs": [],
   "source": [],
   "metadata": {
    "collapsed": false,
    "pycharm": {
     "name": "#%%\n"
    }
   }
  }
 ],
 "metadata": {
  "kernelspec": {
   "display_name": "Python 3",
   "language": "python",
   "name": "python3"
  },
  "language_info": {
   "codemirror_mode": {
    "name": "ipython",
    "version": 2
   },
   "file_extension": ".py",
   "mimetype": "text/x-python",
   "name": "python",
   "nbconvert_exporter": "python",
   "pygments_lexer": "ipython2",
   "version": "2.7.6"
  }
 },
 "nbformat": 4,
 "nbformat_minor": 0
}