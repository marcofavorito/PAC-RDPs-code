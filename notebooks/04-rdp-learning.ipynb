{
 "cells": [
  {
   "cell_type": "markdown",
   "metadata": {
    "collapsed": true,
    "pycharm": {
     "name": "#%% md\n"
    }
   },
   "source": [
    "## RDP Learning\n",
    "\n",
    "In this notebook, we show how to perform PAC learning\n",
    "over RDPs.\n",
    "\n",
    "### Experiment 1: Rotating MAB"
   ]
  },
  {
   "cell_type": "code",
   "execution_count": 1,
   "outputs": [
    {
     "name": "stdout",
     "output_type": "stream",
     "text": [
      "Observation space: Discrete(2)\n",
      "Action space: Discrete(2)\n",
      "Initial state: 0\n",
      "----------\n",
      "Action: 0\n",
      "Next state: 1\n",
      "Reward: 1.0\n",
      "----------\n",
      "Action: 0\n",
      "Next state: 1\n",
      "Reward: 1.0\n"
     ]
    }
   ],
   "source": [
    "from functools import partial\n",
    "from typing import Tuple, Set, Dict\n",
    "\n",
    "import gym\n",
    "import numpy as np\n",
    "from gym.wrappers import TimeLimit\n",
    "from notebooks.utils import render_digraph\n",
    "\n",
    "from src import NonMarkovianRotatingMAB\n",
    "from src.learn_pdfa.base import learn_pdfa, Algorithm\n",
    "from src.learn_pdfa.common import MultiprocessedGenerator\n",
    "from src.learn_rdps import random_exploration_policy, RDPGenerator\n",
    "from src.pdfa.render import to_graphviz_from_graph\n",
    "from src.pdfa.types import Character\n",
    "\n",
    "env = NonMarkovianRotatingMAB(winning_probs=[0.9, 0.2])\n",
    "\n",
    "print(f\"Observation space: {env.observation_space}\")\n",
    "print(f\"Action space: {env.action_space}\")\n",
    "\n",
    "s = env.reset()\n",
    "print(f\"Initial state: {s}\")\n",
    "\n",
    "action = 0\n",
    "sp, reward, _, _ = env.step(action)\n",
    "print(\"-\" * 10)\n",
    "print(f\"Action: {action}\")\n",
    "print(f\"Next state: {sp}\")\n",
    "print(f\"Reward: {reward}\")\n",
    "\n",
    "sp, reward, _, _ = env.step(action)\n",
    "print(\"-\" * 10)\n",
    "print(f\"Action: {action}\")\n",
    "print(f\"Next state: {sp}\")\n",
    "print(f\"Reward: {reward}\")\n"
   ],
   "metadata": {
    "collapsed": false,
    "pycharm": {
     "name": "#%%\n"
    }
   }
  },
  {
   "cell_type": "markdown",
   "source": [
    "### Learning"
   ],
   "metadata": {
    "collapsed": false,
    "pycharm": {
     "name": "#%% md\n"
    }
   }
  },
  {
   "cell_type": "code",
   "execution_count": 2,
   "outputs": [],
   "source": [
    "def learning_rotating_mab(\n",
    "    stop_probability: float,\n",
    "    winning_probabilities: Tuple[float, ...],\n",
    "    max_episode_steps: int,\n",
    "    nb_samples: int,\n",
    "    delta: float,\n",
    "    n_upperbound: int,\n",
    "    nb_processes: int = 8,\n",
    ") -> Tuple[RDPGenerator, Tuple[Set[int], Dict[int, Dict[Character, int]]]]:\n",
    "    \"\"\"Test learning of Rotating MAB.\"\"\"\n",
    "    env = gym.make(\"NonMarkovianRotatingMAB-v0\", winning_probs=winning_probabilities)\n",
    "    env = TimeLimit(env, max_episode_steps=max_episode_steps)\n",
    "\n",
    "    policy = partial(random_exploration_policy, env)\n",
    "\n",
    "    rdp_generator = RDPGenerator(\n",
    "        env, policy=policy, nb_rewards=2, stop_probability=stop_probability\n",
    "    )\n",
    "\n",
    "    examples = rdp_generator.sample(n=1000)\n",
    "\n",
    "    print(\n",
    "        f\"Apriori expected length of traces: 1/stop_prob = {1 / (stop_probability + np.finfo(float).eps)}\"\n",
    "    )\n",
    "    print(f\"Average length of traces: {np.mean([len(e) for e in examples])}\")\n",
    "\n",
    "    mp_rdp_generator = MultiprocessedGenerator(rdp_generator, nb_processes=nb_processes)\n",
    "    v, t = learn_pdfa(\n",
    "        algorithm=Algorithm.BALLE,\n",
    "        nb_samples=nb_samples,\n",
    "        sample_generator=mp_rdp_generator,\n",
    "        alphabet_size=rdp_generator.alphabet_size(),\n",
    "        delta=delta,\n",
    "        n=n_upperbound,\n",
    "    )\n",
    "    return rdp_generator, (v, t)"
   ],
   "metadata": {
    "collapsed": false,
    "pycharm": {
     "name": "#%%\n"
    }
   }
  },
  {
   "cell_type": "markdown",
   "source": [
    "##### Rotating MAB, 2 arms, with probabilities (0.7, 0.3)"
   ],
   "metadata": {
    "collapsed": false,
    "pycharm": {
     "name": "#%% md\n"
    }
   }
  },
  {
   "cell_type": "code",
   "execution_count": 3,
   "outputs": [
    {
     "name": "stdout",
     "output_type": "stream",
     "text": [
      "Apriori expected length of traces: 1/stop_prob = 4.999999999999994\n",
      "Average length of traces: 3.679\n"
     ]
    },
    {
     "name": "stderr",
     "output_type": "stream",
     "text": [
      "[2020-11-06 19:32:32,880][src.learn_pdfa][INFO] Parameters: ('BalleParams(sample_generator=<src.learn_pdfa.common.MultiprocessedGenerator '\n",
      " 'object at 0x7f2954dafa50>, nb_samples=100000, n=4, alphabet_size=8, '\n",
      " 'delta=0.1)')\n",
      "[2020-11-06 19:32:39,747][src.learn_pdfa][INFO] Iteration 0\n",
      "[2020-11-06 19:32:40,398][src.learn_pdfa][INFO] Iteration 1\n",
      "[2020-11-06 19:32:41,100][src.learn_pdfa][INFO] Iteration 2\n",
      "[2020-11-06 19:32:41,843][src.learn_pdfa][INFO] Iteration 3\n",
      "[2020-11-06 19:32:42,714][src.learn_pdfa][INFO] Iteration 4\n",
      "[2020-11-06 19:32:43,593][src.learn_pdfa][INFO] Iteration 5\n",
      "[2020-11-06 19:32:44,374][src.learn_pdfa][INFO] Iteration 6\n",
      "[2020-11-06 19:32:45,196][src.learn_pdfa][INFO] Iteration 7\n",
      "[2020-11-06 19:32:46,016][src.learn_pdfa][INFO] Iteration 8\n",
      "/home/marcofavorito/.local/share/virtualenvs/PAC-RDPs-code-h40RRNYH/lib/python3.7/site-packages/ipykernel_launcher.py:10: DeprecationWarning: 'shape' argument should be used instead of 'dims'\n",
      "  # Remove the CWD from sys.path while we load stuff.\n",
      "[2020-11-06 19:32:46,711][graphviz.files][DEBUG] write 301 bytes to '/tmp/tmpbtelw_wj/output'\n",
      "[2020-11-06 19:32:46,712][graphviz.backend][DEBUG] run ['dot', '-Tsvg', '-O', 'output']\n",
      "Process ForkPoolWorker-1:\n",
      "Process ForkPoolWorker-7:\n",
      "Process ForkPoolWorker-3:\n",
      "Process ForkPoolWorker-4:\n",
      "Process ForkPoolWorker-8:\n",
      "Process ForkPoolWorker-5:\n",
      "Process ForkPoolWorker-6:\n",
      "Traceback (most recent call last):\n",
      "Process ForkPoolWorker-2:\n",
      "Traceback (most recent call last):\n",
      "Traceback (most recent call last):\n",
      "Traceback (most recent call last):\n",
      "Traceback (most recent call last):\n",
      "Traceback (most recent call last):\n",
      "Traceback (most recent call last):\n",
      "  File \"/usr/lib/python3.7/multiprocessing/process.py\", line 297, in _bootstrap\n",
      "    self.run()\n",
      "Traceback (most recent call last):\n",
      "  File \"/usr/lib/python3.7/multiprocessing/process.py\", line 297, in _bootstrap\n",
      "    self.run()\n",
      "  File \"/usr/lib/python3.7/multiprocessing/process.py\", line 297, in _bootstrap\n",
      "    self.run()\n",
      "  File \"/usr/lib/python3.7/multiprocessing/process.py\", line 297, in _bootstrap\n",
      "    self.run()\n",
      "  File \"/usr/lib/python3.7/multiprocessing/process.py\", line 297, in _bootstrap\n",
      "    self.run()\n",
      "  File \"/usr/lib/python3.7/multiprocessing/process.py\", line 297, in _bootstrap\n",
      "    self.run()\n",
      "  File \"/usr/lib/python3.7/multiprocessing/process.py\", line 297, in _bootstrap\n",
      "    self.run()\n",
      "  File \"/usr/lib/python3.7/multiprocessing/process.py\", line 297, in _bootstrap\n",
      "    self.run()\n",
      "  File \"/usr/lib/python3.7/multiprocessing/process.py\", line 99, in run\n",
      "    self._target(*self._args, **self._kwargs)\n",
      "  File \"/usr/lib/python3.7/multiprocessing/process.py\", line 99, in run\n",
      "    self._target(*self._args, **self._kwargs)\n",
      "  File \"/usr/lib/python3.7/multiprocessing/process.py\", line 99, in run\n",
      "    self._target(*self._args, **self._kwargs)\n",
      "  File \"/usr/lib/python3.7/multiprocessing/process.py\", line 99, in run\n",
      "    self._target(*self._args, **self._kwargs)\n",
      "  File \"/usr/lib/python3.7/multiprocessing/process.py\", line 99, in run\n",
      "    self._target(*self._args, **self._kwargs)\n",
      "  File \"/usr/lib/python3.7/multiprocessing/process.py\", line 99, in run\n",
      "    self._target(*self._args, **self._kwargs)\n",
      "  File \"/usr/lib/python3.7/multiprocessing/process.py\", line 99, in run\n",
      "    self._target(*self._args, **self._kwargs)\n",
      "  File \"/usr/lib/python3.7/multiprocessing/pool.py\", line 110, in worker\n",
      "    task = get()\n",
      "  File \"/usr/lib/python3.7/multiprocessing/process.py\", line 99, in run\n",
      "    self._target(*self._args, **self._kwargs)\n",
      "  File \"/usr/lib/python3.7/multiprocessing/pool.py\", line 110, in worker\n",
      "    task = get()\n",
      "  File \"/usr/lib/python3.7/multiprocessing/pool.py\", line 110, in worker\n",
      "    task = get()\n",
      "  File \"/usr/lib/python3.7/multiprocessing/pool.py\", line 110, in worker\n",
      "    task = get()\n",
      "  File \"/usr/lib/python3.7/multiprocessing/pool.py\", line 110, in worker\n",
      "    task = get()\n",
      "  File \"/usr/lib/python3.7/multiprocessing/pool.py\", line 110, in worker\n",
      "    task = get()\n",
      "  File \"/usr/lib/python3.7/multiprocessing/pool.py\", line 110, in worker\n",
      "    task = get()\n",
      "  File \"/usr/lib/python3.7/multiprocessing/queues.py\", line 351, in get\n",
      "    with self._rlock:\n",
      "  File \"/usr/lib/python3.7/multiprocessing/queues.py\", line 351, in get\n",
      "    with self._rlock:\n",
      "  File \"/usr/lib/python3.7/multiprocessing/pool.py\", line 110, in worker\n",
      "    task = get()\n",
      "  File \"/usr/lib/python3.7/multiprocessing/queues.py\", line 351, in get\n",
      "    with self._rlock:\n",
      "  File \"/usr/lib/python3.7/multiprocessing/queues.py\", line 352, in get\n",
      "    res = self._reader.recv_bytes()\n",
      "  File \"/usr/lib/python3.7/multiprocessing/queues.py\", line 351, in get\n",
      "    with self._rlock:\n",
      "  File \"/usr/lib/python3.7/multiprocessing/queues.py\", line 351, in get\n",
      "    with self._rlock:\n",
      "  File \"/usr/lib/python3.7/multiprocessing/queues.py\", line 351, in get\n",
      "    with self._rlock:\n",
      "  File \"/usr/lib/python3.7/multiprocessing/synchronize.py\", line 95, in __enter__\n",
      "    return self._semlock.__enter__()\n",
      "  File \"/usr/lib/python3.7/multiprocessing/synchronize.py\", line 95, in __enter__\n",
      "    return self._semlock.__enter__()\n",
      "  File \"/usr/lib/python3.7/multiprocessing/queues.py\", line 351, in get\n",
      "    with self._rlock:\n",
      "  File \"/usr/lib/python3.7/multiprocessing/synchronize.py\", line 95, in __enter__\n",
      "    return self._semlock.__enter__()\n",
      "  File \"/usr/lib/python3.7/multiprocessing/synchronize.py\", line 95, in __enter__\n",
      "    return self._semlock.__enter__()\n",
      "  File \"/usr/lib/python3.7/multiprocessing/connection.py\", line 216, in recv_bytes\n",
      "    buf = self._recv_bytes(maxlength)\n",
      "  File \"/usr/lib/python3.7/multiprocessing/synchronize.py\", line 95, in __enter__\n",
      "    return self._semlock.__enter__()\n",
      "  File \"/usr/lib/python3.7/multiprocessing/synchronize.py\", line 95, in __enter__\n",
      "    return self._semlock.__enter__()\n",
      "KeyboardInterrupt\n",
      "KeyboardInterrupt\n",
      "  File \"/usr/lib/python3.7/multiprocessing/synchronize.py\", line 95, in __enter__\n",
      "    return self._semlock.__enter__()\n",
      "KeyboardInterrupt\n",
      "KeyboardInterrupt\n",
      "  File \"/usr/lib/python3.7/multiprocessing/connection.py\", line 407, in _recv_bytes\n",
      "    buf = self._recv(4)\n",
      "KeyboardInterrupt\n",
      "KeyboardInterrupt\n",
      "  File \"/usr/lib/python3.7/multiprocessing/connection.py\", line 379, in _recv\n",
      "    chunk = read(handle, remaining)\n",
      "KeyboardInterrupt\n",
      "KeyboardInterrupt\n"
     ]
    },
    {
     "data": {
      "text/plain": "<IPython.core.display.HTML object>",
      "text/html": "<div style=\"display: block; margin-left: auto; margin-right: auto; width: 50%;white-space: nowrap\"><svg height=\"204pt\" viewBox=\"0.00 0.00 266.48 204.00\" width=\"266pt\" xmlns=\"http://www.w3.org/2000/svg\" xmlns:xlink=\"http://www.w3.org/1999/xlink\">\n<g class=\"graph\" id=\"graph0\" transform=\"scale(1 1) rotate(0) translate(4 200)\">\n<title>%3</title>\n<polygon fill=\"#ffffff\" points=\"-4,4 -4,-200 262.4829,-200 262.4829,4 -4,4\" stroke=\"transparent\"/>\n<!-- fake -->\n<g class=\"node\" id=\"node1\">\n<title>fake</title>\n</g>\n<!-- 0 -->\n<g class=\"node\" id=\"node2\">\n<title>0</title>\n<ellipse cx=\"105.4829\" cy=\"-105\" fill=\"none\" rx=\"27\" ry=\"18\" stroke=\"#000000\"/>\n<text fill=\"#000000\" font-family=\"Times,serif\" font-size=\"14.00\" text-anchor=\"middle\" x=\"105.4829\" y=\"-101.3\">0</text>\n</g>\n<!-- fake&#45;&gt;0 -->\n<g class=\"edge\" id=\"edge1\">\n<title>fake-&gt;0</title>\n<path d=\"M105.4829,-159.9551C105.4829,-151.8828 105.4829,-142.1764 105.4829,-133.1817\" fill=\"none\" stroke=\"#000000\" stroke-width=\"2\"/>\n<polygon fill=\"#000000\" points=\"108.983,-133.0903 105.4829,-123.0904 101.983,-133.0904 108.983,-133.0903\" stroke=\"#000000\" stroke-width=\"2\"/>\n</g>\n<!-- 0&#45;&gt;0 -->\n<g class=\"edge\" id=\"edge3\">\n<title>0-&gt;0</title>\n<path d=\"M132.2778,-108.3676C142.2633,-108.478 150.4829,-107.3555 150.4829,-105 150.4829,-103.5278 147.2721,-102.5373 142.4262,-102.0283\" fill=\"none\" stroke=\"#000000\"/>\n<polygon fill=\"#000000\" points=\"142.4067,-98.525 132.2778,-101.6324 142.1337,-105.5197 142.4067,-98.525\" stroke=\"#000000\"/>\n<text fill=\"#000000\" font-family=\"Times,serif\" font-size=\"14.00\" text-anchor=\"middle\" x=\"172.9829\" y=\"-101.3\">(1, 0, 0)</text>\n</g>\n<!-- 0&#45;&gt;0 -->\n<g class=\"edge\" id=\"edge5\">\n<title>0-&gt;0</title>\n<path d=\"M131.536,-110.4115C159.4489,-113.3077 195.4829,-111.5039 195.4829,-105 195.4829,-99.2583 167.3995,-97.1796 141.6127,-98.764\" fill=\"none\" stroke=\"#000000\"/>\n<polygon fill=\"#000000\" points=\"141.2172,-95.2845 131.536,-99.5885 141.7882,-102.2612 141.2172,-95.2845\" stroke=\"#000000\"/>\n<text fill=\"#000000\" font-family=\"Times,serif\" font-size=\"14.00\" text-anchor=\"middle\" x=\"217.9829\" y=\"-101.3\">(0, 0, 0)</text>\n</g>\n<!-- 1 -->\n<g class=\"node\" id=\"node3\">\n<title>1</title>\n<ellipse cx=\"105.4829\" cy=\"-18\" fill=\"none\" rx=\"27\" ry=\"18\" stroke=\"#000000\"/>\n<text fill=\"#000000\" font-family=\"Times,serif\" font-size=\"14.00\" text-anchor=\"middle\" x=\"105.4829\" y=\"-14.3\">1</text>\n</g>\n<!-- 0&#45;&gt;1 -->\n<g class=\"edge\" id=\"edge2\">\n<title>0-&gt;1</title>\n<path d=\"M79.6246,-99.345C52.7327,-92.878 13.3336,-81.5508 4.4829,-69 -14.0634,-42.7002 32.4915,-29.1752 68.4195,-22.8452\" fill=\"none\" stroke=\"#000000\"/>\n<polygon fill=\"#000000\" points=\"69.368,-26.2369 78.6757,-21.1756 68.2432,-19.3279 69.368,-26.2369\" stroke=\"#000000\"/>\n<text fill=\"#000000\" font-family=\"Times,serif\" font-size=\"14.00\" text-anchor=\"middle\" x=\"26.9829\" y=\"-57.8\">(0, 1, 1)</text>\n</g>\n<!-- 0&#45;&gt;1 -->\n<g class=\"edge\" id=\"edge4\">\n<title>0-&gt;1</title>\n<path d=\"M88.1266,-91.032C81.9588,-84.9876 75.741,-77.3759 72.4829,-69 68.4435,-58.6154 73.3595,-48.1154 80.5269,-39.3642\" fill=\"none\" stroke=\"#000000\"/>\n<polygon fill=\"#000000\" points=\"83.2641,-41.5619 87.5497,-31.8725 78.1571,-36.7745 83.2641,-41.5619\" stroke=\"#000000\"/>\n<text fill=\"#000000\" font-family=\"Times,serif\" font-size=\"14.00\" text-anchor=\"middle\" x=\"94.9829\" y=\"-57.8\">(1, 1, 1)</text>\n</g>\n<!-- 1&#45;&gt;0 -->\n<g class=\"edge\" id=\"edge6\">\n<title>1-&gt;0</title>\n<path d=\"M113.0438,-35.3457C116.4405,-45.1556 119.3188,-57.6871 117.4829,-69 117.0179,-71.8654 116.3575,-74.8109 115.5827,-77.7241\" fill=\"none\" stroke=\"#000000\"/>\n<polygon fill=\"#000000\" points=\"112.2195,-76.7534 112.6256,-87.3405 118.9103,-78.8109 112.2195,-76.7534\" stroke=\"#000000\"/>\n<text fill=\"#000000\" font-family=\"Times,serif\" font-size=\"14.00\" text-anchor=\"middle\" x=\"139.9829\" y=\"-57.8\">(1, 1, 1)</text>\n</g>\n<!-- 1&#45;&gt;0 -->\n<g class=\"edge\" id=\"edge8\">\n<title>1-&gt;0</title>\n<path d=\"M129.807,-26.2081C151.1992,-34.8824 177.3662,-49.9399 166.4829,-69 160.4464,-79.572 149.9561,-87.3511 139.3595,-92.9163\" fill=\"none\" stroke=\"#000000\"/>\n<polygon fill=\"#000000\" points=\"137.6926,-89.8323 130.1293,-97.2516 140.6686,-96.1682 137.6926,-89.8323\" stroke=\"#000000\"/>\n<text fill=\"#000000\" font-family=\"Times,serif\" font-size=\"14.00\" text-anchor=\"middle\" x=\"190.9829\" y=\"-57.8\">(0, 1, 1)</text>\n</g>\n<!-- 1&#45;&gt;1 -->\n<g class=\"edge\" id=\"edge7\">\n<title>1-&gt;1</title>\n<path d=\"M132.2778,-21.9288C142.2633,-22.0577 150.4829,-20.748 150.4829,-18 150.4829,-16.2825 147.2721,-15.1268 142.4262,-14.5331\" fill=\"none\" stroke=\"#000000\"/>\n<polygon fill=\"#000000\" points=\"142.4266,-11.0296 132.2778,-14.0712 142.1083,-18.0223 142.4266,-11.0296\" stroke=\"#000000\"/>\n<text fill=\"#000000\" font-family=\"Times,serif\" font-size=\"14.00\" text-anchor=\"middle\" x=\"172.9829\" y=\"-14.3\">(0, 0, 0)</text>\n</g>\n<!-- 1&#45;&gt;1 -->\n<g class=\"edge\" id=\"edge9\">\n<title>1-&gt;1</title>\n<path d=\"M131.0841,-24.2581C159.0583,-27.7149 195.4829,-25.6289 195.4829,-18 195.4829,-11.2651 167.0951,-8.8501 141.1947,-10.755\" fill=\"none\" stroke=\"#000000\"/>\n<polygon fill=\"#000000\" points=\"140.6967,-7.2869 131.0841,-11.7419 141.3769,-14.2537 140.6967,-7.2869\" stroke=\"#000000\"/>\n<text fill=\"#000000\" font-family=\"Times,serif\" font-size=\"14.00\" text-anchor=\"middle\" x=\"217.9829\" y=\"-14.3\">(1, 0, 0)</text>\n</g>\n</g>\n</svg></div>"
     },
     "metadata": {},
     "output_type": "display_data"
    }
   ],
   "source": [
    "rdp_generator, (v, t) = learning_rotating_mab(\n",
    "    stop_probability=0.2,\n",
    "    winning_probabilities=(0.7, 0.3),\n",
    "    max_episode_steps=15,\n",
    "    nb_samples=100000,\n",
    "    delta=0.1,\n",
    "    n_upperbound=4,\n",
    "    nb_processes=8)\n",
    "\n",
    "render_digraph(to_graphviz_from_graph(v, t, char2str=lambda c: str(rdp_generator.decoder(c))))"
   ],
   "metadata": {
    "collapsed": false,
    "pycharm": {
     "name": "#%%\n"
    }
   }
  },
  {
   "cell_type": "markdown",
   "source": [
    "##### Rotating MAB, 3 arms, with probabilities (1.0, 0.0, 0.0)"
   ],
   "metadata": {
    "collapsed": false
   }
  },
  {
   "cell_type": "code",
   "execution_count": 4,
   "outputs": [
    {
     "name": "stdout",
     "output_type": "stream",
     "text": [
      "Apriori expected length of traces: 1/stop_prob = 4.999999999999994\n",
      "Average length of traces: 3.679\n"
     ]
    },
    {
     "name": "stderr",
     "output_type": "stream",
     "text": [
      "[2020-11-06 19:32:52,234][src.learn_pdfa][INFO] Parameters: ('BalleParams(sample_generator=<src.learn_pdfa.common.MultiprocessedGenerator '\n",
      " 'object at 0x7f296b951bd0>, nb_samples=100000, n=5, alphabet_size=12, '\n",
      " 'delta=0.1)')\n",
      "[2020-11-06 19:32:58,055][src.learn_pdfa][INFO] Iteration 0\n",
      "[2020-11-06 19:32:58,754][src.learn_pdfa][INFO] Iteration 1\n",
      "[2020-11-06 19:32:59,415][src.learn_pdfa][INFO] Iteration 2\n",
      "[2020-11-06 19:33:00,114][src.learn_pdfa][INFO] Iteration 3\n",
      "[2020-11-06 19:33:00,992][src.learn_pdfa][INFO] Iteration 4\n",
      "[2020-11-06 19:33:01,833][src.learn_pdfa][INFO] Iteration 5\n",
      "[2020-11-06 19:33:02,645][src.learn_pdfa][INFO] Iteration 6\n",
      "[2020-11-06 19:33:03,377][src.learn_pdfa][INFO] Iteration 7\n",
      "[2020-11-06 19:33:04,129][src.learn_pdfa][INFO] Iteration 8\n",
      "[2020-11-06 19:33:04,906][src.learn_pdfa][INFO] Iteration 9\n",
      "/home/marcofavorito/.local/share/virtualenvs/PAC-RDPs-code-h40RRNYH/lib/python3.7/site-packages/ipykernel_launcher.py:10: DeprecationWarning: 'shape' argument should be used instead of 'dims'\n",
      "  # Remove the CWD from sys.path while we load stuff.\n",
      "[2020-11-06 19:33:05,455][graphviz.files][DEBUG] write 332 bytes to '/tmp/tmpbtr46l5s/output'\n",
      "[2020-11-06 19:33:05,455][graphviz.backend][DEBUG] run ['dot', '-Tsvg', '-O', 'output']\n",
      "Process ForkPoolWorker-14:\n",
      "Process ForkPoolWorker-13:\n",
      "Process ForkPoolWorker-15:\n",
      "Process ForkPoolWorker-9:\n",
      "Process ForkPoolWorker-10:\n",
      "Process ForkPoolWorker-12:\n",
      "Process ForkPoolWorker-16:\n",
      "Process ForkPoolWorker-11:\n",
      "Traceback (most recent call last):\n",
      "Traceback (most recent call last):\n",
      "Traceback (most recent call last):\n",
      "Traceback (most recent call last):\n",
      "Traceback (most recent call last):\n",
      "Traceback (most recent call last):\n",
      "  File \"/usr/lib/python3.7/multiprocessing/process.py\", line 297, in _bootstrap\n",
      "    self.run()\n",
      "  File \"/usr/lib/python3.7/multiprocessing/process.py\", line 297, in _bootstrap\n",
      "    self.run()\n",
      "Traceback (most recent call last):\n",
      "  File \"/usr/lib/python3.7/multiprocessing/process.py\", line 297, in _bootstrap\n",
      "    self.run()\n",
      "  File \"/usr/lib/python3.7/multiprocessing/process.py\", line 297, in _bootstrap\n",
      "    self.run()\n",
      "Traceback (most recent call last):\n",
      "  File \"/usr/lib/python3.7/multiprocessing/process.py\", line 297, in _bootstrap\n",
      "    self.run()\n",
      "  File \"/usr/lib/python3.7/multiprocessing/process.py\", line 297, in _bootstrap\n",
      "    self.run()\n",
      "  File \"/usr/lib/python3.7/multiprocessing/process.py\", line 99, in run\n",
      "    self._target(*self._args, **self._kwargs)\n",
      "  File \"/usr/lib/python3.7/multiprocessing/process.py\", line 99, in run\n",
      "    self._target(*self._args, **self._kwargs)\n",
      "  File \"/usr/lib/python3.7/multiprocessing/process.py\", line 297, in _bootstrap\n",
      "    self.run()\n",
      "  File \"/usr/lib/python3.7/multiprocessing/process.py\", line 99, in run\n",
      "    self._target(*self._args, **self._kwargs)\n",
      "  File \"/usr/lib/python3.7/multiprocessing/process.py\", line 99, in run\n",
      "    self._target(*self._args, **self._kwargs)\n",
      "  File \"/usr/lib/python3.7/multiprocessing/process.py\", line 297, in _bootstrap\n",
      "    self.run()\n",
      "  File \"/usr/lib/python3.7/multiprocessing/process.py\", line 99, in run\n",
      "    self._target(*self._args, **self._kwargs)\n",
      "  File \"/usr/lib/python3.7/multiprocessing/process.py\", line 99, in run\n",
      "    self._target(*self._args, **self._kwargs)\n",
      "  File \"/usr/lib/python3.7/multiprocessing/pool.py\", line 110, in worker\n",
      "    task = get()\n",
      "  File \"/usr/lib/python3.7/multiprocessing/process.py\", line 99, in run\n",
      "    self._target(*self._args, **self._kwargs)\n",
      "  File \"/usr/lib/python3.7/multiprocessing/pool.py\", line 110, in worker\n",
      "    task = get()\n",
      "  File \"/usr/lib/python3.7/multiprocessing/pool.py\", line 110, in worker\n",
      "    task = get()\n",
      "  File \"/usr/lib/python3.7/multiprocessing/pool.py\", line 110, in worker\n",
      "    task = get()\n",
      "  File \"/usr/lib/python3.7/multiprocessing/pool.py\", line 110, in worker\n",
      "    task = get()\n",
      "  File \"/usr/lib/python3.7/multiprocessing/process.py\", line 99, in run\n",
      "    self._target(*self._args, **self._kwargs)\n",
      "  File \"/usr/lib/python3.7/multiprocessing/pool.py\", line 110, in worker\n",
      "    task = get()\n",
      "  File \"/usr/lib/python3.7/multiprocessing/queues.py\", line 351, in get\n",
      "    with self._rlock:\n",
      "  File \"/usr/lib/python3.7/multiprocessing/pool.py\", line 110, in worker\n",
      "    task = get()\n",
      "  File \"/usr/lib/python3.7/multiprocessing/queues.py\", line 351, in get\n",
      "    with self._rlock:\n",
      "  File \"/usr/lib/python3.7/multiprocessing/queues.py\", line 351, in get\n",
      "    with self._rlock:\n",
      "  File \"/usr/lib/python3.7/multiprocessing/queues.py\", line 351, in get\n",
      "    with self._rlock:\n",
      "  File \"/usr/lib/python3.7/multiprocessing/queues.py\", line 351, in get\n",
      "    with self._rlock:\n",
      "  File \"/usr/lib/python3.7/multiprocessing/synchronize.py\", line 95, in __enter__\n",
      "    return self._semlock.__enter__()\n",
      "  File \"/usr/lib/python3.7/multiprocessing/synchronize.py\", line 95, in __enter__\n",
      "    return self._semlock.__enter__()\n",
      "  File \"/usr/lib/python3.7/multiprocessing/queues.py\", line 352, in get\n",
      "    res = self._reader.recv_bytes()\n",
      "  File \"/usr/lib/python3.7/multiprocessing/synchronize.py\", line 95, in __enter__\n",
      "    return self._semlock.__enter__()\n",
      "  File \"/usr/lib/python3.7/multiprocessing/synchronize.py\", line 95, in __enter__\n",
      "    return self._semlock.__enter__()\n",
      "  File \"/usr/lib/python3.7/multiprocessing/queues.py\", line 351, in get\n",
      "    with self._rlock:\n",
      "  File \"/usr/lib/python3.7/multiprocessing/pool.py\", line 110, in worker\n",
      "    task = get()\n",
      "  File \"/usr/lib/python3.7/multiprocessing/synchronize.py\", line 95, in __enter__\n",
      "    return self._semlock.__enter__()\n",
      "KeyboardInterrupt\n",
      "KeyboardInterrupt\n",
      "  File \"/usr/lib/python3.7/multiprocessing/connection.py\", line 216, in recv_bytes\n",
      "    buf = self._recv_bytes(maxlength)\n",
      "KeyboardInterrupt\n",
      "  File \"/usr/lib/python3.7/multiprocessing/queues.py\", line 351, in get\n",
      "    with self._rlock:\n",
      "KeyboardInterrupt\n",
      "KeyboardInterrupt\n",
      "KeyboardInterrupt\n",
      "  File \"/usr/lib/python3.7/multiprocessing/synchronize.py\", line 95, in __enter__\n",
      "    return self._semlock.__enter__()\n",
      "  File \"/usr/lib/python3.7/multiprocessing/connection.py\", line 407, in _recv_bytes\n",
      "    buf = self._recv(4)\n",
      "  File \"/usr/lib/python3.7/multiprocessing/synchronize.py\", line 95, in __enter__\n",
      "    return self._semlock.__enter__()\n",
      "KeyboardInterrupt\n",
      "KeyboardInterrupt\n",
      "  File \"/usr/lib/python3.7/multiprocessing/connection.py\", line 379, in _recv\n",
      "    chunk = read(handle, remaining)\n"
     ]
    },
    {
     "data": {
      "text/plain": "<IPython.core.display.HTML object>",
      "text/html": "<div style=\"display: block; margin-left: auto; margin-right: auto; width: 50%;white-space: nowrap\"><svg height=\"291pt\" viewBox=\"0.00 0.00 329.00 291.00\" width=\"329pt\" xmlns=\"http://www.w3.org/2000/svg\" xmlns:xlink=\"http://www.w3.org/1999/xlink\">\n<g class=\"graph\" id=\"graph0\" transform=\"scale(1 1) rotate(0) translate(4 287)\">\n<title>%3</title>\n<polygon fill=\"#ffffff\" points=\"-4,4 -4,-287 325,-287 325,4 -4,4\" stroke=\"transparent\"/>\n<!-- fake -->\n<g class=\"node\" id=\"node1\">\n<title>fake</title>\n</g>\n<!-- 0 -->\n<g class=\"node\" id=\"node2\">\n<title>0</title>\n<ellipse cx=\"168\" cy=\"-192\" fill=\"none\" rx=\"27\" ry=\"18\" stroke=\"#000000\"/>\n<text fill=\"#000000\" font-family=\"Times,serif\" font-size=\"14.00\" text-anchor=\"middle\" x=\"168\" y=\"-188.3\">0</text>\n</g>\n<!-- fake&#45;&gt;0 -->\n<g class=\"edge\" id=\"edge1\">\n<title>fake-&gt;0</title>\n<path d=\"M168,-246.9551C168,-238.8828 168,-229.1764 168,-220.1817\" fill=\"none\" stroke=\"#000000\" stroke-width=\"2\"/>\n<polygon fill=\"#000000\" points=\"171.5001,-220.0903 168,-210.0904 164.5001,-220.0904 171.5001,-220.0903\" stroke=\"#000000\" stroke-width=\"2\"/>\n</g>\n<!-- 0&#45;&gt;0 -->\n<g class=\"edge\" id=\"edge2\">\n<title>0-&gt;0</title>\n<path d=\"M194.7949,-195.3676C204.7804,-195.478 213,-194.3555 213,-192 213,-190.5278 209.7892,-189.5373 204.9433,-189.0283\" fill=\"none\" stroke=\"#000000\"/>\n<polygon fill=\"#000000\" points=\"204.9237,-185.525 194.7949,-188.6324 204.6508,-192.5197 204.9237,-185.525\" stroke=\"#000000\"/>\n<text fill=\"#000000\" font-family=\"Times,serif\" font-size=\"14.00\" text-anchor=\"middle\" x=\"235.5\" y=\"-188.3\">(2, 0, 0)</text>\n</g>\n<!-- 0&#45;&gt;0 -->\n<g class=\"edge\" id=\"edge4\">\n<title>0-&gt;0</title>\n<path d=\"M194.0531,-197.4115C221.966,-200.3077 258,-198.5039 258,-192 258,-186.2583 229.9166,-184.1796 204.1297,-185.764\" fill=\"none\" stroke=\"#000000\"/>\n<polygon fill=\"#000000\" points=\"203.7343,-182.2845 194.0531,-186.5885 204.3053,-189.2612 203.7343,-182.2845\" stroke=\"#000000\"/>\n<text fill=\"#000000\" font-family=\"Times,serif\" font-size=\"14.00\" text-anchor=\"middle\" x=\"280.5\" y=\"-188.3\">(1, 0, 0)</text>\n</g>\n<!-- 1 -->\n<g class=\"node\" id=\"node3\">\n<title>1</title>\n<ellipse cx=\"27\" cy=\"-105\" fill=\"none\" rx=\"27\" ry=\"18\" stroke=\"#000000\"/>\n<text fill=\"#000000\" font-family=\"Times,serif\" font-size=\"14.00\" text-anchor=\"middle\" x=\"27\" y=\"-101.3\">1</text>\n</g>\n<!-- 0&#45;&gt;1 -->\n<g class=\"edge\" id=\"edge3\">\n<title>0-&gt;1</title>\n<path d=\"M148.0972,-179.7195C124.0902,-164.9067 83.5388,-139.8857 56.0405,-122.9186\" fill=\"none\" stroke=\"#000000\"/>\n<polygon fill=\"#000000\" points=\"57.6064,-119.7722 47.2581,-117.4997 53.9306,-125.7294 57.6064,-119.7722\" stroke=\"#000000\"/>\n<text fill=\"#000000\" font-family=\"Times,serif\" font-size=\"14.00\" text-anchor=\"middle\" x=\"128.5\" y=\"-144.8\">(0, 1, 1)</text>\n</g>\n<!-- 1&#45;&gt;1 -->\n<g class=\"edge\" id=\"edge6\">\n<title>1-&gt;1</title>\n<path d=\"M53.7949,-108.9288C63.7804,-109.0577 72,-107.748 72,-105 72,-103.2825 68.7892,-102.1268 63.9433,-101.5331\" fill=\"none\" stroke=\"#000000\"/>\n<polygon fill=\"#000000\" points=\"63.9437,-98.0296 53.7949,-101.0712 63.6253,-105.0223 63.9437,-98.0296\" stroke=\"#000000\"/>\n<text fill=\"#000000\" font-family=\"Times,serif\" font-size=\"14.00\" text-anchor=\"middle\" x=\"94.5\" y=\"-101.3\">(0, 0, 0)</text>\n</g>\n<!-- 1&#45;&gt;1 -->\n<g class=\"edge\" id=\"edge7\">\n<title>1-&gt;1</title>\n<path d=\"M52.6012,-111.2581C80.5754,-114.7149 117,-112.6289 117,-105 117,-98.2651 88.6122,-95.8501 62.7118,-97.755\" fill=\"none\" stroke=\"#000000\"/>\n<polygon fill=\"#000000\" points=\"62.2138,-94.2869 52.6012,-98.7419 62.8939,-101.2537 62.2138,-94.2869\" stroke=\"#000000\"/>\n<text fill=\"#000000\" font-family=\"Times,serif\" font-size=\"14.00\" text-anchor=\"middle\" x=\"139.5\" y=\"-101.3\">(2, 0, 0)</text>\n</g>\n<!-- 2 -->\n<g class=\"node\" id=\"node4\">\n<title>2</title>\n<ellipse cx=\"122\" cy=\"-18\" fill=\"none\" rx=\"27\" ry=\"18\" stroke=\"#000000\"/>\n<text fill=\"#000000\" font-family=\"Times,serif\" font-size=\"14.00\" text-anchor=\"middle\" x=\"122\" y=\"-14.3\">2</text>\n</g>\n<!-- 1&#45;&gt;2 -->\n<g class=\"edge\" id=\"edge5\">\n<title>1-&gt;2</title>\n<path d=\"M43.1155,-90.2416C58.2646,-76.3682 81.1229,-55.4348 98.3399,-39.6677\" fill=\"none\" stroke=\"#000000\"/>\n<polygon fill=\"#000000\" points=\"100.7945,-42.1657 105.8055,-32.8308 96.0669,-37.0033 100.7945,-42.1657\" stroke=\"#000000\"/>\n<text fill=\"#000000\" font-family=\"Times,serif\" font-size=\"14.00\" text-anchor=\"middle\" x=\"103.5\" y=\"-57.8\">(1, 1, 1)</text>\n</g>\n<!-- 2&#45;&gt;0 -->\n<g class=\"edge\" id=\"edge9\">\n<title>2-&gt;0</title>\n<path d=\"M141.1469,-31.0242C157.341,-43.3038 179.3974,-63.3264 189,-87 199.362,-112.5456 190.6733,-143.7277 181.5274,-165.4448\" fill=\"none\" stroke=\"#000000\"/>\n<polygon fill=\"#000000\" points=\"178.2733,-164.1473 177.3599,-174.7027 184.6564,-167.0207 178.2733,-164.1473\" stroke=\"#000000\"/>\n<text fill=\"#000000\" font-family=\"Times,serif\" font-size=\"14.00\" text-anchor=\"middle\" x=\"215.5\" y=\"-101.3\">(2, 1, 1)</text>\n</g>\n<!-- 2&#45;&gt;2 -->\n<g class=\"edge\" id=\"edge8\">\n<title>2-&gt;2</title>\n<path d=\"M148.7949,-21.9288C158.7804,-22.0577 167,-20.748 167,-18 167,-16.2825 163.7892,-15.1268 158.9433,-14.5331\" fill=\"none\" stroke=\"#000000\"/>\n<polygon fill=\"#000000\" points=\"158.9437,-11.0296 148.7949,-14.0712 158.6253,-18.0223 158.9437,-11.0296\" stroke=\"#000000\"/>\n<text fill=\"#000000\" font-family=\"Times,serif\" font-size=\"14.00\" text-anchor=\"middle\" x=\"189.5\" y=\"-14.3\">(1, 0, 0)</text>\n</g>\n<!-- 2&#45;&gt;2 -->\n<g class=\"edge\" id=\"edge10\">\n<title>2-&gt;2</title>\n<path d=\"M147.6012,-24.2581C175.5754,-27.7149 212,-25.6289 212,-18 212,-11.2651 183.6122,-8.8501 157.7118,-10.755\" fill=\"none\" stroke=\"#000000\"/>\n<polygon fill=\"#000000\" points=\"157.2138,-7.2869 147.6012,-11.7419 157.8939,-14.2537 157.2138,-7.2869\" stroke=\"#000000\"/>\n<text fill=\"#000000\" font-family=\"Times,serif\" font-size=\"14.00\" text-anchor=\"middle\" x=\"234.5\" y=\"-14.3\">(0, 0, 0)</text>\n</g>\n</g>\n</svg></div>"
     },
     "metadata": {},
     "output_type": "display_data"
    }
   ],
   "source": [
    "rdp_generator, (v, t) = learning_rotating_mab(\n",
    "    stop_probability=0.2,\n",
    "    winning_probabilities=(1.0, 0.0, 0.0),\n",
    "    max_episode_steps=15,\n",
    "    nb_samples=100000,\n",
    "    delta=0.1,\n",
    "    n_upperbound=5,\n",
    "    nb_processes=8)\n",
    "\n",
    "render_digraph(to_graphviz_from_graph(v, t, char2str=lambda c: str(rdp_generator.decoder(c))))"
   ],
   "metadata": {
    "collapsed": false,
    "pycharm": {
     "name": "#%%\n"
    }
   }
  },
  {
   "cell_type": "markdown",
   "source": [
    "##### Rotating MAB, 3 arms, with probabilities (0.1, 0.2, 0.9)"
   ],
   "metadata": {
    "collapsed": false
   }
  },
  {
   "cell_type": "code",
   "execution_count": 11,
   "outputs": [
    {
     "name": "stdout",
     "output_type": "stream",
     "text": [
      "Apriori expected length of traces: 1/stop_prob = 4.999999999999994\n",
      "Average length of traces: 3.84\n"
     ]
    },
    {
     "name": "stderr",
     "output_type": "stream",
     "text": [
      "[2020-11-06 20:27:32,525][src.learn_pdfa][INFO] Parameters: ('BalleParams(sample_generator=<src.learn_pdfa.common.MultiprocessedGenerator '\n",
      " 'object at 0x7f29540e99d0>, nb_samples=500000, n=6, alphabet_size=12, '\n",
      " 'delta=0.05)')\n",
      "[2020-11-06 20:27:58,369][src.learn_pdfa][INFO] Iteration 0\n",
      "[2020-11-06 20:28:01,437][src.learn_pdfa][INFO] Iteration 1\n",
      "[2020-11-06 20:28:04,495][src.learn_pdfa][INFO] Iteration 2\n",
      "[2020-11-06 20:28:07,928][src.learn_pdfa][INFO] Iteration 3\n",
      "[2020-11-06 20:28:11,383][src.learn_pdfa][INFO] Iteration 4\n",
      "[2020-11-06 20:28:14,859][src.learn_pdfa][INFO] Iteration 5\n",
      "[2020-11-06 20:28:18,566][src.learn_pdfa][INFO] Iteration 6\n",
      "[2020-11-06 20:28:22,342][src.learn_pdfa][INFO] Iteration 7\n",
      "[2020-11-06 20:28:26,084][src.learn_pdfa][INFO] Iteration 8\n",
      "[2020-11-06 20:28:29,905][src.learn_pdfa][INFO] Iteration 9\n",
      "[2020-11-06 20:28:33,778][src.learn_pdfa][INFO] Iteration 10\n",
      "[2020-11-06 20:28:37,764][src.learn_pdfa][INFO] Iteration 11\n",
      "[2020-11-06 20:28:41,802][src.learn_pdfa][INFO] Iteration 12\n",
      "[2020-11-06 20:28:45,836][src.learn_pdfa][INFO] Iteration 13\n",
      "[2020-11-06 20:28:49,940][src.learn_pdfa][INFO] Iteration 14\n",
      "[2020-11-06 20:28:54,085][src.learn_pdfa][INFO] Iteration 15\n",
      "[2020-11-06 20:28:58,615][src.learn_pdfa][INFO] Iteration 16\n",
      "[2020-11-06 20:29:03,031][src.learn_pdfa][INFO] Iteration 17\n",
      "[2020-11-06 20:29:07,335][src.learn_pdfa][INFO] Iteration 18\n",
      "/home/marcofavorito/.local/share/virtualenvs/PAC-RDPs-code-h40RRNYH/lib/python3.7/site-packages/ipykernel_launcher.py:10: DeprecationWarning: 'shape' argument should be used instead of 'dims'\n",
      "  # Remove the CWD from sys.path while we load stuff.\n",
      "[2020-11-06 20:29:10,580][graphviz.files][DEBUG] write 584 bytes to '/tmp/tmpqjbcz8oi/output'\n",
      "[2020-11-06 20:29:10,581][graphviz.backend][DEBUG] run ['dot', '-Tsvg', '-O', 'output']\n",
      "Process ForkPoolWorker-66:\n",
      "Process ForkPoolWorker-69:\n",
      "Process ForkPoolWorker-72:\n",
      "Process ForkPoolWorker-71:\n",
      "Process ForkPoolWorker-70:\n",
      "Process ForkPoolWorker-67:\n",
      "Process ForkPoolWorker-65:\n",
      "Traceback (most recent call last):\n",
      "Process ForkPoolWorker-68:\n",
      "Traceback (most recent call last):\n",
      "Traceback (most recent call last):\n",
      "Traceback (most recent call last):\n",
      "Traceback (most recent call last):\n",
      "Traceback (most recent call last):\n",
      "Traceback (most recent call last):\n",
      "  File \"/usr/lib/python3.7/multiprocessing/process.py\", line 297, in _bootstrap\n",
      "    self.run()\n",
      "Traceback (most recent call last):\n",
      "  File \"/usr/lib/python3.7/multiprocessing/process.py\", line 297, in _bootstrap\n",
      "    self.run()\n",
      "  File \"/usr/lib/python3.7/multiprocessing/process.py\", line 297, in _bootstrap\n",
      "    self.run()\n",
      "  File \"/usr/lib/python3.7/multiprocessing/process.py\", line 297, in _bootstrap\n",
      "    self.run()\n",
      "  File \"/usr/lib/python3.7/multiprocessing/process.py\", line 297, in _bootstrap\n",
      "    self.run()\n",
      "  File \"/usr/lib/python3.7/multiprocessing/process.py\", line 297, in _bootstrap\n",
      "    self.run()\n",
      "  File \"/usr/lib/python3.7/multiprocessing/process.py\", line 297, in _bootstrap\n",
      "    self.run()\n",
      "  File \"/usr/lib/python3.7/multiprocessing/process.py\", line 99, in run\n",
      "    self._target(*self._args, **self._kwargs)\n",
      "  File \"/usr/lib/python3.7/multiprocessing/process.py\", line 297, in _bootstrap\n",
      "    self.run()\n",
      "  File \"/usr/lib/python3.7/multiprocessing/process.py\", line 99, in run\n",
      "    self._target(*self._args, **self._kwargs)\n",
      "  File \"/usr/lib/python3.7/multiprocessing/process.py\", line 99, in run\n",
      "    self._target(*self._args, **self._kwargs)\n",
      "  File \"/usr/lib/python3.7/multiprocessing/process.py\", line 99, in run\n",
      "    self._target(*self._args, **self._kwargs)\n",
      "  File \"/usr/lib/python3.7/multiprocessing/process.py\", line 99, in run\n",
      "    self._target(*self._args, **self._kwargs)\n",
      "  File \"/usr/lib/python3.7/multiprocessing/process.py\", line 99, in run\n",
      "    self._target(*self._args, **self._kwargs)\n",
      "  File \"/usr/lib/python3.7/multiprocessing/process.py\", line 99, in run\n",
      "    self._target(*self._args, **self._kwargs)\n",
      "  File \"/usr/lib/python3.7/multiprocessing/pool.py\", line 110, in worker\n",
      "    task = get()\n",
      "  File \"/usr/lib/python3.7/multiprocessing/process.py\", line 99, in run\n",
      "    self._target(*self._args, **self._kwargs)\n",
      "  File \"/usr/lib/python3.7/multiprocessing/pool.py\", line 110, in worker\n",
      "    task = get()\n",
      "  File \"/usr/lib/python3.7/multiprocessing/pool.py\", line 110, in worker\n",
      "    task = get()\n",
      "  File \"/usr/lib/python3.7/multiprocessing/pool.py\", line 110, in worker\n",
      "    task = get()\n",
      "  File \"/usr/lib/python3.7/multiprocessing/pool.py\", line 110, in worker\n",
      "    task = get()\n",
      "  File \"/usr/lib/python3.7/multiprocessing/pool.py\", line 110, in worker\n",
      "    task = get()\n",
      "  File \"/usr/lib/python3.7/multiprocessing/pool.py\", line 110, in worker\n",
      "    task = get()\n",
      "  File \"/usr/lib/python3.7/multiprocessing/queues.py\", line 351, in get\n",
      "    with self._rlock:\n",
      "  File \"/usr/lib/python3.7/multiprocessing/pool.py\", line 110, in worker\n",
      "    task = get()\n",
      "  File \"/usr/lib/python3.7/multiprocessing/queues.py\", line 351, in get\n",
      "    with self._rlock:\n",
      "  File \"/usr/lib/python3.7/multiprocessing/queues.py\", line 351, in get\n",
      "    with self._rlock:\n",
      "  File \"/usr/lib/python3.7/multiprocessing/queues.py\", line 351, in get\n",
      "    with self._rlock:\n",
      "  File \"/usr/lib/python3.7/multiprocessing/queues.py\", line 352, in get\n",
      "    res = self._reader.recv_bytes()\n",
      "  File \"/usr/lib/python3.7/multiprocessing/queues.py\", line 351, in get\n",
      "    with self._rlock:\n",
      "  File \"/usr/lib/python3.7/multiprocessing/queues.py\", line 351, in get\n",
      "    with self._rlock:\n",
      "  File \"/usr/lib/python3.7/multiprocessing/synchronize.py\", line 95, in __enter__\n",
      "    return self._semlock.__enter__()\n",
      "  File \"/usr/lib/python3.7/multiprocessing/synchronize.py\", line 95, in __enter__\n",
      "    return self._semlock.__enter__()\n",
      "  File \"/usr/lib/python3.7/multiprocessing/synchronize.py\", line 95, in __enter__\n",
      "    return self._semlock.__enter__()\n",
      "  File \"/usr/lib/python3.7/multiprocessing/queues.py\", line 351, in get\n",
      "    with self._rlock:\n",
      "  File \"/usr/lib/python3.7/multiprocessing/synchronize.py\", line 95, in __enter__\n",
      "    return self._semlock.__enter__()\n",
      "  File \"/usr/lib/python3.7/multiprocessing/connection.py\", line 216, in recv_bytes\n",
      "    buf = self._recv_bytes(maxlength)\n",
      "  File \"/usr/lib/python3.7/multiprocessing/synchronize.py\", line 95, in __enter__\n",
      "    return self._semlock.__enter__()\n",
      "KeyboardInterrupt\n",
      "KeyboardInterrupt\n",
      "  File \"/usr/lib/python3.7/multiprocessing/synchronize.py\", line 95, in __enter__\n",
      "    return self._semlock.__enter__()\n",
      "KeyboardInterrupt\n",
      "  File \"/usr/lib/python3.7/multiprocessing/synchronize.py\", line 95, in __enter__\n",
      "    return self._semlock.__enter__()\n",
      "KeyboardInterrupt\n",
      "  File \"/usr/lib/python3.7/multiprocessing/connection.py\", line 407, in _recv_bytes\n",
      "    buf = self._recv(4)\n",
      "KeyboardInterrupt\n",
      "KeyboardInterrupt\n",
      "KeyboardInterrupt\n",
      "KeyboardInterrupt\n",
      "  File \"/usr/lib/python3.7/multiprocessing/connection.py\", line 379, in _recv\n",
      "    chunk = read(handle, remaining)\n"
     ]
    },
    {
     "data": {
      "text/plain": "<IPython.core.display.HTML object>",
      "text/html": "<div style=\"display: block; margin-left: auto; margin-right: auto; width: 50%;white-space: nowrap\"><svg height=\"291pt\" viewBox=\"0.00 0.00 503.00 291.00\" width=\"503pt\" xmlns=\"http://www.w3.org/2000/svg\" xmlns:xlink=\"http://www.w3.org/1999/xlink\">\n<g class=\"graph\" id=\"graph0\" transform=\"scale(1 1) rotate(0) translate(4 287)\">\n<title>%3</title>\n<polygon fill=\"#ffffff\" points=\"-4,4 -4,-287 499,-287 499,4 -4,4\" stroke=\"transparent\"/>\n<!-- fake -->\n<g class=\"node\" id=\"node1\">\n<title>fake</title>\n</g>\n<!-- 0 -->\n<g class=\"node\" id=\"node2\">\n<title>0</title>\n<ellipse cx=\"279\" cy=\"-192\" fill=\"none\" rx=\"27\" ry=\"18\" stroke=\"#000000\"/>\n<text fill=\"#000000\" font-family=\"Times,serif\" font-size=\"14.00\" text-anchor=\"middle\" x=\"279\" y=\"-188.3\">0</text>\n</g>\n<!-- fake&#45;&gt;0 -->\n<g class=\"edge\" id=\"edge1\">\n<title>fake-&gt;0</title>\n<path d=\"M279,-246.9551C279,-238.8828 279,-229.1764 279,-220.1817\" fill=\"none\" stroke=\"#000000\" stroke-width=\"2\"/>\n<polygon fill=\"#000000\" points=\"282.5001,-220.0903 279,-210.0904 275.5001,-220.0904 282.5001,-220.0903\" stroke=\"#000000\" stroke-width=\"2\"/>\n</g>\n<!-- 0&#45;&gt;0 -->\n<g class=\"edge\" id=\"edge2\">\n<title>0-&gt;0</title>\n<path d=\"M305.7949,-194.2451C315.7804,-194.3187 324,-193.5703 324,-192 324,-191.0186 320.7892,-190.3582 315.9433,-190.0189\" fill=\"none\" stroke=\"#000000\"/>\n<polygon fill=\"#000000\" points=\"315.8825,-186.5162 305.7949,-189.7549 315.7004,-193.5139 315.8825,-186.5162\" stroke=\"#000000\"/>\n<text fill=\"#000000\" font-family=\"Times,serif\" font-size=\"14.00\" text-anchor=\"middle\" x=\"346.5\" y=\"-188.3\">(0, 0, 0)</text>\n</g>\n<!-- 0&#45;&gt;0 -->\n<g class=\"edge\" id=\"edge4\">\n<title>0-&gt;0</title>\n<path d=\"M305.5064,-195.6387C333.3545,-197.5254 369,-196.3125 369,-192 369,-188.1929 341.2194,-186.8014 315.5481,-187.8257\" fill=\"none\" stroke=\"#000000\"/>\n<polygon fill=\"#000000\" points=\"315.3058,-184.3336 305.5064,-188.3613 315.6787,-191.3236 315.3058,-184.3336\" stroke=\"#000000\"/>\n<text fill=\"#000000\" font-family=\"Times,serif\" font-size=\"14.00\" text-anchor=\"middle\" x=\"391.5\" y=\"-188.3\">(1, 0, 0)</text>\n</g>\n<!-- 0&#45;&gt;0 -->\n<g class=\"edge\" id=\"edge7\">\n<title>0-&gt;0</title>\n<path d=\"M305.4339,-196.5243C347.0896,-200.5921 414,-199.084 414,-192 414,-185.4695 357.1359,-183.6776 315.6154,-186.6244\" fill=\"none\" stroke=\"#000000\"/>\n<polygon fill=\"#000000\" points=\"315.1075,-183.1545 305.4339,-187.4757 315.6908,-190.1302 315.1075,-183.1545\" stroke=\"#000000\"/>\n<text fill=\"#000000\" font-family=\"Times,serif\" font-size=\"14.00\" text-anchor=\"middle\" x=\"436.5\" y=\"-188.3\">(2, 0, 0)</text>\n</g>\n<!-- 1 -->\n<g class=\"node\" id=\"node3\">\n<title>1</title>\n<ellipse cx=\"27\" cy=\"-105\" fill=\"none\" rx=\"27\" ry=\"18\" stroke=\"#000000\"/>\n<text fill=\"#000000\" font-family=\"Times,serif\" font-size=\"14.00\" text-anchor=\"middle\" x=\"27\" y=\"-101.3\">1</text>\n</g>\n<!-- 0&#45;&gt;1 -->\n<g class=\"edge\" id=\"edge3\">\n<title>0-&gt;1</title>\n<path d=\"M251.8393,-190.0766C201.0614,-186.0628 94.0705,-175.5074 63,-156 53.5,-150.0355 45.7973,-140.5576 39.9913,-131.3822\" fill=\"none\" stroke=\"#000000\"/>\n<polygon fill=\"#000000\" points=\"42.8596,-129.3508 34.8213,-122.4489 36.8011,-132.8571 42.8596,-129.3508\" stroke=\"#000000\"/>\n<text fill=\"#000000\" font-family=\"Times,serif\" font-size=\"14.00\" text-anchor=\"middle\" x=\"85.5\" y=\"-144.8\">(2, 1, 1)</text>\n</g>\n<!-- 0&#45;&gt;1 -->\n<g class=\"edge\" id=\"edge5\">\n<title>0-&gt;1</title>\n<path d=\"M253.2252,-186.2544C225.9945,-179.9117 181.9656,-168.8771 145,-156 128.4319,-150.2284 87.7053,-132.3091 58.7444,-119.3405\" fill=\"none\" stroke=\"#000000\"/>\n<polygon fill=\"#000000\" points=\"59.9821,-116.0596 49.4258,-115.1569 57.1151,-122.4456 59.9821,-116.0596\" stroke=\"#000000\"/>\n<text fill=\"#000000\" font-family=\"Times,serif\" font-size=\"14.00\" text-anchor=\"middle\" x=\"167.5\" y=\"-144.8\">(1, 1, 1)</text>\n</g>\n<!-- 0&#45;&gt;1 -->\n<g class=\"edge\" id=\"edge6\">\n<title>0-&gt;1</title>\n<path d=\"M258.8462,-179.4979C237.1158,-166.1912 203.7868,-146.3294 190,-141 148.2905,-124.877 97.6441,-115.1113 63.9867,-109.8968\" fill=\"none\" stroke=\"#000000\"/>\n<polygon fill=\"#000000\" points=\"64.0957,-106.3744 53.6889,-108.3614 63.0633,-113.2979 64.0957,-106.3744\" stroke=\"#000000\"/>\n<text fill=\"#000000\" font-family=\"Times,serif\" font-size=\"14.00\" text-anchor=\"middle\" x=\"240.5\" y=\"-144.8\">(0, 1, 1)</text>\n</g>\n<!-- 1&#45;&gt;1 -->\n<g class=\"edge\" id=\"edge8\">\n<title>1-&gt;1</title>\n<path d=\"M53.7949,-107.6192C63.7804,-107.7051 72,-106.832 72,-105 72,-103.855 68.7892,-103.0846 63.9433,-102.6887\" fill=\"none\" stroke=\"#000000\"/>\n<polygon fill=\"#000000\" points=\"63.8964,-99.1858 53.7949,-102.3808 63.6841,-106.1826 63.8964,-99.1858\" stroke=\"#000000\"/>\n<text fill=\"#000000\" font-family=\"Times,serif\" font-size=\"14.00\" text-anchor=\"middle\" x=\"94.5\" y=\"-101.3\">(1, 0, 0)</text>\n</g>\n<!-- 1&#45;&gt;1 -->\n<g class=\"edge\" id=\"edge10\">\n<title>1-&gt;1</title>\n<path d=\"M53.5064,-109.2451C81.3545,-111.4463 117,-110.0313 117,-105 117,-100.5583 89.2194,-98.935 63.5481,-100.13\" fill=\"none\" stroke=\"#000000\"/>\n<polygon fill=\"#000000\" points=\"63.2697,-96.6405 53.5064,-100.7549 63.7045,-103.627 63.2697,-96.6405\" stroke=\"#000000\"/>\n<text fill=\"#000000\" font-family=\"Times,serif\" font-size=\"14.00\" text-anchor=\"middle\" x=\"139.5\" y=\"-101.3\">(2, 0, 0)</text>\n</g>\n<!-- 1&#45;&gt;1 -->\n<g class=\"edge\" id=\"edge12\">\n<title>1-&gt;1</title>\n<path d=\"M53.1243,-110.243C94.7571,-115.0328 162,-113.2852 162,-105 162,-97.3621 104.8534,-95.2802 63.3066,-98.7541\" fill=\"none\" stroke=\"#000000\"/>\n<polygon fill=\"#000000\" points=\"62.733,-95.2936 53.1243,-99.757 63.4192,-102.2599 62.733,-95.2936\" stroke=\"#000000\"/>\n<text fill=\"#000000\" font-family=\"Times,serif\" font-size=\"14.00\" text-anchor=\"middle\" x=\"184.5\" y=\"-101.3\">(0, 0, 0)</text>\n</g>\n<!-- 2 -->\n<g class=\"node\" id=\"node4\">\n<title>2</title>\n<ellipse cx=\"279\" cy=\"-18\" fill=\"none\" rx=\"27\" ry=\"18\" stroke=\"#000000\"/>\n<text fill=\"#000000\" font-family=\"Times,serif\" font-size=\"14.00\" text-anchor=\"middle\" x=\"279\" y=\"-14.3\">2</text>\n</g>\n<!-- 1&#45;&gt;2 -->\n<g class=\"edge\" id=\"edge9\">\n<title>1-&gt;2</title>\n<path d=\"M34.8213,-87.5511C40.8618,-76.1514 50.3334,-61.9527 63,-54 92.1286,-35.7118 187.9841,-25.2916 241.692,-20.7532\" fill=\"none\" stroke=\"#000000\"/>\n<polygon fill=\"#000000\" points=\"242.1579,-24.2269 251.8393,-19.9234 241.5873,-17.2502 242.1579,-24.2269\" stroke=\"#000000\"/>\n<text fill=\"#000000\" font-family=\"Times,serif\" font-size=\"14.00\" text-anchor=\"middle\" x=\"85.5\" y=\"-57.8\">(0, 1, 1)</text>\n</g>\n<!-- 1&#45;&gt;2 -->\n<g class=\"edge\" id=\"edge11\">\n<title>1-&gt;2</title>\n<path d=\"M49.4258,-94.8431C78.1888,-81.8975 126.559,-60.424 145,-54 177.7781,-42.5816 216.1099,-32.6119 243.359,-26.0776\" fill=\"none\" stroke=\"#000000\"/>\n<polygon fill=\"#000000\" points=\"244.2984,-29.4521 253.2252,-23.7456 242.6882,-22.6398 244.2984,-29.4521\" stroke=\"#000000\"/>\n<text fill=\"#000000\" font-family=\"Times,serif\" font-size=\"14.00\" text-anchor=\"middle\" x=\"167.5\" y=\"-57.8\">(2, 1, 1)</text>\n</g>\n<!-- 1&#45;&gt;2 -->\n<g class=\"edge\" id=\"edge13\">\n<title>1-&gt;2</title>\n<path d=\"M53.6889,-101.6386C86.577,-96.928 143.7765,-86.8679 190,-69 202.0635,-64.3368 229.0889,-48.5472 250.2145,-35.7582\" fill=\"none\" stroke=\"#000000\"/>\n<polygon fill=\"#000000\" points=\"252.1254,-38.6924 258.8462,-30.5021 248.4848,-32.7136 252.1254,-38.6924\" stroke=\"#000000\"/>\n<text fill=\"#000000\" font-family=\"Times,serif\" font-size=\"14.00\" text-anchor=\"middle\" x=\"240.5\" y=\"-57.8\">(1, 1, 1)</text>\n</g>\n<!-- 2&#45;&gt;0 -->\n<g class=\"edge\" id=\"edge15\">\n<title>2-&gt;0</title>\n<path d=\"M279,-36.0471C279,-66.2455 279,-127.2509 279,-163.3619\" fill=\"none\" stroke=\"#000000\"/>\n<polygon fill=\"#000000\" points=\"275.5001,-163.7078 279,-173.7078 282.5001,-163.7079 275.5001,-163.7078\" stroke=\"#000000\"/>\n<text fill=\"#000000\" font-family=\"Times,serif\" font-size=\"14.00\" text-anchor=\"middle\" x=\"301.5\" y=\"-101.3\">(1, 1, 1)</text>\n</g>\n<!-- 2&#45;&gt;0 -->\n<g class=\"edge\" id=\"edge17\">\n<title>2-&gt;0</title>\n<path d=\"M294.0384,-33.1551C305.8399,-46.1907 321.3478,-66.1434 328,-87 332.8619,-102.2434 332.8619,-107.7566 328,-123 322.5431,-140.1089 311.1271,-156.6096 300.6863,-169.1827\" fill=\"none\" stroke=\"#000000\"/>\n<polygon fill=\"#000000\" points=\"297.9482,-166.9978 294.0384,-176.8449 303.2356,-171.5853 297.9482,-166.9978\" stroke=\"#000000\"/>\n<text fill=\"#000000\" font-family=\"Times,serif\" font-size=\"14.00\" text-anchor=\"middle\" x=\"353.5\" y=\"-101.3\">(0, 1, 1)</text>\n</g>\n<!-- 2&#45;&gt;0 -->\n<g class=\"edge\" id=\"edge18\">\n<title>2-&gt;0</title>\n<path d=\"M302.9053,-26.5828C327.3123,-36.7859 363.8401,-56.389 380,-87 387.4696,-101.1494 387.4696,-108.8506 380,-123 365.7969,-149.9042 335.8602,-168.3051 312.2474,-179.2942\" fill=\"none\" stroke=\"#000000\"/>\n<polygon fill=\"#000000\" points=\"310.6408,-176.1775 302.9053,-183.4172 313.4671,-182.5816 310.6408,-176.1775\" stroke=\"#000000\"/>\n<text fill=\"#000000\" font-family=\"Times,serif\" font-size=\"14.00\" text-anchor=\"middle\" x=\"407.5\" y=\"-101.3\">(1, 0, 0)</text>\n</g>\n<!-- 2&#45;&gt;0 -->\n<g class=\"edge\" id=\"edge19\">\n<title>2-&gt;0</title>\n<path d=\"M305.1571,-23.4139C357.4078,-35.5195 466.9665,-68.108 434,-123 409.3255,-164.0852 353.4052,-180.8178 315.9231,-187.5571\" fill=\"none\" stroke=\"#000000\"/>\n<polygon fill=\"#000000\" points=\"315.1828,-184.1317 305.8815,-189.2048 316.3163,-191.0393 315.1828,-184.1317\" stroke=\"#000000\"/>\n<text fill=\"#000000\" font-family=\"Times,serif\" font-size=\"14.00\" text-anchor=\"middle\" x=\"462.5\" y=\"-101.3\">(2, 1, 1)</text>\n</g>\n<!-- 2&#45;&gt;2 -->\n<g class=\"edge\" id=\"edge14\">\n<title>2-&gt;2</title>\n<path d=\"M305.7949,-21.9288C315.7804,-22.0577 324,-20.748 324,-18 324,-16.2825 320.7892,-15.1268 315.9433,-14.5331\" fill=\"none\" stroke=\"#000000\"/>\n<polygon fill=\"#000000\" points=\"315.9437,-11.0296 305.7949,-14.0712 315.6253,-18.0223 315.9437,-11.0296\" stroke=\"#000000\"/>\n<text fill=\"#000000\" font-family=\"Times,serif\" font-size=\"14.00\" text-anchor=\"middle\" x=\"346.5\" y=\"-14.3\">(2, 0, 0)</text>\n</g>\n<!-- 2&#45;&gt;2 -->\n<g class=\"edge\" id=\"edge16\">\n<title>2-&gt;2</title>\n<path d=\"M304.6012,-24.2581C332.5754,-27.7149 369,-25.6289 369,-18 369,-11.2651 340.6122,-8.8501 314.7118,-10.755\" fill=\"none\" stroke=\"#000000\"/>\n<polygon fill=\"#000000\" points=\"314.2138,-7.2869 304.6012,-11.7419 314.8939,-14.2537 314.2138,-7.2869\" stroke=\"#000000\"/>\n<text fill=\"#000000\" font-family=\"Times,serif\" font-size=\"14.00\" text-anchor=\"middle\" x=\"391.5\" y=\"-14.3\">(0, 0, 0)</text>\n</g>\n</g>\n</svg></div>"
     },
     "metadata": {},
     "output_type": "display_data"
    }
   ],
   "source": [
    "rdp_generator, (v, t) = learning_rotating_mab(\n",
    "    stop_probability=0.2,\n",
    "    winning_probabilities=(0.1, 0.2, 0.9),\n",
    "    max_episode_steps=1000,\n",
    "    nb_samples=1000000,\n",
    "    delta=0.05,\n",
    "    n_upperbound=6,\n",
    "    nb_processes=8)\n",
    "\n",
    "render_digraph(to_graphviz_from_graph(v, t, char2str=lambda c: str(rdp_generator.decoder(c))))"
   ],
   "metadata": {
    "collapsed": false,
    "pycharm": {
     "name": "#%%\n"
    }
   }
  },
  {
   "cell_type": "markdown",
   "source": [
    "##### Rotating MAB, 4 arms, with probabilities (1.0, 0.0, 0.0, 0.0)\n"
   ],
   "metadata": {
    "collapsed": false
   }
  },
  {
   "cell_type": "code",
   "execution_count": 4,
   "outputs": [
    {
     "name": "stdout",
     "output_type": "stream",
     "text": [
      "Apriori expected length of traces: 1/stop_prob = 4.999999999999994\n",
      "Average length of traces: 3.84\n"
     ]
    },
    {
     "name": "stderr",
     "output_type": "stream",
     "text": [
      "[2020-11-06 21:28:24,520][src.learn_pdfa][INFO] Parameters: ('BalleParams(sample_generator=<src.learn_pdfa.common.MultiprocessedGenerator '\n",
      " 'object at 0x7f1b88f7ca50>, nb_samples=300000, n=5, alphabet_size=16, '\n",
      " 'delta=0.1)')\n",
      "[2020-11-06 21:28:36,628][src.learn_pdfa][INFO] Iteration 0\n",
      "[2020-11-06 21:28:38,105][src.learn_pdfa][INFO] Iteration 1\n",
      "[2020-11-06 21:28:39,752][src.learn_pdfa][INFO] Iteration 2\n",
      "[2020-11-06 21:28:41,548][src.learn_pdfa][INFO] Iteration 3\n",
      "[2020-11-06 21:28:43,771][src.learn_pdfa][INFO] Iteration 4\n",
      "[2020-11-06 21:28:46,167][src.learn_pdfa][INFO] Iteration 5\n",
      "[2020-11-06 21:28:48,428][src.learn_pdfa][INFO] Iteration 6\n",
      "[2020-11-06 21:28:50,795][src.learn_pdfa][INFO] Iteration 7\n",
      "[2020-11-06 21:28:53,328][src.learn_pdfa][INFO] Iteration 8\n",
      "[2020-11-06 21:28:55,860][src.learn_pdfa][INFO] Iteration 9\n",
      "[2020-11-06 21:28:58,476][src.learn_pdfa][INFO] Iteration 10\n",
      "[2020-11-06 21:29:01,108][src.learn_pdfa][INFO] Iteration 11\n",
      "[2020-11-06 21:29:03,925][src.learn_pdfa][INFO] Iteration 12\n",
      "[2020-11-06 21:29:06,649][src.learn_pdfa][INFO] Iteration 13\n",
      "[2020-11-06 21:29:09,379][src.learn_pdfa][INFO] Iteration 14\n",
      "[2020-11-06 21:29:12,085][src.learn_pdfa][INFO] Iteration 15\n",
      "[2020-11-06 21:29:14,768][src.learn_pdfa][INFO] Iteration 16\n",
      "[2020-11-06 21:29:17,493][src.learn_pdfa][INFO] Iteration 17\n",
      "[2020-11-06 21:29:20,215][src.learn_pdfa][INFO] Iteration 18\n",
      "/home/marcofavorito/.local/share/virtualenvs/PAC-RDPs-code-h40RRNYH/lib/python3.7/site-packages/ipykernel_launcher.py:10: DeprecationWarning: 'shape' argument should be used instead of 'dims'\n",
      "  # Remove the CWD from sys.path while we load stuff.\n",
      "[2020-11-06 21:29:22,115][graphviz.files][DEBUG] write 587 bytes to '/tmp/tmpo3k5dw9f/output'\n",
      "[2020-11-06 21:29:22,116][graphviz.backend][DEBUG] run ['dot', '-Tsvg', '-O', 'output']\n"
     ]
    },
    {
     "data": {
      "text/plain": "<IPython.core.display.HTML object>",
      "text/html": "<div style=\"display: block; margin-left: auto; margin-right: auto; width: 50%;white-space: nowrap\"><svg height=\"378pt\" viewBox=\"0.00 0.00 689.00 378.00\" width=\"689pt\" xmlns=\"http://www.w3.org/2000/svg\" xmlns:xlink=\"http://www.w3.org/1999/xlink\">\n<g class=\"graph\" id=\"graph0\" transform=\"scale(1 1) rotate(0) translate(4 374)\">\n<title>%3</title>\n<polygon fill=\"#ffffff\" points=\"-4,4 -4,-374 685,-374 685,4 -4,4\" stroke=\"transparent\"/>\n<!-- fake -->\n<g class=\"node\" id=\"node1\">\n<title>fake</title>\n</g>\n<!-- 0 -->\n<g class=\"node\" id=\"node2\">\n<title>0</title>\n<ellipse cx=\"339\" cy=\"-279\" fill=\"none\" rx=\"27\" ry=\"18\" stroke=\"#000000\"/>\n<text fill=\"#000000\" font-family=\"Times,serif\" font-size=\"14.00\" text-anchor=\"middle\" x=\"339\" y=\"-275.3\">0</text>\n</g>\n<!-- fake&#45;&gt;0 -->\n<g class=\"edge\" id=\"edge1\">\n<title>fake-&gt;0</title>\n<path d=\"M339,-333.9551C339,-325.8828 339,-316.1764 339,-307.1817\" fill=\"none\" stroke=\"#000000\" stroke-width=\"2\"/>\n<polygon fill=\"#000000\" points=\"342.5001,-307.0903 339,-297.0904 335.5001,-307.0904 342.5001,-307.0903\" stroke=\"#000000\" stroke-width=\"2\"/>\n</g>\n<!-- 0&#45;&gt;0 -->\n<g class=\"edge\" id=\"edge2\">\n<title>0-&gt;0</title>\n<path d=\"M366.2408,-280.4985C376.0239,-280.5308 384,-280.0313 384,-279 384,-278.3716 381.0382,-277.9406 376.5105,-277.7071\" fill=\"none\" stroke=\"#000000\"/>\n<polygon fill=\"#000000\" points=\"376.3089,-274.2025 366.2408,-277.5015 376.1687,-281.2011 376.3089,-274.2025\" stroke=\"#000000\"/>\n<text fill=\"#000000\" font-family=\"Times,serif\" font-size=\"14.00\" text-anchor=\"middle\" x=\"406.5\" y=\"-275.3\">(1, 0, 0)</text>\n</g>\n<!-- 0&#45;&gt;0 -->\n<g class=\"edge\" id=\"edge3\">\n<title>0-&gt;0</title>\n<path d=\"M365.9612,-281.4461C393.7409,-282.6747 429,-281.8594 429,-279 429,-276.4757 401.5205,-275.5444 375.9668,-276.2062\" fill=\"none\" stroke=\"#000000\"/>\n<polygon fill=\"#000000\" points=\"375.8335,-272.7086 365.9612,-276.5539 376.0767,-279.7044 375.8335,-272.7086\" stroke=\"#000000\"/>\n<text fill=\"#000000\" font-family=\"Times,serif\" font-size=\"14.00\" text-anchor=\"middle\" x=\"451.5\" y=\"-275.3\">(3, 0, 0)</text>\n</g>\n<!-- 0&#45;&gt;0 -->\n<g class=\"edge\" id=\"edge5\">\n<title>0-&gt;0</title>\n<path d=\"M365.7444,-282.0363C407.4212,-284.7231 474,-283.7109 474,-279 474,-274.6571 417.4178,-273.4577 375.9248,-275.4017\" fill=\"none\" stroke=\"#000000\"/>\n<polygon fill=\"#000000\" points=\"375.5363,-271.9177 365.7444,-275.9637 375.9222,-278.9071 375.5363,-271.9177\" stroke=\"#000000\"/>\n<text fill=\"#000000\" font-family=\"Times,serif\" font-size=\"14.00\" text-anchor=\"middle\" x=\"496.5\" y=\"-275.3\">(2, 0, 0)</text>\n</g>\n<!-- 0&#45;&gt;0 -->\n<g class=\"edge\" id=\"edge6\">\n<title>0-&gt;0</title>\n<path d=\"M365.5522,-282.4772C419.1375,-286.7528 519,-285.5938 519,-279 519,-272.8055 430.8642,-271.4075 375.762,-274.806\" fill=\"none\" stroke=\"#000000\"/>\n<polygon fill=\"#000000\" points=\"375.2825,-271.3309 365.5522,-275.5228 375.7728,-278.3137 375.2825,-271.3309\" stroke=\"#000000\"/>\n<text fill=\"#000000\" font-family=\"Times,serif\" font-size=\"14.00\" text-anchor=\"middle\" x=\"541.5\" y=\"-275.3\">(0, 0, 0)</text>\n</g>\n<!-- 0&#45;&gt;0 -->\n<g class=\"edge\" id=\"edge7\">\n<title>0-&gt;0</title>\n<path d=\"M365.4373,-282.8332C429.7385,-288.7738 564,-287.4961 564,-279 564,-270.9353 443.0282,-269.3746 375.7476,-274.3176\" fill=\"none\" stroke=\"#000000\"/>\n<polygon fill=\"#000000\" points=\"375.1162,-270.8577 365.4373,-275.1668 375.6908,-277.8341 375.1162,-270.8577\" stroke=\"#000000\"/>\n<text fill=\"#000000\" font-family=\"Times,serif\" font-size=\"14.00\" text-anchor=\"middle\" x=\"586.5\" y=\"-275.3\">(3, 1, 1)</text>\n</g>\n<!-- 1 -->\n<g class=\"node\" id=\"node3\">\n<title>1</title>\n<ellipse cx=\"27\" cy=\"-192\" fill=\"none\" rx=\"27\" ry=\"18\" stroke=\"#000000\"/>\n<text fill=\"#000000\" font-family=\"Times,serif\" font-size=\"14.00\" text-anchor=\"middle\" x=\"27\" y=\"-188.3\">1</text>\n</g>\n<!-- 0&#45;&gt;1 -->\n<g class=\"edge\" id=\"edge4\">\n<title>0-&gt;1</title>\n<path d=\"M313.9951,-272.0275C258.6565,-256.5965 125.7041,-219.5233 62.0799,-201.7819\" fill=\"none\" stroke=\"#000000\"/>\n<polygon fill=\"#000000\" points=\"62.6966,-198.3204 52.1239,-199.0057 60.8163,-205.0632 62.6966,-198.3204\" stroke=\"#000000\"/>\n<text fill=\"#000000\" font-family=\"Times,serif\" font-size=\"14.00\" text-anchor=\"middle\" x=\"224.5\" y=\"-231.8\">(0, 1, 1)</text>\n</g>\n<!-- 1&#45;&gt;1 -->\n<g class=\"edge\" id=\"edge8\">\n<title>1-&gt;1</title>\n<path d=\"M53.7949,-194.6192C63.7804,-194.7051 72,-193.832 72,-192 72,-190.855 68.7892,-190.0846 63.9433,-189.6887\" fill=\"none\" stroke=\"#000000\"/>\n<polygon fill=\"#000000\" points=\"63.8964,-186.1858 53.7949,-189.3808 63.6841,-193.1826 63.8964,-186.1858\" stroke=\"#000000\"/>\n<text fill=\"#000000\" font-family=\"Times,serif\" font-size=\"14.00\" text-anchor=\"middle\" x=\"94.5\" y=\"-188.3\">(0, 0, 0)</text>\n</g>\n<!-- 1&#45;&gt;1 -->\n<g class=\"edge\" id=\"edge9\">\n<title>1-&gt;1</title>\n<path d=\"M53.5064,-196.2451C81.3545,-198.4463 117,-197.0313 117,-192 117,-187.5583 89.2194,-185.935 63.5481,-187.13\" fill=\"none\" stroke=\"#000000\"/>\n<polygon fill=\"#000000\" points=\"63.2697,-183.6405 53.5064,-187.7549 63.7045,-190.627 63.2697,-183.6405\" stroke=\"#000000\"/>\n<text fill=\"#000000\" font-family=\"Times,serif\" font-size=\"14.00\" text-anchor=\"middle\" x=\"139.5\" y=\"-188.3\">(3, 0, 0)</text>\n</g>\n<!-- 1&#45;&gt;1 -->\n<g class=\"edge\" id=\"edge10\">\n<title>1-&gt;1</title>\n<path d=\"M53.1243,-197.243C94.7571,-202.0328 162,-200.2852 162,-192 162,-184.3621 104.8534,-182.2802 63.3066,-185.7541\" fill=\"none\" stroke=\"#000000\"/>\n<polygon fill=\"#000000\" points=\"62.733,-182.2936 53.1243,-186.757 63.4192,-189.2599 62.733,-182.2936\" stroke=\"#000000\"/>\n<text fill=\"#000000\" font-family=\"Times,serif\" font-size=\"14.00\" text-anchor=\"middle\" x=\"184.5\" y=\"-188.3\">(2, 0, 0)</text>\n</g>\n<!-- 2 -->\n<g class=\"node\" id=\"node4\">\n<title>2</title>\n<ellipse cx=\"27\" cy=\"-105\" fill=\"none\" rx=\"27\" ry=\"18\" stroke=\"#000000\"/>\n<text fill=\"#000000\" font-family=\"Times,serif\" font-size=\"14.00\" text-anchor=\"middle\" x=\"27\" y=\"-101.3\">2</text>\n</g>\n<!-- 1&#45;&gt;2 -->\n<g class=\"edge\" id=\"edge11\">\n<title>1-&gt;2</title>\n<path d=\"M27,-173.9735C27,-162.1918 27,-146.5607 27,-133.1581\" fill=\"none\" stroke=\"#000000\"/>\n<polygon fill=\"#000000\" points=\"30.5001,-133.0033 27,-123.0034 23.5001,-133.0034 30.5001,-133.0033\" stroke=\"#000000\"/>\n<text fill=\"#000000\" font-family=\"Times,serif\" font-size=\"14.00\" text-anchor=\"middle\" x=\"49.5\" y=\"-144.8\">(1, 1, 1)</text>\n</g>\n<!-- 2&#45;&gt;2 -->\n<g class=\"edge\" id=\"edge13\">\n<title>2-&gt;2</title>\n<path d=\"M53.7949,-107.6192C63.7804,-107.7051 72,-106.832 72,-105 72,-103.855 68.7892,-103.0846 63.9433,-102.6887\" fill=\"none\" stroke=\"#000000\"/>\n<polygon fill=\"#000000\" points=\"63.8964,-99.1858 53.7949,-102.3808 63.6841,-106.1826 63.8964,-99.1858\" stroke=\"#000000\"/>\n<text fill=\"#000000\" font-family=\"Times,serif\" font-size=\"14.00\" text-anchor=\"middle\" x=\"94.5\" y=\"-101.3\">(1, 0, 0)</text>\n</g>\n<!-- 2&#45;&gt;2 -->\n<g class=\"edge\" id=\"edge14\">\n<title>2-&gt;2</title>\n<path d=\"M53.5064,-109.2451C81.3545,-111.4463 117,-110.0313 117,-105 117,-100.5583 89.2194,-98.935 63.5481,-100.13\" fill=\"none\" stroke=\"#000000\"/>\n<polygon fill=\"#000000\" points=\"63.2697,-96.6405 53.5064,-100.7549 63.7045,-103.627 63.2697,-96.6405\" stroke=\"#000000\"/>\n<text fill=\"#000000\" font-family=\"Times,serif\" font-size=\"14.00\" text-anchor=\"middle\" x=\"139.5\" y=\"-101.3\">(3, 0, 0)</text>\n</g>\n<!-- 2&#45;&gt;2 -->\n<g class=\"edge\" id=\"edge15\">\n<title>2-&gt;2</title>\n<path d=\"M53.1243,-110.243C94.7571,-115.0328 162,-113.2852 162,-105 162,-97.3621 104.8534,-95.2802 63.3066,-98.7541\" fill=\"none\" stroke=\"#000000\"/>\n<polygon fill=\"#000000\" points=\"62.733,-95.2936 53.1243,-99.757 63.4192,-102.2599 62.733,-95.2936\" stroke=\"#000000\"/>\n<text fill=\"#000000\" font-family=\"Times,serif\" font-size=\"14.00\" text-anchor=\"middle\" x=\"184.5\" y=\"-101.3\">(0, 0, 0)</text>\n</g>\n<!-- 3 -->\n<g class=\"node\" id=\"node5\">\n<title>3</title>\n<ellipse cx=\"339\" cy=\"-18\" fill=\"none\" rx=\"27\" ry=\"18\" stroke=\"#000000\"/>\n<text fill=\"#000000\" font-family=\"Times,serif\" font-size=\"14.00\" text-anchor=\"middle\" x=\"339\" y=\"-14.3\">3</text>\n</g>\n<!-- 2&#45;&gt;3 -->\n<g class=\"edge\" id=\"edge12\">\n<title>2-&gt;3</title>\n<path d=\"M52.0049,-98.0275C107.3435,-82.5965 240.2959,-45.5233 303.9201,-27.7819\" fill=\"none\" stroke=\"#000000\"/>\n<polygon fill=\"#000000\" points=\"305.1837,-31.0632 313.8761,-25.0057 303.3034,-24.3204 305.1837,-31.0632\" stroke=\"#000000\"/>\n<text fill=\"#000000\" font-family=\"Times,serif\" font-size=\"14.00\" text-anchor=\"middle\" x=\"224.5\" y=\"-57.8\">(2, 1, 1)</text>\n</g>\n<!-- 3&#45;&gt;0 -->\n<g class=\"edge\" id=\"edge16\">\n<title>3-&gt;0</title>\n<path d=\"M323.5917,-32.9389C300.2442,-57.4477 259.8395,-108.2537 272,-156 281.3663,-192.7753 304.2124,-230.4239 320.6224,-254.214\" fill=\"none\" stroke=\"#000000\"/>\n<polygon fill=\"#000000\" points=\"317.9302,-256.4694 326.555,-262.6226 323.6498,-252.4338 317.9302,-256.4694\" stroke=\"#000000\"/>\n<text fill=\"#000000\" font-family=\"Times,serif\" font-size=\"14.00\" text-anchor=\"middle\" x=\"294.5\" y=\"-144.8\">(1, 0, 0)</text>\n</g>\n<!-- 3&#45;&gt;0 -->\n<g class=\"edge\" id=\"edge17\">\n<title>3-&gt;0</title>\n<path d=\"M339,-36.3327C339,-81.1446 339,-196.4964 339,-250.4199\" fill=\"none\" stroke=\"#000000\"/>\n<polygon fill=\"#000000\" points=\"335.5001,-250.647 339,-260.647 342.5001,-250.647 335.5001,-250.647\" stroke=\"#000000\"/>\n<text fill=\"#000000\" font-family=\"Times,serif\" font-size=\"14.00\" text-anchor=\"middle\" x=\"361.5\" y=\"-144.8\">(2, 0, 0)</text>\n</g>\n<!-- 3&#45;&gt;0 -->\n<g class=\"edge\" id=\"edge18\">\n<title>3-&gt;0</title>\n<path d=\"M347.8006,-35.3521C359.0778,-58.6654 378.0052,-101.7203 385,-141 392.2082,-181.4784 371.644,-226.2845 355.7161,-253.5428\" fill=\"none\" stroke=\"#000000\"/>\n<polygon fill=\"#000000\" points=\"352.5265,-252.0524 350.3287,-262.4168 358.5101,-255.6851 352.5265,-252.0524\" stroke=\"#000000\"/>\n<text fill=\"#000000\" font-family=\"Times,serif\" font-size=\"14.00\" text-anchor=\"middle\" x=\"408.5\" y=\"-144.8\">(3, 1, 1)</text>\n</g>\n<!-- 3&#45;&gt;0 -->\n<g class=\"edge\" id=\"edge19\">\n<title>3-&gt;0</title>\n<path d=\"M355.8212,-32.1547C379.1784,-53.0825 420.2276,-94.8169 435,-141 450.4265,-189.2282 400.8502,-235.4699 367.293,-260.2663\" fill=\"none\" stroke=\"#000000\"/>\n<polygon fill=\"#000000\" points=\"364.835,-257.7212 358.7384,-266.3862 368.9079,-263.4144 364.835,-257.7212\" stroke=\"#000000\"/>\n<text fill=\"#000000\" font-family=\"Times,serif\" font-size=\"14.00\" text-anchor=\"middle\" x=\"459.5\" y=\"-144.8\">(0, 0, 0)</text>\n</g>\n</g>\n</svg></div>"
     },
     "metadata": {},
     "output_type": "display_data"
    }
   ],
   "source": [
    "rdp_generator, (v, t) = learning_rotating_mab(\n",
    "    stop_probability=0.2,\n",
    "    winning_probabilities=(1.0, 0.0, 0.0, 0.0),\n",
    "    max_episode_steps=50,\n",
    "    nb_samples=300000,\n",
    "    delta=0.1,\n",
    "    n_upperbound=5,\n",
    "    nb_processes=8)\n",
    "\n",
    "render_digraph(to_graphviz_from_graph(v, t, char2str=lambda c: str(rdp_generator.decoder(c))))\n"
   ],
   "metadata": {
    "collapsed": false,
    "pycharm": {
     "name": "#%%\n"
    }
   }
  },
  {
   "cell_type": "markdown",
   "source": [
    "##### Rotating MAB, 5 arms, with probabilities (1.0, 0.0, 0.0, 0.0, 0.0)\n"
   ],
   "metadata": {
    "collapsed": false,
    "pycharm": {
     "name": "#%% md\n"
    }
   }
  },
  {
   "cell_type": "code",
   "execution_count": 3,
   "outputs": [
    {
     "name": "stdout",
     "output_type": "stream",
     "text": [
      "Apriori expected length of traces: 1/stop_prob = 6.666666666666657\n",
      "Average length of traces: 5.611\n"
     ]
    },
    {
     "name": "stderr",
     "output_type": "stream",
     "text": [
      "[2020-11-06 22:11:12,955][src.learn_pdfa][INFO] Parameters: ('BalleParams(sample_generator=<src.learn_pdfa.common.MultiprocessedGenerator '\n",
      " 'object at 0x7f3400f48910>, nb_samples=1000000, n=10, alphabet_size=20, '\n",
      " 'delta=0.05)')\n",
      "[2020-11-06 22:12:16,380][src.learn_pdfa][INFO] Iteration 0\n",
      "[2020-11-06 22:12:25,422][src.learn_pdfa][INFO] Iteration 1\n",
      "[2020-11-06 22:12:35,280][src.learn_pdfa][INFO] Iteration 2\n",
      "[2020-11-06 22:12:45,929][src.learn_pdfa][INFO] Iteration 3\n",
      "[2020-11-06 22:12:59,253][src.learn_pdfa][INFO] Iteration 4\n",
      "[2020-11-06 22:13:14,098][src.learn_pdfa][INFO] Iteration 5\n",
      "[2020-11-06 22:13:28,238][src.learn_pdfa][INFO] Iteration 6\n",
      "[2020-11-06 22:13:43,299][src.learn_pdfa][INFO] Iteration 7\n",
      "[2020-11-06 22:13:58,909][src.learn_pdfa][INFO] Iteration 8\n",
      "[2020-11-06 22:14:15,204][src.learn_pdfa][INFO] Iteration 9\n",
      "[2020-11-06 22:14:32,561][src.learn_pdfa][INFO] Iteration 10\n",
      "[2020-11-06 22:14:48,810][src.learn_pdfa][INFO] Iteration 11\n",
      "[2020-11-06 22:15:05,389][src.learn_pdfa][INFO] Iteration 12\n",
      "[2020-11-06 22:15:22,624][src.learn_pdfa][INFO] Iteration 13\n",
      "[2020-11-06 22:15:40,294][src.learn_pdfa][INFO] Iteration 14\n",
      "[2020-11-06 22:15:59,062][src.learn_pdfa][INFO] Iteration 15\n",
      "[2020-11-06 22:16:16,432][src.learn_pdfa][INFO] Iteration 16\n",
      "[2020-11-06 22:16:33,805][src.learn_pdfa][INFO] Iteration 17\n",
      "[2020-11-06 22:16:51,360][src.learn_pdfa][INFO] Iteration 18\n",
      "[2020-11-06 22:17:08,948][src.learn_pdfa][INFO] Iteration 19\n",
      "[2020-11-06 22:17:26,647][src.learn_pdfa][INFO] Iteration 20\n",
      "[2020-11-06 22:17:44,291][src.learn_pdfa][INFO] Iteration 21\n",
      "[2020-11-06 22:18:02,206][src.learn_pdfa][INFO] Iteration 22\n",
      "[2020-11-06 22:18:20,233][src.learn_pdfa][INFO] Iteration 23\n",
      "/home/marcofavorito/.local/share/virtualenvs/PAC-RDPs-code-h40RRNYH/lib/python3.7/site-packages/ipykernel_launcher.py:10: DeprecationWarning: 'shape' argument should be used instead of 'dims'\n",
      "  # Remove the CWD from sys.path while we load stuff.\n",
      "[2020-11-06 22:18:31,638][graphviz.files][DEBUG] write 727 bytes to '/tmp/tmpcgirazzn/output'\n",
      "[2020-11-06 22:18:31,638][graphviz.backend][DEBUG] run ['dot', '-Tsvg', '-O', 'output']\n"
     ]
    },
    {
     "data": {
      "text/plain": "<IPython.core.display.HTML object>",
      "text/html": "<div style=\"display: block; margin-left: auto; margin-right: auto; width: 50%;white-space: nowrap\"><svg height=\"378pt\" viewBox=\"0.00 0.00 912.00 378.00\" width=\"912pt\" xmlns=\"http://www.w3.org/2000/svg\" xmlns:xlink=\"http://www.w3.org/1999/xlink\">\n<g class=\"graph\" id=\"graph0\" transform=\"scale(1 1) rotate(0) translate(4 374)\">\n<title>%3</title>\n<polygon fill=\"#ffffff\" points=\"-4,4 -4,-374 908,-374 908,4 -4,4\" stroke=\"transparent\"/>\n<!-- fake -->\n<g class=\"node\" id=\"node1\">\n<title>fake</title>\n</g>\n<!-- 0 -->\n<g class=\"node\" id=\"node2\">\n<title>0</title>\n<ellipse cx=\"436\" cy=\"-279\" fill=\"none\" rx=\"27\" ry=\"18\" stroke=\"#000000\"/>\n<text fill=\"#000000\" font-family=\"Times,serif\" font-size=\"14.00\" text-anchor=\"middle\" x=\"436\" y=\"-275.3\">0</text>\n</g>\n<!-- fake&#45;&gt;0 -->\n<g class=\"edge\" id=\"edge1\">\n<title>fake-&gt;0</title>\n<path d=\"M436,-333.9551C436,-325.8828 436,-316.1764 436,-307.1817\" fill=\"none\" stroke=\"#000000\" stroke-width=\"2\"/>\n<polygon fill=\"#000000\" points=\"439.5001,-307.0903 436,-297.0904 432.5001,-307.0904 439.5001,-307.0903\" stroke=\"#000000\" stroke-width=\"2\"/>\n</g>\n<!-- 0&#45;&gt;0 -->\n<g class=\"edge\" id=\"edge2\">\n<title>0-&gt;0</title>\n<path d=\"M463.2408,-280.4985C473.0239,-280.5308 481,-280.0313 481,-279 481,-278.3716 478.0382,-277.9406 473.5105,-277.7071\" fill=\"none\" stroke=\"#000000\"/>\n<polygon fill=\"#000000\" points=\"473.3089,-274.2025 463.2408,-277.5015 473.1687,-281.2011 473.3089,-274.2025\" stroke=\"#000000\"/>\n<text fill=\"#000000\" font-family=\"Times,serif\" font-size=\"14.00\" text-anchor=\"middle\" x=\"503.5\" y=\"-275.3\">(4, 0, 0)</text>\n</g>\n<!-- 0&#45;&gt;0 -->\n<g class=\"edge\" id=\"edge3\">\n<title>0-&gt;0</title>\n<path d=\"M462.9612,-281.4461C490.7409,-282.6747 526,-281.8594 526,-279 526,-276.4757 498.5205,-275.5444 472.9668,-276.2062\" fill=\"none\" stroke=\"#000000\"/>\n<polygon fill=\"#000000\" points=\"472.8335,-272.7086 462.9612,-276.5539 473.0767,-279.7044 472.8335,-272.7086\" stroke=\"#000000\"/>\n<text fill=\"#000000\" font-family=\"Times,serif\" font-size=\"14.00\" text-anchor=\"middle\" x=\"548.5\" y=\"-275.3\">(3, 0, 0)</text>\n</g>\n<!-- 0&#45;&gt;0 -->\n<g class=\"edge\" id=\"edge5\">\n<title>0-&gt;0</title>\n<path d=\"M462.7444,-282.0363C504.4212,-284.7231 571,-283.7109 571,-279 571,-274.6571 514.4178,-273.4577 472.9248,-275.4017\" fill=\"none\" stroke=\"#000000\"/>\n<polygon fill=\"#000000\" points=\"472.5363,-271.9177 462.7444,-275.9637 472.9222,-278.9071 472.5363,-271.9177\" stroke=\"#000000\"/>\n<text fill=\"#000000\" font-family=\"Times,serif\" font-size=\"14.00\" text-anchor=\"middle\" x=\"593.5\" y=\"-275.3\">(2, 0, 0)</text>\n</g>\n<!-- 0&#45;&gt;0 -->\n<g class=\"edge\" id=\"edge6\">\n<title>0-&gt;0</title>\n<path d=\"M462.5522,-282.4772C516.1375,-286.7528 616,-285.5938 616,-279 616,-272.8055 527.8642,-271.4075 472.762,-274.806\" fill=\"none\" stroke=\"#000000\"/>\n<polygon fill=\"#000000\" points=\"472.2825,-271.3309 462.5522,-275.5228 472.7728,-278.3137 472.2825,-271.3309\" stroke=\"#000000\"/>\n<text fill=\"#000000\" font-family=\"Times,serif\" font-size=\"14.00\" text-anchor=\"middle\" x=\"638.5\" y=\"-275.3\">(1, 0, 0)</text>\n</g>\n<!-- 0&#45;&gt;0 -->\n<g class=\"edge\" id=\"edge7\">\n<title>0-&gt;0</title>\n<path d=\"M462.4373,-282.8332C526.7385,-288.7738 661,-287.4961 661,-279 661,-270.9353 540.0282,-269.3746 472.7476,-274.3176\" fill=\"none\" stroke=\"#000000\"/>\n<polygon fill=\"#000000\" points=\"472.1162,-270.8577 462.4373,-275.1668 472.6908,-277.8341 472.1162,-270.8577\" stroke=\"#000000\"/>\n<text fill=\"#000000\" font-family=\"Times,serif\" font-size=\"14.00\" text-anchor=\"middle\" x=\"683.5\" y=\"-275.3\">(3, 1, 1)</text>\n</g>\n<!-- 0&#45;&gt;0 -->\n<g class=\"edge\" id=\"edge8\">\n<title>0-&gt;0</title>\n<path d=\"M462.506,-283.1462C536.7968,-290.7883 706,-289.4063 706,-279 706,-269.0409 551.0253,-267.3471 472.5873,-273.9186\" fill=\"none\" stroke=\"#000000\"/>\n<polygon fill=\"#000000\" points=\"472.14,-270.445 462.506,-274.8538 472.7866,-277.4151 472.14,-270.445\" stroke=\"#000000\"/>\n<text fill=\"#000000\" font-family=\"Times,serif\" font-size=\"14.00\" text-anchor=\"middle\" x=\"728.5\" y=\"-275.3\">(0, 0, 0)</text>\n</g>\n<!-- 0&#45;&gt;0 -->\n<g class=\"edge\" id=\"edge9\">\n<title>0-&gt;0</title>\n<path d=\"M462.2143,-283.3765C545.7045,-292.8045 751,-291.3457 751,-279 751,-267.1245 561.0444,-265.3224 472.2657,-273.5937\" fill=\"none\" stroke=\"#000000\"/>\n<polygon fill=\"#000000\" points=\"471.8054,-270.1224 462.2143,-274.6235 472.519,-277.086 471.8054,-270.1224\" stroke=\"#000000\"/>\n<text fill=\"#000000\" font-family=\"Times,serif\" font-size=\"14.00\" text-anchor=\"middle\" x=\"773.5\" y=\"-275.3\">(4, 1, 1)</text>\n</g>\n<!-- 1 -->\n<g class=\"node\" id=\"node3\">\n<title>1</title>\n<ellipse cx=\"27\" cy=\"-192\" fill=\"none\" rx=\"27\" ry=\"18\" stroke=\"#000000\"/>\n<text fill=\"#000000\" font-family=\"Times,serif\" font-size=\"14.00\" text-anchor=\"middle\" x=\"27\" y=\"-188.3\">1</text>\n</g>\n<!-- 0&#45;&gt;1 -->\n<g class=\"edge\" id=\"edge4\">\n<title>0-&gt;1</title>\n<path d=\"M410.1049,-273.4918C339.6065,-258.4958 144.1121,-216.9114 62.9945,-199.6565\" fill=\"none\" stroke=\"#000000\"/>\n<polygon fill=\"#000000\" points=\"63.2913,-196.1414 52.7819,-197.4842 61.8348,-202.9882 63.2913,-196.1414\" stroke=\"#000000\"/>\n<text fill=\"#000000\" font-family=\"Times,serif\" font-size=\"14.00\" text-anchor=\"middle\" x=\"278.5\" y=\"-231.8\">(0, 1, 1)</text>\n</g>\n<!-- 1&#45;&gt;1 -->\n<g class=\"edge\" id=\"edge11\">\n<title>1-&gt;1</title>\n<path d=\"M54.2408,-193.9668C64.0239,-194.0091 72,-193.3535 72,-192 72,-191.1752 69.0382,-190.6096 64.5105,-190.3031\" fill=\"none\" stroke=\"#000000\"/>\n<polygon fill=\"#000000\" points=\"64.3293,-186.7972 54.2408,-190.0332 64.1453,-193.7948 64.3293,-186.7972\" stroke=\"#000000\"/>\n<text fill=\"#000000\" font-family=\"Times,serif\" font-size=\"14.00\" text-anchor=\"middle\" x=\"94.5\" y=\"-188.3\">(2, 0, 0)</text>\n</g>\n<!-- 1&#45;&gt;1 -->\n<g class=\"edge\" id=\"edge12\">\n<title>1-&gt;1</title>\n<path d=\"M53.9612,-195.2105C81.7409,-196.8231 117,-195.7529 117,-192 117,-188.6869 89.5205,-187.4646 63.9668,-188.3331\" fill=\"none\" stroke=\"#000000\"/>\n<polygon fill=\"#000000\" points=\"63.7913,-184.8374 53.9612,-188.7895 64.1103,-191.8301 63.7913,-184.8374\" stroke=\"#000000\"/>\n<text fill=\"#000000\" font-family=\"Times,serif\" font-size=\"14.00\" text-anchor=\"middle\" x=\"139.5\" y=\"-188.3\">(4, 0, 0)</text>\n</g>\n<!-- 1&#45;&gt;1 -->\n<g class=\"edge\" id=\"edge13\">\n<title>1-&gt;1</title>\n<path d=\"M53.4339,-195.9588C95.0896,-199.5181 162,-198.1985 162,-192 162,-186.2858 105.1359,-184.7179 63.6154,-187.2963\" fill=\"none\" stroke=\"#000000\"/>\n<polygon fill=\"#000000\" points=\"63.1518,-183.8208 53.4339,-188.0412 63.6626,-190.8021 63.1518,-183.8208\" stroke=\"#000000\"/>\n<text fill=\"#000000\" font-family=\"Times,serif\" font-size=\"14.00\" text-anchor=\"middle\" x=\"184.5\" y=\"-188.3\">(3, 0, 0)</text>\n</g>\n<!-- 1&#45;&gt;1 -->\n<g class=\"edge\" id=\"edge14\">\n<title>1-&gt;1</title>\n<path d=\"M53.172,-196.5238C106.6637,-202.1827 207,-200.6748 207,-192 207,-183.8504 118.446,-182.0261 63.3708,-186.5271\" fill=\"none\" stroke=\"#000000\"/>\n<polygon fill=\"#000000\" points=\"62.8047,-183.0646 53.172,-187.4762 63.4534,-190.0345 62.8047,-183.0646\" stroke=\"#000000\"/>\n<text fill=\"#000000\" font-family=\"Times,serif\" font-size=\"14.00\" text-anchor=\"middle\" x=\"229.5\" y=\"-188.3\">(0, 0, 0)</text>\n</g>\n<!-- 2 -->\n<g class=\"node\" id=\"node4\">\n<title>2</title>\n<ellipse cx=\"27\" cy=\"-105\" fill=\"none\" rx=\"27\" ry=\"18\" stroke=\"#000000\"/>\n<text fill=\"#000000\" font-family=\"Times,serif\" font-size=\"14.00\" text-anchor=\"middle\" x=\"27\" y=\"-101.3\">2</text>\n</g>\n<!-- 1&#45;&gt;2 -->\n<g class=\"edge\" id=\"edge10\">\n<title>1-&gt;2</title>\n<path d=\"M27,-173.9735C27,-162.1918 27,-146.5607 27,-133.1581\" fill=\"none\" stroke=\"#000000\"/>\n<polygon fill=\"#000000\" points=\"30.5001,-133.0033 27,-123.0034 23.5001,-133.0034 30.5001,-133.0033\" stroke=\"#000000\"/>\n<text fill=\"#000000\" font-family=\"Times,serif\" font-size=\"14.00\" text-anchor=\"middle\" x=\"49.5\" y=\"-144.8\">(1, 1, 1)</text>\n</g>\n<!-- 2&#45;&gt;2 -->\n<g class=\"edge\" id=\"edge15\">\n<title>2-&gt;2</title>\n<path d=\"M54.2408,-106.9668C64.0239,-107.0091 72,-106.3535 72,-105 72,-104.1752 69.0382,-103.6096 64.5105,-103.3031\" fill=\"none\" stroke=\"#000000\"/>\n<polygon fill=\"#000000\" points=\"64.3293,-99.7972 54.2408,-103.0332 64.1453,-106.7948 64.3293,-99.7972\" stroke=\"#000000\"/>\n<text fill=\"#000000\" font-family=\"Times,serif\" font-size=\"14.00\" text-anchor=\"middle\" x=\"94.5\" y=\"-101.3\">(4, 0, 0)</text>\n</g>\n<!-- 2&#45;&gt;2 -->\n<g class=\"edge\" id=\"edge17\">\n<title>2-&gt;2</title>\n<path d=\"M53.9612,-108.2105C81.7409,-109.8231 117,-108.7529 117,-105 117,-101.6869 89.5205,-100.4646 63.9668,-101.3331\" fill=\"none\" stroke=\"#000000\"/>\n<polygon fill=\"#000000\" points=\"63.7913,-97.8374 53.9612,-101.7895 64.1103,-104.8301 63.7913,-97.8374\" stroke=\"#000000\"/>\n<text fill=\"#000000\" font-family=\"Times,serif\" font-size=\"14.00\" text-anchor=\"middle\" x=\"139.5\" y=\"-101.3\">(0, 0, 0)</text>\n</g>\n<!-- 2&#45;&gt;2 -->\n<g class=\"edge\" id=\"edge18\">\n<title>2-&gt;2</title>\n<path d=\"M53.4339,-108.9588C95.0896,-112.5181 162,-111.1985 162,-105 162,-99.2858 105.1359,-97.7179 63.6154,-100.2963\" fill=\"none\" stroke=\"#000000\"/>\n<polygon fill=\"#000000\" points=\"63.1518,-96.8208 53.4339,-101.0412 63.6626,-103.8021 63.1518,-96.8208\" stroke=\"#000000\"/>\n<text fill=\"#000000\" font-family=\"Times,serif\" font-size=\"14.00\" text-anchor=\"middle\" x=\"184.5\" y=\"-101.3\">(1, 0, 0)</text>\n</g>\n<!-- 2&#45;&gt;2 -->\n<g class=\"edge\" id=\"edge19\">\n<title>2-&gt;2</title>\n<path d=\"M53.172,-109.5238C106.6637,-115.1827 207,-113.6748 207,-105 207,-96.8504 118.446,-95.0261 63.3708,-99.5271\" fill=\"none\" stroke=\"#000000\"/>\n<polygon fill=\"#000000\" points=\"62.8047,-96.0646 53.172,-100.4762 63.4534,-103.0345 62.8047,-96.0646\" stroke=\"#000000\"/>\n<text fill=\"#000000\" font-family=\"Times,serif\" font-size=\"14.00\" text-anchor=\"middle\" x=\"229.5\" y=\"-101.3\">(3, 0, 0)</text>\n</g>\n<!-- 3 -->\n<g class=\"node\" id=\"node5\">\n<title>3</title>\n<ellipse cx=\"436\" cy=\"-18\" fill=\"none\" rx=\"27\" ry=\"18\" stroke=\"#000000\"/>\n<text fill=\"#000000\" font-family=\"Times,serif\" font-size=\"14.00\" text-anchor=\"middle\" x=\"436\" y=\"-14.3\">3</text>\n</g>\n<!-- 2&#45;&gt;3 -->\n<g class=\"edge\" id=\"edge16\">\n<title>2-&gt;3</title>\n<path d=\"M52.8951,-99.4918C123.3935,-84.4958 318.8879,-42.9114 400.0055,-25.6565\" fill=\"none\" stroke=\"#000000\"/>\n<polygon fill=\"#000000\" points=\"401.1652,-28.9882 410.2181,-23.4842 399.7087,-22.1414 401.1652,-28.9882\" stroke=\"#000000\"/>\n<text fill=\"#000000\" font-family=\"Times,serif\" font-size=\"14.00\" text-anchor=\"middle\" x=\"278.5\" y=\"-57.8\">(2, 1, 1)</text>\n</g>\n<!-- 3&#45;&gt;0 -->\n<g class=\"edge\" id=\"edge20\">\n<title>3-&gt;0</title>\n<path d=\"M416.0177,-30.1324C382.4455,-52.2407 319.7994,-101.8307 335,-156 347.2327,-199.5928 357.5634,-209.48 388,-243 393.7114,-249.29 400.6558,-255.2262 407.4679,-260.3957\" fill=\"none\" stroke=\"#000000\"/>\n<polygon fill=\"#000000\" points=\"405.7669,-263.4846 415.9228,-266.5024 409.8655,-257.8099 405.7669,-263.4846\" stroke=\"#000000\"/>\n<text fill=\"#000000\" font-family=\"Times,serif\" font-size=\"14.00\" text-anchor=\"middle\" x=\"357.5\" y=\"-144.8\">(4, 0, 0)</text>\n</g>\n<!-- 3&#45;&gt;0 -->\n<g class=\"edge\" id=\"edge21\">\n<title>3-&gt;0</title>\n<path d=\"M429.6981,-35.6284C421.6207,-59.2476 408.0564,-102.6404 403,-141 397.8104,-180.3699 412.2418,-224.8774 423.6413,-252.4411\" fill=\"none\" stroke=\"#000000\"/>\n<polygon fill=\"#000000\" points=\"420.4955,-253.9854 427.662,-261.7887 426.9258,-251.2195 420.4955,-253.9854\" stroke=\"#000000\"/>\n<text fill=\"#000000\" font-family=\"Times,serif\" font-size=\"14.00\" text-anchor=\"middle\" x=\"425.5\" y=\"-144.8\">(0, 0, 0)</text>\n</g>\n<!-- 3&#45;&gt;0 -->\n<g class=\"edge\" id=\"edge22\">\n<title>3-&gt;0</title>\n<path d=\"M438.3463,-36.2974C441.2938,-60.2891 446.1854,-103.7115 448,-141 449.8472,-178.9577 444.8415,-222.637 440.7394,-250.5112\" fill=\"none\" stroke=\"#000000\"/>\n<polygon fill=\"#000000\" points=\"437.2293,-250.3104 439.1717,-260.7256 444.1483,-251.3723 437.2293,-250.3104\" stroke=\"#000000\"/>\n<text fill=\"#000000\" font-family=\"Times,serif\" font-size=\"14.00\" text-anchor=\"middle\" x=\"470.5\" y=\"-144.8\">(1, 0, 0)</text>\n</g>\n<!-- 3&#45;&gt;0 -->\n<g class=\"edge\" id=\"edge23\">\n<title>3-&gt;0</title>\n<path d=\"M447.4634,-34.5342C462.441,-57.2768 487.8369,-100.0616 497,-141 506.4995,-183.4411 478.0186,-228.8779 456.8266,-255.5726\" fill=\"none\" stroke=\"#000000\"/>\n<polygon fill=\"#000000\" points=\"453.9108,-253.6078 450.2596,-263.5537 459.3162,-258.0555 453.9108,-253.6078\" stroke=\"#000000\"/>\n<text fill=\"#000000\" font-family=\"Times,serif\" font-size=\"14.00\" text-anchor=\"middle\" x=\"520.5\" y=\"-144.8\">(2, 0, 0)</text>\n</g>\n<!-- 3&#45;&gt;0 -->\n<g class=\"edge\" id=\"edge24\">\n<title>3-&gt;0</title>\n<path d=\"M455.0362,-31.1577C482.0089,-51.1607 529.9652,-92.1075 547,-141 564.9347,-192.4753 504.7938,-238.8385 466.115,-262.4829\" fill=\"none\" stroke=\"#000000\"/>\n<polygon fill=\"#000000\" points=\"464.0945,-259.6119 457.2776,-267.7224 467.6644,-265.6331 464.0945,-259.6119\" stroke=\"#000000\"/>\n<text fill=\"#000000\" font-family=\"Times,serif\" font-size=\"14.00\" text-anchor=\"middle\" x=\"572.5\" y=\"-144.8\">(3, 1, 1)</text>\n</g>\n</g>\n</svg></div>"
     },
     "metadata": {},
     "output_type": "display_data"
    }
   ],
   "source": [
    "# rdp_generator, (v, t) = learning_rotating_mab(\n",
    "#     stop_probability=0.15,\n",
    "#     winning_probabilities=(1.0, 0.0, 0.0, 0.0, 0.0),\n",
    "#     max_episode_steps=100,\n",
    "#     nb_samples=1000000,\n",
    "#     delta=0.05,\n",
    "#     n_upperbound=10,\n",
    "#     nb_processes=6)\n",
    "#\n",
    "# render_digraph(to_graphviz_from_graph(v, t, char2str=lambda c: str(rdp_generator.decoder(c))))"
   ],
   "metadata": {
    "collapsed": false,
    "pycharm": {
     "name": "#%%\n"
    }
   }
  },
  {
   "cell_type": "code",
   "execution_count": null,
   "outputs": [],
   "source": [],
   "metadata": {
    "collapsed": false,
    "pycharm": {
     "name": "#%%\n"
    }
   }
  }
 ],
 "metadata": {
  "kernelspec": {
   "display_name": "Python 3",
   "language": "python",
   "name": "python3"
  },
  "language_info": {
   "codemirror_mode": {
    "name": "ipython",
    "version": 2
   },
   "file_extension": ".py",
   "mimetype": "text/x-python",
   "name": "python",
   "nbconvert_exporter": "python",
   "pygments_lexer": "ipython2",
   "version": "2.7.6"
  }
 },
 "nbformat": 4,
 "nbformat_minor": 0
}