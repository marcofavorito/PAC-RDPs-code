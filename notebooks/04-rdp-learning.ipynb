{
 "cells": [
  {
   "cell_type": "markdown",
   "metadata": {
    "collapsed": true,
    "pycharm": {
     "name": "#%% md\n"
    }
   },
   "source": [
    "## RDP Learning\n",
    "\n",
    "In this notebook, we show how to perform PAC learning\n",
    "over RDPs.\n",
    "\n",
    "### Experiment 1: Rotating MAB"
   ]
  },
  {
   "cell_type": "code",
   "execution_count": 1,
   "outputs": [
    {
     "name": "stdout",
     "output_type": "stream",
     "text": [
      "Observation space: Discrete(2)\n",
      "Action space: Discrete(2)\n",
      "Initial state: 0\n",
      "----------\n",
      "Action: 0\n",
      "Next state: 1\n",
      "Reward: 1.0\n",
      "----------\n",
      "Action: 0\n",
      "Next state: 1\n",
      "Reward: 1.0\n"
     ]
    }
   ],
   "source": [
    "from functools import partial\n",
    "from typing import Tuple, Set, Dict\n",
    "\n",
    "import gym\n",
    "import numpy as np\n",
    "from gym.wrappers import TimeLimit\n",
    "from notebooks.utils import render_digraph\n",
    "\n",
    "from src import NonMarkovianRotatingMAB\n",
    "from src.learn_pdfa.base import learn_pdfa, Algorithm\n",
    "from src.learn_pdfa.common import MultiprocessedGenerator\n",
    "from src.learn_rdps import random_exploration_policy, RDPGenerator\n",
    "from src.pdfa.render import to_graphviz_from_graph\n",
    "from src.pdfa.types import Character\n",
    "\n",
    "env = NonMarkovianRotatingMAB(winning_probs=[0.9, 0.2])\n",
    "\n",
    "print(f\"Observation space: {env.observation_space}\")\n",
    "print(f\"Action space: {env.action_space}\")\n",
    "\n",
    "s = env.reset()\n",
    "print(f\"Initial state: {s}\")\n",
    "\n",
    "action = 0\n",
    "sp, reward, _, _ = env.step(action)\n",
    "print(\"-\" * 10)\n",
    "print(f\"Action: {action}\")\n",
    "print(f\"Next state: {sp}\")\n",
    "print(f\"Reward: {reward}\")\n",
    "\n",
    "sp, reward, _, _ = env.step(action)\n",
    "print(\"-\" * 10)\n",
    "print(f\"Action: {action}\")\n",
    "print(f\"Next state: {sp}\")\n",
    "print(f\"Reward: {reward}\")\n"
   ],
   "metadata": {
    "collapsed": false,
    "pycharm": {
     "name": "#%%\n"
    }
   }
  },
  {
   "cell_type": "markdown",
   "source": [
    "### Learning"
   ],
   "metadata": {
    "collapsed": false,
    "pycharm": {
     "name": "#%% md\n"
    }
   }
  },
  {
   "cell_type": "code",
   "execution_count": 2,
   "outputs": [],
   "source": [
    "def learning_rotating_mab(\n",
    "    stop_probability: float,\n",
    "    winning_probabilities: Tuple[float, ...],\n",
    "    max_episode_steps: int,\n",
    "    nb_samples: int,\n",
    "    delta: float,\n",
    "    n_upperbound: int,\n",
    "    nb_processes: int = 8,\n",
    ") -> Tuple[RDPGenerator, Tuple[Set[int], Dict[int, Dict[Character, int]]]]:\n",
    "    \"\"\"Test learning of Rotating MAB.\"\"\"\n",
    "    env = gym.make(\"NonMarkovianRotatingMAB-v0\", winning_probs=winning_probabilities)\n",
    "    env = TimeLimit(env, max_episode_steps=max_episode_steps)\n",
    "\n",
    "    policy = partial(random_exploration_policy, env)\n",
    "\n",
    "    rdp_generator = RDPGenerator(\n",
    "        env, policy=policy, nb_rewards=2, stop_probability=stop_probability\n",
    "    )\n",
    "\n",
    "    examples = rdp_generator.sample(n=1000)\n",
    "\n",
    "    print(\n",
    "        f\"Apriori expected length of traces: 1/stop_prob = {1 / (stop_probability + np.finfo(float).eps)}\"\n",
    "    )\n",
    "    print(f\"Average length of traces: {np.mean([len(e) for e in examples])}\")\n",
    "\n",
    "    mp_rdp_generator = MultiprocessedGenerator(rdp_generator, nb_processes=nb_processes)\n",
    "    v, t = learn_pdfa(\n",
    "        algorithm=Algorithm.BALLE,\n",
    "        nb_samples=nb_samples,\n",
    "        sample_generator=mp_rdp_generator,\n",
    "        alphabet_size=rdp_generator.alphabet_size(),\n",
    "        delta=delta,\n",
    "        n=n_upperbound,\n",
    "    )\n",
    "    return rdp_generator, (v, t)"
   ],
   "metadata": {
    "collapsed": false,
    "pycharm": {
     "name": "#%%\n"
    }
   }
  },
  {
   "cell_type": "code",
   "execution_count": 3,
   "outputs": [
    {
     "name": "stdout",
     "output_type": "stream",
     "text": [
      "Apriori expected length of traces: 1/stop_prob = 4.999999999999994\n",
      "Average length of traces: 3.679\n"
     ]
    },
    {
     "name": "stderr",
     "output_type": "stream",
     "text": [
      "[2020-11-06 19:32:32,880][src.learn_pdfa][INFO] Parameters: ('BalleParams(sample_generator=<src.learn_pdfa.common.MultiprocessedGenerator '\n",
      " 'object at 0x7f2954dafa50>, nb_samples=100000, n=4, alphabet_size=8, '\n",
      " 'delta=0.1)')\n",
      "[2020-11-06 19:32:39,747][src.learn_pdfa][INFO] Iteration 0\n",
      "[2020-11-06 19:32:40,398][src.learn_pdfa][INFO] Iteration 1\n",
      "[2020-11-06 19:32:41,100][src.learn_pdfa][INFO] Iteration 2\n",
      "[2020-11-06 19:32:41,843][src.learn_pdfa][INFO] Iteration 3\n",
      "[2020-11-06 19:32:42,714][src.learn_pdfa][INFO] Iteration 4\n",
      "[2020-11-06 19:32:43,593][src.learn_pdfa][INFO] Iteration 5\n",
      "[2020-11-06 19:32:44,374][src.learn_pdfa][INFO] Iteration 6\n",
      "[2020-11-06 19:32:45,196][src.learn_pdfa][INFO] Iteration 7\n",
      "[2020-11-06 19:32:46,016][src.learn_pdfa][INFO] Iteration 8\n",
      "/home/marcofavorito/.local/share/virtualenvs/PAC-RDPs-code-h40RRNYH/lib/python3.7/site-packages/ipykernel_launcher.py:10: DeprecationWarning: 'shape' argument should be used instead of 'dims'\n",
      "  # Remove the CWD from sys.path while we load stuff.\n",
      "[2020-11-06 19:32:46,711][graphviz.files][DEBUG] write 301 bytes to '/tmp/tmpbtelw_wj/output'\n",
      "[2020-11-06 19:32:46,712][graphviz.backend][DEBUG] run ['dot', '-Tsvg', '-O', 'output']\n"
     ]
    },
    {
     "data": {
      "text/plain": "<IPython.core.display.HTML object>",
      "text/html": "<div style=\"display: block; margin-left: auto; margin-right: auto; width: 50%;white-space: nowrap\"><svg height=\"204pt\" viewBox=\"0.00 0.00 266.48 204.00\" width=\"266pt\" xmlns=\"http://www.w3.org/2000/svg\" xmlns:xlink=\"http://www.w3.org/1999/xlink\">\n<g class=\"graph\" id=\"graph0\" transform=\"scale(1 1) rotate(0) translate(4 200)\">\n<title>%3</title>\n<polygon fill=\"#ffffff\" points=\"-4,4 -4,-200 262.4829,-200 262.4829,4 -4,4\" stroke=\"transparent\"/>\n<!-- fake -->\n<g class=\"node\" id=\"node1\">\n<title>fake</title>\n</g>\n<!-- 0 -->\n<g class=\"node\" id=\"node2\">\n<title>0</title>\n<ellipse cx=\"105.4829\" cy=\"-105\" fill=\"none\" rx=\"27\" ry=\"18\" stroke=\"#000000\"/>\n<text fill=\"#000000\" font-family=\"Times,serif\" font-size=\"14.00\" text-anchor=\"middle\" x=\"105.4829\" y=\"-101.3\">0</text>\n</g>\n<!-- fake&#45;&gt;0 -->\n<g class=\"edge\" id=\"edge1\">\n<title>fake-&gt;0</title>\n<path d=\"M105.4829,-159.9551C105.4829,-151.8828 105.4829,-142.1764 105.4829,-133.1817\" fill=\"none\" stroke=\"#000000\" stroke-width=\"2\"/>\n<polygon fill=\"#000000\" points=\"108.983,-133.0903 105.4829,-123.0904 101.983,-133.0904 108.983,-133.0903\" stroke=\"#000000\" stroke-width=\"2\"/>\n</g>\n<!-- 0&#45;&gt;0 -->\n<g class=\"edge\" id=\"edge3\">\n<title>0-&gt;0</title>\n<path d=\"M132.2778,-108.3676C142.2633,-108.478 150.4829,-107.3555 150.4829,-105 150.4829,-103.5278 147.2721,-102.5373 142.4262,-102.0283\" fill=\"none\" stroke=\"#000000\"/>\n<polygon fill=\"#000000\" points=\"142.4067,-98.525 132.2778,-101.6324 142.1337,-105.5197 142.4067,-98.525\" stroke=\"#000000\"/>\n<text fill=\"#000000\" font-family=\"Times,serif\" font-size=\"14.00\" text-anchor=\"middle\" x=\"172.9829\" y=\"-101.3\">(1, 0, 0)</text>\n</g>\n<!-- 0&#45;&gt;0 -->\n<g class=\"edge\" id=\"edge5\">\n<title>0-&gt;0</title>\n<path d=\"M131.536,-110.4115C159.4489,-113.3077 195.4829,-111.5039 195.4829,-105 195.4829,-99.2583 167.3995,-97.1796 141.6127,-98.764\" fill=\"none\" stroke=\"#000000\"/>\n<polygon fill=\"#000000\" points=\"141.2172,-95.2845 131.536,-99.5885 141.7882,-102.2612 141.2172,-95.2845\" stroke=\"#000000\"/>\n<text fill=\"#000000\" font-family=\"Times,serif\" font-size=\"14.00\" text-anchor=\"middle\" x=\"217.9829\" y=\"-101.3\">(0, 0, 0)</text>\n</g>\n<!-- 1 -->\n<g class=\"node\" id=\"node3\">\n<title>1</title>\n<ellipse cx=\"105.4829\" cy=\"-18\" fill=\"none\" rx=\"27\" ry=\"18\" stroke=\"#000000\"/>\n<text fill=\"#000000\" font-family=\"Times,serif\" font-size=\"14.00\" text-anchor=\"middle\" x=\"105.4829\" y=\"-14.3\">1</text>\n</g>\n<!-- 0&#45;&gt;1 -->\n<g class=\"edge\" id=\"edge2\">\n<title>0-&gt;1</title>\n<path d=\"M79.6246,-99.345C52.7327,-92.878 13.3336,-81.5508 4.4829,-69 -14.0634,-42.7002 32.4915,-29.1752 68.4195,-22.8452\" fill=\"none\" stroke=\"#000000\"/>\n<polygon fill=\"#000000\" points=\"69.368,-26.2369 78.6757,-21.1756 68.2432,-19.3279 69.368,-26.2369\" stroke=\"#000000\"/>\n<text fill=\"#000000\" font-family=\"Times,serif\" font-size=\"14.00\" text-anchor=\"middle\" x=\"26.9829\" y=\"-57.8\">(0, 1, 1)</text>\n</g>\n<!-- 0&#45;&gt;1 -->\n<g class=\"edge\" id=\"edge4\">\n<title>0-&gt;1</title>\n<path d=\"M88.1266,-91.032C81.9588,-84.9876 75.741,-77.3759 72.4829,-69 68.4435,-58.6154 73.3595,-48.1154 80.5269,-39.3642\" fill=\"none\" stroke=\"#000000\"/>\n<polygon fill=\"#000000\" points=\"83.2641,-41.5619 87.5497,-31.8725 78.1571,-36.7745 83.2641,-41.5619\" stroke=\"#000000\"/>\n<text fill=\"#000000\" font-family=\"Times,serif\" font-size=\"14.00\" text-anchor=\"middle\" x=\"94.9829\" y=\"-57.8\">(1, 1, 1)</text>\n</g>\n<!-- 1&#45;&gt;0 -->\n<g class=\"edge\" id=\"edge6\">\n<title>1-&gt;0</title>\n<path d=\"M113.0438,-35.3457C116.4405,-45.1556 119.3188,-57.6871 117.4829,-69 117.0179,-71.8654 116.3575,-74.8109 115.5827,-77.7241\" fill=\"none\" stroke=\"#000000\"/>\n<polygon fill=\"#000000\" points=\"112.2195,-76.7534 112.6256,-87.3405 118.9103,-78.8109 112.2195,-76.7534\" stroke=\"#000000\"/>\n<text fill=\"#000000\" font-family=\"Times,serif\" font-size=\"14.00\" text-anchor=\"middle\" x=\"139.9829\" y=\"-57.8\">(1, 1, 1)</text>\n</g>\n<!-- 1&#45;&gt;0 -->\n<g class=\"edge\" id=\"edge8\">\n<title>1-&gt;0</title>\n<path d=\"M129.807,-26.2081C151.1992,-34.8824 177.3662,-49.9399 166.4829,-69 160.4464,-79.572 149.9561,-87.3511 139.3595,-92.9163\" fill=\"none\" stroke=\"#000000\"/>\n<polygon fill=\"#000000\" points=\"137.6926,-89.8323 130.1293,-97.2516 140.6686,-96.1682 137.6926,-89.8323\" stroke=\"#000000\"/>\n<text fill=\"#000000\" font-family=\"Times,serif\" font-size=\"14.00\" text-anchor=\"middle\" x=\"190.9829\" y=\"-57.8\">(0, 1, 1)</text>\n</g>\n<!-- 1&#45;&gt;1 -->\n<g class=\"edge\" id=\"edge7\">\n<title>1-&gt;1</title>\n<path d=\"M132.2778,-21.9288C142.2633,-22.0577 150.4829,-20.748 150.4829,-18 150.4829,-16.2825 147.2721,-15.1268 142.4262,-14.5331\" fill=\"none\" stroke=\"#000000\"/>\n<polygon fill=\"#000000\" points=\"142.4266,-11.0296 132.2778,-14.0712 142.1083,-18.0223 142.4266,-11.0296\" stroke=\"#000000\"/>\n<text fill=\"#000000\" font-family=\"Times,serif\" font-size=\"14.00\" text-anchor=\"middle\" x=\"172.9829\" y=\"-14.3\">(0, 0, 0)</text>\n</g>\n<!-- 1&#45;&gt;1 -->\n<g class=\"edge\" id=\"edge9\">\n<title>1-&gt;1</title>\n<path d=\"M131.0841,-24.2581C159.0583,-27.7149 195.4829,-25.6289 195.4829,-18 195.4829,-11.2651 167.0951,-8.8501 141.1947,-10.755\" fill=\"none\" stroke=\"#000000\"/>\n<polygon fill=\"#000000\" points=\"140.6967,-7.2869 131.0841,-11.7419 141.3769,-14.2537 140.6967,-7.2869\" stroke=\"#000000\"/>\n<text fill=\"#000000\" font-family=\"Times,serif\" font-size=\"14.00\" text-anchor=\"middle\" x=\"217.9829\" y=\"-14.3\">(1, 0, 0)</text>\n</g>\n</g>\n</svg></div>"
     },
     "metadata": {},
     "output_type": "display_data"
    }
   ],
   "source": [
    "rdp_generator, (v, t) = learning_rotating_mab(\n",
    "    stop_probability=0.2,\n",
    "    winning_probabilities=(0.7, 0.3),\n",
    "    max_episode_steps=15,\n",
    "    nb_samples=100000,\n",
    "    delta=0.1,\n",
    "    n_upperbound=4,\n",
    "    nb_processes=8)\n",
    "\n",
    "render_digraph(to_graphviz_from_graph(v, t, char2str=lambda c: str(rdp_generator.decoder(c))))\n"
   ],
   "metadata": {
    "collapsed": false,
    "pycharm": {
     "name": "#%%\n"
    }
   }
  },
  {
   "cell_type": "code",
   "execution_count": 4,
   "outputs": [
    {
     "name": "stdout",
     "output_type": "stream",
     "text": [
      "Apriori expected length of traces: 1/stop_prob = 4.999999999999994\n",
      "Average length of traces: 3.679\n"
     ]
    },
    {
     "name": "stderr",
     "output_type": "stream",
     "text": [
      "[2020-11-06 19:32:52,234][src.learn_pdfa][INFO] Parameters: ('BalleParams(sample_generator=<src.learn_pdfa.common.MultiprocessedGenerator '\n",
      " 'object at 0x7f296b951bd0>, nb_samples=100000, n=5, alphabet_size=12, '\n",
      " 'delta=0.1)')\n",
      "[2020-11-06 19:32:58,055][src.learn_pdfa][INFO] Iteration 0\n",
      "[2020-11-06 19:32:58,754][src.learn_pdfa][INFO] Iteration 1\n",
      "[2020-11-06 19:32:59,415][src.learn_pdfa][INFO] Iteration 2\n",
      "[2020-11-06 19:33:00,114][src.learn_pdfa][INFO] Iteration 3\n",
      "[2020-11-06 19:33:00,992][src.learn_pdfa][INFO] Iteration 4\n",
      "[2020-11-06 19:33:01,833][src.learn_pdfa][INFO] Iteration 5\n",
      "[2020-11-06 19:33:02,645][src.learn_pdfa][INFO] Iteration 6\n",
      "[2020-11-06 19:33:03,377][src.learn_pdfa][INFO] Iteration 7\n",
      "[2020-11-06 19:33:04,129][src.learn_pdfa][INFO] Iteration 8\n",
      "[2020-11-06 19:33:04,906][src.learn_pdfa][INFO] Iteration 9\n",
      "/home/marcofavorito/.local/share/virtualenvs/PAC-RDPs-code-h40RRNYH/lib/python3.7/site-packages/ipykernel_launcher.py:10: DeprecationWarning: 'shape' argument should be used instead of 'dims'\n",
      "  # Remove the CWD from sys.path while we load stuff.\n",
      "[2020-11-06 19:33:05,455][graphviz.files][DEBUG] write 332 bytes to '/tmp/tmpbtr46l5s/output'\n",
      "[2020-11-06 19:33:05,455][graphviz.backend][DEBUG] run ['dot', '-Tsvg', '-O', 'output']\n"
     ]
    },
    {
     "data": {
      "text/plain": "<IPython.core.display.HTML object>",
      "text/html": "<div style=\"display: block; margin-left: auto; margin-right: auto; width: 50%;white-space: nowrap\"><svg height=\"291pt\" viewBox=\"0.00 0.00 329.00 291.00\" width=\"329pt\" xmlns=\"http://www.w3.org/2000/svg\" xmlns:xlink=\"http://www.w3.org/1999/xlink\">\n<g class=\"graph\" id=\"graph0\" transform=\"scale(1 1) rotate(0) translate(4 287)\">\n<title>%3</title>\n<polygon fill=\"#ffffff\" points=\"-4,4 -4,-287 325,-287 325,4 -4,4\" stroke=\"transparent\"/>\n<!-- fake -->\n<g class=\"node\" id=\"node1\">\n<title>fake</title>\n</g>\n<!-- 0 -->\n<g class=\"node\" id=\"node2\">\n<title>0</title>\n<ellipse cx=\"168\" cy=\"-192\" fill=\"none\" rx=\"27\" ry=\"18\" stroke=\"#000000\"/>\n<text fill=\"#000000\" font-family=\"Times,serif\" font-size=\"14.00\" text-anchor=\"middle\" x=\"168\" y=\"-188.3\">0</text>\n</g>\n<!-- fake&#45;&gt;0 -->\n<g class=\"edge\" id=\"edge1\">\n<title>fake-&gt;0</title>\n<path d=\"M168,-246.9551C168,-238.8828 168,-229.1764 168,-220.1817\" fill=\"none\" stroke=\"#000000\" stroke-width=\"2\"/>\n<polygon fill=\"#000000\" points=\"171.5001,-220.0903 168,-210.0904 164.5001,-220.0904 171.5001,-220.0903\" stroke=\"#000000\" stroke-width=\"2\"/>\n</g>\n<!-- 0&#45;&gt;0 -->\n<g class=\"edge\" id=\"edge2\">\n<title>0-&gt;0</title>\n<path d=\"M194.7949,-195.3676C204.7804,-195.478 213,-194.3555 213,-192 213,-190.5278 209.7892,-189.5373 204.9433,-189.0283\" fill=\"none\" stroke=\"#000000\"/>\n<polygon fill=\"#000000\" points=\"204.9237,-185.525 194.7949,-188.6324 204.6508,-192.5197 204.9237,-185.525\" stroke=\"#000000\"/>\n<text fill=\"#000000\" font-family=\"Times,serif\" font-size=\"14.00\" text-anchor=\"middle\" x=\"235.5\" y=\"-188.3\">(2, 0, 0)</text>\n</g>\n<!-- 0&#45;&gt;0 -->\n<g class=\"edge\" id=\"edge4\">\n<title>0-&gt;0</title>\n<path d=\"M194.0531,-197.4115C221.966,-200.3077 258,-198.5039 258,-192 258,-186.2583 229.9166,-184.1796 204.1297,-185.764\" fill=\"none\" stroke=\"#000000\"/>\n<polygon fill=\"#000000\" points=\"203.7343,-182.2845 194.0531,-186.5885 204.3053,-189.2612 203.7343,-182.2845\" stroke=\"#000000\"/>\n<text fill=\"#000000\" font-family=\"Times,serif\" font-size=\"14.00\" text-anchor=\"middle\" x=\"280.5\" y=\"-188.3\">(1, 0, 0)</text>\n</g>\n<!-- 1 -->\n<g class=\"node\" id=\"node3\">\n<title>1</title>\n<ellipse cx=\"27\" cy=\"-105\" fill=\"none\" rx=\"27\" ry=\"18\" stroke=\"#000000\"/>\n<text fill=\"#000000\" font-family=\"Times,serif\" font-size=\"14.00\" text-anchor=\"middle\" x=\"27\" y=\"-101.3\">1</text>\n</g>\n<!-- 0&#45;&gt;1 -->\n<g class=\"edge\" id=\"edge3\">\n<title>0-&gt;1</title>\n<path d=\"M148.0972,-179.7195C124.0902,-164.9067 83.5388,-139.8857 56.0405,-122.9186\" fill=\"none\" stroke=\"#000000\"/>\n<polygon fill=\"#000000\" points=\"57.6064,-119.7722 47.2581,-117.4997 53.9306,-125.7294 57.6064,-119.7722\" stroke=\"#000000\"/>\n<text fill=\"#000000\" font-family=\"Times,serif\" font-size=\"14.00\" text-anchor=\"middle\" x=\"128.5\" y=\"-144.8\">(0, 1, 1)</text>\n</g>\n<!-- 1&#45;&gt;1 -->\n<g class=\"edge\" id=\"edge6\">\n<title>1-&gt;1</title>\n<path d=\"M53.7949,-108.9288C63.7804,-109.0577 72,-107.748 72,-105 72,-103.2825 68.7892,-102.1268 63.9433,-101.5331\" fill=\"none\" stroke=\"#000000\"/>\n<polygon fill=\"#000000\" points=\"63.9437,-98.0296 53.7949,-101.0712 63.6253,-105.0223 63.9437,-98.0296\" stroke=\"#000000\"/>\n<text fill=\"#000000\" font-family=\"Times,serif\" font-size=\"14.00\" text-anchor=\"middle\" x=\"94.5\" y=\"-101.3\">(0, 0, 0)</text>\n</g>\n<!-- 1&#45;&gt;1 -->\n<g class=\"edge\" id=\"edge7\">\n<title>1-&gt;1</title>\n<path d=\"M52.6012,-111.2581C80.5754,-114.7149 117,-112.6289 117,-105 117,-98.2651 88.6122,-95.8501 62.7118,-97.755\" fill=\"none\" stroke=\"#000000\"/>\n<polygon fill=\"#000000\" points=\"62.2138,-94.2869 52.6012,-98.7419 62.8939,-101.2537 62.2138,-94.2869\" stroke=\"#000000\"/>\n<text fill=\"#000000\" font-family=\"Times,serif\" font-size=\"14.00\" text-anchor=\"middle\" x=\"139.5\" y=\"-101.3\">(2, 0, 0)</text>\n</g>\n<!-- 2 -->\n<g class=\"node\" id=\"node4\">\n<title>2</title>\n<ellipse cx=\"122\" cy=\"-18\" fill=\"none\" rx=\"27\" ry=\"18\" stroke=\"#000000\"/>\n<text fill=\"#000000\" font-family=\"Times,serif\" font-size=\"14.00\" text-anchor=\"middle\" x=\"122\" y=\"-14.3\">2</text>\n</g>\n<!-- 1&#45;&gt;2 -->\n<g class=\"edge\" id=\"edge5\">\n<title>1-&gt;2</title>\n<path d=\"M43.1155,-90.2416C58.2646,-76.3682 81.1229,-55.4348 98.3399,-39.6677\" fill=\"none\" stroke=\"#000000\"/>\n<polygon fill=\"#000000\" points=\"100.7945,-42.1657 105.8055,-32.8308 96.0669,-37.0033 100.7945,-42.1657\" stroke=\"#000000\"/>\n<text fill=\"#000000\" font-family=\"Times,serif\" font-size=\"14.00\" text-anchor=\"middle\" x=\"103.5\" y=\"-57.8\">(1, 1, 1)</text>\n</g>\n<!-- 2&#45;&gt;0 -->\n<g class=\"edge\" id=\"edge9\">\n<title>2-&gt;0</title>\n<path d=\"M141.1469,-31.0242C157.341,-43.3038 179.3974,-63.3264 189,-87 199.362,-112.5456 190.6733,-143.7277 181.5274,-165.4448\" fill=\"none\" stroke=\"#000000\"/>\n<polygon fill=\"#000000\" points=\"178.2733,-164.1473 177.3599,-174.7027 184.6564,-167.0207 178.2733,-164.1473\" stroke=\"#000000\"/>\n<text fill=\"#000000\" font-family=\"Times,serif\" font-size=\"14.00\" text-anchor=\"middle\" x=\"215.5\" y=\"-101.3\">(2, 1, 1)</text>\n</g>\n<!-- 2&#45;&gt;2 -->\n<g class=\"edge\" id=\"edge8\">\n<title>2-&gt;2</title>\n<path d=\"M148.7949,-21.9288C158.7804,-22.0577 167,-20.748 167,-18 167,-16.2825 163.7892,-15.1268 158.9433,-14.5331\" fill=\"none\" stroke=\"#000000\"/>\n<polygon fill=\"#000000\" points=\"158.9437,-11.0296 148.7949,-14.0712 158.6253,-18.0223 158.9437,-11.0296\" stroke=\"#000000\"/>\n<text fill=\"#000000\" font-family=\"Times,serif\" font-size=\"14.00\" text-anchor=\"middle\" x=\"189.5\" y=\"-14.3\">(1, 0, 0)</text>\n</g>\n<!-- 2&#45;&gt;2 -->\n<g class=\"edge\" id=\"edge10\">\n<title>2-&gt;2</title>\n<path d=\"M147.6012,-24.2581C175.5754,-27.7149 212,-25.6289 212,-18 212,-11.2651 183.6122,-8.8501 157.7118,-10.755\" fill=\"none\" stroke=\"#000000\"/>\n<polygon fill=\"#000000\" points=\"157.2138,-7.2869 147.6012,-11.7419 157.8939,-14.2537 157.2138,-7.2869\" stroke=\"#000000\"/>\n<text fill=\"#000000\" font-family=\"Times,serif\" font-size=\"14.00\" text-anchor=\"middle\" x=\"234.5\" y=\"-14.3\">(0, 0, 0)</text>\n</g>\n</g>\n</svg></div>"
     },
     "metadata": {},
     "output_type": "display_data"
    }
   ],
   "source": [
    "rdp_generator, (v, t) = learning_rotating_mab(\n",
    "    stop_probability=0.2,\n",
    "    winning_probabilities=(1.0, 0.0, 0.0),\n",
    "    max_episode_steps=15,\n",
    "    nb_samples=100000,\n",
    "    delta=0.1,\n",
    "    n_upperbound=5,\n",
    "    nb_processes=8)\n",
    "\n",
    "render_digraph(to_graphviz_from_graph(v, t, char2str=lambda c: str(rdp_generator.decoder(c))))"
   ],
   "metadata": {
    "collapsed": false,
    "pycharm": {
     "name": "#%%\n"
    }
   }
  },
  {
   "cell_type": "code",
   "execution_count": 5,
   "outputs": [
    {
     "name": "stdout",
     "output_type": "stream",
     "text": [
      "Apriori expected length of traces: 1/stop_prob = 9.999999999999977\n",
      "Average length of traces: 8.971\n"
     ]
    },
    {
     "name": "stderr",
     "output_type": "stream",
     "text": [
      "[2020-11-06 19:33:25,263][src.learn_pdfa][INFO] Parameters: ('BalleParams(sample_generator=<src.learn_pdfa.common.MultiprocessedGenerator '\n",
      " 'object at 0x7f2954d7be50>, nb_samples=1000000, n=6, alphabet_size=12, '\n",
      " 'delta=0.05)')\n",
      "[2020-11-06 19:35:35,049][src.learn_pdfa][INFO] Iteration 0\n",
      "[2020-11-06 19:35:54,896][src.learn_pdfa][INFO] Iteration 1\n",
      "[2020-11-06 19:36:17,313][src.learn_pdfa][INFO] Iteration 2\n",
      "[2020-11-06 19:36:46,315][src.learn_pdfa][INFO] Iteration 3\n",
      "[2020-11-06 19:37:15,958][src.learn_pdfa][INFO] Iteration 4\n",
      "[2020-11-06 19:37:45,722][src.learn_pdfa][INFO] Iteration 5\n",
      "[2020-11-06 19:38:20,019][src.learn_pdfa][INFO] Iteration 6\n",
      "[2020-11-06 19:38:53,555][src.learn_pdfa][INFO] Iteration 7\n",
      "[2020-11-06 19:39:29,199][src.learn_pdfa][INFO] Iteration 8\n",
      "[2020-11-06 19:40:03,630][src.learn_pdfa][INFO] Iteration 9\n",
      "[2020-11-06 19:40:39,911][src.learn_pdfa][INFO] Iteration 10\n",
      "[2020-11-06 19:41:15,815][src.learn_pdfa][INFO] Iteration 11\n",
      "[2020-11-06 19:41:51,221][src.learn_pdfa][INFO] Iteration 12\n",
      "[2020-11-06 19:42:37,001][src.learn_pdfa][INFO] Iteration 13\n",
      "[2020-11-06 19:43:19,931][src.learn_pdfa][INFO] Iteration 14\n",
      "[2020-11-06 19:44:00,518][src.learn_pdfa][INFO] Iteration 15\n",
      "[2020-11-06 19:44:43,316][src.learn_pdfa][INFO] Iteration 16\n",
      "[2020-11-06 19:45:29,773][src.learn_pdfa][INFO] Iteration 17\n",
      "[2020-11-06 19:46:19,119][src.learn_pdfa][INFO] Iteration 18\n",
      "/home/marcofavorito/.local/share/virtualenvs/PAC-RDPs-code-h40RRNYH/lib/python3.7/site-packages/ipykernel_launcher.py:10: DeprecationWarning: 'shape' argument should be used instead of 'dims'\n",
      "  # Remove the CWD from sys.path while we load stuff.\n",
      "[2020-11-06 19:46:46,013][graphviz.files][DEBUG] write 584 bytes to '/tmp/tmpdak80ymd/output'\n",
      "[2020-11-06 19:46:46,014][graphviz.backend][DEBUG] run ['dot', '-Tsvg', '-O', 'output']\n"
     ]
    },
    {
     "data": {
      "text/plain": "<IPython.core.display.HTML object>",
      "text/html": "<div style=\"display: block; margin-left: auto; margin-right: auto; width: 50%;white-space: nowrap\"><svg height=\"291pt\" viewBox=\"0.00 0.00 466.00 291.00\" width=\"466pt\" xmlns=\"http://www.w3.org/2000/svg\" xmlns:xlink=\"http://www.w3.org/1999/xlink\">\n<g class=\"graph\" id=\"graph0\" transform=\"scale(1 1) rotate(0) translate(4 287)\">\n<title>%3</title>\n<polygon fill=\"#ffffff\" points=\"-4,4 -4,-287 462,-287 462,4 -4,4\" stroke=\"transparent\"/>\n<!-- fake -->\n<g class=\"node\" id=\"node1\">\n<title>fake</title>\n</g>\n<!-- 0 -->\n<g class=\"node\" id=\"node2\">\n<title>0</title>\n<ellipse cx=\"242\" cy=\"-192\" fill=\"none\" rx=\"27\" ry=\"18\" stroke=\"#000000\"/>\n<text fill=\"#000000\" font-family=\"Times,serif\" font-size=\"14.00\" text-anchor=\"middle\" x=\"242\" y=\"-188.3\">0</text>\n</g>\n<!-- fake&#45;&gt;0 -->\n<g class=\"edge\" id=\"edge1\">\n<title>fake-&gt;0</title>\n<path d=\"M242,-246.9551C242,-238.8828 242,-229.1764 242,-220.1817\" fill=\"none\" stroke=\"#000000\" stroke-width=\"2\"/>\n<polygon fill=\"#000000\" points=\"245.5001,-220.0903 242,-210.0904 238.5001,-220.0904 245.5001,-220.0903\" stroke=\"#000000\" stroke-width=\"2\"/>\n</g>\n<!-- 0&#45;&gt;0 -->\n<g class=\"edge\" id=\"edge2\">\n<title>0-&gt;0</title>\n<path d=\"M268.7949,-194.2451C278.7804,-194.3187 287,-193.5703 287,-192 287,-191.0186 283.7892,-190.3582 278.9433,-190.0189\" fill=\"none\" stroke=\"#000000\"/>\n<polygon fill=\"#000000\" points=\"278.8825,-186.5162 268.7949,-189.7549 278.7004,-193.5139 278.8825,-186.5162\" stroke=\"#000000\"/>\n<text fill=\"#000000\" font-family=\"Times,serif\" font-size=\"14.00\" text-anchor=\"middle\" x=\"309.5\" y=\"-188.3\">(0, 0, 0)</text>\n</g>\n<!-- 0&#45;&gt;0 -->\n<g class=\"edge\" id=\"edge4\">\n<title>0-&gt;0</title>\n<path d=\"M268.5064,-195.6387C296.3545,-197.5254 332,-196.3125 332,-192 332,-188.1929 304.2194,-186.8014 278.5481,-187.8257\" fill=\"none\" stroke=\"#000000\"/>\n<polygon fill=\"#000000\" points=\"278.3058,-184.3336 268.5064,-188.3613 278.6787,-191.3236 278.3058,-184.3336\" stroke=\"#000000\"/>\n<text fill=\"#000000\" font-family=\"Times,serif\" font-size=\"14.00\" text-anchor=\"middle\" x=\"354.5\" y=\"-188.3\">(1, 0, 0)</text>\n</g>\n<!-- 0&#45;&gt;0 -->\n<g class=\"edge\" id=\"edge7\">\n<title>0-&gt;0</title>\n<path d=\"M268.4339,-196.5243C310.0896,-200.5921 377,-199.084 377,-192 377,-185.4695 320.1359,-183.6776 278.6154,-186.6244\" fill=\"none\" stroke=\"#000000\"/>\n<polygon fill=\"#000000\" points=\"278.1075,-183.1545 268.4339,-187.4757 278.6908,-190.1302 278.1075,-183.1545\" stroke=\"#000000\"/>\n<text fill=\"#000000\" font-family=\"Times,serif\" font-size=\"14.00\" text-anchor=\"middle\" x=\"399.5\" y=\"-188.3\">(2, 0, 0)</text>\n</g>\n<!-- 1 -->\n<g class=\"node\" id=\"node3\">\n<title>1</title>\n<ellipse cx=\"27\" cy=\"-105\" fill=\"none\" rx=\"27\" ry=\"18\" stroke=\"#000000\"/>\n<text fill=\"#000000\" font-family=\"Times,serif\" font-size=\"14.00\" text-anchor=\"middle\" x=\"27\" y=\"-101.3\">1</text>\n</g>\n<!-- 0&#45;&gt;1 -->\n<g class=\"edge\" id=\"edge3\">\n<title>0-&gt;1</title>\n<path d=\"M215.0611,-189.0477C171.4502,-183.8658 87.7686,-172.1323 63,-156 53.6007,-149.8781 45.9172,-140.37 40.0985,-131.2146\" fill=\"none\" stroke=\"#000000\"/>\n<polygon fill=\"#000000\" points=\"42.969,-129.1891 34.9069,-122.3151 36.9226,-132.7164 42.969,-129.1891\" stroke=\"#000000\"/>\n<text fill=\"#000000\" font-family=\"Times,serif\" font-size=\"14.00\" text-anchor=\"middle\" x=\"85.5\" y=\"-144.8\">(2, 1, 1)</text>\n</g>\n<!-- 0&#45;&gt;1 -->\n<g class=\"edge\" id=\"edge5\">\n<title>0-&gt;1</title>\n<path d=\"M217.9479,-183.4714C198.237,-176.387 169.6718,-165.902 145,-156 115.51,-144.1643 82.3216,-129.7179 58.6712,-119.2261\" fill=\"none\" stroke=\"#000000\"/>\n<polygon fill=\"#000000\" points=\"60.0326,-116.0011 49.4735,-115.1319 57.1859,-122.3961 60.0326,-116.0011\" stroke=\"#000000\"/>\n<text fill=\"#000000\" font-family=\"Times,serif\" font-size=\"14.00\" text-anchor=\"middle\" x=\"167.5\" y=\"-144.8\">(1, 1, 1)</text>\n</g>\n<!-- 0&#45;&gt;1 -->\n<g class=\"edge\" id=\"edge6\">\n<title>0-&gt;1</title>\n<path d=\"M229.6408,-175.7557C220.0601,-164.3098 205.7876,-149.5538 190,-141 150.2816,-119.4804 98.5001,-110.82 64.0709,-107.3375\" fill=\"none\" stroke=\"#000000\"/>\n<polygon fill=\"#000000\" points=\"64.2529,-103.8397 53.9757,-106.4145 63.6154,-110.8106 64.2529,-103.8397\" stroke=\"#000000\"/>\n<text fill=\"#000000\" font-family=\"Times,serif\" font-size=\"14.00\" text-anchor=\"middle\" x=\"231.5\" y=\"-144.8\">(0, 1, 1)</text>\n</g>\n<!-- 1&#45;&gt;1 -->\n<g class=\"edge\" id=\"edge8\">\n<title>1-&gt;1</title>\n<path d=\"M53.7949,-107.6192C63.7804,-107.7051 72,-106.832 72,-105 72,-103.855 68.7892,-103.0846 63.9433,-102.6887\" fill=\"none\" stroke=\"#000000\"/>\n<polygon fill=\"#000000\" points=\"63.8964,-99.1858 53.7949,-102.3808 63.6841,-106.1826 63.8964,-99.1858\" stroke=\"#000000\"/>\n<text fill=\"#000000\" font-family=\"Times,serif\" font-size=\"14.00\" text-anchor=\"middle\" x=\"94.5\" y=\"-101.3\">(1, 0, 0)</text>\n</g>\n<!-- 1&#45;&gt;1 -->\n<g class=\"edge\" id=\"edge10\">\n<title>1-&gt;1</title>\n<path d=\"M53.5064,-109.2451C81.3545,-111.4463 117,-110.0313 117,-105 117,-100.5583 89.2194,-98.935 63.5481,-100.13\" fill=\"none\" stroke=\"#000000\"/>\n<polygon fill=\"#000000\" points=\"63.2697,-96.6405 53.5064,-100.7549 63.7045,-103.627 63.2697,-96.6405\" stroke=\"#000000\"/>\n<text fill=\"#000000\" font-family=\"Times,serif\" font-size=\"14.00\" text-anchor=\"middle\" x=\"139.5\" y=\"-101.3\">(2, 0, 0)</text>\n</g>\n<!-- 1&#45;&gt;1 -->\n<g class=\"edge\" id=\"edge12\">\n<title>1-&gt;1</title>\n<path d=\"M53.1243,-110.243C94.7571,-115.0328 162,-113.2852 162,-105 162,-97.3621 104.8534,-95.2802 63.3066,-98.7541\" fill=\"none\" stroke=\"#000000\"/>\n<polygon fill=\"#000000\" points=\"62.733,-95.2936 53.1243,-99.757 63.4192,-102.2599 62.733,-95.2936\" stroke=\"#000000\"/>\n<text fill=\"#000000\" font-family=\"Times,serif\" font-size=\"14.00\" text-anchor=\"middle\" x=\"184.5\" y=\"-101.3\">(0, 0, 0)</text>\n</g>\n<!-- 2 -->\n<g class=\"node\" id=\"node4\">\n<title>2</title>\n<ellipse cx=\"242\" cy=\"-18\" fill=\"none\" rx=\"27\" ry=\"18\" stroke=\"#000000\"/>\n<text fill=\"#000000\" font-family=\"Times,serif\" font-size=\"14.00\" text-anchor=\"middle\" x=\"242\" y=\"-14.3\">2</text>\n</g>\n<!-- 1&#45;&gt;2 -->\n<g class=\"edge\" id=\"edge9\">\n<title>1-&gt;2</title>\n<path d=\"M34.9069,-87.6849C40.9855,-76.3449 50.4676,-62.1626 63,-54 85.9787,-39.0336 159.6632,-27.8531 205.0159,-22.1776\" fill=\"none\" stroke=\"#000000\"/>\n<polygon fill=\"#000000\" points=\"205.5584,-25.6374 215.0611,-20.9523 204.7108,-18.6889 205.5584,-25.6374\" stroke=\"#000000\"/>\n<text fill=\"#000000\" font-family=\"Times,serif\" font-size=\"14.00\" text-anchor=\"middle\" x=\"85.5\" y=\"-57.8\">(0, 1, 1)</text>\n</g>\n<!-- 1&#45;&gt;2 -->\n<g class=\"edge\" id=\"edge11\">\n<title>1-&gt;2</title>\n<path d=\"M49.4735,-94.8681C73.1062,-84.3124 111.4469,-67.4664 145,-54 165.9132,-45.6065 189.6239,-36.7941 208.368,-29.9891\" fill=\"none\" stroke=\"#000000\"/>\n<polygon fill=\"#000000\" points=\"209.7318,-33.2178 217.9479,-26.5286 207.3535,-26.6342 209.7318,-33.2178\" stroke=\"#000000\"/>\n<text fill=\"#000000\" font-family=\"Times,serif\" font-size=\"14.00\" text-anchor=\"middle\" x=\"167.5\" y=\"-57.8\">(2, 1, 1)</text>\n</g>\n<!-- 1&#45;&gt;2 -->\n<g class=\"edge\" id=\"edge13\">\n<title>1-&gt;2</title>\n<path d=\"M53.9757,-103.5855C87.6576,-100.8341 146.1728,-92.7458 190,-69 202.4574,-62.2505 213.9715,-51.6394 222.9816,-41.84\" fill=\"none\" stroke=\"#000000\"/>\n<polygon fill=\"#000000\" points=\"225.6802,-44.0711 229.6408,-34.2443 220.4166,-39.4564 225.6802,-44.0711\" stroke=\"#000000\"/>\n<text fill=\"#000000\" font-family=\"Times,serif\" font-size=\"14.00\" text-anchor=\"middle\" x=\"231.5\" y=\"-57.8\">(1, 1, 1)</text>\n</g>\n<!-- 2&#45;&gt;0 -->\n<g class=\"edge\" id=\"edge14\">\n<title>2-&gt;0</title>\n<path d=\"M251.3402,-35.0826C254.0462,-40.9089 256.637,-47.5771 258,-54 267.4108,-98.3458 267.4108,-111.6542 258,-156 257.3398,-159.1111 256.3915,-162.2797 255.2816,-165.3824\" fill=\"none\" stroke=\"#000000\"/>\n<polygon fill=\"#000000\" points=\"251.9258,-164.3388 251.3402,-174.9174 258.3949,-167.0129 251.9258,-164.3388\" stroke=\"#000000\"/>\n<text fill=\"#000000\" font-family=\"Times,serif\" font-size=\"14.00\" text-anchor=\"middle\" x=\"287.5\" y=\"-101.3\">(1, 1, 1)</text>\n</g>\n<!-- 2&#45;&gt;0 -->\n<g class=\"edge\" id=\"edge17\">\n<title>2-&gt;0</title>\n<path d=\"M261.8599,-30.2201C279.2944,-42.2293 303.4673,-62.3178 314,-87 320.2798,-101.7161 320.2798,-108.2839 314,-123 305.0308,-144.0185 286.1702,-161.7057 270.0025,-173.9094\" fill=\"none\" stroke=\"#000000\"/>\n<polygon fill=\"#000000\" points=\"267.9247,-171.0925 261.8599,-179.7799 272.0185,-176.7707 267.9247,-171.0925\" stroke=\"#000000\"/>\n<text fill=\"#000000\" font-family=\"Times,serif\" font-size=\"14.00\" text-anchor=\"middle\" x=\"340.5\" y=\"-101.3\">(0, 1, 1)</text>\n</g>\n<!-- 2&#45;&gt;0 -->\n<g class=\"edge\" id=\"edge18\">\n<title>2-&gt;0</title>\n<path d=\"M267.7639,-23.7418C297.8306,-31.9902 346.0928,-50.4124 367,-87 392.1524,-131.0167 321.1273,-164.7853 276.0489,-181.1371\" fill=\"none\" stroke=\"#000000\"/>\n<polygon fill=\"#000000\" points=\"274.8721,-177.8408 266.5934,-184.4524 277.1882,-184.4465 274.8721,-177.8408\" stroke=\"#000000\"/>\n<text fill=\"#000000\" font-family=\"Times,serif\" font-size=\"14.00\" text-anchor=\"middle\" x=\"394.5\" y=\"-101.3\">(2, 1, 1)</text>\n</g>\n<!-- 2&#45;&gt;2 -->\n<g class=\"edge\" id=\"edge15\">\n<title>2-&gt;2</title>\n<path d=\"M268.7949,-20.6192C278.7804,-20.7051 287,-19.832 287,-18 287,-16.855 283.7892,-16.0846 278.9433,-15.6887\" fill=\"none\" stroke=\"#000000\"/>\n<polygon fill=\"#000000\" points=\"278.8964,-12.1858 268.7949,-15.3808 278.6841,-19.1826 278.8964,-12.1858\" stroke=\"#000000\"/>\n<text fill=\"#000000\" font-family=\"Times,serif\" font-size=\"14.00\" text-anchor=\"middle\" x=\"309.5\" y=\"-14.3\">(2, 0, 0)</text>\n</g>\n<!-- 2&#45;&gt;2 -->\n<g class=\"edge\" id=\"edge16\">\n<title>2-&gt;2</title>\n<path d=\"M268.5064,-22.2451C296.3545,-24.4463 332,-23.0313 332,-18 332,-13.5583 304.2194,-11.935 278.5481,-13.13\" fill=\"none\" stroke=\"#000000\"/>\n<polygon fill=\"#000000\" points=\"278.2697,-9.6405 268.5064,-13.7549 278.7045,-16.627 278.2697,-9.6405\" stroke=\"#000000\"/>\n<text fill=\"#000000\" font-family=\"Times,serif\" font-size=\"14.00\" text-anchor=\"middle\" x=\"354.5\" y=\"-14.3\">(0, 0, 0)</text>\n</g>\n<!-- 2&#45;&gt;2 -->\n<g class=\"edge\" id=\"edge19\">\n<title>2-&gt;2</title>\n<path d=\"M268.1243,-23.243C309.7571,-28.0328 377,-26.2852 377,-18 377,-10.3621 319.8534,-8.2802 278.3066,-11.7541\" fill=\"none\" stroke=\"#000000\"/>\n<polygon fill=\"#000000\" points=\"277.733,-8.2936 268.1243,-12.757 278.4192,-15.2599 277.733,-8.2936\" stroke=\"#000000\"/>\n<text fill=\"#000000\" font-family=\"Times,serif\" font-size=\"14.00\" text-anchor=\"middle\" x=\"399.5\" y=\"-14.3\">(1, 0, 0)</text>\n</g>\n</g>\n</svg></div>"
     },
     "metadata": {},
     "output_type": "display_data"
    }
   ],
   "source": [
    "rdp_generator, (v, t) = learning_rotating_mab(\n",
    "    stop_probability=0.1,\n",
    "    winning_probabilities=(0.1, 0.2, 0.9),\n",
    "    max_episode_steps=1000,\n",
    "    nb_samples=1000000,\n",
    "    delta=0.05,\n",
    "    n_upperbound=6,\n",
    "    nb_processes=8)\n",
    "\n",
    "render_digraph(to_graphviz_from_graph(v, t, char2str=lambda c: str(rdp_generator.decoder(c))))"
   ],
   "metadata": {
    "collapsed": false,
    "pycharm": {
     "name": "#%%\n"
    }
   }
  },
  {
   "cell_type": "code",
   "execution_count": null,
   "outputs": [],
   "source": [],
   "metadata": {
    "collapsed": false,
    "pycharm": {
     "name": "#%%\n"
    }
   }
  }
 ],
 "metadata": {
  "kernelspec": {
   "display_name": "Python 3",
   "language": "python",
   "name": "python3"
  },
  "language_info": {
   "codemirror_mode": {
    "name": "ipython",
    "version": 2
   },
   "file_extension": ".py",
   "mimetype": "text/x-python",
   "name": "python",
   "nbconvert_exporter": "python",
   "pygments_lexer": "ipython2",
   "version": "2.7.6"
  }
 },
 "nbformat": 4,
 "nbformat_minor": 0
}