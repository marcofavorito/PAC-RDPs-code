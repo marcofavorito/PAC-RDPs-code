{
 "cells": [
  {
   "cell_type": "markdown",
   "metadata": {
    "collapsed": true,
    "pycharm": {
     "name": "#%% md\n"
    }
   },
   "source": [
    "## RDP Learning\n",
    "\n",
    "In this notebook, we show how to perform PAC learning\n",
    "over RDPs.\n",
    "\n",
    "### Experiment 1: Rotating MAB"
   ]
  },
  {
   "cell_type": "code",
   "execution_count": 16,
   "metadata": {
    "pycharm": {
     "name": "#%%\n"
    }
   },
   "outputs": [
    {
     "name": "stdout",
     "output_type": "stream",
     "text": [
      "Observation space: Discrete(2)\n",
      "Action space: Discrete(2)\n",
      "Initial state: 0\n",
      "----------\n",
      "Action: 0\n",
      "Next state: 1\n",
      "Reward: 1.0\n",
      "----------\n",
      "Action: 0\n",
      "Next state: 1\n",
      "Reward: 1.0\n"
     ]
    }
   ],
   "source": [
    "\n",
    "from typing import Tuple\n",
    "\n",
    "import gym\n",
    "import numpy as np\n",
    "from gym.wrappers import TimeLimit\n",
    "\n",
    "\n",
    "from notebooks.utils import render_automaton\n",
    "from src import NonMarkovianRotatingMAB\n",
    "from src.learn_pdfa.base import learn_pdfa, Algorithm\n",
    "from src.learn_pdfa.utils.generator import MultiprocessedGenerator\n",
    "from src.learn_rdps import random_exploration_policy, RDPGenerator\n",
    "from src.pdfa import PDFA\n",
    "from src.pdfa.base import FINAL_SYMBOL\n",
    "from functools import partial\n",
    "\n",
    "DEFAULT_CONFIG = dict(\n",
    "    max_episode_steps=30,\n",
    "    delta=0.1,\n",
    "    n_upperbound=5,\n",
    "    nb_processes=8,)\n",
    "\n",
    "char2str = lambda c: str(rdp_generator.decoder(c)) if c!=FINAL_SYMBOL else \"-1\"\n",
    "\n",
    "env = NonMarkovianRotatingMAB(winning_probs=[0.9, 0.2])\n",
    "\n",
    "print(f\"Observation space: {env.observation_space}\")\n",
    "print(f\"Action space: {env.action_space}\")\n",
    "\n",
    "s = env.reset()\n",
    "print(f\"Initial state: {s}\")\n",
    "\n",
    "action = 0\n",
    "sp, reward, _, _ = env.step(action)\n",
    "print(\"-\" * 10)\n",
    "print(f\"Action: {action}\")\n",
    "print(f\"Next state: {sp}\")\n",
    "print(f\"Reward: {reward}\")\n",
    "\n",
    "sp, reward, _, _ = env.step(action)\n",
    "print(\"-\" * 10)\n",
    "print(f\"Action: {action}\")\n",
    "print(f\"Next state: {sp}\")\n",
    "print(f\"Reward: {reward}\")\n"
   ]
  },
  {
   "cell_type": "markdown",
   "metadata": {
    "pycharm": {
     "name": "#%% md\n"
    }
   },
   "source": [
    "### Learning"
   ]
  },
  {
   "cell_type": "code",
   "execution_count": 17,
   "metadata": {
    "pycharm": {
     "name": "#%%\n"
    }
   },
   "outputs": [],
   "source": [
    "def learning_rotating_mab(\n",
    "    stop_probability: float,\n",
    "    winning_probabilities: Tuple[float, ...],\n",
    "    max_episode_steps: int,\n",
    "    nb_samples: int,\n",
    "    delta: float,\n",
    "    n_upperbound: int,\n",
    "    nb_processes: int = 8,\n",
    ") -> Tuple[RDPGenerator, PDFA]:\n",
    "    \"\"\"Test learning of Rotating MAB.\"\"\"\n",
    "    env = gym.make(\"NonMarkovianRotatingMAB-v0\", winning_probs=winning_probabilities)\n",
    "    env = TimeLimit(env, max_episode_steps=max_episode_steps)\n",
    "\n",
    "    policy = partial(random_exploration_policy, env)\n",
    "\n",
    "    rdp_generator = RDPGenerator(\n",
    "        env, policy=policy, nb_rewards=2, stop_probability=stop_probability\n",
    "    )\n",
    "\n",
    "    examples = rdp_generator.sample(n=1000)\n",
    "\n",
    "    print(\n",
    "        f\"Apriori expected length of traces: 1/stop_prob = {1 / (stop_probability + np.finfo(float).eps)}\"\n",
    "    )\n",
    "    print(f\"Average length of traces: {np.mean([len(e) for e in examples])}\")\n",
    "\n",
    "    mp_rdp_generator = MultiprocessedGenerator(rdp_generator, nb_processes=nb_processes)\n",
    "    pdfa = learn_pdfa(\n",
    "        algorithm=Algorithm.BALLE,\n",
    "        nb_samples=nb_samples,\n",
    "        sample_generator=mp_rdp_generator,\n",
    "        alphabet_size=rdp_generator.alphabet_size(),\n",
    "        delta=delta,\n",
    "        n=n_upperbound,\n",
    "    )\n",
    "    return rdp_generator, pdfa\n",
    "\n",
    "\n",
    "def print_rdp_pdfa_transitions(pdfa: PDFA):\n",
    "    print(\"Print transitions\")\n",
    "    for qi, out in pdfa.transition_dict.items():\n",
    "        for c, (qf, prob) in out.items():\n",
    "            if c == -1:\n",
    "                print(f\"qi={qi}\\tc={c}\\t\\t\\tqf={qf}\\tp={prob}\")\n",
    "            else:\n",
    "                a,r,s = rdp_generator.decoder(c)\n",
    "                print(f\"qi={qi}\\ta={a}\\tr={r}\\ts={s}\\tqf={qf}\\tp={prob}\")\n",
    "        \n",
    "        "
   ]
  },
  {
   "cell_type": "markdown",
   "metadata": {},
   "source": [
    "##### Rotating MAB, 2 arms, with probabilities (1.0, 0.0)"
   ]
  },
  {
   "cell_type": "code",
   "execution_count": 4,
   "metadata": {},
   "outputs": [
    {
     "name": "stdout",
     "output_type": "stream",
     "text": [
      "Apriori expected length of traces: 1/stop_prob = 4.999999999999994\n",
      "Average length of traces: 3.679\n",
      "Print transitions\n",
      "qi=0\ta=1\tr=0\ts=0\tqf=0\tp=0.408\n",
      "qi=0\ta=0\tr=1\ts=1\tqf=1\tp=0.3944\n",
      "qi=0\tc=-1\t\t\tqf=-1\tp=0.1976\n",
      "qi=1\ta=1\tr=1\ts=1\tqf=0\tp=0.41393686718284695\n",
      "qi=1\ta=0\tr=0\ts=0\tqf=1\tp=0.3918999404407385\n",
      "qi=1\tc=-1\t\t\tqf=-1\tp=0.19416319237641455\n"
     ]
    },
    {
     "name": "stderr",
     "output_type": "stream",
     "text": [
      "[2020-12-31 00:06:28,895][src.learn_pdfa][INFO] Parameters: ('BalleParams(sample_generator=<src.learn_pdfa.utils.generator.MultiprocessedGenerator '\n",
      " 'object at 0x7f41abe09210>, nb_samples=20000, n=4, alphabet_size=8, '\n",
      " 'delta=0.1, epsilon=0.1, with_smoothing=False, with_ground=False, '\n",
      " 'with_infty_norm=True)')\n",
      "[2020-12-31 00:06:28,897][src.learn_pdfa][INFO] Generating the sample.\n",
      "[2020-12-31 00:06:30,071][src.learn_pdfa][INFO] Average trace length: 5.012.\n",
      "[2020-12-31 00:06:30,072][src.learn_pdfa][INFO] Populate root multiset.\n",
      "[2020-12-31 00:06:30,115][src.learn_pdfa][INFO] Iteration 0\n",
      "[2020-12-31 00:06:30,144][src.learn_pdfa][INFO] Iteration 1\n",
      "[2020-12-31 00:06:30,165][src.learn_pdfa][INFO] Iteration 2\n",
      "[2020-12-31 00:06:30,201][src.learn_pdfa][INFO] Iteration 3\n",
      "[2020-12-31 00:06:30,245][src.learn_pdfa][INFO] Iteration 4\n",
      "[2020-12-31 00:06:30,248][src.learn_pdfa][INFO] Biggest multiset has cardinality 0, done\n",
      "/home/marcofavorito/.virtualenvs/PAC-RDPs-code-h40RRNYH/lib/python3.7/site-packages/ipykernel_launcher.py:17: DeprecationWarning: 'shape' argument should be used instead of 'dims'\n",
      "[2020-12-31 00:06:30,288][graphviz.files][DEBUG] write 270 bytes to '/tmp/tmph4odimgo/output'\n",
      "[2020-12-31 00:06:30,289][graphviz.backend][DEBUG] run ['dot', '-Kdot', '-Tsvg', '-O', 'output']\n",
      "/home/marcofavorito/.virtualenvs/PAC-RDPs-code-h40RRNYH/lib/python3.7/site-packages/ipykernel_launcher.py:46: DeprecationWarning: 'shape' argument should be used instead of 'dims'\n",
      "Process ForkPoolWorker-10:\n"
     ]
    },
    {
     "data": {
      "text/plain": "<IPython.core.display.HTML object>",
      "text/html": "<div style=\"display: block; margin-left: auto; margin-right: auto; width: 50%;white-space: nowrap\"><svg height=\"117pt\" viewBox=\"0.00 0.00 403.09 117.50\" width=\"403pt\" xmlns=\"http://www.w3.org/2000/svg\" xmlns:xlink=\"http://www.w3.org/1999/xlink\">\n<g class=\"graph\" id=\"graph0\" transform=\"scale(1 1) rotate(0) translate(4 113.5)\">\n<title>%3</title>\n<polygon fill=\"white\" points=\"-4,4 -4,-113.5 399.09,-113.5 399.09,4 -4,4\" stroke=\"transparent\"/>\n<!-- fake -->\n<g class=\"node\" id=\"node1\">\n<title>fake</title>\n</g>\n<!-- 0 -->\n<g class=\"node\" id=\"node2\">\n<title>0</title>\n<ellipse cx=\"125.09\" cy=\"-40.5\" fill=\"none\" rx=\"27\" ry=\"18\" stroke=\"black\"/>\n<text font-family=\"Times,serif\" font-size=\"14.00\" text-anchor=\"middle\" x=\"125.09\" y=\"-36.8\">0</text>\n</g>\n<!-- fake&#45;&gt;0 -->\n<g class=\"edge\" id=\"edge1\">\n<title>fake-&gt;0</title>\n<path d=\"M61.34,-40.5C69.68,-40.5 78.84,-40.5 87.52,-40.5\" fill=\"none\" stroke=\"black\" stroke-width=\"2\"/>\n<polygon fill=\"black\" points=\"87.79,-44 97.79,-40.5 87.79,-37 87.79,-44\" stroke=\"black\" stroke-width=\"2\"/>\n</g>\n<!-- 0&#45;&gt;0 -->\n<g class=\"edge\" id=\"edge2\">\n<title>0-&gt;0</title>\n<path d=\"M117.24,-57.91C115.77,-67.59 118.39,-76.5 125.09,-76.5 129.28,-76.5 131.88,-73.02 132.88,-68.04\" fill=\"none\" stroke=\"black\"/>\n<polygon fill=\"black\" points=\"136.38,-67.93 132.95,-57.91 129.38,-67.88 136.38,-67.93\" stroke=\"black\"/>\n<text font-family=\"Times,serif\" font-size=\"14.00\" text-anchor=\"middle\" x=\"125.09\" y=\"-80.3\">(1, 0, 0)</text>\n</g>\n<!-- 1 -->\n<g class=\"node\" id=\"node3\">\n<title>1</title>\n<ellipse cx=\"271.09\" cy=\"-58.5\" fill=\"none\" rx=\"27\" ry=\"18\" stroke=\"black\"/>\n<text font-family=\"Times,serif\" font-size=\"14.00\" text-anchor=\"middle\" x=\"271.09\" y=\"-54.8\">1</text>\n</g>\n<!-- 0&#45;&gt;1 -->\n<g class=\"edge\" id=\"edge3\">\n<title>0-&gt;1</title>\n<path d=\"M148.08,-50.1C154.99,-52.68 162.74,-55.13 170.09,-56.5 190.98,-60.39 214.74,-61.02 233.86,-60.62\" fill=\"none\" stroke=\"black\"/>\n<polygon fill=\"black\" points=\"234.07,-64.11 243.96,-60.3 233.85,-57.12 234.07,-64.11\" stroke=\"black\"/>\n<text font-family=\"Times,serif\" font-size=\"14.00\" text-anchor=\"middle\" x=\"198.09\" y=\"-64.3\">(0, 1, 1)</text>\n</g>\n<!-- &#45;1 -->\n<g class=\"node\" id=\"node4\">\n<title>-1</title>\n<ellipse cx=\"371.59\" cy=\"-23.5\" fill=\"none\" rx=\"19.5\" ry=\"19.5\" stroke=\"black\"/>\n<ellipse cx=\"371.59\" cy=\"-23.5\" fill=\"none\" rx=\"23.5\" ry=\"23.5\" stroke=\"black\"/>\n<text font-family=\"Times,serif\" font-size=\"14.00\" text-anchor=\"middle\" x=\"371.59\" y=\"-19.8\">-1</text>\n</g>\n<!-- 0&#45;&gt;&#45;1 -->\n<g class=\"edge\" id=\"edge4\">\n<title>0-&gt;-1</title>\n<path d=\"M150.69,-34.02C156.99,-32.45 163.78,-30.84 170.09,-29.5 226.03,-17.61 240.98,-13.75 298.09,-16.5 311.22,-17.13 325.63,-18.4 338.13,-19.69\" fill=\"none\" stroke=\"black\"/>\n<polygon fill=\"black\" points=\"337.78,-23.17 348.1,-20.76 338.53,-16.21 337.78,-23.17\" stroke=\"black\"/>\n<text font-family=\"Times,serif\" font-size=\"14.00\" text-anchor=\"middle\" x=\"271.09\" y=\"-20.3\">-1</text>\n</g>\n<!-- 1&#45;&gt;0 -->\n<g class=\"edge\" id=\"edge5\">\n<title>1-&gt;0</title>\n<path d=\"M250.19,-46.69C242.87,-42.98 234.35,-39.37 226.09,-37.5 205.08,-32.74 180.96,-33.3 161.67,-35.14\" fill=\"none\" stroke=\"black\"/>\n<polygon fill=\"black\" points=\"161.05,-31.68 151.5,-36.26 161.82,-38.64 161.05,-31.68\" stroke=\"black\"/>\n<text font-family=\"Times,serif\" font-size=\"14.00\" text-anchor=\"middle\" x=\"198.09\" y=\"-41.3\">(1, 1, 1)</text>\n</g>\n<!-- 1&#45;&gt;1 -->\n<g class=\"edge\" id=\"edge6\">\n<title>1-&gt;1</title>\n<path d=\"M261.88,-75.54C260,-85.36 263.07,-94.5 271.09,-94.5 276.11,-94.5 279.19,-90.93 280.34,-85.85\" fill=\"none\" stroke=\"black\"/>\n<polygon fill=\"black\" points=\"283.83,-85.53 280.31,-75.54 276.83,-85.54 283.83,-85.53\" stroke=\"black\"/>\n<text font-family=\"Times,serif\" font-size=\"14.00\" text-anchor=\"middle\" x=\"271.09\" y=\"-98.3\">(0, 0, 0)</text>\n</g>\n<!-- 1&#45;&gt;&#45;1 -->\n<g class=\"edge\" id=\"edge7\">\n<title>1-&gt;-1</title>\n<path d=\"M295.19,-50.29C308.49,-45.56 325.39,-39.56 339.81,-34.44\" fill=\"none\" stroke=\"black\"/>\n<polygon fill=\"black\" points=\"341.08,-37.7 349.33,-31.06 338.73,-31.11 341.08,-37.7\" stroke=\"black\"/>\n<text font-family=\"Times,serif\" font-size=\"14.00\" text-anchor=\"middle\" x=\"323.09\" y=\"-45.3\">-1</text>\n</g>\n</g>\n</svg></div>"
     },
     "metadata": {},
     "output_type": "display_data"
    }
   ],
   "source": [
    "rdp_generator, pdfa = learning_rotating_mab(\n",
    "    stop_probability=0.2,\n",
    "    nb_samples=20000,\n",
    "    winning_probabilities=(1.0, 0.0),\n",
    "    **DEFAULT_CONFIG)\n",
    "\n",
    "render_automaton(pdfa, char2str=char2str, with_prob=False)\n",
    "print_rdp_pdfa_transitions(pdfa)"
   ]
  },
  {
   "cell_type": "markdown",
   "metadata": {},
   "source": [
    "##### Rotating MAB, 2 arms, with probabilities (0.7, 0.3)"
   ]
  },
  {
   "cell_type": "code",
   "execution_count": 6,
   "metadata": {
    "pycharm": {
     "name": "#%%\n"
    }
   },
   "outputs": [
    {
     "name": "stdout",
     "output_type": "stream",
     "text": [
      "Apriori expected length of traces: 1/stop_prob = 4.999999999999994\n",
      "Average length of traces: 3.679\n",
      "Print transitions\n",
      "qi=0\ta=1\tr=0\ts=0\tqf=0\tp=0.28896\n",
      "qi=0\ta=0\tr=1\ts=1\tqf=1\tp=0.2784\n",
      "qi=0\ta=1\tr=1\ts=1\tqf=1\tp=0.12032\n",
      "qi=0\ta=0\tr=0\ts=0\tqf=0\tp=0.11392\n",
      "qi=0\tc=-1\t\t\tqf=-1\tp=0.1984\n",
      "qi=1\ta=1\tr=1\ts=1\tqf=0\tp=0.2943089430894309\n",
      "qi=1\ta=0\tr=0\ts=0\tqf=1\tp=0.26991869918699185\n",
      "qi=1\ta=0\tr=1\ts=1\tqf=0\tp=0.12926829268292683\n",
      "qi=1\ta=1\tr=0\ts=0\tqf=1\tp=0.12357723577235771\n",
      "qi=1\tc=-1\t\t\tqf=-1\tp=0.18292682926829268\n"
     ]
    },
    {
     "name": "stderr",
     "output_type": "stream",
     "text": [
      "[2020-12-31 00:07:20,708][src.learn_pdfa][INFO] Parameters: ('BalleParams(sample_generator=<src.learn_pdfa.utils.generator.MultiprocessedGenerator '\n",
      " 'object at 0x7f41abd43510>, nb_samples=25000, n=4, alphabet_size=8, '\n",
      " 'delta=0.1, epsilon=0.1, with_smoothing=False, with_ground=False, '\n",
      " 'with_infty_norm=True)')\n",
      "[2020-12-31 00:07:20,710][src.learn_pdfa][INFO] Generating the sample.\n",
      "[2020-12-31 00:07:22,153][src.learn_pdfa][INFO] Average trace length: 4.99456.\n",
      "[2020-12-31 00:07:22,154][src.learn_pdfa][INFO] Populate root multiset.\n",
      "[2020-12-31 00:07:22,207][src.learn_pdfa][INFO] Iteration 0\n",
      "[2020-12-31 00:07:22,241][src.learn_pdfa][INFO] Iteration 1\n",
      "[2020-12-31 00:07:22,270][src.learn_pdfa][INFO] Iteration 2\n",
      "[2020-12-31 00:07:22,306][src.learn_pdfa][INFO] Iteration 3\n",
      "[2020-12-31 00:07:22,344][src.learn_pdfa][INFO] Iteration 4\n",
      "[2020-12-31 00:07:22,394][src.learn_pdfa][INFO] Iteration 5\n",
      "[2020-12-31 00:07:22,440][src.learn_pdfa][INFO] Iteration 6\n",
      "[2020-12-31 00:07:22,485][src.learn_pdfa][INFO] Iteration 7\n",
      "[2020-12-31 00:07:22,529][src.learn_pdfa][INFO] Iteration 8\n",
      "[2020-12-31 00:07:22,535][src.learn_pdfa][INFO] Biggest multiset has cardinality 0, done\n",
      "/home/marcofavorito/.virtualenvs/PAC-RDPs-code-h40RRNYH/lib/python3.7/site-packages/ipykernel_launcher.py:17: DeprecationWarning: 'shape' argument should be used instead of 'dims'\n",
      "[2020-12-31 00:07:22,611][graphviz.files][DEBUG] write 382 bytes to '/tmp/tmpkb1sjfvi/output'\n",
      "[2020-12-31 00:07:22,612][graphviz.backend][DEBUG] run ['dot', '-Kdot', '-Tsvg', '-O', 'output']\n",
      "/home/marcofavorito/.virtualenvs/PAC-RDPs-code-h40RRNYH/lib/python3.7/site-packages/ipykernel_launcher.py:46: DeprecationWarning: 'shape' argument should be used instead of 'dims'\n"
     ]
    },
    {
     "data": {
      "text/plain": "<IPython.core.display.HTML object>",
      "text/html": "<div style=\"display: block; margin-left: auto; margin-right: auto; width: 50%;white-space: nowrap\"><svg height=\"170pt\" viewBox=\"0.00 0.00 403.09 170.50\" width=\"403pt\" xmlns=\"http://www.w3.org/2000/svg\" xmlns:xlink=\"http://www.w3.org/1999/xlink\">\n<g class=\"graph\" id=\"graph0\" transform=\"scale(1 1) rotate(0) translate(4 166.5)\">\n<title>%3</title>\n<polygon fill=\"white\" points=\"-4,4 -4,-166.5 399.09,-166.5 399.09,4 -4,4\" stroke=\"transparent\"/>\n<!-- fake -->\n<g class=\"node\" id=\"node1\">\n<title>fake</title>\n</g>\n<!-- 0 -->\n<g class=\"node\" id=\"node2\">\n<title>0</title>\n<ellipse cx=\"125.09\" cy=\"-78.5\" fill=\"none\" rx=\"27\" ry=\"18\" stroke=\"black\"/>\n<text font-family=\"Times,serif\" font-size=\"14.00\" text-anchor=\"middle\" x=\"125.09\" y=\"-74.8\">0</text>\n</g>\n<!-- fake&#45;&gt;0 -->\n<g class=\"edge\" id=\"edge1\">\n<title>fake-&gt;0</title>\n<path d=\"M61.34,-78.5C69.68,-78.5 78.84,-78.5 87.52,-78.5\" fill=\"none\" stroke=\"black\" stroke-width=\"2\"/>\n<polygon fill=\"black\" points=\"87.79,-82 97.79,-78.5 87.79,-75 87.79,-82\" stroke=\"black\" stroke-width=\"2\"/>\n</g>\n<!-- 0&#45;&gt;0 -->\n<g class=\"edge\" id=\"edge2\">\n<title>0-&gt;0</title>\n<path d=\"M121.11,-96.65C120.5,-106.04 121.83,-114.5 125.09,-114.5 127.08,-114.5 128.35,-111.36 128.9,-106.78\" fill=\"none\" stroke=\"black\"/>\n<polygon fill=\"black\" points=\"132.41,-106.71 129.07,-96.65 125.41,-106.59 132.41,-106.71\" stroke=\"black\"/>\n<text font-family=\"Times,serif\" font-size=\"14.00\" text-anchor=\"middle\" x=\"125.09\" y=\"-118.3\">(1, 0, 0)</text>\n</g>\n<!-- 0&#45;&gt;0 -->\n<g class=\"edge\" id=\"edge5\">\n<title>0-&gt;0</title>\n<path d=\"M118.54,-96.2C114.92,-113.49 117.1,-132.5 125.09,-132.5 131.53,-132.5 134.2,-120.19 133.11,-106.37\" fill=\"none\" stroke=\"black\"/>\n<polygon fill=\"black\" points=\"136.53,-105.6 131.65,-96.2 129.6,-106.59 136.53,-105.6\" stroke=\"black\"/>\n<text font-family=\"Times,serif\" font-size=\"14.00\" text-anchor=\"middle\" x=\"125.09\" y=\"-136.3\">(0, 0, 0)</text>\n</g>\n<!-- 1 -->\n<g class=\"node\" id=\"node3\">\n<title>1</title>\n<ellipse cx=\"271.09\" cy=\"-78.5\" fill=\"none\" rx=\"27\" ry=\"18\" stroke=\"black\"/>\n<text font-family=\"Times,serif\" font-size=\"14.00\" text-anchor=\"middle\" x=\"271.09\" y=\"-74.8\">1</text>\n</g>\n<!-- 0&#45;&gt;1 -->\n<g class=\"edge\" id=\"edge3\">\n<title>0-&gt;1</title>\n<path d=\"M134.5,-95.38C141.91,-108.2 154.04,-124.87 170.09,-132.5 192.58,-143.18 203.61,-143.18 226.09,-132.5 238.76,-126.48 248.99,-114.83 256.38,-103.88\" fill=\"none\" stroke=\"black\"/>\n<polygon fill=\"black\" points=\"259.36,-105.72 261.69,-95.38 253.42,-102.01 259.36,-105.72\" stroke=\"black\"/>\n<text font-family=\"Times,serif\" font-size=\"14.00\" text-anchor=\"middle\" x=\"198.09\" y=\"-144.3\">(0, 1, 1)</text>\n</g>\n<!-- 0&#45;&gt;1 -->\n<g class=\"edge\" id=\"edge4\">\n<title>0-&gt;1</title>\n<path d=\"M148.06,-88.19C154.98,-90.77 162.73,-93.2 170.09,-94.5 194.61,-98.82 201.58,-98.82 226.09,-94.5 230.12,-93.79 234.27,-92.74 238.33,-91.51\" fill=\"none\" stroke=\"black\"/>\n<polygon fill=\"black\" points=\"239.78,-94.72 248.13,-88.19 237.53,-88.09 239.78,-94.72\" stroke=\"black\"/>\n<text font-family=\"Times,serif\" font-size=\"14.00\" text-anchor=\"middle\" x=\"198.09\" y=\"-101.3\">(1, 1, 1)</text>\n</g>\n<!-- &#45;1 -->\n<g class=\"node\" id=\"node4\">\n<title>-1</title>\n<ellipse cx=\"371.59\" cy=\"-23.5\" fill=\"none\" rx=\"19.5\" ry=\"19.5\" stroke=\"black\"/>\n<ellipse cx=\"371.59\" cy=\"-23.5\" fill=\"none\" rx=\"23.5\" ry=\"23.5\" stroke=\"black\"/>\n<text font-family=\"Times,serif\" font-size=\"14.00\" text-anchor=\"middle\" x=\"371.59\" y=\"-19.8\">-1</text>\n</g>\n<!-- 0&#45;&gt;&#45;1 -->\n<g class=\"edge\" id=\"edge6\">\n<title>0-&gt;-1</title>\n<path d=\"M141.65,-64.25C149.59,-57.77 159.75,-50.65 170.09,-46.5 225.91,-24.1 297.03,-21.4 337.82,-22.05\" fill=\"none\" stroke=\"black\"/>\n<polygon fill=\"black\" points=\"337.92,-25.55 348,-22.29 338.09,-18.56 337.92,-25.55\" stroke=\"black\"/>\n<text font-family=\"Times,serif\" font-size=\"14.00\" text-anchor=\"middle\" x=\"271.09\" y=\"-31.3\">-1</text>\n</g>\n<!-- 1&#45;&gt;0 -->\n<g class=\"edge\" id=\"edge7\">\n<title>1-&gt;0</title>\n<path d=\"M244.05,-76.43C238.15,-76.04 231.91,-75.7 226.09,-75.5 201.22,-74.65 194.97,-74.65 170.09,-75.5 167.55,-75.58 164.92,-75.7 162.28,-75.83\" fill=\"none\" stroke=\"black\"/>\n<polygon fill=\"black\" points=\"161.92,-72.35 152.14,-76.43 162.33,-79.34 161.92,-72.35\" stroke=\"black\"/>\n<text font-family=\"Times,serif\" font-size=\"14.00\" text-anchor=\"middle\" x=\"198.09\" y=\"-79.3\">(1, 1, 1)</text>\n</g>\n<!-- 1&#45;&gt;0 -->\n<g class=\"edge\" id=\"edge9\">\n<title>1-&gt;0</title>\n<path d=\"M251.19,-66.06C243.69,-61.83 234.8,-57.64 226.09,-55.5 201.92,-49.56 194.27,-49.56 170.09,-55.5 164.65,-56.83 159.14,-58.98 153.94,-61.43\" fill=\"none\" stroke=\"black\"/>\n<polygon fill=\"black\" points=\"152.27,-58.35 145,-66.06 155.49,-64.56 152.27,-58.35\" stroke=\"black\"/>\n<text font-family=\"Times,serif\" font-size=\"14.00\" text-anchor=\"middle\" x=\"198.09\" y=\"-59.3\">(0, 1, 1)</text>\n</g>\n<!-- 1&#45;&gt;1 -->\n<g class=\"edge\" id=\"edge8\">\n<title>1-&gt;1</title>\n<path d=\"M266.42,-96.28C265.63,-105.81 267.18,-114.5 271.09,-114.5 273.48,-114.5 274.99,-111.27 275.62,-106.6\" fill=\"none\" stroke=\"black\"/>\n<polygon fill=\"black\" points=\"279.13,-106.33 275.77,-96.28 272.13,-106.23 279.13,-106.33\" stroke=\"black\"/>\n<text font-family=\"Times,serif\" font-size=\"14.00\" text-anchor=\"middle\" x=\"271.09\" y=\"-118.3\">(0, 0, 0)</text>\n</g>\n<!-- 1&#45;&gt;1 -->\n<g class=\"edge\" id=\"edge10\">\n<title>1-&gt;1</title>\n<path d=\"M263.42,-95.92C259.04,-113.29 261.6,-132.5 271.09,-132.5 278.74,-132.5 281.89,-120.06 280.54,-106.15\" fill=\"none\" stroke=\"black\"/>\n<polygon fill=\"black\" points=\"283.93,-105.18 278.77,-95.92 277.03,-106.37 283.93,-105.18\" stroke=\"black\"/>\n<text font-family=\"Times,serif\" font-size=\"14.00\" text-anchor=\"middle\" x=\"271.09\" y=\"-136.3\">(1, 0, 0)</text>\n</g>\n<!-- 1&#45;&gt;&#45;1 -->\n<g class=\"edge\" id=\"edge11\">\n<title>1-&gt;-1</title>\n<path d=\"M292.5,-67.1C306.73,-59.16 325.91,-48.45 341.7,-39.63\" fill=\"none\" stroke=\"black\"/>\n<polygon fill=\"black\" points=\"343.52,-42.62 350.55,-34.69 340.11,-36.51 343.52,-42.62\" stroke=\"black\"/>\n<text font-family=\"Times,serif\" font-size=\"14.00\" text-anchor=\"middle\" x=\"323.09\" y=\"-56.3\">-1</text>\n</g>\n</g>\n</svg></div>"
     },
     "metadata": {},
     "output_type": "display_data"
    }
   ],
   "source": [
    "rdp_generator, pdfa = learning_rotating_mab(\n",
    "    stop_probability=0.2,\n",
    "    winning_probabilities=(0.7, 0.3),\n",
    "    nb_samples=25000,\n",
    "    **DEFAULT_CONFIG)\n",
    "\n",
    "render_automaton(pdfa, char2str=char2str, with_prob=False)\n",
    "print_rdp_pdfa_transitions(pdfa)"
   ]
  },
  {
   "cell_type": "markdown",
   "metadata": {
    "pycharm": {
     "name": "#%% md\n"
    }
   },
   "source": [
    "##### Rotating MAB, 3 arms, with probabilities (1.0, 0.0, 0.0)"
   ]
  },
  {
   "cell_type": "code",
   "execution_count": 8,
   "metadata": {
    "pycharm": {
     "name": "#%%\n"
    }
   },
   "outputs": [
    {
     "name": "stdout",
     "output_type": "stream",
     "text": [
      "Apriori expected length of traces: 1/stop_prob = 4.999999999999994\n",
      "Average length of traces: 3.679\n",
      "Print transitions\n",
      "qi=0\ta=0\tr=1\ts=1\tqf=1\tp=0.29733333333333334\n",
      "qi=0\ta=1\tr=0\ts=0\tqf=0\tp=0.2704\n",
      "qi=0\ta=1\tr=1\ts=1\tqf=1\tp=0.1176\n",
      "qi=0\ta=0\tr=0\ts=0\tqf=0\tp=0.11546666666666666\n",
      "qi=0\tc=-1\t\t\tqf=-1\tp=0.1992\n",
      "qi=1\ta=1\tr=1\ts=1\tqf=0\tp=0.29775784753363227\n",
      "qi=1\ta=0\tr=0\ts=0\tqf=1\tp=0.262780269058296\n",
      "qi=1\ta=1\tr=0\ts=0\tqf=1\tp=0.11838565022421525\n",
      "qi=1\ta=0\tr=1\ts=1\tqf=0\tp=0.11928251121076233\n",
      "qi=1\tc=-1\t\t\tqf=-1\tp=0.20179372197309417\n"
     ]
    },
    {
     "name": "stderr",
     "output_type": "stream",
     "text": [
      "[2020-12-31 00:13:54,822][src.learn_pdfa][INFO] Parameters: ('BalleParams(sample_generator=<src.learn_pdfa.utils.generator.MultiprocessedGenerator '\n",
      " 'object at 0x7f41c3f6a2d0>, nb_samples=30000, n=4, alphabet_size=8, '\n",
      " 'delta=0.1, epsilon=0.1, with_smoothing=False, with_ground=False, '\n",
      " 'with_infty_norm=True)')\n",
      "[2020-12-31 00:13:54,824][src.learn_pdfa][INFO] Generating the sample.\n",
      "[2020-12-31 00:13:56,395][src.learn_pdfa][INFO] Average trace length: 4.972533333333334.\n",
      "[2020-12-31 00:13:56,396][src.learn_pdfa][INFO] Populate root multiset.\n",
      "[2020-12-31 00:13:56,487][src.learn_pdfa][INFO] Iteration 0\n",
      "[2020-12-31 00:13:56,522][src.learn_pdfa][INFO] Iteration 1\n",
      "[2020-12-31 00:13:56,575][src.learn_pdfa][INFO] Iteration 2\n",
      "[2020-12-31 00:13:56,625][src.learn_pdfa][INFO] Iteration 3\n",
      "[2020-12-31 00:13:56,675][src.learn_pdfa][INFO] Iteration 4\n",
      "[2020-12-31 00:13:56,722][src.learn_pdfa][INFO] Iteration 5\n",
      "[2020-12-31 00:13:56,773][src.learn_pdfa][INFO] Iteration 6\n",
      "[2020-12-31 00:13:56,830][src.learn_pdfa][INFO] Iteration 7\n",
      "[2020-12-31 00:13:56,905][src.learn_pdfa][INFO] Iteration 8\n",
      "[2020-12-31 00:13:56,917][src.learn_pdfa][INFO] Biggest multiset has cardinality 0, done\n",
      "/home/marcofavorito/.virtualenvs/PAC-RDPs-code-h40RRNYH/lib/python3.7/site-packages/ipykernel_launcher.py:17: DeprecationWarning: 'shape' argument should be used instead of 'dims'\n",
      "[2020-12-31 00:13:57,086][graphviz.files][DEBUG] write 382 bytes to '/tmp/tmpd1xycnfp/output'\n",
      "[2020-12-31 00:13:57,088][graphviz.backend][DEBUG] run ['dot', '-Kdot', '-Tsvg', '-O', 'output']\n",
      "/home/marcofavorito/.virtualenvs/PAC-RDPs-code-h40RRNYH/lib/python3.7/site-packages/ipykernel_launcher.py:46: DeprecationWarning: 'shape' argument should be used instead of 'dims'\n",
      "Process ForkPoolWorker-45:\n"
     ]
    },
    {
     "data": {
      "text/plain": "<IPython.core.display.HTML object>",
      "text/html": "<div style=\"display: block; margin-left: auto; margin-right: auto; width: 50%;white-space: nowrap\"><svg height=\"170pt\" viewBox=\"0.00 0.00 403.09 170.50\" width=\"403pt\" xmlns=\"http://www.w3.org/2000/svg\" xmlns:xlink=\"http://www.w3.org/1999/xlink\">\n<g class=\"graph\" id=\"graph0\" transform=\"scale(1 1) rotate(0) translate(4 166.5)\">\n<title>%3</title>\n<polygon fill=\"white\" points=\"-4,4 -4,-166.5 399.09,-166.5 399.09,4 -4,4\" stroke=\"transparent\"/>\n<!-- fake -->\n<g class=\"node\" id=\"node1\">\n<title>fake</title>\n</g>\n<!-- 0 -->\n<g class=\"node\" id=\"node2\">\n<title>0</title>\n<ellipse cx=\"125.09\" cy=\"-78.5\" fill=\"none\" rx=\"27\" ry=\"18\" stroke=\"black\"/>\n<text font-family=\"Times,serif\" font-size=\"14.00\" text-anchor=\"middle\" x=\"125.09\" y=\"-74.8\">0</text>\n</g>\n<!-- fake&#45;&gt;0 -->\n<g class=\"edge\" id=\"edge1\">\n<title>fake-&gt;0</title>\n<path d=\"M61.34,-78.5C69.68,-78.5 78.84,-78.5 87.52,-78.5\" fill=\"none\" stroke=\"black\" stroke-width=\"2\"/>\n<polygon fill=\"black\" points=\"87.79,-82 97.79,-78.5 87.79,-75 87.79,-82\" stroke=\"black\" stroke-width=\"2\"/>\n</g>\n<!-- 0&#45;&gt;0 -->\n<g class=\"edge\" id=\"edge3\">\n<title>0-&gt;0</title>\n<path d=\"M121.11,-96.65C120.5,-106.04 121.83,-114.5 125.09,-114.5 127.08,-114.5 128.35,-111.36 128.9,-106.78\" fill=\"none\" stroke=\"black\"/>\n<polygon fill=\"black\" points=\"132.41,-106.71 129.07,-96.65 125.41,-106.59 132.41,-106.71\" stroke=\"black\"/>\n<text font-family=\"Times,serif\" font-size=\"14.00\" text-anchor=\"middle\" x=\"125.09\" y=\"-118.3\">(1, 0, 0)</text>\n</g>\n<!-- 0&#45;&gt;0 -->\n<g class=\"edge\" id=\"edge5\">\n<title>0-&gt;0</title>\n<path d=\"M118.54,-96.2C114.92,-113.49 117.1,-132.5 125.09,-132.5 131.53,-132.5 134.2,-120.19 133.11,-106.37\" fill=\"none\" stroke=\"black\"/>\n<polygon fill=\"black\" points=\"136.53,-105.6 131.65,-96.2 129.6,-106.59 136.53,-105.6\" stroke=\"black\"/>\n<text font-family=\"Times,serif\" font-size=\"14.00\" text-anchor=\"middle\" x=\"125.09\" y=\"-136.3\">(0, 0, 0)</text>\n</g>\n<!-- 1 -->\n<g class=\"node\" id=\"node3\">\n<title>1</title>\n<ellipse cx=\"271.09\" cy=\"-78.5\" fill=\"none\" rx=\"27\" ry=\"18\" stroke=\"black\"/>\n<text font-family=\"Times,serif\" font-size=\"14.00\" text-anchor=\"middle\" x=\"271.09\" y=\"-74.8\">1</text>\n</g>\n<!-- 0&#45;&gt;1 -->\n<g class=\"edge\" id=\"edge2\">\n<title>0-&gt;1</title>\n<path d=\"M134.5,-95.38C141.91,-108.2 154.04,-124.87 170.09,-132.5 192.58,-143.18 203.61,-143.18 226.09,-132.5 238.76,-126.48 248.99,-114.83 256.38,-103.88\" fill=\"none\" stroke=\"black\"/>\n<polygon fill=\"black\" points=\"259.36,-105.72 261.69,-95.38 253.42,-102.01 259.36,-105.72\" stroke=\"black\"/>\n<text font-family=\"Times,serif\" font-size=\"14.00\" text-anchor=\"middle\" x=\"198.09\" y=\"-144.3\">(0, 1, 1)</text>\n</g>\n<!-- 0&#45;&gt;1 -->\n<g class=\"edge\" id=\"edge4\">\n<title>0-&gt;1</title>\n<path d=\"M148.06,-88.19C154.98,-90.77 162.73,-93.2 170.09,-94.5 194.61,-98.82 201.58,-98.82 226.09,-94.5 230.12,-93.79 234.27,-92.74 238.33,-91.51\" fill=\"none\" stroke=\"black\"/>\n<polygon fill=\"black\" points=\"239.78,-94.72 248.13,-88.19 237.53,-88.09 239.78,-94.72\" stroke=\"black\"/>\n<text font-family=\"Times,serif\" font-size=\"14.00\" text-anchor=\"middle\" x=\"198.09\" y=\"-101.3\">(1, 1, 1)</text>\n</g>\n<!-- &#45;1 -->\n<g class=\"node\" id=\"node4\">\n<title>-1</title>\n<ellipse cx=\"371.59\" cy=\"-23.5\" fill=\"none\" rx=\"19.5\" ry=\"19.5\" stroke=\"black\"/>\n<ellipse cx=\"371.59\" cy=\"-23.5\" fill=\"none\" rx=\"23.5\" ry=\"23.5\" stroke=\"black\"/>\n<text font-family=\"Times,serif\" font-size=\"14.00\" text-anchor=\"middle\" x=\"371.59\" y=\"-19.8\">-1</text>\n</g>\n<!-- 0&#45;&gt;&#45;1 -->\n<g class=\"edge\" id=\"edge6\">\n<title>0-&gt;-1</title>\n<path d=\"M141.65,-64.25C149.59,-57.77 159.75,-50.65 170.09,-46.5 225.91,-24.1 297.03,-21.4 337.82,-22.05\" fill=\"none\" stroke=\"black\"/>\n<polygon fill=\"black\" points=\"337.92,-25.55 348,-22.29 338.09,-18.56 337.92,-25.55\" stroke=\"black\"/>\n<text font-family=\"Times,serif\" font-size=\"14.00\" text-anchor=\"middle\" x=\"271.09\" y=\"-31.3\">-1</text>\n</g>\n<!-- 1&#45;&gt;0 -->\n<g class=\"edge\" id=\"edge7\">\n<title>1-&gt;0</title>\n<path d=\"M244.05,-76.43C238.15,-76.04 231.91,-75.7 226.09,-75.5 201.22,-74.65 194.97,-74.65 170.09,-75.5 167.55,-75.58 164.92,-75.7 162.28,-75.83\" fill=\"none\" stroke=\"black\"/>\n<polygon fill=\"black\" points=\"161.92,-72.35 152.14,-76.43 162.33,-79.34 161.92,-72.35\" stroke=\"black\"/>\n<text font-family=\"Times,serif\" font-size=\"14.00\" text-anchor=\"middle\" x=\"198.09\" y=\"-79.3\">(1, 1, 1)</text>\n</g>\n<!-- 1&#45;&gt;0 -->\n<g class=\"edge\" id=\"edge10\">\n<title>1-&gt;0</title>\n<path d=\"M251.19,-66.06C243.69,-61.83 234.8,-57.64 226.09,-55.5 201.92,-49.56 194.27,-49.56 170.09,-55.5 164.65,-56.83 159.14,-58.98 153.94,-61.43\" fill=\"none\" stroke=\"black\"/>\n<polygon fill=\"black\" points=\"152.27,-58.35 145,-66.06 155.49,-64.56 152.27,-58.35\" stroke=\"black\"/>\n<text font-family=\"Times,serif\" font-size=\"14.00\" text-anchor=\"middle\" x=\"198.09\" y=\"-59.3\">(0, 1, 1)</text>\n</g>\n<!-- 1&#45;&gt;1 -->\n<g class=\"edge\" id=\"edge8\">\n<title>1-&gt;1</title>\n<path d=\"M266.42,-96.28C265.63,-105.81 267.18,-114.5 271.09,-114.5 273.48,-114.5 274.99,-111.27 275.62,-106.6\" fill=\"none\" stroke=\"black\"/>\n<polygon fill=\"black\" points=\"279.13,-106.33 275.77,-96.28 272.13,-106.23 279.13,-106.33\" stroke=\"black\"/>\n<text font-family=\"Times,serif\" font-size=\"14.00\" text-anchor=\"middle\" x=\"271.09\" y=\"-118.3\">(0, 0, 0)</text>\n</g>\n<!-- 1&#45;&gt;1 -->\n<g class=\"edge\" id=\"edge9\">\n<title>1-&gt;1</title>\n<path d=\"M263.42,-95.92C259.04,-113.29 261.6,-132.5 271.09,-132.5 278.74,-132.5 281.89,-120.06 280.54,-106.15\" fill=\"none\" stroke=\"black\"/>\n<polygon fill=\"black\" points=\"283.93,-105.18 278.77,-95.92 277.03,-106.37 283.93,-105.18\" stroke=\"black\"/>\n<text font-family=\"Times,serif\" font-size=\"14.00\" text-anchor=\"middle\" x=\"271.09\" y=\"-136.3\">(1, 0, 0)</text>\n</g>\n<!-- 1&#45;&gt;&#45;1 -->\n<g class=\"edge\" id=\"edge11\">\n<title>1-&gt;-1</title>\n<path d=\"M292.5,-67.1C306.73,-59.16 325.91,-48.45 341.7,-39.63\" fill=\"none\" stroke=\"black\"/>\n<polygon fill=\"black\" points=\"343.52,-42.62 350.55,-34.69 340.11,-36.51 343.52,-42.62\" stroke=\"black\"/>\n<text font-family=\"Times,serif\" font-size=\"14.00\" text-anchor=\"middle\" x=\"323.09\" y=\"-56.3\">-1</text>\n</g>\n</g>\n</svg></div>"
     },
     "metadata": {},
     "output_type": "display_data"
    }
   ],
   "source": [
    "rdp_generator, pdfa = learning_rotating_mab(\n",
    "    stop_probability=0.2,\n",
    "    winning_probabilities=(0.7, 0.3),\n",
    "    nb_samples=30000,\n",
    "    **DEFAULT_CONFIG)\n",
    "\n",
    "render_automaton(pdfa, char2str=char2str, with_prob=False)\n",
    "print_rdp_pdfa_transitions(pdfa)"
   ]
  },
  {
   "cell_type": "markdown",
   "metadata": {},
   "source": [
    "##### Rotating MAB, 3 arms, with probabilities (1.0, 0.0, 0.0)"
   ]
  },
  {
   "cell_type": "code",
   "execution_count": 9,
   "metadata": {
    "pycharm": {
     "name": "#%%\n"
    }
   },
   "outputs": [
    {
     "name": "stdout",
     "output_type": "stream",
     "text": [
      "Apriori expected length of traces: 1/stop_prob = 4.999999999999994\n",
      "Average length of traces: 3.679\n",
      "Print transitions\n",
      "qi=0\ta=0\tr=1\ts=1\tqf=1\tp=0.27136\n",
      "qi=0\ta=1\tr=0\ts=0\tqf=0\tp=0.26448\n",
      "qi=0\ta=2\tr=0\ts=0\tqf=0\tp=0.26384\n",
      "qi=0\tc=-1\t\t\tqf=-1\tp=0.20032\n",
      "qi=1\ta=0\tr=0\ts=0\tqf=1\tp=0.27358490566037735\n",
      "qi=1\ta=2\tr=0\ts=0\tqf=1\tp=0.2644457547169811\n",
      "qi=1\ta=1\tr=1\ts=1\tqf=2\tp=0.24941037735849056\n",
      "qi=1\tc=-1\t\t\tqf=-1\tp=0.21255896226415094\n",
      "qi=2\ta=2\tr=1\ts=1\tqf=0\tp=0.27831474597273853\n",
      "qi=2\ta=0\tr=0\ts=0\tqf=2\tp=0.27732342007434946\n",
      "qi=2\ta=1\tr=0\ts=0\tqf=2\tp=0.25551425030978947\n",
      "qi=2\tc=-1\t\t\tqf=-1\tp=0.18884758364312257\n"
     ]
    },
    {
     "name": "stderr",
     "output_type": "stream",
     "text": [
      "[2020-12-31 00:14:15,583][src.learn_pdfa][INFO] Parameters: ('BalleParams(sample_generator=<src.learn_pdfa.utils.generator.MultiprocessedGenerator '\n",
      " 'object at 0x7f41c3ba9f90>, nb_samples=100000, n=5, alphabet_size=12, '\n",
      " 'delta=0.1, epsilon=0.1, with_smoothing=False, with_ground=False, '\n",
      " 'with_infty_norm=True)')\n",
      "[2020-12-31 00:14:15,584][src.learn_pdfa][INFO] Generating the sample.\n",
      "[2020-12-31 00:14:20,260][src.learn_pdfa][INFO] Average trace length: 4.86752.\n",
      "[2020-12-31 00:14:20,261][src.learn_pdfa][INFO] Populate root multiset.\n",
      "[2020-12-31 00:14:20,539][src.learn_pdfa][INFO] Iteration 0\n",
      "[2020-12-31 00:14:20,613][src.learn_pdfa][INFO] Iteration 1\n",
      "[2020-12-31 00:14:20,728][src.learn_pdfa][INFO] Iteration 2\n",
      "[2020-12-31 00:14:20,888][src.learn_pdfa][INFO] Iteration 3\n",
      "[2020-12-31 00:14:21,015][src.learn_pdfa][INFO] Iteration 4\n",
      "[2020-12-31 00:14:21,145][src.learn_pdfa][INFO] Iteration 5\n",
      "[2020-12-31 00:14:21,297][src.learn_pdfa][INFO] Iteration 6\n",
      "[2020-12-31 00:14:21,456][src.learn_pdfa][INFO] Iteration 7\n",
      "[2020-12-31 00:14:21,732][src.learn_pdfa][INFO] Iteration 8\n",
      "[2020-12-31 00:14:22,025][src.learn_pdfa][INFO] Iteration 9\n",
      "[2020-12-31 00:14:22,043][src.learn_pdfa][INFO] Biggest multiset has cardinality 0, done\n",
      "/home/marcofavorito/.virtualenvs/PAC-RDPs-code-h40RRNYH/lib/python3.7/site-packages/ipykernel_launcher.py:17: DeprecationWarning: 'shape' argument should be used instead of 'dims'\n",
      "[2020-12-31 00:14:22,425][graphviz.files][DEBUG] write 433 bytes to '/tmp/tmpp54d3a30/output'\n",
      "[2020-12-31 00:14:22,427][graphviz.backend][DEBUG] run ['dot', '-Kdot', '-Tsvg', '-O', 'output']\n",
      "/home/marcofavorito/.virtualenvs/PAC-RDPs-code-h40RRNYH/lib/python3.7/site-packages/ipykernel_launcher.py:46: DeprecationWarning: 'shape' argument should be used instead of 'dims'\n"
     ]
    },
    {
     "data": {
      "text/plain": "<IPython.core.display.HTML object>",
      "text/html": "<div style=\"display: block; margin-left: auto; margin-right: auto; width: 50%;white-space: nowrap\"><svg height=\"177pt\" viewBox=\"0.00 0.00 551.09 176.92\" width=\"551pt\" xmlns=\"http://www.w3.org/2000/svg\" xmlns:xlink=\"http://www.w3.org/1999/xlink\">\n<g class=\"graph\" id=\"graph0\" transform=\"scale(1 1) rotate(0) translate(4 172.92)\">\n<title>%3</title>\n<polygon fill=\"white\" points=\"-4,4 -4,-172.92 547.09,-172.92 547.09,4 -4,4\" stroke=\"transparent\"/>\n<!-- fake -->\n<g class=\"node\" id=\"node1\">\n<title>fake</title>\n</g>\n<!-- 0 -->\n<g class=\"node\" id=\"node2\">\n<title>0</title>\n<ellipse cx=\"125.09\" cy=\"-33.92\" fill=\"none\" rx=\"27\" ry=\"18\" stroke=\"black\"/>\n<text font-family=\"Times,serif\" font-size=\"14.00\" text-anchor=\"middle\" x=\"125.09\" y=\"-30.22\">0</text>\n</g>\n<!-- fake&#45;&gt;0 -->\n<g class=\"edge\" id=\"edge1\">\n<title>fake-&gt;0</title>\n<path d=\"M61.34,-33.92C69.68,-33.92 78.84,-33.92 87.52,-33.92\" fill=\"none\" stroke=\"black\" stroke-width=\"2\"/>\n<polygon fill=\"black\" points=\"87.79,-37.42 97.79,-33.92 87.79,-30.42 87.79,-37.42\" stroke=\"black\" stroke-width=\"2\"/>\n</g>\n<!-- 0&#45;&gt;0 -->\n<g class=\"edge\" id=\"edge3\">\n<title>0-&gt;0</title>\n<path d=\"M121.11,-52.08C120.5,-61.46 121.83,-69.92 125.09,-69.92 127.08,-69.92 128.35,-66.78 128.9,-62.2\" fill=\"none\" stroke=\"black\"/>\n<polygon fill=\"black\" points=\"132.41,-62.13 129.07,-52.08 125.41,-62.02 132.41,-62.13\" stroke=\"black\"/>\n<text font-family=\"Times,serif\" font-size=\"14.00\" text-anchor=\"middle\" x=\"125.09\" y=\"-73.72\">(1, 0, 0)</text>\n</g>\n<!-- 0&#45;&gt;0 -->\n<g class=\"edge\" id=\"edge4\">\n<title>0-&gt;0</title>\n<path d=\"M118.54,-51.62C114.92,-68.92 117.1,-87.92 125.09,-87.92 131.53,-87.92 134.2,-75.62 133.11,-61.8\" fill=\"none\" stroke=\"black\"/>\n<polygon fill=\"black\" points=\"136.53,-61.03 131.65,-51.62 129.6,-62.02 136.53,-61.03\" stroke=\"black\"/>\n<text font-family=\"Times,serif\" font-size=\"14.00\" text-anchor=\"middle\" x=\"125.09\" y=\"-91.72\">(2, 0, 0)</text>\n</g>\n<!-- 1 -->\n<g class=\"node\" id=\"node3\">\n<title>1</title>\n<ellipse cx=\"272.09\" cy=\"-84.92\" fill=\"none\" rx=\"27\" ry=\"18\" stroke=\"black\"/>\n<text font-family=\"Times,serif\" font-size=\"14.00\" text-anchor=\"middle\" x=\"272.09\" y=\"-81.22\">1</text>\n</g>\n<!-- 0&#45;&gt;1 -->\n<g class=\"edge\" id=\"edge2\">\n<title>0-&gt;1</title>\n<path d=\"M149.39,-42.12C173.49,-50.59 211.32,-63.9 238.41,-73.43\" fill=\"none\" stroke=\"black\"/>\n<polygon fill=\"black\" points=\"237.26,-76.73 247.86,-76.75 239.58,-70.13 237.26,-76.73\" stroke=\"black\"/>\n<text font-family=\"Times,serif\" font-size=\"14.00\" text-anchor=\"middle\" x=\"198.09\" y=\"-71.72\">(0, 1, 1)</text>\n</g>\n<!-- &#45;1 -->\n<g class=\"node\" id=\"node5\">\n<title>-1</title>\n<ellipse cx=\"519.59\" cy=\"-33.92\" fill=\"none\" rx=\"19.5\" ry=\"19.5\" stroke=\"black\"/>\n<ellipse cx=\"519.59\" cy=\"-33.92\" fill=\"none\" rx=\"23.5\" ry=\"23.5\" stroke=\"black\"/>\n<text font-family=\"Times,serif\" font-size=\"14.00\" text-anchor=\"middle\" x=\"519.59\" y=\"-30.22\">-1</text>\n</g>\n<!-- 0&#45;&gt;&#45;1 -->\n<g class=\"edge\" id=\"edge5\">\n<title>0-&gt;-1</title>\n<path d=\"M150.38,-27.58C204.11,-14.48 336.9,12.75 446.09,-6.92 460.63,-9.54 476.06,-14.89 488.92,-20.15\" fill=\"none\" stroke=\"black\"/>\n<polygon fill=\"black\" points=\"487.64,-23.4 498.21,-24.1 490.38,-16.96 487.64,-23.4\" stroke=\"black\"/>\n<text font-family=\"Times,serif\" font-size=\"14.00\" text-anchor=\"middle\" x=\"346.09\" y=\"-5.72\">-1</text>\n</g>\n<!-- 1&#45;&gt;1 -->\n<g class=\"edge\" id=\"edge6\">\n<title>1-&gt;1</title>\n<path d=\"M265.44,-102.71C264.31,-112.24 266.53,-120.92 272.09,-120.92 275.49,-120.92 277.63,-117.7 278.54,-113.02\" fill=\"none\" stroke=\"black\"/>\n<polygon fill=\"black\" points=\"282.04,-112.77 278.75,-102.71 275.05,-112.63 282.04,-112.77\" stroke=\"black\"/>\n<text font-family=\"Times,serif\" font-size=\"14.00\" text-anchor=\"middle\" x=\"272.09\" y=\"-124.72\">(0, 0, 0)</text>\n</g>\n<!-- 1&#45;&gt;1 -->\n<g class=\"edge\" id=\"edge7\">\n<title>1-&gt;1</title>\n<path d=\"M261.47,-101.51C254.82,-119.09 258.36,-138.92 272.09,-138.92 283.25,-138.92 287.68,-125.83 285.38,-111.49\" fill=\"none\" stroke=\"black\"/>\n<polygon fill=\"black\" points=\"288.68,-110.27 282.71,-101.51 281.91,-112.07 288.68,-110.27\" stroke=\"black\"/>\n<text font-family=\"Times,serif\" font-size=\"14.00\" text-anchor=\"middle\" x=\"272.09\" y=\"-142.72\">(2, 0, 0)</text>\n</g>\n<!-- 2 -->\n<g class=\"node\" id=\"node4\">\n<title>2</title>\n<ellipse cx=\"419.09\" cy=\"-33.92\" fill=\"none\" rx=\"27\" ry=\"18\" stroke=\"black\"/>\n<text font-family=\"Times,serif\" font-size=\"14.00\" text-anchor=\"middle\" x=\"419.09\" y=\"-30.22\">2</text>\n</g>\n<!-- 1&#45;&gt;2 -->\n<g class=\"edge\" id=\"edge8\">\n<title>1-&gt;2</title>\n<path d=\"M296.39,-76.73C320.49,-68.25 358.32,-54.95 385.41,-45.42\" fill=\"none\" stroke=\"black\"/>\n<polygon fill=\"black\" points=\"386.58,-48.72 394.86,-42.1 384.26,-42.11 386.58,-48.72\" stroke=\"black\"/>\n<text font-family=\"Times,serif\" font-size=\"14.00\" text-anchor=\"middle\" x=\"346.09\" y=\"-71.72\">(1, 1, 1)</text>\n</g>\n<!-- 1&#45;&gt;&#45;1 -->\n<g class=\"edge\" id=\"edge9\">\n<title>1-&gt;-1</title>\n<path d=\"M291.92,-97.48C324.69,-117.63 393.74,-152.49 446.09,-126.92 472.65,-113.95 492.31,-86.03 504.41,-64.15\" fill=\"none\" stroke=\"black\"/>\n<polygon fill=\"black\" points=\"507.56,-65.68 509.13,-55.2 501.37,-62.42 507.56,-65.68\" stroke=\"black\"/>\n<text font-family=\"Times,serif\" font-size=\"14.00\" text-anchor=\"middle\" x=\"419.09\" y=\"-139.72\">-1</text>\n</g>\n<!-- 2&#45;&gt;0 -->\n<g class=\"edge\" id=\"edge10\">\n<title>2-&gt;0</title>\n<path d=\"M391.88,-33.92C339.55,-33.92 222.04,-33.92 162.36,-33.92\" fill=\"none\" stroke=\"black\"/>\n<polygon fill=\"black\" points=\"162.26,-30.42 152.26,-33.92 162.26,-37.42 162.26,-30.42\" stroke=\"black\"/>\n<text font-family=\"Times,serif\" font-size=\"14.00\" text-anchor=\"middle\" x=\"272.09\" y=\"-37.72\">(2, 1, 1)</text>\n</g>\n<!-- 2&#45;&gt;2 -->\n<g class=\"edge\" id=\"edge11\">\n<title>2-&gt;2</title>\n<path d=\"M414.42,-51.71C413.63,-61.24 415.18,-69.92 419.09,-69.92 421.48,-69.92 422.99,-66.7 423.62,-62.02\" fill=\"none\" stroke=\"black\"/>\n<polygon fill=\"black\" points=\"427.13,-61.75 423.77,-51.71 420.13,-61.65 427.13,-61.75\" stroke=\"black\"/>\n<text font-family=\"Times,serif\" font-size=\"14.00\" text-anchor=\"middle\" x=\"419.09\" y=\"-73.72\">(0, 0, 0)</text>\n</g>\n<!-- 2&#45;&gt;2 -->\n<g class=\"edge\" id=\"edge12\">\n<title>2-&gt;2</title>\n<path d=\"M411.42,-51.34C407.04,-68.71 409.6,-87.92 419.09,-87.92 426.74,-87.92 429.89,-75.49 428.54,-61.58\" fill=\"none\" stroke=\"black\"/>\n<polygon fill=\"black\" points=\"431.93,-60.6 426.77,-51.34 425.03,-61.79 431.93,-60.6\" stroke=\"black\"/>\n<text font-family=\"Times,serif\" font-size=\"14.00\" text-anchor=\"middle\" x=\"419.09\" y=\"-91.72\">(1, 0, 0)</text>\n</g>\n<!-- 2&#45;&gt;&#45;1 -->\n<g class=\"edge\" id=\"edge13\">\n<title>2-&gt;-1</title>\n<path d=\"M446.23,-33.92C458.34,-33.92 472.87,-33.92 485.71,-33.92\" fill=\"none\" stroke=\"black\"/>\n<polygon fill=\"black\" points=\"486.02,-37.42 496.02,-33.92 486.02,-30.42 486.02,-37.42\" stroke=\"black\"/>\n<text font-family=\"Times,serif\" font-size=\"14.00\" text-anchor=\"middle\" x=\"471.09\" y=\"-37.72\">-1</text>\n</g>\n</g>\n</svg></div>"
     },
     "metadata": {},
     "output_type": "display_data"
    }
   ],
   "source": [
    "rdp_generator, pdfa = learning_rotating_mab(\n",
    "    stop_probability=0.2,\n",
    "    winning_probabilities=(1.0, 0.0, 0.0),\n",
    "    nb_samples=100000,\n",
    "    **DEFAULT_CONFIG)\n",
    "\n",
    "render_automaton(pdfa, char2str=char2str, with_prob=False)\n",
    "print_rdp_pdfa_transitions(pdfa)"
   ]
  },
  {
   "cell_type": "markdown",
   "metadata": {},
   "source": [
    "##### Rotating MAB, 3 arms, with probabilities (0.1, 0.2, 0.9)"
   ]
  },
  {
   "cell_type": "code",
   "execution_count": 10,
   "metadata": {
    "pycharm": {
     "name": "#%%\n"
    }
   },
   "outputs": [
    {
     "name": "stdout",
     "output_type": "stream",
     "text": [
      "Apriori expected length of traces: 1/stop_prob = 4.999999999999994\n",
      "Average length of traces: 3.84\n",
      "Print transitions\n",
      "qi=0\ta=0\tr=0\ts=0\tqf=0\tp=0.24217600000000006\n",
      "qi=0\ta=2\tr=1\ts=1\tqf=1\tp=0.23910400000000007\n",
      "qi=0\ta=1\tr=0\ts=0\tqf=0\tp=0.21298400000000006\n",
      "qi=0\ta=1\tr=1\ts=1\tqf=1\tp=0.053904000000000014\n",
      "qi=0\ta=0\tr=1\ts=1\tqf=1\tp=0.026808000000000005\n",
      "qi=0\ta=2\tr=0\ts=0\tqf=0\tp=0.026824000000000008\n",
      "qi=0\tc=-1\t\t\tqf=-1\tp=0.19820000000000004\n",
      "qi=1\ta=0\tr=1\ts=1\tqf=2\tp=0.24113493192440555\n",
      "qi=1\ta=1\tr=0\ts=0\tqf=1\tp=0.23935683804104851\n",
      "qi=1\ta=2\tr=0\ts=0\tqf=1\tp=0.21324425929689084\n",
      "qi=1\ta=2\tr=1\ts=1\tqf=2\tp=0.055349522454785596\n",
      "qi=1\ta=0\tr=0\ts=0\tqf=1\tp=0.028144686039422873\n",
      "qi=1\ta=1\tr=1\ts=1\tqf=2\tp=0.0242582808372282\n",
      "qi=1\tc=-1\t\t\tqf=-1\tp=0.1985114814062182\n",
      "qi=2\ta=1\tr=1\ts=1\tqf=0\tp=0.23849467240988445\n",
      "qi=2\ta=2\tr=0\ts=0\tqf=2\tp=0.23630318144033854\n",
      "qi=2\ta=0\tr=0\ts=0\tqf=2\tp=0.21438827174488023\n",
      "qi=2\ta=0\tr=1\ts=1\tqf=0\tp=0.053427038464444944\n",
      "qi=2\ta=2\tr=1\ts=1\tqf=0\tp=0.02811153933348446\n",
      "qi=2\ta=1\tr=0\ts=0\tqf=2\tp=0.02607118567218318\n",
      "qi=2\tc=-1\t\t\tqf=-1\tp=0.20320411093478422\n"
     ]
    },
    {
     "name": "stderr",
     "output_type": "stream",
     "text": [
      "[2020-12-31 00:14:35,479][src.learn_pdfa][INFO] Parameters: ('BalleParams(sample_generator=<src.learn_pdfa.utils.generator.MultiprocessedGenerator '\n",
      " 'object at 0x7f41abdd2250>, nb_samples=1000000, n=6, alphabet_size=12, '\n",
      " 'delta=0.05, epsilon=0.1, with_smoothing=False, with_ground=False, '\n",
      " 'with_infty_norm=True)')\n",
      "[2020-12-31 00:14:35,480][src.learn_pdfa][INFO] Generating the sample.\n",
      "[2020-12-31 00:15:37,168][src.learn_pdfa][INFO] Average trace length: 5.011504.\n",
      "[2020-12-31 00:15:37,168][src.learn_pdfa][INFO] Populate root multiset.\n",
      "[2020-12-31 00:15:39,763][src.learn_pdfa][INFO] Iteration 0\n",
      "[2020-12-31 00:15:40,892][src.learn_pdfa][INFO] Iteration 1\n",
      "[2020-12-31 00:15:41,836][src.learn_pdfa][INFO] Iteration 2\n",
      "[2020-12-31 00:15:43,184][src.learn_pdfa][INFO] Iteration 3\n",
      "[2020-12-31 00:15:44,070][src.learn_pdfa][INFO] Iteration 4\n",
      "[2020-12-31 00:15:45,298][src.learn_pdfa][INFO] Iteration 5\n",
      "[2020-12-31 00:15:46,581][src.learn_pdfa][INFO] Iteration 6\n",
      "[2020-12-31 00:15:47,728][src.learn_pdfa][INFO] Iteration 7\n",
      "[2020-12-31 00:15:49,043][src.learn_pdfa][INFO] Iteration 8\n",
      "[2020-12-31 00:15:50,457][src.learn_pdfa][INFO] Iteration 9\n",
      "[2020-12-31 00:15:52,287][src.learn_pdfa][INFO] Iteration 10\n",
      "[2020-12-31 00:15:53,816][src.learn_pdfa][INFO] Iteration 11\n",
      "[2020-12-31 00:15:54,965][src.learn_pdfa][INFO] Iteration 12\n",
      "[2020-12-31 00:15:56,274][src.learn_pdfa][INFO] Iteration 13\n",
      "[2020-12-31 00:15:58,304][src.learn_pdfa][INFO] Iteration 14\n",
      "[2020-12-31 00:15:59,650][src.learn_pdfa][INFO] Iteration 15\n",
      "[2020-12-31 00:16:01,221][src.learn_pdfa][INFO] Iteration 16\n",
      "[2020-12-31 00:16:02,840][src.learn_pdfa][INFO] Iteration 17\n",
      "[2020-12-31 00:16:04,646][src.learn_pdfa][INFO] Iteration 18\n",
      "[2020-12-31 00:16:04,892][src.learn_pdfa][INFO] Biggest multiset has cardinality 0, done\n",
      "/home/marcofavorito/.virtualenvs/PAC-RDPs-code-h40RRNYH/lib/python3.7/site-packages/ipykernel_launcher.py:17: DeprecationWarning: 'shape' argument should be used instead of 'dims'\n",
      "[2020-12-31 00:16:10,594][graphviz.files][DEBUG] write 685 bytes to '/tmp/tmp77hg21yf/output'\n",
      "[2020-12-31 00:16:10,597][graphviz.backend][DEBUG] run ['dot', '-Kdot', '-Tsvg', '-O', 'output']\n",
      "/home/marcofavorito/.virtualenvs/PAC-RDPs-code-h40RRNYH/lib/python3.7/site-packages/ipykernel_launcher.py:46: DeprecationWarning: 'shape' argument should be used instead of 'dims'\n"
     ]
    },
    {
     "data": {
      "text/plain": "<IPython.core.display.HTML object>",
      "text/html": "<div style=\"display: block; margin-left: auto; margin-right: auto; width: 50%;white-space: nowrap\"><svg height=\"274pt\" viewBox=\"0.00 0.00 551.09 273.90\" width=\"551pt\" xmlns=\"http://www.w3.org/2000/svg\" xmlns:xlink=\"http://www.w3.org/1999/xlink\">\n<g class=\"graph\" id=\"graph0\" transform=\"scale(1 1) rotate(0) translate(4 269.9)\">\n<title>%3</title>\n<polygon fill=\"white\" points=\"-4,4 -4,-269.9 547.09,-269.9 547.09,4 -4,4\" stroke=\"transparent\"/>\n<!-- fake -->\n<g class=\"node\" id=\"node1\">\n<title>fake</title>\n</g>\n<!-- 0 -->\n<g class=\"node\" id=\"node2\">\n<title>0</title>\n<ellipse cx=\"125.09\" cy=\"-70.9\" fill=\"none\" rx=\"27\" ry=\"18\" stroke=\"black\"/>\n<text font-family=\"Times,serif\" font-size=\"14.00\" text-anchor=\"middle\" x=\"125.09\" y=\"-67.2\">0</text>\n</g>\n<!-- fake&#45;&gt;0 -->\n<g class=\"edge\" id=\"edge1\">\n<title>fake-&gt;0</title>\n<path d=\"M61.34,-70.9C69.68,-70.9 78.84,-70.9 87.52,-70.9\" fill=\"none\" stroke=\"black\" stroke-width=\"2\"/>\n<polygon fill=\"black\" points=\"87.79,-74.4 97.79,-70.9 87.79,-67.4 87.79,-74.4\" stroke=\"black\" stroke-width=\"2\"/>\n</g>\n<!-- 0&#45;&gt;0 -->\n<g class=\"edge\" id=\"edge2\">\n<title>0-&gt;0</title>\n<path d=\"M122.44,-89.06C122.03,-98.44 122.92,-106.9 125.09,-106.9 126.42,-106.9 127.27,-103.76 127.63,-99.18\" fill=\"none\" stroke=\"black\"/>\n<polygon fill=\"black\" points=\"131.14,-99.1 127.75,-89.06 124.14,-99.02 131.14,-99.1\" stroke=\"black\"/>\n<text font-family=\"Times,serif\" font-size=\"14.00\" text-anchor=\"middle\" x=\"125.09\" y=\"-110.7\">(0, 0, 0)</text>\n</g>\n<!-- 0&#45;&gt;0 -->\n<g class=\"edge\" id=\"edge4\">\n<title>0-&gt;0</title>\n<path d=\"M120.69,-88.88C118.33,-106.1 119.8,-124.9 125.09,-124.9 129.36,-124.9 131.14,-112.73 130.45,-99\" fill=\"none\" stroke=\"black\"/>\n<polygon fill=\"black\" points=\"133.92,-98.51 129.5,-88.88 126.95,-99.16 133.92,-98.51\" stroke=\"black\"/>\n<text font-family=\"Times,serif\" font-size=\"14.00\" text-anchor=\"middle\" x=\"125.09\" y=\"-128.7\">(1, 0, 0)</text>\n</g>\n<!-- 0&#45;&gt;0 -->\n<g class=\"edge\" id=\"edge7\">\n<title>0-&gt;0</title>\n<path d=\"M119.6,-88.62C114.58,-113.02 116.41,-142.9 125.09,-142.9 132.62,-142.9 135,-120.43 132.22,-98.55\" fill=\"none\" stroke=\"black\"/>\n<polygon fill=\"black\" points=\"135.67,-97.92 130.59,-88.62 128.76,-99.06 135.67,-97.92\" stroke=\"black\"/>\n<text font-family=\"Times,serif\" font-size=\"14.00\" text-anchor=\"middle\" x=\"125.09\" y=\"-146.7\">(2, 0, 0)</text>\n</g>\n<!-- 1 -->\n<g class=\"node\" id=\"node3\">\n<title>1</title>\n<ellipse cx=\"272.09\" cy=\"-108.9\" fill=\"none\" rx=\"27\" ry=\"18\" stroke=\"black\"/>\n<text font-family=\"Times,serif\" font-size=\"14.00\" text-anchor=\"middle\" x=\"272.09\" y=\"-105.2\">1</text>\n</g>\n<!-- 0&#45;&gt;1 -->\n<g class=\"edge\" id=\"edge3\">\n<title>0-&gt;1</title>\n<path d=\"M134.5,-87.79C141.91,-100.6 154.04,-117.27 170.09,-124.9 192.01,-135.31 219.3,-130.05 239.99,-122.88\" fill=\"none\" stroke=\"black\"/>\n<polygon fill=\"black\" points=\"241.44,-126.08 249.56,-119.27 238.97,-119.53 241.44,-126.08\" stroke=\"black\"/>\n<text font-family=\"Times,serif\" font-size=\"14.00\" text-anchor=\"middle\" x=\"198.09\" y=\"-133.7\">(2, 1, 1)</text>\n</g>\n<!-- 0&#45;&gt;1 -->\n<g class=\"edge\" id=\"edge5\">\n<title>0-&gt;1</title>\n<path d=\"M148.74,-79.8C155.54,-82.29 163.07,-84.87 170.09,-86.9 191.58,-93.12 216.07,-98.5 235.56,-102.38\" fill=\"none\" stroke=\"black\"/>\n<polygon fill=\"black\" points=\"235.05,-105.84 245.54,-104.32 236.39,-98.97 235.05,-105.84\" stroke=\"black\"/>\n<text font-family=\"Times,serif\" font-size=\"14.00\" text-anchor=\"middle\" x=\"198.09\" y=\"-103.7\">(1, 1, 1)</text>\n</g>\n<!-- 0&#45;&gt;1 -->\n<g class=\"edge\" id=\"edge6\">\n<title>0-&gt;1</title>\n<path d=\"M150.83,-64.95C171.64,-61.14 201.8,-58.5 226.09,-67.9 235.65,-71.6 244.42,-78.38 251.63,-85.37\" fill=\"none\" stroke=\"black\"/>\n<polygon fill=\"black\" points=\"249.38,-88.08 258.81,-92.91 254.45,-83.25 249.38,-88.08\" stroke=\"black\"/>\n<text font-family=\"Times,serif\" font-size=\"14.00\" text-anchor=\"middle\" x=\"198.09\" y=\"-71.7\">(0, 1, 1)</text>\n</g>\n<!-- &#45;1 -->\n<g class=\"node\" id=\"node5\">\n<title>-1</title>\n<ellipse cx=\"519.59\" cy=\"-200.9\" fill=\"none\" rx=\"19.5\" ry=\"19.5\" stroke=\"black\"/>\n<ellipse cx=\"519.59\" cy=\"-200.9\" fill=\"none\" rx=\"23.5\" ry=\"23.5\" stroke=\"black\"/>\n<text font-family=\"Times,serif\" font-size=\"14.00\" text-anchor=\"middle\" x=\"519.59\" y=\"-197.2\">-1</text>\n</g>\n<!-- 0&#45;&gt;&#45;1 -->\n<g class=\"edge\" id=\"edge8\">\n<title>0-&gt;-1</title>\n<path d=\"M132,-88.43C145.27,-124.51 181.29,-206.09 244.09,-234.9 326.31,-272.62 436.14,-236.43 488.45,-214.67\" fill=\"none\" stroke=\"black\"/>\n<polygon fill=\"black\" points=\"490,-217.81 497.82,-210.67 487.25,-211.38 490,-217.81\" stroke=\"black\"/>\n<text font-family=\"Times,serif\" font-size=\"14.00\" text-anchor=\"middle\" x=\"346.09\" y=\"-254.7\">-1</text>\n</g>\n<!-- 1&#45;&gt;1 -->\n<g class=\"edge\" id=\"edge10\">\n<title>1-&gt;1</title>\n<path d=\"M267.66,-126.69C266.91,-136.22 268.38,-144.9 272.09,-144.9 274.36,-144.9 275.79,-141.68 276.39,-137\" fill=\"none\" stroke=\"black\"/>\n<polygon fill=\"black\" points=\"279.89,-136.73 276.53,-126.69 272.89,-136.64 279.89,-136.73\" stroke=\"black\"/>\n<text font-family=\"Times,serif\" font-size=\"14.00\" text-anchor=\"middle\" x=\"272.09\" y=\"-148.7\">(1, 0, 0)</text>\n</g>\n<!-- 1&#45;&gt;1 -->\n<g class=\"edge\" id=\"edge11\">\n<title>1-&gt;1</title>\n<path d=\"M264.81,-126.32C260.66,-143.69 263.09,-162.9 272.09,-162.9 279.34,-162.9 282.33,-150.47 281.06,-136.56\" fill=\"none\" stroke=\"black\"/>\n<polygon fill=\"black\" points=\"284.45,-135.62 279.38,-126.32 277.55,-136.76 284.45,-135.62\" stroke=\"black\"/>\n<text font-family=\"Times,serif\" font-size=\"14.00\" text-anchor=\"middle\" x=\"272.09\" y=\"-166.7\">(2, 0, 0)</text>\n</g>\n<!-- 1&#45;&gt;1 -->\n<g class=\"edge\" id=\"edge13\">\n<title>1-&gt;1</title>\n<path d=\"M263.11,-125.9C254.36,-150.42 257.35,-180.9 272.09,-180.9 284.94,-180.9 288.86,-157.78 283.88,-135.6\" fill=\"none\" stroke=\"black\"/>\n<polygon fill=\"black\" points=\"287.21,-134.53 281.08,-125.9 280.49,-136.47 287.21,-134.53\" stroke=\"black\"/>\n<text font-family=\"Times,serif\" font-size=\"14.00\" text-anchor=\"middle\" x=\"272.09\" y=\"-184.7\">(0, 0, 0)</text>\n</g>\n<!-- 2 -->\n<g class=\"node\" id=\"node4\">\n<title>2</title>\n<ellipse cx=\"419.09\" cy=\"-47.9\" fill=\"none\" rx=\"27\" ry=\"18\" stroke=\"black\"/>\n<text font-family=\"Times,serif\" font-size=\"14.00\" text-anchor=\"middle\" x=\"419.09\" y=\"-44.2\">2</text>\n</g>\n<!-- 1&#45;&gt;2 -->\n<g class=\"edge\" id=\"edge9\">\n<title>1-&gt;2</title>\n<path d=\"M293.89,-119.63C315.38,-129.1 349.22,-139.34 374.09,-124.9 392.35,-114.31 403.67,-92.98 410.25,-75.45\" fill=\"none\" stroke=\"black\"/>\n<polygon fill=\"black\" points=\"413.67,-76.27 413.59,-65.68 407.05,-74.01 413.67,-76.27\" stroke=\"black\"/>\n<text font-family=\"Times,serif\" font-size=\"14.00\" text-anchor=\"middle\" x=\"346.09\" y=\"-135.7\">(0, 1, 1)</text>\n</g>\n<!-- 1&#45;&gt;2 -->\n<g class=\"edge\" id=\"edge12\">\n<title>1-&gt;2</title>\n<path d=\"M299.21,-106.88C320.36,-104.4 350.41,-98.93 374.09,-86.9 382.34,-82.72 390.25,-76.61 397.04,-70.47\" fill=\"none\" stroke=\"black\"/>\n<polygon fill=\"black\" points=\"399.66,-72.81 404.45,-63.36 394.81,-67.76 399.66,-72.81\" stroke=\"black\"/>\n<text font-family=\"Times,serif\" font-size=\"14.00\" text-anchor=\"middle\" x=\"346.09\" y=\"-107.7\">(2, 1, 1)</text>\n</g>\n<!-- 1&#45;&gt;2 -->\n<g class=\"edge\" id=\"edge14\">\n<title>1-&gt;2</title>\n<path d=\"M286.16,-93.39C294.42,-84.58 305.83,-74.1 318.09,-67.9 337.78,-57.95 362,-52.95 381.67,-50.43\" fill=\"none\" stroke=\"black\"/>\n<polygon fill=\"black\" points=\"382.23,-53.89 391.78,-49.31 381.45,-46.94 382.23,-53.89\" stroke=\"black\"/>\n<text font-family=\"Times,serif\" font-size=\"14.00\" text-anchor=\"middle\" x=\"346.09\" y=\"-71.7\">(1, 1, 1)</text>\n</g>\n<!-- 1&#45;&gt;&#45;1 -->\n<g class=\"edge\" id=\"edge15\">\n<title>1-&gt;-1</title>\n<path d=\"M286.34,-124.34C294.66,-133.21 306.08,-143.93 318.09,-150.9 371.75,-182.06 444.41,-193.94 485.92,-198.37\" fill=\"none\" stroke=\"black\"/>\n<polygon fill=\"black\" points=\"485.72,-201.87 496.01,-199.36 486.41,-194.9 485.72,-201.87\" stroke=\"black\"/>\n<text font-family=\"Times,serif\" font-size=\"14.00\" text-anchor=\"middle\" x=\"419.09\" y=\"-195.7\">-1</text>\n</g>\n<!-- 2&#45;&gt;0 -->\n<g class=\"edge\" id=\"edge16\">\n<title>2-&gt;0</title>\n<path d=\"M392.15,-46.55C346.75,-44.69 250.11,-42.99 170.09,-56.9 166.4,-57.55 162.59,-58.42 158.83,-59.42\" fill=\"none\" stroke=\"black\"/>\n<polygon fill=\"black\" points=\"157.69,-56.11 149.09,-62.29 159.67,-62.82 157.69,-56.11\" stroke=\"black\"/>\n<text font-family=\"Times,serif\" font-size=\"14.00\" text-anchor=\"middle\" x=\"272.09\" y=\"-51.7\">(1, 1, 1)</text>\n</g>\n<!-- 2&#45;&gt;0 -->\n<g class=\"edge\" id=\"edge19\">\n<title>2-&gt;0</title>\n<path d=\"M394.16,-40.96C360.6,-32.12 297.67,-18.79 244.09,-25.9 210.32,-30.39 201.6,-32.94 170.09,-45.9 164.81,-48.08 159.38,-50.76 154.21,-53.55\" fill=\"none\" stroke=\"black\"/>\n<polygon fill=\"black\" points=\"152.25,-50.63 145.27,-58.61 155.7,-56.73 152.25,-50.63\" stroke=\"black\"/>\n<text font-family=\"Times,serif\" font-size=\"14.00\" text-anchor=\"middle\" x=\"272.09\" y=\"-29.7\">(0, 1, 1)</text>\n</g>\n<!-- 2&#45;&gt;0 -->\n<g class=\"edge\" id=\"edge20\">\n<title>2-&gt;0</title>\n<path d=\"M399.45,-35.23C391.85,-30.51 382.81,-25.45 374.09,-21.9 320.06,0.06 301.92,3.77 244.09,-3.9 210.32,-8.39 199.3,-6.35 170.09,-23.9 160.22,-29.84 151.17,-38.61 143.87,-46.98\" fill=\"none\" stroke=\"black\"/>\n<polygon fill=\"black\" points=\"141.11,-44.82 137.45,-54.77 146.51,-49.28 141.11,-44.82\" stroke=\"black\"/>\n<text font-family=\"Times,serif\" font-size=\"14.00\" text-anchor=\"middle\" x=\"272.09\" y=\"-7.7\">(2, 1, 1)</text>\n</g>\n<!-- 2&#45;&gt;2 -->\n<g class=\"edge\" id=\"edge17\">\n<title>2-&gt;2</title>\n<path d=\"M415.96,-66.06C415.48,-75.44 416.52,-83.9 419.09,-83.9 420.66,-83.9 421.66,-80.76 422.1,-76.18\" fill=\"none\" stroke=\"black\"/>\n<polygon fill=\"black\" points=\"425.6,-76.1 422.23,-66.06 418.6,-76.01 425.6,-76.1\" stroke=\"black\"/>\n<text font-family=\"Times,serif\" font-size=\"14.00\" text-anchor=\"middle\" x=\"419.09\" y=\"-87.7\">(2, 0, 0)</text>\n</g>\n<!-- 2&#45;&gt;2 -->\n<g class=\"edge\" id=\"edge18\">\n<title>2-&gt;2</title>\n<path d=\"M413.93,-65.6C411.08,-82.9 412.8,-101.9 419.09,-101.9 424.16,-101.9 426.27,-89.6 425.41,-75.78\" fill=\"none\" stroke=\"black\"/>\n<polygon fill=\"black\" points=\"428.86,-75.15 424.26,-65.6 421.9,-75.93 428.86,-75.15\" stroke=\"black\"/>\n<text font-family=\"Times,serif\" font-size=\"14.00\" text-anchor=\"middle\" x=\"419.09\" y=\"-105.7\">(0, 0, 0)</text>\n</g>\n<!-- 2&#45;&gt;2 -->\n<g class=\"edge\" id=\"edge21\">\n<title>2-&gt;2</title>\n<path d=\"M412.6,-65.62C406.67,-90.02 408.84,-119.9 419.09,-119.9 427.99,-119.9 430.8,-97.43 427.52,-75.55\" fill=\"none\" stroke=\"black\"/>\n<polygon fill=\"black\" points=\"430.93,-74.77 425.59,-65.62 424.06,-76.1 430.93,-74.77\" stroke=\"black\"/>\n<text font-family=\"Times,serif\" font-size=\"14.00\" text-anchor=\"middle\" x=\"419.09\" y=\"-123.7\">(1, 0, 0)</text>\n</g>\n<!-- 2&#45;&gt;&#45;1 -->\n<g class=\"edge\" id=\"edge22\">\n<title>2-&gt;-1</title>\n<path d=\"M430.64,-64.28C447.33,-90.21 480.05,-141.04 500.54,-172.86\" fill=\"none\" stroke=\"black\"/>\n<polygon fill=\"black\" points=\"497.61,-174.78 505.97,-181.29 503.5,-170.99 497.61,-174.78\" stroke=\"black\"/>\n<text font-family=\"Times,serif\" font-size=\"14.00\" text-anchor=\"middle\" x=\"471.09\" y=\"-136.7\">-1</text>\n</g>\n</g>\n</svg></div>"
     },
     "metadata": {},
     "output_type": "display_data"
    }
   ],
   "source": [
    "rdp_generator, pdfa = learning_rotating_mab(\n",
    "    stop_probability=0.2,\n",
    "    winning_probabilities=(0.1, 0.2, 0.9),\n",
    "    nb_samples=50000,\n",
    "    **DEFAULT_CONFIG)\n",
    "\n",
    "render_automaton(pdfa, char2str=char2str, with_prob=False)\n",
    "print_rdp_pdfa_transitions(pdfa)"
   ]
  },
  {
   "cell_type": "markdown",
   "metadata": {},
   "source": [
    "##### Rotating MAB, 4 arms, with probabilities (1.0, 0.0, 0.0, 0.0)\n"
   ]
  },
  {
   "cell_type": "code",
   "execution_count": 12,
   "metadata": {
    "pycharm": {
     "name": "#%%\n"
    }
   },
   "outputs": [
    {
     "name": "stdout",
     "output_type": "stream",
     "text": [
      "Apriori expected length of traces: 1/stop_prob = 9.999999999999977\n",
      "Average length of traces: 7.879\n",
      "Print transitions\n",
      "qi=0\ta=2\tr=0\ts=0\tqf=0\tp=0.23498666666666668\n",
      "qi=0\ta=1\tr=0\ts=0\tqf=0\tp=0.22656\n",
      "qi=0\ta=3\tr=0\ts=0\tqf=0\tp=0.22250666666666666\n",
      "qi=0\ta=0\tr=1\ts=1\tqf=1\tp=0.22026666666666667\n",
      "qi=0\tc=-1\t\t\tqf=-1\tp=0.09568\n",
      "qi=1\ta=2\tr=0\ts=0\tqf=1\tp=0.22666666666666666\n",
      "qi=1\ta=1\tr=1\ts=1\tqf=2\tp=0.22528735632183908\n",
      "qi=1\ta=0\tr=0\ts=0\tqf=1\tp=0.22436781609195408\n",
      "qi=1\ta=3\tr=0\ts=0\tqf=1\tp=0.22375478927203066\n",
      "qi=1\tc=-1\t\t\tqf=-1\tp=0.0999233716475096\n",
      "qi=2\ta=1\tr=0\ts=0\tqf=2\tp=0.2296374146085129\n",
      "qi=2\ta=2\tr=1\ts=1\tqf=3\tp=0.22070415133998944\n",
      "qi=2\ta=3\tr=0\ts=0\tqf=2\tp=0.23121387283237\n",
      "qi=2\ta=0\tr=0\ts=0\tqf=2\tp=0.22122963741460844\n",
      "qi=2\tc=-1\t\t\tqf=-1\tp=0.09721492380451913\n",
      "qi=3\ta=2\tr=0\ts=0\tqf=3\tp=0.22784810126582264\n",
      "qi=3\ta=3\tr=1\ts=1\tqf=0\tp=0.22486969471332824\n",
      "qi=3\ta=0\tr=0\ts=0\tqf=3\tp=0.21667907669396858\n",
      "qi=3\ta=1\tr=0\ts=0\tqf=3\tp=0.21965748324646306\n",
      "qi=3\tc=-1\t\t\tqf=-1\tp=0.11094564408041746\n"
     ]
    },
    {
     "name": "stderr",
     "output_type": "stream",
     "text": [
      "[2020-12-31 00:20:29,839][src.learn_pdfa][INFO] Parameters: ('BalleParams(sample_generator=<src.learn_pdfa.utils.generator.MultiprocessedGenerator '\n",
      " 'object at 0x7f41c32fddd0>, nb_samples=75000, n=5, alphabet_size=16, '\n",
      " 'delta=0.1, epsilon=0.1, with_smoothing=False, with_ground=False, '\n",
      " 'with_infty_norm=True)')\n",
      "[2020-12-31 00:20:29,842][src.learn_pdfa][INFO] Generating the sample.\n",
      "[2020-12-31 00:20:40,418][src.learn_pdfa][INFO] Average trace length: 8.974613333333334.\n",
      "[2020-12-31 00:20:40,419][src.learn_pdfa][INFO] Populate root multiset.\n",
      "[2020-12-31 00:20:41,262][src.learn_pdfa][INFO] Iteration 0\n",
      "[2020-12-31 00:20:41,726][src.learn_pdfa][INFO] Iteration 1\n",
      "[2020-12-31 00:20:42,153][src.learn_pdfa][INFO] Iteration 2\n",
      "[2020-12-31 00:20:42,744][src.learn_pdfa][INFO] Iteration 3\n",
      "[2020-12-31 00:20:43,318][src.learn_pdfa][INFO] Iteration 4\n",
      "[2020-12-31 00:20:44,215][src.learn_pdfa][INFO] Iteration 5\n",
      "[2020-12-31 00:20:44,816][src.learn_pdfa][INFO] Iteration 6\n",
      "[2020-12-31 00:20:45,815][src.learn_pdfa][INFO] Iteration 7\n",
      "[2020-12-31 00:20:46,874][src.learn_pdfa][INFO] Iteration 8\n",
      "[2020-12-31 00:20:47,534][src.learn_pdfa][INFO] Iteration 9\n",
      "[2020-12-31 00:20:48,148][src.learn_pdfa][INFO] Iteration 10\n",
      "[2020-12-31 00:20:49,060][src.learn_pdfa][INFO] Iteration 11\n",
      "[2020-12-31 00:20:50,286][src.learn_pdfa][INFO] Iteration 12\n",
      "[2020-12-31 00:20:51,023][src.learn_pdfa][INFO] Iteration 13\n",
      "[2020-12-31 00:20:51,654][src.learn_pdfa][INFO] Iteration 14\n",
      "[2020-12-31 00:20:52,540][src.learn_pdfa][INFO] Iteration 15\n",
      "[2020-12-31 00:20:53,664][src.learn_pdfa][INFO] Iteration 16\n",
      "[2020-12-31 00:20:53,769][src.learn_pdfa][INFO] Biggest multiset has cardinality 0, done\n",
      "/home/marcofavorito/.virtualenvs/PAC-RDPs-code-h40RRNYH/lib/python3.7/site-packages/ipykernel_launcher.py:17: DeprecationWarning: 'shape' argument should be used instead of 'dims'\n",
      "[2020-12-31 00:20:56,452][graphviz.files][DEBUG] write 652 bytes to '/tmp/tmpwfpnle90/output'\n",
      "[2020-12-31 00:20:56,454][graphviz.backend][DEBUG] run ['dot', '-Kdot', '-Tsvg', '-O', 'output']\n",
      "/home/marcofavorito/.virtualenvs/PAC-RDPs-code-h40RRNYH/lib/python3.7/site-packages/ipykernel_launcher.py:46: DeprecationWarning: 'shape' argument should be used instead of 'dims'\n"
     ]
    },
    {
     "data": {
      "text/plain": "<IPython.core.display.HTML object>",
      "text/html": "<div style=\"display: block; margin-left: auto; margin-right: auto; width: 50%;white-space: nowrap\"><svg height=\"283pt\" viewBox=\"0.00 0.00 695.09 283.00\" width=\"695pt\" xmlns=\"http://www.w3.org/2000/svg\" xmlns:xlink=\"http://www.w3.org/1999/xlink\">\n<g class=\"graph\" id=\"graph0\" transform=\"scale(1 1) rotate(0) translate(4 279)\">\n<title>%3</title>\n<polygon fill=\"white\" points=\"-4,4 -4,-279 691.09,-279 691.09,4 -4,4\" stroke=\"transparent\"/>\n<!-- fake -->\n<g class=\"node\" id=\"node1\">\n<title>fake</title>\n</g>\n<!-- 0 -->\n<g class=\"node\" id=\"node2\">\n<title>0</title>\n<ellipse cx=\"125.09\" cy=\"-103\" fill=\"none\" rx=\"27\" ry=\"18\" stroke=\"black\"/>\n<text font-family=\"Times,serif\" font-size=\"14.00\" text-anchor=\"middle\" x=\"125.09\" y=\"-99.3\">0</text>\n</g>\n<!-- fake&#45;&gt;0 -->\n<g class=\"edge\" id=\"edge1\">\n<title>fake-&gt;0</title>\n<path d=\"M61.34,-103C69.68,-103 78.84,-103 87.52,-103\" fill=\"none\" stroke=\"black\" stroke-width=\"2\"/>\n<polygon fill=\"black\" points=\"87.79,-106.5 97.79,-103 87.79,-99.5 87.79,-106.5\" stroke=\"black\" stroke-width=\"2\"/>\n</g>\n<!-- 0&#45;&gt;0 -->\n<g class=\"edge\" id=\"edge2\">\n<title>0-&gt;0</title>\n<path d=\"M122.44,-121.15C122.03,-130.54 122.92,-139 125.09,-139 126.42,-139 127.27,-135.86 127.63,-131.28\" fill=\"none\" stroke=\"black\"/>\n<polygon fill=\"black\" points=\"131.14,-131.19 127.75,-121.15 124.14,-131.11 131.14,-131.19\" stroke=\"black\"/>\n<text font-family=\"Times,serif\" font-size=\"14.00\" text-anchor=\"middle\" x=\"125.09\" y=\"-142.8\">(2, 0, 0)</text>\n</g>\n<!-- 0&#45;&gt;0 -->\n<g class=\"edge\" id=\"edge3\">\n<title>0-&gt;0</title>\n<path d=\"M120.69,-120.98C118.33,-138.2 119.8,-157 125.09,-157 129.36,-157 131.14,-144.83 130.45,-131.1\" fill=\"none\" stroke=\"black\"/>\n<polygon fill=\"black\" points=\"133.92,-130.61 129.5,-120.98 126.95,-131.26 133.92,-130.61\" stroke=\"black\"/>\n<text font-family=\"Times,serif\" font-size=\"14.00\" text-anchor=\"middle\" x=\"125.09\" y=\"-160.8\">(1, 0, 0)</text>\n</g>\n<!-- 0&#45;&gt;0 -->\n<g class=\"edge\" id=\"edge4\">\n<title>0-&gt;0</title>\n<path d=\"M119.6,-120.72C114.58,-145.11 116.41,-175 125.09,-175 132.62,-175 135,-152.53 132.22,-130.64\" fill=\"none\" stroke=\"black\"/>\n<polygon fill=\"black\" points=\"135.67,-130.01 130.59,-120.72 128.76,-131.15 135.67,-130.01\" stroke=\"black\"/>\n<text font-family=\"Times,serif\" font-size=\"14.00\" text-anchor=\"middle\" x=\"125.09\" y=\"-178.8\">(3, 0, 0)</text>\n</g>\n<!-- 1 -->\n<g class=\"node\" id=\"node3\">\n<title>1</title>\n<ellipse cx=\"271.09\" cy=\"-103\" fill=\"none\" rx=\"27\" ry=\"18\" stroke=\"black\"/>\n<text font-family=\"Times,serif\" font-size=\"14.00\" text-anchor=\"middle\" x=\"271.09\" y=\"-99.3\">1</text>\n</g>\n<!-- 0&#45;&gt;1 -->\n<g class=\"edge\" id=\"edge5\">\n<title>0-&gt;1</title>\n<path d=\"M152.17,-103C174.97,-103 208.3,-103 233.72,-103\" fill=\"none\" stroke=\"black\"/>\n<polygon fill=\"black\" points=\"233.72,-106.5 243.72,-103 233.72,-99.5 233.72,-106.5\" stroke=\"black\"/>\n<text font-family=\"Times,serif\" font-size=\"14.00\" text-anchor=\"middle\" x=\"198.09\" y=\"-106.8\">(0, 1, 1)</text>\n</g>\n<!-- &#45;1 -->\n<g class=\"node\" id=\"node6\">\n<title>-1</title>\n<ellipse cx=\"663.59\" cy=\"-192\" fill=\"none\" rx=\"19.5\" ry=\"19.5\" stroke=\"black\"/>\n<ellipse cx=\"663.59\" cy=\"-192\" fill=\"none\" rx=\"23.5\" ry=\"23.5\" stroke=\"black\"/>\n<text font-family=\"Times,serif\" font-size=\"14.00\" text-anchor=\"middle\" x=\"663.59\" y=\"-188.3\">-1</text>\n</g>\n<!-- 0&#45;&gt;&#45;1 -->\n<g class=\"edge\" id=\"edge6\">\n<title>0-&gt;-1</title>\n<path d=\"M132.4,-120.4C148.46,-161.28 195.01,-260 270.09,-260 270.09,-260 270.09,-260 564.09,-260 594.96,-260 623.17,-237.11 641.41,-217.89\" fill=\"none\" stroke=\"black\"/>\n<polygon fill=\"black\" points=\"644.24,-219.98 648.36,-210.22 639.05,-215.28 644.24,-219.98\" stroke=\"black\"/>\n<text font-family=\"Times,serif\" font-size=\"14.00\" text-anchor=\"middle\" x=\"417.09\" y=\"-263.8\">-1</text>\n</g>\n<!-- 1&#45;&gt;1 -->\n<g class=\"edge\" id=\"edge7\">\n<title>1-&gt;1</title>\n<path d=\"M266.78,-120.78C266.05,-130.31 267.49,-139 271.09,-139 273.29,-139 274.69,-135.77 275.27,-131.1\" fill=\"none\" stroke=\"black\"/>\n<polygon fill=\"black\" points=\"278.78,-130.83 275.41,-120.78 271.78,-130.74 278.78,-130.83\" stroke=\"black\"/>\n<text font-family=\"Times,serif\" font-size=\"14.00\" text-anchor=\"middle\" x=\"271.09\" y=\"-142.8\">(2, 0, 0)</text>\n</g>\n<!-- 1&#45;&gt;1 -->\n<g class=\"edge\" id=\"edge9\">\n<title>1-&gt;1</title>\n<path d=\"M264.01,-120.42C259.97,-137.79 262.33,-157 271.09,-157 278.15,-157 281.06,-144.56 279.82,-130.65\" fill=\"none\" stroke=\"black\"/>\n<polygon fill=\"black\" points=\"283.22,-129.74 278.18,-120.42 276.3,-130.85 283.22,-129.74\" stroke=\"black\"/>\n<text font-family=\"Times,serif\" font-size=\"14.00\" text-anchor=\"middle\" x=\"271.09\" y=\"-160.8\">(0, 0, 0)</text>\n</g>\n<!-- 1&#45;&gt;1 -->\n<g class=\"edge\" id=\"edge10\">\n<title>1-&gt;1</title>\n<path d=\"M262.23,-120.35C253.87,-144.82 256.82,-175 271.09,-175 283.53,-175 287.37,-152.1 282.63,-130.02\" fill=\"none\" stroke=\"black\"/>\n<polygon fill=\"black\" points=\"286,-129.06 279.96,-120.35 279.25,-130.92 286,-129.06\" stroke=\"black\"/>\n<text font-family=\"Times,serif\" font-size=\"14.00\" text-anchor=\"middle\" x=\"271.09\" y=\"-178.8\">(3, 0, 0)</text>\n</g>\n<!-- 2 -->\n<g class=\"node\" id=\"node4\">\n<title>2</title>\n<ellipse cx=\"417.09\" cy=\"-69\" fill=\"none\" rx=\"27\" ry=\"18\" stroke=\"black\"/>\n<text font-family=\"Times,serif\" font-size=\"14.00\" text-anchor=\"middle\" x=\"417.09\" y=\"-65.3\">2</text>\n</g>\n<!-- 1&#45;&gt;2 -->\n<g class=\"edge\" id=\"edge8\">\n<title>1-&gt;2</title>\n<path d=\"M296.85,-97.16C320.13,-91.66 355.22,-83.37 381.31,-77.21\" fill=\"none\" stroke=\"black\"/>\n<polygon fill=\"black\" points=\"382.25,-80.59 391.18,-74.88 380.64,-73.77 382.25,-80.59\" stroke=\"black\"/>\n<text font-family=\"Times,serif\" font-size=\"14.00\" text-anchor=\"middle\" x=\"344.09\" y=\"-95.8\">(1, 1, 1)</text>\n</g>\n<!-- 1&#45;&gt;&#45;1 -->\n<g class=\"edge\" id=\"edge11\">\n<title>1-&gt;-1</title>\n<path d=\"M285.43,-118.49C305.5,-140.49 345.88,-179.8 390.09,-195 472.97,-223.49 578.59,-209.18 630.64,-199.09\" fill=\"none\" stroke=\"black\"/>\n<polygon fill=\"black\" points=\"631.5,-202.49 640.61,-197.08 630.12,-195.63 631.5,-202.49\" stroke=\"black\"/>\n<text font-family=\"Times,serif\" font-size=\"14.00\" text-anchor=\"middle\" x=\"490.09\" y=\"-214.8\">-1</text>\n</g>\n<!-- 2&#45;&gt;2 -->\n<g class=\"edge\" id=\"edge12\">\n<title>2-&gt;2</title>\n<path d=\"M412.78,-86.78C412.05,-96.31 413.49,-105 417.09,-105 419.29,-105 420.69,-101.77 421.27,-97.1\" fill=\"none\" stroke=\"black\"/>\n<polygon fill=\"black\" points=\"424.78,-96.83 421.41,-86.78 417.78,-96.74 424.78,-96.83\" stroke=\"black\"/>\n<text font-family=\"Times,serif\" font-size=\"14.00\" text-anchor=\"middle\" x=\"417.09\" y=\"-108.8\">(1, 0, 0)</text>\n</g>\n<!-- 2&#45;&gt;2 -->\n<g class=\"edge\" id=\"edge14\">\n<title>2-&gt;2</title>\n<path d=\"M410.01,-86.42C405.97,-103.79 408.33,-123 417.09,-123 424.15,-123 427.06,-110.56 425.82,-96.65\" fill=\"none\" stroke=\"black\"/>\n<polygon fill=\"black\" points=\"429.22,-95.74 424.18,-86.42 422.3,-96.85 429.22,-95.74\" stroke=\"black\"/>\n<text font-family=\"Times,serif\" font-size=\"14.00\" text-anchor=\"middle\" x=\"417.09\" y=\"-126.8\">(3, 0, 0)</text>\n</g>\n<!-- 2&#45;&gt;2 -->\n<g class=\"edge\" id=\"edge15\">\n<title>2-&gt;2</title>\n<path d=\"M408.23,-86.35C399.87,-110.82 402.82,-141 417.09,-141 429.53,-141 433.37,-118.1 428.63,-96.02\" fill=\"none\" stroke=\"black\"/>\n<polygon fill=\"black\" points=\"432,-95.06 425.96,-86.35 425.25,-96.92 432,-95.06\" stroke=\"black\"/>\n<text font-family=\"Times,serif\" font-size=\"14.00\" text-anchor=\"middle\" x=\"417.09\" y=\"-144.8\">(0, 0, 0)</text>\n</g>\n<!-- 3 -->\n<g class=\"node\" id=\"node5\">\n<title>3</title>\n<ellipse cx=\"563.09\" cy=\"-18\" fill=\"none\" rx=\"27\" ry=\"18\" stroke=\"black\"/>\n<text font-family=\"Times,serif\" font-size=\"14.00\" text-anchor=\"middle\" x=\"563.09\" y=\"-14.3\">3</text>\n</g>\n<!-- 2&#45;&gt;3 -->\n<g class=\"edge\" id=\"edge13\">\n<title>2-&gt;3</title>\n<path d=\"M441.63,-61.3C461.95,-54.58 492.07,-44.45 518.09,-35 521.88,-33.62 525.84,-32.15 529.76,-30.66\" fill=\"none\" stroke=\"black\"/>\n<polygon fill=\"black\" points=\"531.24,-33.85 539.32,-27 528.73,-27.31 531.24,-33.85\" stroke=\"black\"/>\n<text font-family=\"Times,serif\" font-size=\"14.00\" text-anchor=\"middle\" x=\"490.09\" y=\"-56.8\">(2, 1, 1)</text>\n</g>\n<!-- 2&#45;&gt;&#45;1 -->\n<g class=\"edge\" id=\"edge16\">\n<title>2-&gt;-1</title>\n<path d=\"M436.21,-82.17C458.8,-98.19 498.98,-125.41 536.09,-144 567.43,-159.7 605.2,-173.4 631.27,-182.1\" fill=\"none\" stroke=\"black\"/>\n<polygon fill=\"black\" points=\"630.4,-185.5 640.99,-185.3 632.58,-178.85 630.4,-185.5\" stroke=\"black\"/>\n<text font-family=\"Times,serif\" font-size=\"14.00\" text-anchor=\"middle\" x=\"563.09\" y=\"-169.8\">-1</text>\n</g>\n<!-- 3&#45;&gt;0 -->\n<g class=\"edge\" id=\"edge18\">\n<title>3-&gt;0</title>\n<path d=\"M536.34,-20.87C502.6,-24.8 441.68,-32.46 390.09,-42 307.01,-57.37 210.54,-81.2 160.38,-94.05\" fill=\"none\" stroke=\"black\"/>\n<polygon fill=\"black\" points=\"159.5,-90.67 150.69,-96.55 161.25,-97.44 159.5,-90.67\" stroke=\"black\"/>\n<text font-family=\"Times,serif\" font-size=\"14.00\" text-anchor=\"middle\" x=\"344.09\" y=\"-59.8\">(3, 1, 1)</text>\n</g>\n<!-- 3&#45;&gt;3 -->\n<g class=\"edge\" id=\"edge17\">\n<title>3-&gt;3</title>\n<path d=\"M559.96,-36.15C559.48,-45.54 560.52,-54 563.09,-54 564.66,-54 565.66,-50.86 566.1,-46.28\" fill=\"none\" stroke=\"black\"/>\n<polygon fill=\"black\" points=\"569.6,-46.2 566.23,-36.15 562.6,-46.11 569.6,-46.2\" stroke=\"black\"/>\n<text font-family=\"Times,serif\" font-size=\"14.00\" text-anchor=\"middle\" x=\"563.09\" y=\"-57.8\">(2, 0, 0)</text>\n</g>\n<!-- 3&#45;&gt;3 -->\n<g class=\"edge\" id=\"edge19\">\n<title>3-&gt;3</title>\n<path d=\"M557.93,-35.7C555.08,-53 556.8,-72 563.09,-72 568.16,-72 570.27,-59.69 569.41,-45.87\" fill=\"none\" stroke=\"black\"/>\n<polygon fill=\"black\" points=\"572.86,-45.24 568.26,-35.7 565.9,-46.03 572.86,-45.24\" stroke=\"black\"/>\n<text font-family=\"Times,serif\" font-size=\"14.00\" text-anchor=\"middle\" x=\"563.09\" y=\"-75.8\">(0, 0, 0)</text>\n</g>\n<!-- 3&#45;&gt;3 -->\n<g class=\"edge\" id=\"edge20\">\n<title>3-&gt;3</title>\n<path d=\"M556.6,-35.72C550.67,-60.11 552.84,-90 563.09,-90 571.99,-90 574.8,-67.53 571.52,-45.64\" fill=\"none\" stroke=\"black\"/>\n<polygon fill=\"black\" points=\"574.93,-44.86 569.59,-35.72 568.06,-46.2 574.93,-44.86\" stroke=\"black\"/>\n<text font-family=\"Times,serif\" font-size=\"14.00\" text-anchor=\"middle\" x=\"563.09\" y=\"-93.8\">(1, 0, 0)</text>\n</g>\n<!-- 3&#45;&gt;&#45;1 -->\n<g class=\"edge\" id=\"edge21\">\n<title>3-&gt;-1</title>\n<path d=\"M573.54,-34.68C590.32,-64.32 625.51,-126.49 646.28,-163.18\" fill=\"none\" stroke=\"black\"/>\n<polygon fill=\"black\" points=\"643.25,-164.94 651.23,-171.92 649.35,-161.49 643.25,-164.94\" stroke=\"black\"/>\n<text font-family=\"Times,serif\" font-size=\"14.00\" text-anchor=\"middle\" x=\"615.09\" y=\"-118.8\">-1</text>\n</g>\n</g>\n</svg></div>"
     },
     "metadata": {},
     "output_type": "display_data"
    }
   ],
   "source": [
    "rdp_generator, pdfa = learning_rotating_mab(\n",
    "    stop_probability=0.1,\n",
    "    winning_probabilities=(1.0, 0.0, 0.0, 0.0),\n",
    "    nb_samples=75000,\n",
    "    **DEFAULT_CONFIG)\n",
    "\n",
    "render_automaton(pdfa, char2str=char2str, with_prob=False)\n",
    "print_rdp_pdfa_transitions(pdfa)"
   ]
  },
  {
   "cell_type": "markdown",
   "metadata": {
    "pycharm": {
     "name": "#%% md\n"
    }
   },
   "source": [
    "##### Rotating MAB, 5 arms, with probabilities (1.0, 0.0, 0.0, 0.0, 0.0)\n"
   ]
  },
  {
   "cell_type": "code",
   "execution_count": 23,
   "metadata": {
    "pycharm": {
     "name": "#%%\n"
    }
   },
   "outputs": [
    {
     "name": "stdout",
     "output_type": "stream",
     "text": [
      "{'max_episode_steps': 30, 'delta': 0.1, 'n_upperbound': 5, 'nb_processes': 8}\n",
      "Apriori expected length of traces: 1/stop_prob = 9.999999999999977\n",
      "Average length of traces: 8.569\n",
      "Print transitions\n",
      "qi=0\ta=4\tr=0\ts=0\tqf=0\tp=0.18677333333333335\n",
      "qi=0\ta=0\tr=1\ts=1\tqf=1\tp=0.1856\n",
      "qi=0\ta=1\tr=0\ts=0\tqf=0\tp=0.18112\n",
      "qi=0\ta=2\tr=0\ts=0\tqf=0\tp=0.17781333333333332\n",
      "qi=0\ta=3\tr=0\ts=0\tqf=0\tp=0.17184\n",
      "qi=0\tc=-1\t\t\tqf=-1\tp=0.09685333333333333\n",
      "qi=1\ta=1\tr=1\ts=1\tqf=2\tp=0.18241347053320858\n",
      "qi=1\ta=3\tr=0\ts=0\tqf=1\tp=0.17633302151543498\n",
      "qi=1\ta=4\tr=0\ts=0\tqf=1\tp=0.17352666043030868\n",
      "qi=1\ta=0\tr=0\ts=0\tqf=1\tp=0.17960710944808234\n",
      "qi=1\ta=2\tr=0\ts=0\tqf=1\tp=0.18475210477081383\n",
      "qi=1\tc=-1\t\t\tqf=-1\tp=0.10336763330215154\n",
      "qi=2\ta=2\tr=1\ts=1\tqf=3\tp=0.19784172661870503\n",
      "qi=2\ta=1\tr=0\ts=0\tqf=2\tp=0.17535971223021574\n",
      "qi=2\ta=4\tr=0\ts=0\tqf=2\tp=0.18615107913669063\n",
      "qi=2\ta=0\tr=0\ts=0\tqf=2\tp=0.18075539568345317\n",
      "qi=2\ta=3\tr=0\ts=0\tqf=2\tp=0.16097122302158276\n",
      "qi=2\tc=-1\t\t\tqf=-1\tp=0.09892086330935258\n",
      "qi=3\ta=0\tr=0\ts=0\tqf=3\tp=0.17630853994490353\n",
      "qi=3\ta=3\tr=1\ts=1\tqf=4\tp=0.18870523415977963\n",
      "qi=3\ta=1\tr=0\ts=0\tqf=3\tp=0.19834710743801653\n",
      "qi=3\ta=2\tr=0\ts=0\tqf=3\tp=0.16942148760330578\n",
      "qi=3\ta=4\tr=0\ts=0\tqf=3\tp=0.19008264462809935\n",
      "qi=3\tc=-1\t\t\tqf=-1\tp=0.07713498622589515\n",
      "qi=4\ta=1\tr=0\ts=0\tqf=4\tp=0.15909090909090912\n",
      "qi=4\ta=0\tr=0\ts=0\tqf=4\tp=0.1783216783216783\n",
      "qi=4\ta=3\tr=0\ts=0\tqf=4\tp=0.19405594405594406\n",
      "qi=4\ta=2\tr=0\ts=0\tqf=4\tp=0.17307692307692307\n",
      "qi=4\ta=4\tr=1\ts=1\tqf=0\tp=0.17132867132867133\n",
      "qi=4\tc=-1\t\t\tqf=-1\tp=0.12412587412587418\n"
     ]
    },
    {
     "name": "stderr",
     "output_type": "stream",
     "text": [
      "[2020-12-31 00:33:42,284][src.learn_pdfa][INFO] Parameters: ('BalleParams(sample_generator=<src.learn_pdfa.utils.generator.MultiprocessedGenerator '\n",
      " 'object at 0x7f411e562d50>, nb_samples=75000, n=5, alphabet_size=20, '\n",
      " 'delta=0.1, epsilon=0.1, with_smoothing=False, with_ground=False, '\n",
      " 'with_infty_norm=True)')\n",
      "[2020-12-31 00:33:42,288][src.learn_pdfa][INFO] Generating the sample.\n",
      "[2020-12-31 00:33:51,520][src.learn_pdfa][INFO] Average trace length: 9.685653333333333.\n",
      "[2020-12-31 00:33:51,521][src.learn_pdfa][INFO] Populate root multiset.\n",
      "[2020-12-31 00:33:51,995][src.learn_pdfa][INFO] Iteration 0\n",
      "[2020-12-31 00:33:52,385][src.learn_pdfa][INFO] Iteration 1\n",
      "[2020-12-31 00:33:52,718][src.learn_pdfa][INFO] Iteration 2\n",
      "[2020-12-31 00:33:53,171][src.learn_pdfa][INFO] Iteration 3\n",
      "[2020-12-31 00:33:53,649][src.learn_pdfa][INFO] Iteration 4\n",
      "[2020-12-31 00:33:54,297][src.learn_pdfa][INFO] Iteration 5\n",
      "[2020-12-31 00:33:54,684][src.learn_pdfa][INFO] Iteration 6\n",
      "[2020-12-31 00:33:55,136][src.learn_pdfa][INFO] Iteration 7\n",
      "[2020-12-31 00:33:55,663][src.learn_pdfa][INFO] Iteration 8\n",
      "[2020-12-31 00:33:56,311][src.learn_pdfa][INFO] Iteration 9\n",
      "[2020-12-31 00:33:57,158][src.learn_pdfa][INFO] Iteration 10\n",
      "[2020-12-31 00:33:57,622][src.learn_pdfa][INFO] Iteration 11\n",
      "[2020-12-31 00:33:58,192][src.learn_pdfa][INFO] Iteration 12\n",
      "[2020-12-31 00:33:58,856][src.learn_pdfa][INFO] Iteration 13\n",
      "[2020-12-31 00:33:59,632][src.learn_pdfa][INFO] Iteration 14\n",
      "[2020-12-31 00:34:00,422][src.learn_pdfa][INFO] Iteration 15\n",
      "[2020-12-31 00:34:00,854][src.learn_pdfa][INFO] Iteration 16\n",
      "[2020-12-31 00:34:01,579][src.learn_pdfa][INFO] Iteration 17\n",
      "[2020-12-31 00:34:02,362][src.learn_pdfa][INFO] Iteration 18\n",
      "[2020-12-31 00:34:03,190][src.learn_pdfa][INFO] Iteration 19\n",
      "[2020-12-31 00:34:04,027][src.learn_pdfa][INFO] Iteration 20\n",
      "[2020-12-31 00:34:04,519][src.learn_pdfa][INFO] Iteration 21\n",
      "[2020-12-31 00:34:04,993][src.learn_pdfa][INFO] Iteration 22\n",
      "[2020-12-31 00:34:05,501][src.learn_pdfa][INFO] Iteration 23\n",
      "[2020-12-31 00:34:06,084][src.learn_pdfa][INFO] Iteration 24\n",
      "[2020-12-31 00:34:06,858][src.learn_pdfa][INFO] Iteration 25\n",
      "[2020-12-31 00:34:06,977][src.learn_pdfa][INFO] Biggest multiset has cardinality 0, done\n",
      "/home/marcofavorito/.virtualenvs/PAC-RDPs-code-h40RRNYH/lib/python3.7/site-packages/ipykernel_launcher.py:23: DeprecationWarning: 'shape' argument should be used instead of 'dims'\n",
      "[2020-12-31 00:34:08,429][graphviz.files][DEBUG] write 927 bytes to '/tmp/tmphv5q5vor/output'\n",
      "[2020-12-31 00:34:08,430][graphviz.backend][DEBUG] run ['dot', '-Kdot', '-Tsvg', '-O', 'output']\n",
      "/home/marcofavorito/.virtualenvs/PAC-RDPs-code-h40RRNYH/lib/python3.7/site-packages/ipykernel_launcher.py:46: DeprecationWarning: 'shape' argument should be used instead of 'dims'\n"
     ]
    },
    {
     "data": {
      "text/plain": "<IPython.core.display.HTML object>",
      "text/html": "<div style=\"display: block; margin-left: auto; margin-right: auto; width: 50%;white-space: nowrap\"><svg height=\"359pt\" viewBox=\"0.00 0.00 843.09 359.00\" width=\"843pt\" xmlns=\"http://www.w3.org/2000/svg\" xmlns:xlink=\"http://www.w3.org/1999/xlink\">\n<g class=\"graph\" id=\"graph0\" transform=\"scale(1 1) rotate(0) translate(4 355)\">\n<title>%3</title>\n<polygon fill=\"white\" points=\"-4,4 -4,-355 839.09,-355 839.09,4 -4,4\" stroke=\"transparent\"/>\n<!-- fake -->\n<g class=\"node\" id=\"node1\">\n<title>fake</title>\n</g>\n<!-- 0 -->\n<g class=\"node\" id=\"node2\">\n<title>0</title>\n<ellipse cx=\"125.09\" cy=\"-147\" fill=\"none\" rx=\"27\" ry=\"18\" stroke=\"black\"/>\n<text font-family=\"Times,serif\" font-size=\"14.00\" text-anchor=\"middle\" x=\"125.09\" y=\"-143.3\">0</text>\n</g>\n<!-- fake&#45;&gt;0 -->\n<g class=\"edge\" id=\"edge1\">\n<title>fake-&gt;0</title>\n<path d=\"M61.34,-147C69.68,-147 78.84,-147 87.52,-147\" fill=\"none\" stroke=\"black\" stroke-width=\"2\"/>\n<polygon fill=\"black\" points=\"87.79,-150.5 97.79,-147 87.79,-143.5 87.79,-150.5\" stroke=\"black\" stroke-width=\"2\"/>\n</g>\n<!-- 0&#45;&gt;0 -->\n<g class=\"edge\" id=\"edge2\">\n<title>0-&gt;0</title>\n<path d=\"M123.1,-165.15C122.8,-174.54 123.46,-183 125.09,-183 126.09,-183 126.72,-179.86 127,-175.28\" fill=\"none\" stroke=\"black\"/>\n<polygon fill=\"black\" points=\"130.5,-175.18 127.08,-165.15 123.5,-175.12 130.5,-175.18\" stroke=\"black\"/>\n<text font-family=\"Times,serif\" font-size=\"14.00\" text-anchor=\"middle\" x=\"125.09\" y=\"-186.8\">(4, 0, 0)</text>\n</g>\n<!-- 0&#45;&gt;0 -->\n<g class=\"edge\" id=\"edge4\">\n<title>0-&gt;0</title>\n<path d=\"M121.79,-164.98C120.02,-182.2 121.12,-201 125.09,-201 128.29,-201 129.63,-188.83 129.11,-175.1\" fill=\"none\" stroke=\"black\"/>\n<polygon fill=\"black\" points=\"132.59,-174.71 128.4,-164.98 125.61,-175.2 132.59,-174.71\" stroke=\"black\"/>\n<text font-family=\"Times,serif\" font-size=\"14.00\" text-anchor=\"middle\" x=\"125.09\" y=\"-204.8\">(1, 0, 0)</text>\n</g>\n<!-- 0&#45;&gt;0 -->\n<g class=\"edge\" id=\"edge5\">\n<title>0-&gt;0</title>\n<path d=\"M120.92,-165.08C117.23,-189.41 118.62,-219 125.09,-219 130.69,-219 132.49,-196.95 130.5,-175.26\" fill=\"none\" stroke=\"black\"/>\n<polygon fill=\"black\" points=\"133.94,-174.59 129.27,-165.08 126.99,-175.43 133.94,-174.59\" stroke=\"black\"/>\n<text font-family=\"Times,serif\" font-size=\"14.00\" text-anchor=\"middle\" x=\"125.09\" y=\"-222.8\">(2, 0, 0)</text>\n</g>\n<!-- 0&#45;&gt;0 -->\n<g class=\"edge\" id=\"edge6\">\n<title>0-&gt;0</title>\n<path d=\"M120.31,-165.11C114.43,-196.24 116.03,-237 125.09,-237 133.2,-237 135.34,-204.38 131.49,-175.22\" fill=\"none\" stroke=\"black\"/>\n<polygon fill=\"black\" points=\"134.91,-174.44 129.88,-165.11 127.99,-175.54 134.91,-174.44\" stroke=\"black\"/>\n<text font-family=\"Times,serif\" font-size=\"14.00\" text-anchor=\"middle\" x=\"125.09\" y=\"-240.8\">(3, 0, 0)</text>\n</g>\n<!-- 1 -->\n<g class=\"node\" id=\"node3\">\n<title>1</title>\n<ellipse cx=\"271.09\" cy=\"-147\" fill=\"none\" rx=\"27\" ry=\"18\" stroke=\"black\"/>\n<text font-family=\"Times,serif\" font-size=\"14.00\" text-anchor=\"middle\" x=\"271.09\" y=\"-143.3\">1</text>\n</g>\n<!-- 0&#45;&gt;1 -->\n<g class=\"edge\" id=\"edge3\">\n<title>0-&gt;1</title>\n<path d=\"M152.17,-147C174.97,-147 208.3,-147 233.72,-147\" fill=\"none\" stroke=\"black\"/>\n<polygon fill=\"black\" points=\"233.72,-150.5 243.72,-147 233.72,-143.5 233.72,-150.5\" stroke=\"black\"/>\n<text font-family=\"Times,serif\" font-size=\"14.00\" text-anchor=\"middle\" x=\"198.09\" y=\"-150.8\">(0, 1, 1)</text>\n</g>\n<!-- &#45;1 -->\n<g class=\"node\" id=\"node7\">\n<title>-1</title>\n<ellipse cx=\"811.59\" cy=\"-247\" fill=\"none\" rx=\"19.5\" ry=\"19.5\" stroke=\"black\"/>\n<ellipse cx=\"811.59\" cy=\"-247\" fill=\"none\" rx=\"23.5\" ry=\"23.5\" stroke=\"black\"/>\n<text font-family=\"Times,serif\" font-size=\"14.00\" text-anchor=\"middle\" x=\"811.59\" y=\"-243.3\">-1</text>\n</g>\n<!-- 0&#45;&gt;&#45;1 -->\n<g class=\"edge\" id=\"edge7\">\n<title>0-&gt;-1</title>\n<path d=\"M130.42,-164.78C143.06,-211.83 184.5,-336 270.09,-336 270.09,-336 270.09,-336 712.09,-336 748.38,-336 777.29,-302.34 794.17,-276.42\" fill=\"none\" stroke=\"black\"/>\n<polygon fill=\"black\" points=\"797.32,-277.98 799.63,-267.64 791.38,-274.28 797.32,-277.98\" stroke=\"black\"/>\n<text font-family=\"Times,serif\" font-size=\"14.00\" text-anchor=\"middle\" x=\"492.09\" y=\"-339.8\">-1</text>\n</g>\n<!-- 1&#45;&gt;1 -->\n<g class=\"edge\" id=\"edge9\">\n<title>1-&gt;1</title>\n<path d=\"M267.84,-165.15C267.34,-174.54 268.42,-183 271.09,-183 272.72,-183 273.76,-179.86 274.21,-175.28\" fill=\"none\" stroke=\"black\"/>\n<polygon fill=\"black\" points=\"277.71,-175.2 274.35,-165.15 270.71,-175.1 277.71,-175.2\" stroke=\"black\"/>\n<text font-family=\"Times,serif\" font-size=\"14.00\" text-anchor=\"middle\" x=\"271.09\" y=\"-186.8\">(3, 0, 0)</text>\n</g>\n<!-- 1&#45;&gt;1 -->\n<g class=\"edge\" id=\"edge10\">\n<title>1-&gt;1</title>\n<path d=\"M265.73,-164.7C262.77,-182 264.56,-201 271.09,-201 276.36,-201 278.54,-188.69 277.65,-174.87\" fill=\"none\" stroke=\"black\"/>\n<polygon fill=\"black\" points=\"281.1,-174.22 276.46,-164.7 274.15,-175.04 281.1,-174.22\" stroke=\"black\"/>\n<text font-family=\"Times,serif\" font-size=\"14.00\" text-anchor=\"middle\" x=\"271.09\" y=\"-204.8\">(4, 0, 0)</text>\n</g>\n<!-- 1&#45;&gt;1 -->\n<g class=\"edge\" id=\"edge11\">\n<title>1-&gt;1</title>\n<path d=\"M264.35,-164.72C258.2,-189.11 260.44,-219 271.09,-219 280.33,-219 283.25,-196.53 279.84,-174.64\" fill=\"none\" stroke=\"black\"/>\n<polygon fill=\"black\" points=\"283.25,-173.82 277.84,-164.72 276.39,-175.21 283.25,-173.82\" stroke=\"black\"/>\n<text font-family=\"Times,serif\" font-size=\"14.00\" text-anchor=\"middle\" x=\"271.09\" y=\"-222.8\">(0, 0, 0)</text>\n</g>\n<!-- 1&#45;&gt;1 -->\n<g class=\"edge\" id=\"edge12\">\n<title>1-&gt;1</title>\n<path d=\"M263.41,-164.67C253.63,-195.85 256.19,-237 271.09,-237 284.49,-237 287.92,-203.79 281.38,-174.43\" fill=\"none\" stroke=\"black\"/>\n<polygon fill=\"black\" points=\"284.74,-173.43 278.78,-164.67 277.97,-175.23 284.74,-173.43\" stroke=\"black\"/>\n<text font-family=\"Times,serif\" font-size=\"14.00\" text-anchor=\"middle\" x=\"271.09\" y=\"-240.8\">(2, 0, 0)</text>\n</g>\n<!-- 2 -->\n<g class=\"node\" id=\"node4\">\n<title>2</title>\n<ellipse cx=\"418.09\" cy=\"-115\" fill=\"none\" rx=\"27\" ry=\"18\" stroke=\"black\"/>\n<text font-family=\"Times,serif\" font-size=\"14.00\" text-anchor=\"middle\" x=\"418.09\" y=\"-111.3\">2</text>\n</g>\n<!-- 1&#45;&gt;2 -->\n<g class=\"edge\" id=\"edge8\">\n<title>1-&gt;2</title>\n<path d=\"M297.02,-141.5C320.47,-136.32 355.8,-128.53 382.07,-122.73\" fill=\"none\" stroke=\"black\"/>\n<polygon fill=\"black\" points=\"383,-126.11 392.01,-120.54 381.49,-119.27 383,-126.11\" stroke=\"black\"/>\n<text font-family=\"Times,serif\" font-size=\"14.00\" text-anchor=\"middle\" x=\"344.09\" y=\"-139.8\">(1, 1, 1)</text>\n</g>\n<!-- 1&#45;&gt;&#45;1 -->\n<g class=\"edge\" id=\"edge13\">\n<title>1-&gt;-1</title>\n<path d=\"M279.35,-164.32C296.85,-203 345.29,-293 417.09,-293 417.09,-293 417.09,-293 712.09,-293 738.33,-293 765.11,-279.44 784.11,-267.05\" fill=\"none\" stroke=\"black\"/>\n<polygon fill=\"black\" points=\"786.24,-269.83 792.52,-261.3 782.29,-264.05 786.24,-269.83\" stroke=\"black\"/>\n<text font-family=\"Times,serif\" font-size=\"14.00\" text-anchor=\"middle\" x=\"565.09\" y=\"-296.8\">-1</text>\n</g>\n<!-- 2&#45;&gt;2 -->\n<g class=\"edge\" id=\"edge15\">\n<title>2-&gt;2</title>\n<path d=\"M414.75,-133.15C414.23,-142.54 415.35,-151 418.09,-151 419.77,-151 420.84,-147.86 421.3,-143.28\" fill=\"none\" stroke=\"black\"/>\n<polygon fill=\"black\" points=\"424.8,-143.2 421.44,-133.15 417.8,-143.1 424.8,-143.2\" stroke=\"black\"/>\n<text font-family=\"Times,serif\" font-size=\"14.00\" text-anchor=\"middle\" x=\"418.09\" y=\"-154.8\">(1, 0, 0)</text>\n</g>\n<!-- 2&#45;&gt;2 -->\n<g class=\"edge\" id=\"edge16\">\n<title>2-&gt;2</title>\n<path d=\"M412.58,-132.7C409.54,-150 411.37,-169 418.09,-169 423.5,-169 425.75,-156.69 424.83,-142.87\" fill=\"none\" stroke=\"black\"/>\n<polygon fill=\"black\" points=\"428.28,-142.21 423.61,-132.7 421.33,-143.05 428.28,-142.21\" stroke=\"black\"/>\n<text font-family=\"Times,serif\" font-size=\"14.00\" text-anchor=\"middle\" x=\"418.09\" y=\"-172.8\">(4, 0, 0)</text>\n</g>\n<!-- 2&#45;&gt;2 -->\n<g class=\"edge\" id=\"edge17\">\n<title>2-&gt;2</title>\n<path d=\"M411.17,-132.72C404.84,-157.11 407.15,-187 418.09,-187 427.59,-187 430.59,-164.53 427.09,-142.64\" fill=\"none\" stroke=\"black\"/>\n<polygon fill=\"black\" points=\"430.49,-141.79 425.02,-132.72 423.63,-143.22 430.49,-141.79\" stroke=\"black\"/>\n<text font-family=\"Times,serif\" font-size=\"14.00\" text-anchor=\"middle\" x=\"418.09\" y=\"-190.8\">(0, 0, 0)</text>\n</g>\n<!-- 2&#45;&gt;2 -->\n<g class=\"edge\" id=\"edge18\">\n<title>2-&gt;2</title>\n<path d=\"M410.2,-132.67C400.14,-163.85 402.77,-205 418.09,-205 431.86,-205 435.38,-171.79 428.66,-142.43\" fill=\"none\" stroke=\"black\"/>\n<polygon fill=\"black\" points=\"432.01,-141.39 425.99,-132.67 425.26,-143.24 432.01,-141.39\" stroke=\"black\"/>\n<text font-family=\"Times,serif\" font-size=\"14.00\" text-anchor=\"middle\" x=\"418.09\" y=\"-208.8\">(3, 0, 0)</text>\n</g>\n<!-- 3 -->\n<g class=\"node\" id=\"node5\">\n<title>3</title>\n<ellipse cx=\"565.09\" cy=\"-69\" fill=\"none\" rx=\"27\" ry=\"18\" stroke=\"black\"/>\n<text font-family=\"Times,serif\" font-size=\"14.00\" text-anchor=\"middle\" x=\"565.09\" y=\"-65.3\">3</text>\n</g>\n<!-- 2&#45;&gt;3 -->\n<g class=\"edge\" id=\"edge14\">\n<title>2-&gt;3</title>\n<path d=\"M442.71,-107.51C466.62,-99.92 503.81,-88.13 530.72,-79.59\" fill=\"none\" stroke=\"black\"/>\n<polygon fill=\"black\" points=\"532.01,-82.85 540.49,-76.49 529.89,-76.18 532.01,-82.85\" stroke=\"black\"/>\n<text font-family=\"Times,serif\" font-size=\"14.00\" text-anchor=\"middle\" x=\"492.09\" y=\"-103.8\">(2, 1, 1)</text>\n</g>\n<!-- 2&#45;&gt;&#45;1 -->\n<g class=\"edge\" id=\"edge19\">\n<title>2-&gt;-1</title>\n<path d=\"M430.35,-131.36C449.19,-157.21 489.85,-206.77 538.09,-228 618.5,-263.38 725.22,-257.51 778.07,-251.56\" fill=\"none\" stroke=\"black\"/>\n<polygon fill=\"black\" points=\"778.69,-255.01 788.2,-250.34 777.86,-248.06 778.69,-255.01\" stroke=\"black\"/>\n<text font-family=\"Times,serif\" font-size=\"14.00\" text-anchor=\"middle\" x=\"638.09\" y=\"-258.8\">-1</text>\n</g>\n<!-- 3&#45;&gt;3 -->\n<g class=\"edge\" id=\"edge20\">\n<title>3-&gt;3</title>\n<path d=\"M561.84,-87.15C561.34,-96.54 562.42,-105 565.09,-105 566.72,-105 567.76,-101.86 568.21,-97.28\" fill=\"none\" stroke=\"black\"/>\n<polygon fill=\"black\" points=\"571.71,-97.2 568.35,-87.15 564.71,-97.1 571.71,-97.2\" stroke=\"black\"/>\n<text font-family=\"Times,serif\" font-size=\"14.00\" text-anchor=\"middle\" x=\"565.09\" y=\"-108.8\">(0, 0, 0)</text>\n</g>\n<!-- 3&#45;&gt;3 -->\n<g class=\"edge\" id=\"edge22\">\n<title>3-&gt;3</title>\n<path d=\"M559.73,-86.7C556.77,-104 558.56,-123 565.09,-123 570.36,-123 572.54,-110.69 571.65,-96.87\" fill=\"none\" stroke=\"black\"/>\n<polygon fill=\"black\" points=\"575.1,-96.22 570.46,-86.7 568.15,-97.04 575.1,-96.22\" stroke=\"black\"/>\n<text font-family=\"Times,serif\" font-size=\"14.00\" text-anchor=\"middle\" x=\"565.09\" y=\"-126.8\">(1, 0, 0)</text>\n</g>\n<!-- 3&#45;&gt;3 -->\n<g class=\"edge\" id=\"edge23\">\n<title>3-&gt;3</title>\n<path d=\"M558.35,-86.72C552.2,-111.11 554.44,-141 565.09,-141 574.33,-141 577.25,-118.53 573.84,-96.64\" fill=\"none\" stroke=\"black\"/>\n<polygon fill=\"black\" points=\"577.25,-95.82 571.84,-86.72 570.39,-97.21 577.25,-95.82\" stroke=\"black\"/>\n<text font-family=\"Times,serif\" font-size=\"14.00\" text-anchor=\"middle\" x=\"565.09\" y=\"-144.8\">(2, 0, 0)</text>\n</g>\n<!-- 3&#45;&gt;3 -->\n<g class=\"edge\" id=\"edge24\">\n<title>3-&gt;3</title>\n<path d=\"M557.41,-86.67C547.63,-117.85 550.19,-159 565.09,-159 578.49,-159 581.92,-125.79 575.38,-96.43\" fill=\"none\" stroke=\"black\"/>\n<polygon fill=\"black\" points=\"578.74,-95.43 572.78,-86.67 571.97,-97.23 578.74,-95.43\" stroke=\"black\"/>\n<text font-family=\"Times,serif\" font-size=\"14.00\" text-anchor=\"middle\" x=\"565.09\" y=\"-162.8\">(4, 0, 0)</text>\n</g>\n<!-- 4 -->\n<g class=\"node\" id=\"node6\">\n<title>4</title>\n<ellipse cx=\"711.09\" cy=\"-18\" fill=\"none\" rx=\"27\" ry=\"18\" stroke=\"black\"/>\n<text font-family=\"Times,serif\" font-size=\"14.00\" text-anchor=\"middle\" x=\"711.09\" y=\"-14.3\">4</text>\n</g>\n<!-- 3&#45;&gt;4 -->\n<g class=\"edge\" id=\"edge21\">\n<title>3-&gt;4</title>\n<path d=\"M589.63,-61.3C609.95,-54.58 640.07,-44.45 666.09,-35 669.88,-33.62 673.84,-32.15 677.76,-30.66\" fill=\"none\" stroke=\"black\"/>\n<polygon fill=\"black\" points=\"679.24,-33.85 687.32,-27 676.73,-27.31 679.24,-33.85\" stroke=\"black\"/>\n<text font-family=\"Times,serif\" font-size=\"14.00\" text-anchor=\"middle\" x=\"638.09\" y=\"-56.8\">(3, 1, 1)</text>\n</g>\n<!-- 3&#45;&gt;&#45;1 -->\n<g class=\"edge\" id=\"edge25\">\n<title>3-&gt;-1</title>\n<path d=\"M580.39,-84.19C601.66,-106.28 643.51,-147.82 684.09,-177 715.31,-199.44 754.47,-220.09 780.88,-233.06\" fill=\"none\" stroke=\"black\"/>\n<polygon fill=\"black\" points=\"779.47,-236.26 789.99,-237.48 782.52,-229.96 779.47,-236.26\" stroke=\"black\"/>\n<text font-family=\"Times,serif\" font-size=\"14.00\" text-anchor=\"middle\" x=\"711.09\" y=\"-212.8\">-1</text>\n</g>\n<!-- 4&#45;&gt;0 -->\n<g class=\"edge\" id=\"edge30\">\n<title>4-&gt;0</title>\n<path d=\"M684.08,-18.87C655.25,-19.75 607.35,-21 566.09,-21 270.09,-21 270.09,-21 270.09,-21 209.77,-21 162.56,-84.41 140.22,-121.26\" fill=\"none\" stroke=\"black\"/>\n<polygon fill=\"black\" points=\"137.14,-119.61 135.09,-130.01 143.17,-123.16 137.14,-119.61\" stroke=\"black\"/>\n<text font-family=\"Times,serif\" font-size=\"14.00\" text-anchor=\"middle\" x=\"418.09\" y=\"-24.8\">(4, 1, 1)</text>\n</g>\n<!-- 4&#45;&gt;4 -->\n<g class=\"edge\" id=\"edge26\">\n<title>4-&gt;4</title>\n<path d=\"M708.74,-36.15C708.38,-45.54 709.16,-54 711.09,-54 712.27,-54 713.02,-50.86 713.35,-46.28\" fill=\"none\" stroke=\"black\"/>\n<polygon fill=\"black\" points=\"716.85,-46.19 713.45,-36.15 709.85,-46.12 716.85,-46.19\" stroke=\"black\"/>\n<text font-family=\"Times,serif\" font-size=\"14.00\" text-anchor=\"middle\" x=\"711.09\" y=\"-57.8\">(1, 0, 0)</text>\n</g>\n<!-- 4&#45;&gt;4 -->\n<g class=\"edge\" id=\"edge27\">\n<title>4-&gt;4</title>\n<path d=\"M707.19,-35.98C705.09,-53.2 706.4,-72 711.09,-72 714.87,-72 716.46,-59.83 715.84,-46.1\" fill=\"none\" stroke=\"black\"/>\n<polygon fill=\"black\" points=\"719.32,-45.66 715,-35.98 712.34,-46.23 719.32,-45.66\" stroke=\"black\"/>\n<text font-family=\"Times,serif\" font-size=\"14.00\" text-anchor=\"middle\" x=\"711.09\" y=\"-75.8\">(0, 0, 0)</text>\n</g>\n<!-- 4&#45;&gt;4 -->\n<g class=\"edge\" id=\"edge28\">\n<title>4-&gt;4</title>\n<path d=\"M706.23,-35.72C701.78,-60.11 703.4,-90 711.09,-90 717.77,-90 719.87,-67.53 717.41,-45.64\" fill=\"none\" stroke=\"black\"/>\n<polygon fill=\"black\" points=\"720.87,-45.1 715.96,-35.72 713.95,-46.12 720.87,-45.1\" stroke=\"black\"/>\n<text font-family=\"Times,serif\" font-size=\"14.00\" text-anchor=\"middle\" x=\"711.09\" y=\"-93.8\">(3, 0, 0)</text>\n</g>\n<!-- 4&#45;&gt;4 -->\n<g class=\"edge\" id=\"edge29\">\n<title>4-&gt;4</title>\n<path d=\"M705.54,-35.67C698.48,-66.85 700.33,-108 711.09,-108 720.72,-108 723.22,-75.07 718.58,-45.81\" fill=\"none\" stroke=\"black\"/>\n<polygon fill=\"black\" points=\"721.96,-44.84 716.65,-35.67 715.09,-46.15 721.96,-44.84\" stroke=\"black\"/>\n<text font-family=\"Times,serif\" font-size=\"14.00\" text-anchor=\"middle\" x=\"711.09\" y=\"-111.8\">(2, 0, 0)</text>\n</g>\n<!-- 4&#45;&gt;&#45;1 -->\n<g class=\"edge\" id=\"edge31\">\n<title>4-&gt;-1</title>\n<path d=\"M719.5,-35.21C736.07,-73.75 776.36,-167.4 797.36,-216.23\" fill=\"none\" stroke=\"black\"/>\n<polygon fill=\"black\" points=\"794.25,-217.85 801.41,-225.66 800.68,-215.09 794.25,-217.85\" stroke=\"black\"/>\n<text font-family=\"Times,serif\" font-size=\"14.00\" text-anchor=\"middle\" x=\"763.09\" y=\"-149.8\">-1</text>\n</g>\n</g>\n</svg></div>"
     },
     "metadata": {},
     "output_type": "display_data"
    }
   ],
   "source": [
    "rdp_generator, pdfa = learning_rotating_mab(\n",
    "    stop_probability=0.1,\n",
    "    winning_probabilities=(1.0, 0.0, 0.0, 0.0, 0.0),\n",
    "    nb_samples=75000,\n",
    "    **DEFAULT_CONFIG)\n",
    "\n",
    "render_automaton(pdfa, char2str=char2str, with_prob=False)\n",
    "print_rdp_pdfa_transitions(pdfa)"
   ]
  },
  {
   "cell_type": "code",
   "execution_count": null,
   "metadata": {
    "pycharm": {
     "name": "#%%\n"
    }
   },
   "outputs": [],
   "source": []
  }
 ],
 "metadata": {
  "kernelspec": {
   "display_name": "Python 3",
   "language": "python",
   "name": "python3"
  },
  "language_info": {
   "codemirror_mode": {
    "name": "ipython",
    "version": 3
   },
   "file_extension": ".py",
   "mimetype": "text/x-python",
   "name": "python",
   "nbconvert_exporter": "python",
   "pygments_lexer": "ipython3",
   "version": "3.7.6"
  }
 },
 "nbformat": 4,
 "nbformat_minor": 1
}